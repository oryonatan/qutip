{
 "cells": [
  {
   "cell_type": "code",
   "execution_count": 1,
   "metadata": {
    "collapsed": true
   },
   "outputs": [],
   "source": [
    "%matplotlib inline\n",
    "\n",
    "from IPython.display import Image\n",
    "\n",
    "from numpy import pi\n",
    "\n",
    "from qutip import *\n",
    "\n"
   ]
  },
  {
   "cell_type": "code",
   "execution_count": 2,
   "metadata": {
    "collapsed": false
   },
   "outputs": [
    {
     "data": {
      "text/plain": [
       "(<matplotlib.figure.Figure at 0x7f48e09d6d68>,\n",
       " <matplotlib.axes._subplots.AxesSubplot at 0x7f490ac06a20>)"
      ]
     },
     "execution_count": 2,
     "metadata": {},
     "output_type": "execute_result"
    },
    {
     "data": {
      "image/png": "[encoded data removed]",
      "text/plain": [
       "<matplotlib.figure.Figure at 0x7f48e09d6d68>"
      ]
     },
     "metadata": {},
     "output_type": "display_data"
    }
   ],
   "source": [
    "q = tensor([ basis(2,0)] * 4)\n",
    "q\n",
    "plot_qubism(q,legend_iteration=2, figsize=(5,5))\n"
   ]
  },
  {
   "cell_type": "code",
   "execution_count": 3,
   "metadata": {
    "collapsed": false,
    "scrolled": true
   },
   "outputs": [
    {
     "data": {
      "text/latex": [
       "Quantum object: dims = [[2, 2, 2, 2], [2, 2, 2, 2]], shape = [16, 16], type = oper, isherm = False\\begin{equation*}\\left(\\begin{array}{*{11}c}0.707 & 0.0 & 0.0 & 0.0 & 0.0 & \\cdots & 0.0 & 0.0 & 0.0 & 0.0 & 0.0\\\\0.0 & 0.707 & 0.0 & 0.0 & 0.0 & \\cdots & 0.0 & 0.0 & 0.0 & 0.0 & 0.0\\\\0.0 & 0.0 & 0.707 & 0.0 & 0.0 & \\cdots & 0.0 & 0.0 & 0.0 & 0.0 & 0.0\\\\0.0 & 0.0 & 0.0 & 0.707 & 0.0 & \\cdots & 0.707 & 0.0 & 0.0 & 0.0 & 0.0\\\\0.0 & 0.0 & 0.0 & 0.0 & 0.707 & \\cdots & 0.0 & 0.707 & 0.0 & 0.0 & 0.0\\\\\\vdots & \\vdots & \\vdots & \\vdots & \\vdots & \\ddots & \\vdots & \\vdots & \\vdots & \\vdots & \\vdots\\\\0.0 & 0.0 & 0.0 & 0.0 & 0.707 & \\cdots & 0.0 & -0.707 & 0.0 & 0.0 & 0.0\\\\0.0 & 0.0 & 0.0 & 0.707 & 0.0 & \\cdots & -0.707 & 0.0 & 0.0 & 0.0 & 0.0\\\\0.0 & 0.0 & 0.707 & 0.0 & 0.0 & \\cdots & 0.0 & 0.0 & 0.0 & 0.0 & 0.0\\\\0.0 & 0.707 & 0.0 & 0.0 & 0.0 & \\cdots & 0.0 & 0.0 & 0.0 & 0.0 & 0.0\\\\0.707 & 0.0 & 0.0 & 0.0 & 0.0 & \\cdots & 0.0 & 0.0 & 0.0 & 0.0 & 0.0\\\\\\end{array}\\right)\\end{equation*}"
      ],
      "text/plain": [
       "Quantum object: dims = [[2, 2, 2, 2], [2, 2, 2, 2]], shape = [16, 16], type = oper, isherm = False\n",
       "Qobj data =\n",
       "[[ 0.70710678  0.          0.          0.          0.          0.          0.\n",
       "   0.          0.70710678  0.          0.          0.          0.          0.\n",
       "   0.          0.        ]\n",
       " [ 0.          0.70710678  0.          0.          0.          0.          0.\n",
       "   0.          0.          0.70710678  0.          0.          0.          0.\n",
       "   0.          0.        ]\n",
       " [ 0.          0.          0.70710678  0.          0.          0.          0.\n",
       "   0.          0.          0.          0.70710678  0.          0.          0.\n",
       "   0.          0.        ]\n",
       " [ 0.          0.          0.          0.70710678  0.          0.          0.\n",
       "   0.          0.          0.          0.          0.70710678  0.          0.\n",
       "   0.          0.        ]\n",
       " [ 0.          0.          0.          0.          0.70710678  0.          0.\n",
       "   0.          0.          0.          0.          0.          0.70710678\n",
       "   0.          0.          0.        ]\n",
       " [ 0.          0.          0.          0.          0.          0.70710678\n",
       "   0.          0.          0.          0.          0.          0.          0.\n",
       "   0.70710678  0.          0.        ]\n",
       " [ 0.          0.          0.          0.          0.          0.\n",
       "   0.70710678  0.          0.          0.          0.          0.          0.\n",
       "   0.          0.70710678  0.        ]\n",
       " [ 0.          0.          0.          0.          0.          0.          0.\n",
       "   0.70710678  0.          0.          0.          0.          0.          0.\n",
       "   0.          0.70710678]\n",
       " [ 0.          0.          0.          0.          0.          0.          0.\n",
       "   0.70710678  0.          0.          0.          0.          0.          0.\n",
       "   0.         -0.70710678]\n",
       " [ 0.          0.          0.          0.          0.          0.\n",
       "   0.70710678  0.          0.          0.          0.          0.          0.\n",
       "   0.         -0.70710678  0.        ]\n",
       " [ 0.          0.          0.          0.          0.          0.70710678\n",
       "   0.          0.          0.          0.          0.          0.          0.\n",
       "  -0.70710678  0.          0.        ]\n",
       " [ 0.          0.          0.          0.          0.70710678  0.          0.\n",
       "   0.          0.          0.          0.          0.         -0.70710678\n",
       "   0.          0.          0.        ]\n",
       " [ 0.          0.          0.          0.70710678  0.          0.          0.\n",
       "   0.          0.          0.          0.         -0.70710678  0.          0.\n",
       "   0.          0.        ]\n",
       " [ 0.          0.          0.70710678  0.          0.          0.          0.\n",
       "   0.          0.          0.         -0.70710678  0.          0.          0.\n",
       "   0.          0.        ]\n",
       " [ 0.          0.70710678  0.          0.          0.          0.          0.\n",
       "   0.          0.         -0.70710678  0.          0.          0.          0.\n",
       "   0.          0.        ]\n",
       " [ 0.70710678  0.          0.          0.          0.          0.          0.\n",
       "   0.         -0.70710678  0.          0.          0.          0.          0.\n",
       "   0.          0.        ]]"
      ]
     },
     "execution_count": 3,
     "metadata": {},
     "output_type": "execute_result"
    }
   ],
   "source": [
    "EPRC =  QubitCircuit(4)\n",
    "EPRC.add_gate(\"SNOT\",0)\n",
    "EPRC.add_gate(\"CNOT\",1,0)\n",
    "EPRC.add_gate(\"CNOT\",2,0)\n",
    "EPRC.add_gate(\"CNOT\",3,0)\n",
    "U_EPRC = gate_sequence_product(EPRC.propagators())\n",
    "U_EPRC\n",
    "\n",
    "\n",
    "\n"
   ]
  },
  {
   "cell_type": "code",
   "execution_count": 4,
   "metadata": {
    "collapsed": false,
    "scrolled": true
   },
   "outputs": [
    {
     "data": {
      "text/plain": [
       "(<matplotlib.figure.Figure at 0x7f48dde56f28>,\n",
       " <matplotlib.axes._subplots.AxesSubplot at 0x7f48ddda7208>)"
      ]
     },
     "execution_count": 4,
     "metadata": {},
     "output_type": "execute_result"
    },
    {
     "data": {
      "image/png": "[encoded data removed]",
      "text/plain": [
       "<matplotlib.figure.Figure at 0x7f48dde56f28>"
      ]
     },
     "metadata": {},
     "output_type": "display_data"
    }
   ],
   "source": [
    "ciruit_out = U_EPRC * q\n",
    "plot_qubism(ciruit_out,legend_iteration=2, figsize=(5,5))\n",
    "\n",
    "\n"
   ]
  },
  {
   "cell_type": "code",
   "execution_count": 5,
   "metadata": {
    "collapsed": false
   },
   "outputs": [
    {
     "data": {
      "text/plain": [
       "(0.7071067811865474+0j)"
      ]
     },
     "execution_count": 5,
     "metadata": {},
     "output_type": "execute_result"
    }
   ],
   "source": [
    "expect(U_EPRC,ciruit_out)"
   ]
  },
  {
   "cell_type": "code",
   "execution_count": 6,
   "metadata": {
    "collapsed": false
   },
   "outputs": [
    {
     "name": "stdout",
     "output_type": "stream",
     "text": [
      "Energy (-1+1.67578952137e-16j)\n"
     ]
    },
    {
     "data": {
      "text/latex": [
       "Quantum object: dims = [[2, 2, 2, 2], [1, 1, 1, 1]], shape = [16, 1], type = ket\\begin{equation*}\\left(\\begin{array}{*{11}c}(-0.002-8.322\\times10^{-04}j)\\\\-0.265\\\\(0.042+0.006j)\\\\(-0.032-0.013j)\\\\(-0.032-0.013j)\\\\\\vdots\\\\(0.078+0.030j)\\\\(0.078+0.030j)\\\\(-0.101-0.015j)\\\\0.640\\\\(0.006+0.002j)\\\\\\end{array}\\right)\\end{equation*}"
      ],
      "text/plain": [
       "Quantum object: dims = [[2, 2, 2, 2], [1, 1, 1, 1]], shape = [16, 1], type = ket\n",
       "Qobj data =\n",
       "[[-0.00235039-0.00083217j]\n",
       " [-0.26500388+0.j        ]\n",
       " [ 0.04188353+0.00626847j]\n",
       " [-0.03223872-0.01253693j]\n",
       " [-0.03223872-0.01253693j]\n",
       " [ 0.04188353+0.00626847j]\n",
       " [-0.26500388+0.j        ]\n",
       " [-0.00235039-0.00083217j]\n",
       " [ 0.00567434+0.00200903j]\n",
       " [ 0.63977595+0.j        ]\n",
       " [-0.10111578-0.01513341j]\n",
       " [ 0.07783117+0.03026683j]\n",
       " [ 0.07783117+0.03026683j]\n",
       " [-0.10111578-0.01513341j]\n",
       " [ 0.63977595+0.j        ]\n",
       " [ 0.00567434+0.00200903j]]"
      ]
     },
     "metadata": {},
     "output_type": "display_data"
    },
    {
     "name": "stdout",
     "output_type": "stream",
     "text": [
      "Energy (-1-2.77555756156e-17j)\n"
     ]
    },
    {
     "data": {
      "text/latex": [
       "Quantum object: dims = [[2, 2, 2, 2], [1, 1, 1, 1]], shape = [16, 1], type = ket\\begin{equation*}\\left(\\begin{array}{*{11}c}(0.005-4.720\\times10^{-04}j)\\\\(3.799\\times10^{-04}-0.040j)\\\\-0.244\\\\(-0.110-0.008j)\\\\(-0.110-0.008j)\\\\\\vdots\\\\(0.266+0.020j)\\\\(0.266+0.020j)\\\\0.589\\\\(-9.171\\times10^{-04}+0.096j)\\\\(-0.013+0.001j)\\\\\\end{array}\\right)\\end{equation*}"
      ],
      "text/plain": [
       "Quantum object: dims = [[2, 2, 2, 2], [1, 1, 1, 1]], shape = [16, 1], type = ket\n",
       "Qobj data =\n",
       "[[  5.28138921e-03-0.00047198j]\n",
       " [  3.79871877e-04-0.03965822j]\n",
       " [ -2.43767632e-01+0.j        ]\n",
       " [ -1.10133423e-01-0.00838098j]\n",
       " [ -1.10133423e-01-0.00838098j]\n",
       " [ -2.43767632e-01+0.j        ]\n",
       " [  3.79871877e-04-0.03965822j]\n",
       " [  5.28138921e-03-0.00047198j]\n",
       " [ -1.27504015e-02+0.00113947j]\n",
       " [ -9.17091837e-04+0.09574342j]\n",
       " [  5.88507122e-01+0.j        ]\n",
       " [  2.65885602e-01+0.02023348j]\n",
       " [  2.65885602e-01+0.02023348j]\n",
       " [  5.88507122e-01+0.j        ]\n",
       " [ -9.17091837e-04+0.09574342j]\n",
       " [ -1.27504015e-02+0.00113947j]]"
      ]
     },
     "metadata": {},
     "output_type": "display_data"
    },
    {
     "name": "stdout",
     "output_type": "stream",
     "text": [
      "Energy (-1-3.55880989569e-16j)\n"
     ]
    },
    {
     "data": {
      "text/latex": [
       "Quantum object: dims = [[2, 2, 2, 2], [1, 1, 1, 1]], shape = [16, 1], type = ket\\begin{equation*}\\left(\\begin{array}{*{11}c}(-0.018+0.057j)\\\\9.237\\times10^{-12}\\\\0.118\\\\-0.236\\\\-0.236\\\\\\vdots\\\\0.570\\\\0.570\\\\-0.285\\\\(-2.230\\times10^{-11}+1.767\\times10^{-12}j)\\\\(0.043-0.137j)\\\\\\end{array}\\right)\\end{equation*}"
      ],
      "text/plain": [
       "Quantum object: dims = [[2, 2, 2, 2], [1, 1, 1, 1]], shape = [16, 1], type = ket\n",
       "Qobj data =\n",
       "[[ -1.77044384e-02 +5.67514219e-02j]\n",
       " [  9.23650953e-12 +0.00000000e+00j]\n",
       " [  1.18058573e-01 +0.00000000e+00j]\n",
       " [ -2.36117147e-01 +0.00000000e+00j]\n",
       " [ -2.36117147e-01 +0.00000000e+00j]\n",
       " [  1.18058573e-01 +0.00000000e+00j]\n",
       " [  9.23647755e-12 +0.00000000e+00j]\n",
       " [ -1.77044384e-02 +5.67514219e-02j]\n",
       " [  4.27422953e-02 -1.37010052e-01j]\n",
       " [ -2.22987937e-11 +1.76710639e-12j]\n",
       " [ -2.85018609e-01 +0.00000000e+00j]\n",
       " [  5.70037218e-01 +0.00000000e+00j]\n",
       " [  5.70037218e-01 +0.00000000e+00j]\n",
       " [ -2.85018609e-01 +0.00000000e+00j]\n",
       " [ -2.22988471e-11 +1.76707546e-12j]\n",
       " [  4.27422953e-02 -1.37010052e-01j]]"
      ]
     },
     "metadata": {},
     "output_type": "display_data"
    },
    {
     "name": "stdout",
     "output_type": "stream",
     "text": [
      "Energy (-1+2.60291474887e-23j)\n"
     ]
    },
    {
     "data": {
      "text/latex": [
       "Quantum object: dims = [[2, 2, 2, 2], [1, 1, 1, 1]], shape = [16, 1], type = ket\\begin{equation*}\\left(\\begin{array}{*{11}c}-0.271\\\\0.0\\\\(-2.886\\times10^{-11}+3.813\\times10^{-12}j)\\\\(5.769\\times10^{-11}-7.625\\times10^{-12}j)\\\\(5.769\\times10^{-11}-7.625\\times10^{-12}j)\\\\\\vdots\\\\(-1.393\\times10^{-10}+1.841\\times10^{-11}j)\\\\(-1.393\\times10^{-10}+1.841\\times10^{-11}j)\\\\(6.967\\times10^{-11}-9.205\\times10^{-12}j)\\\\0.0\\\\0.653\\\\\\end{array}\\right)\\end{equation*}"
      ],
      "text/plain": [
       "Quantum object: dims = [[2, 2, 2, 2], [1, 1, 1, 1]], shape = [16, 1], type = ket\n",
       "Qobj data =\n",
       "[[ -2.70598050e-01 +0.00000000e+00j]\n",
       " [  0.00000000e+00 +0.00000000e+00j]\n",
       " [ -2.88564129e-11 +3.81270096e-12j]\n",
       " [  5.76949627e-11 -7.62539855e-12j]\n",
       " [  5.76949930e-11 -7.62539160e-12j]\n",
       " [ -2.88564129e-11 +3.81270096e-12j]\n",
       " [  0.00000000e+00 +0.00000000e+00j]\n",
       " [ -2.70598050e-01 +0.00000000e+00j]\n",
       " [  6.53281482e-01 +0.00000000e+00j]\n",
       " [  0.00000000e+00 +0.00000000e+00j]\n",
       " [  6.96654526e-11 -9.20463167e-12j]\n",
       " [ -1.39287930e-10 +1.84092344e-11j]\n",
       " [ -1.39287938e-10 +1.84092549e-11j]\n",
       " [  6.96654619e-11 -9.20463749e-12j]\n",
       " [  0.00000000e+00 +0.00000000e+00j]\n",
       " [  6.53281482e-01 +0.00000000e+00j]]"
      ]
     },
     "metadata": {},
     "output_type": "display_data"
    },
    {
     "name": "stdout",
     "output_type": "stream",
     "text": [
      "Energy (0.707106781187-0.707106781187j)\n"
     ]
    },
    {
     "data": {
      "text/latex": [
       "Quantum object: dims = [[2, 2, 2, 2], [1, 1, 1, 1]], shape = [16, 1], type = ket\\begin{equation*}\\left(\\begin{array}{*{11}c}(0.002+0.007j)\\\\-0.423\\\\(-0.142-0.187j)\\\\(-0.073-0.102j)\\\\(0.073+0.102j)\\\\\\vdots\\\\(-0.102+0.073j)\\\\(0.102-0.073j)\\\\(0.187-0.142j)\\\\-0.423j\\\\(-0.007+0.002j)\\\\\\end{array}\\right)\\end{equation*}"
      ],
      "text/plain": [
       "Quantum object: dims = [[2, 2, 2, 2], [1, 1, 1, 1]], shape = [16, 1], type = ket\n",
       "Qobj data =\n",
       "[[ 0.00188365+0.00669024j]\n",
       " [-0.42325423+0.j        ]\n",
       " [-0.14189214-0.18679205j]\n",
       " [-0.07317553-0.10211877j]\n",
       " [ 0.07317553+0.10211877j]\n",
       " [ 0.14189214+0.18679205j]\n",
       " [ 0.42325423+0.j        ]\n",
       " [-0.00188365-0.00669024j]\n",
       " [ 0.00669024-0.00188365j]\n",
       " [ 0.00000000+0.42325423j]\n",
       " [-0.18679205+0.14189214j]\n",
       " [-0.10211877+0.07317553j]\n",
       " [ 0.10211877-0.07317553j]\n",
       " [ 0.18679205-0.14189214j]\n",
       " [ 0.00000000-0.42325423j]\n",
       " [-0.00669024+0.00188365j]]"
      ]
     },
     "metadata": {},
     "output_type": "display_data"
    },
    {
     "name": "stdout",
     "output_type": "stream",
     "text": [
      "Energy (0.707106781187+0.707106781187j)\n"
     ]
    },
    {
     "data": {
      "text/latex": [
       "Quantum object: dims = [[2, 2, 2, 2], [1, 1, 1, 1]], shape = [16, 1], type = ket\\begin{equation*}\\left(\\begin{array}{*{11}c}(0.002-0.004j)\\\\-0.421\\\\(-0.157+0.182j)\\\\(-0.076+0.096j)\\\\(0.076-0.096j)\\\\\\vdots\\\\(-0.096-0.076j)\\\\(0.096+0.076j)\\\\(0.182+0.157j)\\\\0.421j\\\\(-0.004-0.002j)\\\\\\end{array}\\right)\\end{equation*}"
      ],
      "text/plain": [
       "Quantum object: dims = [[2, 2, 2, 2], [1, 1, 1, 1]], shape = [16, 1], type = ket\n",
       "Qobj data =\n",
       "[[ 0.00155068-0.00357364j]\n",
       " [-0.42118156+0.j        ]\n",
       " [-0.15655206+0.18193072j]\n",
       " [-0.07629681+0.09572032j]\n",
       " [ 0.07629681-0.09572032j]\n",
       " [ 0.15655206-0.18193072j]\n",
       " [ 0.42118156+0.j        ]\n",
       " [-0.00155068+0.00357364j]\n",
       " [ 0.00357364+0.00155068j]\n",
       " [ 0.00000000-0.42118156j]\n",
       " [-0.18193072-0.15655206j]\n",
       " [-0.09572032-0.07629681j]\n",
       " [ 0.09572032+0.07629681j]\n",
       " [ 0.18193072+0.15655206j]\n",
       " [ 0.00000000+0.42118156j]\n",
       " [-0.00357364-0.00155068j]]"
      ]
     },
     "metadata": {},
     "output_type": "display_data"
    },
    {
     "name": "stdout",
     "output_type": "stream",
     "text": [
      "Energy (0.707106781187-0.707106781187j)\n"
     ]
    },
    {
     "data": {
      "text/latex": [
       "Quantum object: dims = [[2, 2, 2, 2], [1, 1, 1, 1]], shape = [16, 1], type = ket\\begin{equation*}\\left(\\begin{array}{*{11}c}-0.500\\\\0.0\\\\0.0\\\\(1.620\\times10^{-12}-1.162\\times10^{-12}j)\\\\(-1.620\\times10^{-12}+1.163\\times10^{-12}j)\\\\\\vdots\\\\(-1.162\\times10^{-12}-1.620\\times10^{-12}j)\\\\(1.163\\times10^{-12}+1.620\\times10^{-12}j)\\\\0.0\\\\0.0\\\\-0.500j\\\\\\end{array}\\right)\\end{equation*}"
      ],
      "text/plain": [
       "Quantum object: dims = [[2, 2, 2, 2], [1, 1, 1, 1]], shape = [16, 1], type = ket\n",
       "Qobj data =\n",
       "[[ -5.00000000e-01 +0.00000000e+00j]\n",
       " [  0.00000000e+00 +0.00000000e+00j]\n",
       " [  0.00000000e+00 +0.00000000e+00j]\n",
       " [  1.61981559e-12 -1.16242504e-12j]\n",
       " [ -1.61970986e-12 +1.16258067e-12j]\n",
       " [  0.00000000e+00 +0.00000000e+00j]\n",
       " [  0.00000000e+00 +0.00000000e+00j]\n",
       " [  5.00000000e-01 +0.00000000e+00j]\n",
       " [  0.00000000e+00 +5.00000000e-01j]\n",
       " [  0.00000000e+00 +0.00000000e+00j]\n",
       " [  0.00000000e+00 +0.00000000e+00j]\n",
       " [ -1.16228017e-12 -1.61984667e-12j]\n",
       " [  1.16260195e-12 +1.61997773e-12j]\n",
       " [  0.00000000e+00 +0.00000000e+00j]\n",
       " [  0.00000000e+00 +0.00000000e+00j]\n",
       " [  0.00000000e+00 -5.00000000e-01j]]"
      ]
     },
     "metadata": {},
     "output_type": "display_data"
    },
    {
     "name": "stdout",
     "output_type": "stream",
     "text": [
      "Energy (0.707106781187+0.707106781187j)\n"
     ]
    },
    {
     "data": {
      "text/latex": [
       "Quantum object: dims = [[2, 2, 2, 2], [1, 1, 1, 1]], shape = [16, 1], type = ket\\begin{equation*}\\left(\\begin{array}{*{11}c}(-0.010-5.856\\times10^{-04}j)\\\\(-0.158-0.233j)\\\\0.354\\\\(0.212-0.011j)\\\\(-0.212+0.011j)\\\\\\vdots\\\\(0.011+0.212j)\\\\(-0.011-0.212j)\\\\-0.354j\\\\(-0.233+0.158j)\\\\(-5.856\\times10^{-04}+0.010j)\\\\\\end{array}\\right)\\end{equation*}"
      ],
      "text/plain": [
       "Quantum object: dims = [[2, 2, 2, 2], [1, 1, 1, 1]], shape = [16, 1], type = ket\n",
       "Qobj data =\n",
       "[[-0.01028862-0.0005856j ]\n",
       " [-0.15800145-0.23333696j]\n",
       " [ 0.35406198+0.j        ]\n",
       " [ 0.21214474-0.01085936j]\n",
       " [-0.21214474+0.01085936j]\n",
       " [-0.35406198+0.j        ]\n",
       " [ 0.15800145+0.23333696j]\n",
       " [ 0.01028862+0.0005856j ]\n",
       " [ 0.00058560-0.01028862j]\n",
       " [ 0.23333696-0.15800145j]\n",
       " [ 0.00000000+0.35406198j]\n",
       " [ 0.01085936+0.21214474j]\n",
       " [-0.01085936-0.21214474j]\n",
       " [ 0.00000000-0.35406198j]\n",
       " [-0.23333696+0.15800145j]\n",
       " [-0.00058560+0.01028862j]]"
      ]
     },
     "metadata": {},
     "output_type": "display_data"
    },
    {
     "name": "stdout",
     "output_type": "stream",
     "text": [
      "Energy (0.707106781187+0.707106781187j)\n"
     ]
    },
    {
     "data": {
      "text/latex": [
       "Quantum object: dims = [[2, 2, 2, 2], [1, 1, 1, 1]], shape = [16, 1], type = ket\\begin{equation*}\\left(\\begin{array}{*{11}c}(-0.040+0.025j)\\\\0.0\\\\-0.223\\\\0.445\\\\-0.445\\\\\\vdots\\\\0.445j\\\\-0.445j\\\\0.223j\\\\0.0\\\\(0.025+0.040j)\\\\\\end{array}\\right)\\end{equation*}"
      ],
      "text/plain": [
       "Quantum object: dims = [[2, 2, 2, 2], [1, 1, 1, 1]], shape = [16, 1], type = ket\n",
       "Qobj data =\n",
       "[[-0.03968669+0.025197j  ]\n",
       " [ 0.00000000+0.j        ]\n",
       " [-0.22261630+0.j        ]\n",
       " [ 0.44523259+0.j        ]\n",
       " [-0.44523259+0.j        ]\n",
       " [ 0.22261630+0.j        ]\n",
       " [ 0.00000000+0.j        ]\n",
       " [ 0.03968669-0.025197j  ]\n",
       " [-0.02519700-0.03968669j]\n",
       " [ 0.00000000+0.j        ]\n",
       " [ 0.00000000-0.2226163j ]\n",
       " [ 0.00000000+0.44523259j]\n",
       " [ 0.00000000-0.44523259j]\n",
       " [ 0.00000000+0.2226163j ]\n",
       " [ 0.00000000+0.j        ]\n",
       " [ 0.02519700+0.03968669j]]"
      ]
     },
     "metadata": {},
     "output_type": "display_data"
    },
    {
     "name": "stdout",
     "output_type": "stream",
     "text": [
      "Energy (0.707106781187-0.707106781187j)\n"
     ]
    },
    {
     "data": {
      "text/latex": [
       "Quantum object: dims = [[2, 2, 2, 2], [1, 1, 1, 1]], shape = [16, 1], type = ket\\begin{equation*}\\left(\\begin{array}{*{11}c}(0.032+0.008j)\\\\(-0.147+0.240j)\\\\0.371\\\\(0.177-0.032j)\\\\(-0.177+0.032j)\\\\\\vdots\\\\(-0.032-0.177j)\\\\(0.032+0.177j)\\\\0.371j\\\\(-0.240-0.147j)\\\\(-0.008+0.032j)\\\\\\end{array}\\right)\\end{equation*}"
      ],
      "text/plain": [
       "Quantum object: dims = [[2, 2, 2, 2], [1, 1, 1, 1]], shape = [16, 1], type = ket\n",
       "Qobj data =\n",
       "[[ 0.03242827+0.00771518j]\n",
       " [-0.14672310+0.24005906j]\n",
       " [ 0.37065114+0.j        ]\n",
       " [ 0.17699758-0.03197583j]\n",
       " [-0.17699758+0.03197583j]\n",
       " [-0.37065114+0.j        ]\n",
       " [ 0.14672310-0.24005906j]\n",
       " [-0.03242827-0.00771518j]\n",
       " [ 0.00771518-0.03242827j]\n",
       " [ 0.24005906+0.1467231j ]\n",
       " [ 0.00000000-0.37065114j]\n",
       " [-0.03197583-0.17699758j]\n",
       " [ 0.03197583+0.17699758j]\n",
       " [ 0.00000000+0.37065114j]\n",
       " [-0.24005906-0.1467231j ]\n",
       " [-0.00771518+0.03242827j]]"
      ]
     },
     "metadata": {},
     "output_type": "display_data"
    },
    {
     "name": "stdout",
     "output_type": "stream",
     "text": [
      "Energy (0.707106781187-0.707106781187j)\n"
     ]
    },
    {
     "data": {
      "text/latex": [
       "Quantum object: dims = [[2, 2, 2, 2], [1, 1, 1, 1]], shape = [16, 1], type = ket\\begin{equation*}\\left(\\begin{array}{*{11}c}(-0.043+0.016j)\\\\0.0\\\\0.223j\\\\-0.445j\\\\0.445j\\\\\\vdots\\\\-0.445\\\\0.445\\\\-0.223\\\\0.0\\\\(-0.016-0.043j)\\\\\\end{array}\\right)\\end{equation*}"
      ],
      "text/plain": [
       "Quantum object: dims = [[2, 2, 2, 2], [1, 1, 1, 1]], shape = [16, 1], type = ket\n",
       "Qobj data =\n",
       "[[-0.04294143+0.01590288j]\n",
       " [ 0.00000000+0.j        ]\n",
       " [ 0.00000000+0.22266708j]\n",
       " [ 0.00000000-0.44533415j]\n",
       " [ 0.00000000+0.44533415j]\n",
       " [ 0.00000000-0.22266708j]\n",
       " [ 0.00000000+0.j        ]\n",
       " [ 0.04294143-0.01590288j]\n",
       " [ 0.01590288+0.04294143j]\n",
       " [ 0.00000000+0.j        ]\n",
       " [ 0.22266708+0.j        ]\n",
       " [-0.44533415+0.j        ]\n",
       " [ 0.44533415+0.j        ]\n",
       " [-0.22266708+0.j        ]\n",
       " [ 0.00000000+0.j        ]\n",
       " [-0.01590288-0.04294143j]]"
      ]
     },
     "metadata": {},
     "output_type": "display_data"
    },
    {
     "name": "stdout",
     "output_type": "stream",
     "text": [
      "Energy (0.707106781187+0.707106781187j)\n"
     ]
    },
    {
     "data": {
      "text/latex": [
       "Quantum object: dims = [[2, 2, 2, 2], [1, 1, 1, 1]], shape = [16, 1], type = ket\\begin{equation*}\\left(\\begin{array}{*{11}c}-0.500j\\\\0.0\\\\0.0\\\\0.0\\\\0.0\\\\\\vdots\\\\0.0\\\\0.0\\\\0.0\\\\0.0\\\\-0.500\\\\\\end{array}\\right)\\end{equation*}"
      ],
      "text/plain": [
       "Quantum object: dims = [[2, 2, 2, 2], [1, 1, 1, 1]], shape = [16, 1], type = ket\n",
       "Qobj data =\n",
       "[[ 0.0-0.5j]\n",
       " [ 0.0+0.j ]\n",
       " [ 0.0+0.j ]\n",
       " [ 0.0+0.j ]\n",
       " [ 0.0+0.j ]\n",
       " [ 0.0+0.j ]\n",
       " [ 0.0+0.j ]\n",
       " [ 0.0+0.5j]\n",
       " [ 0.5+0.j ]\n",
       " [ 0.0+0.j ]\n",
       " [ 0.0+0.j ]\n",
       " [ 0.0+0.j ]\n",
       " [ 0.0+0.j ]\n",
       " [ 0.0+0.j ]\n",
       " [ 0.0+0.j ]\n",
       " [-0.5+0.j ]]"
      ]
     },
     "metadata": {},
     "output_type": "display_data"
    },
    {
     "name": "stdout",
     "output_type": "stream",
     "text": [
      "Energy (1-2.91243651571e-17j)\n"
     ]
    },
    {
     "data": {
      "text/latex": [
       "Quantum object: dims = [[2, 2, 2, 2], [1, 1, 1, 1]], shape = [16, 1], type = ket\\begin{equation*}\\left(\\begin{array}{*{11}c}(-0.037-0.004j)\\\\0.638\\\\(-0.105+0.002j)\\\\(-0.085-0.022j)\\\\(-0.085-0.022j)\\\\\\vdots\\\\(-0.035-0.009j)\\\\(-0.035-0.009j)\\\\(-0.043+7.027\\times10^{-04}j)\\\\0.264\\\\(-0.015-0.002j)\\\\\\end{array}\\right)\\end{equation*}"
      ],
      "text/plain": [
       "Quantum object: dims = [[2, 2, 2, 2], [1, 1, 1, 1]], shape = [16, 1], type = ket\n",
       "Qobj data =\n",
       "[[-0.03711305-0.00370001j]\n",
       " [ 0.63768203+0.j        ]\n",
       " [-0.10462455+0.00169659j]\n",
       " [-0.08549772-0.02209561j]\n",
       " [-0.08549772-0.02209561j]\n",
       " [-0.10462455+0.00169659j]\n",
       " [ 0.63768203+0.j        ]\n",
       " [-0.03711305-0.00370001j]\n",
       " [-0.01537273-0.00153259j]\n",
       " [ 0.26413655+0.j        ]\n",
       " [-0.04333691+0.00070275j]\n",
       " [-0.03541432-0.0091523j ]\n",
       " [-0.03541432-0.0091523j ]\n",
       " [-0.04333691+0.00070275j]\n",
       " [ 0.26413655+0.j        ]\n",
       " [-0.01537273-0.00153259j]]"
      ]
     },
     "metadata": {},
     "output_type": "display_data"
    },
    {
     "name": "stdout",
     "output_type": "stream",
     "text": [
      "Energy (1-2.60754969372e-23j)\n"
     ]
    },
    {
     "data": {
      "text/latex": [
       "Quantum object: dims = [[2, 2, 2, 2], [1, 1, 1, 1]], shape = [16, 1], type = ket\\begin{equation*}\\left(\\begin{array}{*{11}c}0.653\\\\0.0\\\\0.0\\\\0.0\\\\0.0\\\\\\vdots\\\\0.0\\\\0.0\\\\0.0\\\\0.0\\\\0.271\\\\\\end{array}\\right)\\end{equation*}"
      ],
      "text/plain": [
       "Quantum object: dims = [[2, 2, 2, 2], [1, 1, 1, 1]], shape = [16, 1], type = ket\n",
       "Qobj data =\n",
       "[[ 0.65328148]\n",
       " [ 0.        ]\n",
       " [ 0.        ]\n",
       " [ 0.        ]\n",
       " [ 0.        ]\n",
       " [ 0.        ]\n",
       " [ 0.        ]\n",
       " [ 0.65328148]\n",
       " [ 0.27059805]\n",
       " [ 0.        ]\n",
       " [ 0.        ]\n",
       " [ 0.        ]\n",
       " [ 0.        ]\n",
       " [ 0.        ]\n",
       " [ 0.        ]\n",
       " [ 0.27059805]]"
      ]
     },
     "metadata": {},
     "output_type": "display_data"
    },
    {
     "name": "stdout",
     "output_type": "stream",
     "text": [
      "Energy (1-3.33066796063e-16j)\n"
     ]
    },
    {
     "data": {
      "text/latex": [
       "Quantum object: dims = [[2, 2, 2, 2], [1, 1, 1, 1]], shape = [16, 1], type = ket\\begin{equation*}\\left(\\begin{array}{*{11}c}(-0.066-0.099j)\\\\0.0\\\\-0.287\\\\0.574\\\\0.574\\\\\\vdots\\\\0.238\\\\0.238\\\\-0.119\\\\0.0\\\\(-0.027-0.041j)\\\\\\end{array}\\right)\\end{equation*}"
      ],
      "text/plain": [
       "Quantum object: dims = [[2, 2, 2, 2], [1, 1, 1, 1]], shape = [16, 1], type = ket\n",
       "Qobj data =\n",
       "[[-0.06620470-0.09930701j]\n",
       " [ 0.00000000+0.j        ]\n",
       " [-0.28723919+0.j        ]\n",
       " [ 0.57447837+0.j        ]\n",
       " [ 0.57447837+0.j        ]\n",
       " [-0.28723919+0.j        ]\n",
       " [ 0.00000000+0.j        ]\n",
       " [-0.06620470-0.09930701j]\n",
       " [-0.02742288-0.04113431j]\n",
       " [ 0.00000000+0.j        ]\n",
       " [-0.11897837+0.j        ]\n",
       " [ 0.23795673+0.j        ]\n",
       " [ 0.23795673+0.j        ]\n",
       " [-0.11897837+0.j        ]\n",
       " [ 0.00000000+0.j        ]\n",
       " [-0.02742288-0.04113431j]]"
      ]
     },
     "metadata": {},
     "output_type": "display_data"
    },
    {
     "name": "stdout",
     "output_type": "stream",
     "text": [
      "Energy (1-2.22044604925e-16j)\n"
     ]
    },
    {
     "data": {
      "text/latex": [
       "Quantum object: dims = [[2, 2, 2, 2], [1, 1, 1, 1]], shape = [16, 1], type = ket\\begin{equation*}\\left(\\begin{array}{*{11}c}(-0.067-0.067j)\\\\0.112\\\\0.561\\\\0.300\\\\0.300\\\\\\vdots\\\\0.124\\\\0.124\\\\0.233\\\\0.047\\\\(-0.028-0.028j)\\\\\\end{array}\\right)\\end{equation*}"
      ],
      "text/plain": [
       "Quantum object: dims = [[2, 2, 2, 2], [1, 1, 1, 1]], shape = [16, 1], type = ket\n",
       "Qobj data =\n",
       "[[-0.06727822-0.06727821j]\n",
       " [ 0.11242224+0.j        ]\n",
       " [ 0.56137386+0.j        ]\n",
       " [ 0.29990766+0.j        ]\n",
       " [ 0.29990766+0.j        ]\n",
       " [ 0.56137386+0.j        ]\n",
       " [ 0.11242224+0.j        ]\n",
       " [-0.06727822-0.06727821j]\n",
       " [-0.02786755-0.02786755j]\n",
       " [ 0.04656682+0.j        ]\n",
       " [ 0.23252867+0.j        ]\n",
       " [ 0.12422582+0.j        ]\n",
       " [ 0.12422582+0.j        ]\n",
       " [ 0.23252867+0.j        ]\n",
       " [ 0.04656682+0.j        ]\n",
       " [-0.02786755-0.02786755j]]"
      ]
     },
     "metadata": {},
     "output_type": "display_data"
    }
   ],
   "source": [
    "from IPython.display import display\n",
    "eigs = U_EPRC.eigenstates()\n",
    "for i in range(len(eigs[0])):\n",
    "    print (\"Energy %s\" % eigs[0][i])\n",
    "    display(eigs[1][i])\n",
    "    "
   ]
  },
  {
   "cell_type": "code",
   "execution_count": 7,
   "metadata": {
    "collapsed": false
   },
   "outputs": [
    {
     "data": {
      "text/plain": [
       "(array([-1.00000000 +1.67578952e-16j, -1.00000000 -2.77555756e-17j,\n",
       "        -1.00000000 -3.55880990e-16j, -1.00000000 +2.60291475e-23j,\n",
       "         0.70710678 -7.07106781e-01j,  0.70710678 +7.07106781e-01j,\n",
       "         0.70710678 -7.07106781e-01j,  0.70710678 +7.07106781e-01j,\n",
       "         0.70710678 +7.07106781e-01j,  0.70710678 -7.07106781e-01j,\n",
       "         0.70710678 -7.07106781e-01j,  0.70710678 +7.07106781e-01j,\n",
       "         1.00000000 -2.91243652e-17j,  1.00000000 -2.60754969e-23j,\n",
       "         1.00000000 -3.33066796e-16j,  1.00000000 -2.22044605e-16j]),\n",
       " array([ Quantum object: dims = [[2, 2, 2, 2], [1, 1, 1, 1]], shape = [16, 1], type = ket\n",
       " Qobj data =\n",
       " [[-0.00235039-0.00083217j]\n",
       "  [-0.26500388+0.j        ]\n",
       "  [ 0.04188353+0.00626847j]\n",
       "  [-0.03223872-0.01253693j]\n",
       "  [-0.03223872-0.01253693j]\n",
       "  [ 0.04188353+0.00626847j]\n",
       "  [-0.26500388+0.j        ]\n",
       "  [-0.00235039-0.00083217j]\n",
       "  [ 0.00567434+0.00200903j]\n",
       "  [ 0.63977595+0.j        ]\n",
       "  [-0.10111578-0.01513341j]\n",
       "  [ 0.07783117+0.03026683j]\n",
       "  [ 0.07783117+0.03026683j]\n",
       "  [-0.10111578-0.01513341j]\n",
       "  [ 0.63977595+0.j        ]\n",
       "  [ 0.00567434+0.00200903j]],\n",
       "        Quantum object: dims = [[2, 2, 2, 2], [1, 1, 1, 1]], shape = [16, 1], type = ket\n",
       " Qobj data =\n",
       " [[  5.28138921e-03-0.00047198j]\n",
       "  [  3.79871877e-04-0.03965822j]\n",
       "  [ -2.43767632e-01+0.j        ]\n",
       "  [ -1.10133423e-01-0.00838098j]\n",
       "  [ -1.10133423e-01-0.00838098j]\n",
       "  [ -2.43767632e-01+0.j        ]\n",
       "  [  3.79871877e-04-0.03965822j]\n",
       "  [  5.28138921e-03-0.00047198j]\n",
       "  [ -1.27504015e-02+0.00113947j]\n",
       "  [ -9.17091837e-04+0.09574342j]\n",
       "  [  5.88507122e-01+0.j        ]\n",
       "  [  2.65885602e-01+0.02023348j]\n",
       "  [  2.65885602e-01+0.02023348j]\n",
       "  [  5.88507122e-01+0.j        ]\n",
       "  [ -9.17091837e-04+0.09574342j]\n",
       "  [ -1.27504015e-02+0.00113947j]],\n",
       "        Quantum object: dims = [[2, 2, 2, 2], [1, 1, 1, 1]], shape = [16, 1], type = ket\n",
       " Qobj data =\n",
       " [[ -1.77044384e-02 +5.67514219e-02j]\n",
       "  [  9.23650953e-12 +0.00000000e+00j]\n",
       "  [  1.18058573e-01 +0.00000000e+00j]\n",
       "  [ -2.36117147e-01 +0.00000000e+00j]\n",
       "  [ -2.36117147e-01 +0.00000000e+00j]\n",
       "  [  1.18058573e-01 +0.00000000e+00j]\n",
       "  [  9.23647755e-12 +0.00000000e+00j]\n",
       "  [ -1.77044384e-02 +5.67514219e-02j]\n",
       "  [  4.27422953e-02 -1.37010052e-01j]\n",
       "  [ -2.22987937e-11 +1.76710639e-12j]\n",
       "  [ -2.85018609e-01 +0.00000000e+00j]\n",
       "  [  5.70037218e-01 +0.00000000e+00j]\n",
       "  [  5.70037218e-01 +0.00000000e+00j]\n",
       "  [ -2.85018609e-01 +0.00000000e+00j]\n",
       "  [ -2.22988471e-11 +1.76707546e-12j]\n",
       "  [  4.27422953e-02 -1.37010052e-01j]],\n",
       "        Quantum object: dims = [[2, 2, 2, 2], [1, 1, 1, 1]], shape = [16, 1], type = ket\n",
       " Qobj data =\n",
       " [[ -2.70598050e-01 +0.00000000e+00j]\n",
       "  [  0.00000000e+00 +0.00000000e+00j]\n",
       "  [ -2.88564129e-11 +3.81270096e-12j]\n",
       "  [  5.76949627e-11 -7.62539855e-12j]\n",
       "  [  5.76949930e-11 -7.62539160e-12j]\n",
       "  [ -2.88564129e-11 +3.81270096e-12j]\n",
       "  [  0.00000000e+00 +0.00000000e+00j]\n",
       "  [ -2.70598050e-01 +0.00000000e+00j]\n",
       "  [  6.53281482e-01 +0.00000000e+00j]\n",
       "  [  0.00000000e+00 +0.00000000e+00j]\n",
       "  [  6.96654526e-11 -9.20463167e-12j]\n",
       "  [ -1.39287930e-10 +1.84092344e-11j]\n",
       "  [ -1.39287938e-10 +1.84092549e-11j]\n",
       "  [  6.96654619e-11 -9.20463749e-12j]\n",
       "  [  0.00000000e+00 +0.00000000e+00j]\n",
       "  [  6.53281482e-01 +0.00000000e+00j]],\n",
       "        Quantum object: dims = [[2, 2, 2, 2], [1, 1, 1, 1]], shape = [16, 1], type = ket\n",
       " Qobj data =\n",
       " [[ 0.00188365+0.00669024j]\n",
       "  [-0.42325423+0.j        ]\n",
       "  [-0.14189214-0.18679205j]\n",
       "  [-0.07317553-0.10211877j]\n",
       "  [ 0.07317553+0.10211877j]\n",
       "  [ 0.14189214+0.18679205j]\n",
       "  [ 0.42325423+0.j        ]\n",
       "  [-0.00188365-0.00669024j]\n",
       "  [ 0.00669024-0.00188365j]\n",
       "  [ 0.00000000+0.42325423j]\n",
       "  [-0.18679205+0.14189214j]\n",
       "  [-0.10211877+0.07317553j]\n",
       "  [ 0.10211877-0.07317553j]\n",
       "  [ 0.18679205-0.14189214j]\n",
       "  [ 0.00000000-0.42325423j]\n",
       "  [-0.00669024+0.00188365j]],\n",
       "        Quantum object: dims = [[2, 2, 2, 2], [1, 1, 1, 1]], shape = [16, 1], type = ket\n",
       " Qobj data =\n",
       " [[ 0.00155068-0.00357364j]\n",
       "  [-0.42118156+0.j        ]\n",
       "  [-0.15655206+0.18193072j]\n",
       "  [-0.07629681+0.09572032j]\n",
       "  [ 0.07629681-0.09572032j]\n",
       "  [ 0.15655206-0.18193072j]\n",
       "  [ 0.42118156+0.j        ]\n",
       "  [-0.00155068+0.00357364j]\n",
       "  [ 0.00357364+0.00155068j]\n",
       "  [ 0.00000000-0.42118156j]\n",
       "  [-0.18193072-0.15655206j]\n",
       "  [-0.09572032-0.07629681j]\n",
       "  [ 0.09572032+0.07629681j]\n",
       "  [ 0.18193072+0.15655206j]\n",
       "  [ 0.00000000+0.42118156j]\n",
       "  [-0.00357364-0.00155068j]],\n",
       "        Quantum object: dims = [[2, 2, 2, 2], [1, 1, 1, 1]], shape = [16, 1], type = ket\n",
       " Qobj data =\n",
       " [[ -5.00000000e-01 +0.00000000e+00j]\n",
       "  [  0.00000000e+00 +0.00000000e+00j]\n",
       "  [  0.00000000e+00 +0.00000000e+00j]\n",
       "  [  1.61981559e-12 -1.16242504e-12j]\n",
       "  [ -1.61970986e-12 +1.16258067e-12j]\n",
       "  [  0.00000000e+00 +0.00000000e+00j]\n",
       "  [  0.00000000e+00 +0.00000000e+00j]\n",
       "  [  5.00000000e-01 +0.00000000e+00j]\n",
       "  [  0.00000000e+00 +5.00000000e-01j]\n",
       "  [  0.00000000e+00 +0.00000000e+00j]\n",
       "  [  0.00000000e+00 +0.00000000e+00j]\n",
       "  [ -1.16228017e-12 -1.61984667e-12j]\n",
       "  [  1.16260195e-12 +1.61997773e-12j]\n",
       "  [  0.00000000e+00 +0.00000000e+00j]\n",
       "  [  0.00000000e+00 +0.00000000e+00j]\n",
       "  [  0.00000000e+00 -5.00000000e-01j]],\n",
       "        Quantum object: dims = [[2, 2, 2, 2], [1, 1, 1, 1]], shape = [16, 1], type = ket\n",
       " Qobj data =\n",
       " [[-0.01028862-0.0005856j ]\n",
       "  [-0.15800145-0.23333696j]\n",
       "  [ 0.35406198+0.j        ]\n",
       "  [ 0.21214474-0.01085936j]\n",
       "  [-0.21214474+0.01085936j]\n",
       "  [-0.35406198+0.j        ]\n",
       "  [ 0.15800145+0.23333696j]\n",
       "  [ 0.01028862+0.0005856j ]\n",
       "  [ 0.00058560-0.01028862j]\n",
       "  [ 0.23333696-0.15800145j]\n",
       "  [ 0.00000000+0.35406198j]\n",
       "  [ 0.01085936+0.21214474j]\n",
       "  [-0.01085936-0.21214474j]\n",
       "  [ 0.00000000-0.35406198j]\n",
       "  [-0.23333696+0.15800145j]\n",
       "  [-0.00058560+0.01028862j]],\n",
       "        Quantum object: dims = [[2, 2, 2, 2], [1, 1, 1, 1]], shape = [16, 1], type = ket\n",
       " Qobj data =\n",
       " [[-0.03968669+0.025197j  ]\n",
       "  [ 0.00000000+0.j        ]\n",
       "  [-0.22261630+0.j        ]\n",
       "  [ 0.44523259+0.j        ]\n",
       "  [-0.44523259+0.j        ]\n",
       "  [ 0.22261630+0.j        ]\n",
       "  [ 0.00000000+0.j        ]\n",
       "  [ 0.03968669-0.025197j  ]\n",
       "  [-0.02519700-0.03968669j]\n",
       "  [ 0.00000000+0.j        ]\n",
       "  [ 0.00000000-0.2226163j ]\n",
       "  [ 0.00000000+0.44523259j]\n",
       "  [ 0.00000000-0.44523259j]\n",
       "  [ 0.00000000+0.2226163j ]\n",
       "  [ 0.00000000+0.j        ]\n",
       "  [ 0.02519700+0.03968669j]],\n",
       "        Quantum object: dims = [[2, 2, 2, 2], [1, 1, 1, 1]], shape = [16, 1], type = ket\n",
       " Qobj data =\n",
       " [[ 0.03242827+0.00771518j]\n",
       "  [-0.14672310+0.24005906j]\n",
       "  [ 0.37065114+0.j        ]\n",
       "  [ 0.17699758-0.03197583j]\n",
       "  [-0.17699758+0.03197583j]\n",
       "  [-0.37065114+0.j        ]\n",
       "  [ 0.14672310-0.24005906j]\n",
       "  [-0.03242827-0.00771518j]\n",
       "  [ 0.00771518-0.03242827j]\n",
       "  [ 0.24005906+0.1467231j ]\n",
       "  [ 0.00000000-0.37065114j]\n",
       "  [-0.03197583-0.17699758j]\n",
       "  [ 0.03197583+0.17699758j]\n",
       "  [ 0.00000000+0.37065114j]\n",
       "  [-0.24005906-0.1467231j ]\n",
       "  [-0.00771518+0.03242827j]],\n",
       "        Quantum object: dims = [[2, 2, 2, 2], [1, 1, 1, 1]], shape = [16, 1], type = ket\n",
       " Qobj data =\n",
       " [[-0.04294143+0.01590288j]\n",
       "  [ 0.00000000+0.j        ]\n",
       "  [ 0.00000000+0.22266708j]\n",
       "  [ 0.00000000-0.44533415j]\n",
       "  [ 0.00000000+0.44533415j]\n",
       "  [ 0.00000000-0.22266708j]\n",
       "  [ 0.00000000+0.j        ]\n",
       "  [ 0.04294143-0.01590288j]\n",
       "  [ 0.01590288+0.04294143j]\n",
       "  [ 0.00000000+0.j        ]\n",
       "  [ 0.22266708+0.j        ]\n",
       "  [-0.44533415+0.j        ]\n",
       "  [ 0.44533415+0.j        ]\n",
       "  [-0.22266708+0.j        ]\n",
       "  [ 0.00000000+0.j        ]\n",
       "  [-0.01590288-0.04294143j]],\n",
       "        Quantum object: dims = [[2, 2, 2, 2], [1, 1, 1, 1]], shape = [16, 1], type = ket\n",
       " Qobj data =\n",
       " [[ 0.0-0.5j]\n",
       "  [ 0.0+0.j ]\n",
       "  [ 0.0+0.j ]\n",
       "  [ 0.0+0.j ]\n",
       "  [ 0.0+0.j ]\n",
       "  [ 0.0+0.j ]\n",
       "  [ 0.0+0.j ]\n",
       "  [ 0.0+0.5j]\n",
       "  [ 0.5+0.j ]\n",
       "  [ 0.0+0.j ]\n",
       "  [ 0.0+0.j ]\n",
       "  [ 0.0+0.j ]\n",
       "  [ 0.0+0.j ]\n",
       "  [ 0.0+0.j ]\n",
       "  [ 0.0+0.j ]\n",
       "  [-0.5+0.j ]],\n",
       "        Quantum object: dims = [[2, 2, 2, 2], [1, 1, 1, 1]], shape = [16, 1], type = ket\n",
       " Qobj data =\n",
       " [[-0.03711305-0.00370001j]\n",
       "  [ 0.63768203+0.j        ]\n",
       "  [-0.10462455+0.00169659j]\n",
       "  [-0.08549772-0.02209561j]\n",
       "  [-0.08549772-0.02209561j]\n",
       "  [-0.10462455+0.00169659j]\n",
       "  [ 0.63768203+0.j        ]\n",
       "  [-0.03711305-0.00370001j]\n",
       "  [-0.01537273-0.00153259j]\n",
       "  [ 0.26413655+0.j        ]\n",
       "  [-0.04333691+0.00070275j]\n",
       "  [-0.03541432-0.0091523j ]\n",
       "  [-0.03541432-0.0091523j ]\n",
       "  [-0.04333691+0.00070275j]\n",
       "  [ 0.26413655+0.j        ]\n",
       "  [-0.01537273-0.00153259j]],\n",
       "        Quantum object: dims = [[2, 2, 2, 2], [1, 1, 1, 1]], shape = [16, 1], type = ket\n",
       " Qobj data =\n",
       " [[ 0.65328148]\n",
       "  [ 0.        ]\n",
       "  [ 0.        ]\n",
       "  [ 0.        ]\n",
       "  [ 0.        ]\n",
       "  [ 0.        ]\n",
       "  [ 0.        ]\n",
       "  [ 0.65328148]\n",
       "  [ 0.27059805]\n",
       "  [ 0.        ]\n",
       "  [ 0.        ]\n",
       "  [ 0.        ]\n",
       "  [ 0.        ]\n",
       "  [ 0.        ]\n",
       "  [ 0.        ]\n",
       "  [ 0.27059805]],\n",
       "        Quantum object: dims = [[2, 2, 2, 2], [1, 1, 1, 1]], shape = [16, 1], type = ket\n",
       " Qobj data =\n",
       " [[-0.06620470-0.09930701j]\n",
       "  [ 0.00000000+0.j        ]\n",
       "  [-0.28723919+0.j        ]\n",
       "  [ 0.57447837+0.j        ]\n",
       "  [ 0.57447837+0.j        ]\n",
       "  [-0.28723919+0.j        ]\n",
       "  [ 0.00000000+0.j        ]\n",
       "  [-0.06620470-0.09930701j]\n",
       "  [-0.02742288-0.04113431j]\n",
       "  [ 0.00000000+0.j        ]\n",
       "  [-0.11897837+0.j        ]\n",
       "  [ 0.23795673+0.j        ]\n",
       "  [ 0.23795673+0.j        ]\n",
       "  [-0.11897837+0.j        ]\n",
       "  [ 0.00000000+0.j        ]\n",
       "  [-0.02742288-0.04113431j]],\n",
       "        Quantum object: dims = [[2, 2, 2, 2], [1, 1, 1, 1]], shape = [16, 1], type = ket\n",
       " Qobj data =\n",
       " [[-0.06727822-0.06727821j]\n",
       "  [ 0.11242224+0.j        ]\n",
       "  [ 0.56137386+0.j        ]\n",
       "  [ 0.29990766+0.j        ]\n",
       "  [ 0.29990766+0.j        ]\n",
       "  [ 0.56137386+0.j        ]\n",
       "  [ 0.11242224+0.j        ]\n",
       "  [-0.06727822-0.06727821j]\n",
       "  [-0.02786755-0.02786755j]\n",
       "  [ 0.04656682+0.j        ]\n",
       "  [ 0.23252867+0.j        ]\n",
       "  [ 0.12422582+0.j        ]\n",
       "  [ 0.12422582+0.j        ]\n",
       "  [ 0.23252867+0.j        ]\n",
       "  [ 0.04656682+0.j        ]\n",
       "  [-0.02786755-0.02786755j]]], dtype=object))"
      ]
     },
     "execution_count": 7,
     "metadata": {},
     "output_type": "execute_result"
    }
   ],
   "source": [
    "U_EPRC.eigenstates()"
   ]
  },
  {
   "cell_type": "code",
   "execution_count": 8,
   "metadata": {
    "collapsed": false,
    "scrolled": false
   },
   "outputs": [
    {
     "data": {
      "text/plain": [
       "(<matplotlib.figure.Figure at 0x7f48ddd9d518>,\n",
       " <matplotlib.axes._subplots.AxesSubplot at 0x7f48ddcdc710>)"
      ]
     },
     "execution_count": 8,
     "metadata": {},
     "output_type": "execute_result"
    },
    {
     "data": {
      "image/png": "[encoded data removed]",
      "text/plain": [
       "<matplotlib.figure.Figure at 0x7f48ddd9dfd0>"
      ]
     },
     "metadata": {},
     "output_type": "display_data"
    },
    {
     "data": {
      "image/png": "[encoded data removed]",
      "text/plain": [
       "<matplotlib.figure.Figure at 0x7f48ddd9d518>"
      ]
     },
     "metadata": {},
     "output_type": "display_data"
    }
   ],
   "source": [
    "    plot_fock_distribution(ciruit_out)\n",
    "    plot_qubism(ciruit_out,legend_iteration=2, figsize=(5,5))"
   ]
  },
  {
   "cell_type": "code",
   "execution_count": 9,
   "metadata": {
    "collapsed": false
   },
   "outputs": [
    {
     "data": {
      "image/png": "[encoded data removed]",
      "image/svg+xml": [
       "<?xml version=\"1.0\" encoding=\"UTF-8\"?>\n",
       "<svg xmlns=\"http://www.w3.org/2000/svg\" xmlns:xlink=\"http://www.w3.org/1999/xlink\" width=\"180pt\" height=\"123pt\" viewBox=\"0 0 180 123\" version=\"1.1\">\n",
       "<defs>\n",
       "<g>\n",
       "<symbol overflow=\"visible\" id=\"glyph0-0\">\n",
       "<path style=\"stroke:none;\" d=\"\"/>\n",
       "</symbol>\n",
       "<symbol overflow=\"visible\" id=\"glyph0-1\">\n",
       "<path style=\"stroke:none;\" d=\"M 6.109375 -6.03125 C 6.109375 -6.390625 6.125 -6.5 6.890625 -6.5 L 7.140625 -6.5 L 7.140625 -6.8125 C 6.78125 -6.78125 6.046875 -6.78125 5.671875 -6.78125 C 5.296875 -6.78125 4.546875 -6.78125 4.203125 -6.8125 L 4.203125 -6.5 L 4.4375 -6.5 C 5.203125 -6.5 5.21875 -6.390625 5.21875 -6.03125 L 5.21875 -3.703125 L 2.25 -3.703125 L 2.25 -6.03125 C 2.25 -6.390625 2.265625 -6.5 3.03125 -6.5 L 3.265625 -6.5 L 3.265625 -6.8125 C 2.921875 -6.78125 2.1875 -6.78125 1.796875 -6.78125 C 1.421875 -6.78125 0.671875 -6.78125 0.328125 -6.8125 L 0.328125 -6.5 L 0.5625 -6.5 C 1.328125 -6.5 1.359375 -6.390625 1.359375 -6.03125 L 1.359375 -0.78125 C 1.359375 -0.421875 1.328125 -0.3125 0.5625 -0.3125 L 0.328125 -0.3125 L 0.328125 0 C 0.671875 -0.03125 1.421875 -0.03125 1.796875 -0.03125 C 2.171875 -0.03125 2.921875 -0.03125 3.265625 0 L 3.265625 -0.3125 L 3.03125 -0.3125 C 2.265625 -0.3125 2.25 -0.421875 2.25 -0.78125 L 2.25 -3.390625 L 5.21875 -3.390625 L 5.21875 -0.78125 C 5.21875 -0.421875 5.203125 -0.3125 4.4375 -0.3125 L 4.203125 -0.3125 L 4.203125 0 C 4.546875 -0.03125 5.28125 -0.03125 5.65625 -0.03125 C 6.046875 -0.03125 6.78125 -0.03125 7.140625 0 L 7.140625 -0.3125 L 6.890625 -0.3125 C 6.125 -0.3125 6.109375 -0.421875 6.109375 -0.78125 Z M 6.109375 -6.03125 \"/>\n",
       "</symbol>\n",
       "<symbol overflow=\"visible\" id=\"glyph1-0\">\n",
       "<path style=\"stroke:none;\" d=\"\"/>\n",
       "</symbol>\n",
       "<symbol overflow=\"visible\" id=\"glyph1-1\">\n",
       "<path style=\"stroke:none;\" d=\"M 4.421875 -2.5 C 4.421875 -3.5625 3.53125 -4.421875 2.5 -4.421875 C 1.421875 -4.421875 0.546875 -3.53125 0.546875 -2.5 C 0.546875 -1.4375 1.421875 -0.5625 2.5 -0.5625 C 3.53125 -0.5625 4.421875 -1.421875 4.421875 -2.5 Z M 4.421875 -2.5 \"/>\n",
       "</symbol>\n",
       "</g>\n",
       "<clipPath id=\"clip1\">\n",
       "  <path d=\"M 147 0.667969 L 148 0.667969 L 148 9 L 147 9 Z M 147 0.667969 \"/>\n",
       "</clipPath>\n",
       "<clipPath id=\"clip2\">\n",
       "  <path d=\"M 143 0.667969 L 148 0.667969 L 148 5 L 143 5 Z M 143 0.667969 \"/>\n",
       "</clipPath>\n",
       "<clipPath id=\"clip3\">\n",
       "  <path d=\"M 147 0.667969 L 152 0.667969 L 152 5 L 147 5 Z M 147 0.667969 \"/>\n",
       "</clipPath>\n",
       "<clipPath id=\"clip4\">\n",
       "  <path d=\"M 151 4 L 179.691406 4 L 179.691406 5 L 151 5 Z M 151 4 \"/>\n",
       "</clipPath>\n",
       "<clipPath id=\"clip5\">\n",
       "  <path d=\"M 147 41 L 179.691406 41 L 179.691406 42 L 147 42 Z M 147 41 \"/>\n",
       "</clipPath>\n",
       "<clipPath id=\"clip6\">\n",
       "  <path d=\"M 147 77 L 179.691406 77 L 179.691406 78 L 147 78 Z M 147 77 \"/>\n",
       "</clipPath>\n",
       "<clipPath id=\"clip7\">\n",
       "  <path d=\"M 148 116 L 179.691406 116 L 179.691406 117 L 148 117 Z M 148 116 \"/>\n",
       "</clipPath>\n",
       "</defs>\n",
       "<g id=\"surface1\">\n",
       "<path style=\"fill:none;stroke-width:0.398;stroke-linecap:round;stroke-linejoin:round;stroke:rgb(0%,0%,0%);stroke-opacity:1;stroke-miterlimit:10;\" d=\"M 35.070312 -0.00190625 L 0 -0.00190625 \" transform=\"matrix(1,0,0,-1,0,4.752)\"/>\n",
       "<path style=\"fill:none;stroke-width:0.398;stroke-linecap:round;stroke-linejoin:round;stroke:rgb(0%,0%,0%);stroke-opacity:1;stroke-miterlimit:10;\" d=\"M 74.226562 -0.00190625 L 35.070312 -0.00190625 \" transform=\"matrix(1,0,0,-1,0,4.752)\"/>\n",
       "<path style=\"fill:none;stroke-width:0.398;stroke-linecap:round;stroke-linejoin:round;stroke:rgb(0%,0%,0%);stroke-opacity:1;stroke-miterlimit:10;\" d=\"M 110.742188 -0.00190625 L 74.226562 -0.00190625 \" transform=\"matrix(1,0,0,-1,0,4.752)\"/>\n",
       "<path style=\"fill:none;stroke-width:0.398;stroke-linecap:round;stroke-linejoin:round;stroke:rgb(0%,0%,0%);stroke-opacity:1;stroke-miterlimit:10;\" d=\"M -3.884 -0.00190625 L 3.885531 -0.00190625 \" transform=\"matrix(1,0,0,-1,147.259,4.752)\"/>\n",
       "<g clip-path=\"url(#clip1)\" clip-rule=\"nonzero\">\n",
       "<path style=\"fill:none;stroke-width:0.398;stroke-linecap:round;stroke-linejoin:round;stroke:rgb(0%,0%,0%);stroke-opacity:1;stroke-miterlimit:10;\" d=\"M -0.0011875 -3.884719 L -0.0011875 3.884812 \" transform=\"matrix(1,0,0,-1,147.259,4.752)\"/>\n",
       "</g>\n",
       "<g clip-path=\"url(#clip2)\" clip-rule=\"nonzero\">\n",
       "<path style=\"fill:none;stroke-width:0.398;stroke-linecap:round;stroke-linejoin:round;stroke:rgb(0%,0%,0%);stroke-opacity:1;stroke-miterlimit:10;\" d=\"M -0.0011875 3.986375 C -2.200406 3.986375 -3.985562 2.197312 -3.985562 -0.00190625 \" transform=\"matrix(1,0,0,-1,147.259,4.752)\"/>\n",
       "</g>\n",
       "<path style=\"fill:none;stroke-width:0.398;stroke-linecap:round;stroke-linejoin:round;stroke:rgb(0%,0%,0%);stroke-opacity:1;stroke-miterlimit:10;\" d=\"M -3.985562 -0.00190625 C -3.985562 -2.197219 -2.200406 -3.986281 -0.0011875 -3.986281 \" transform=\"matrix(1,0,0,-1,147.259,4.752)\"/>\n",
       "<path style=\"fill:none;stroke-width:0.398;stroke-linecap:round;stroke-linejoin:round;stroke:rgb(0%,0%,0%);stroke-opacity:1;stroke-miterlimit:10;\" d=\"M -0.0011875 -3.986281 C 2.198031 -3.986281 3.983188 -2.197219 3.983188 -0.00190625 \" transform=\"matrix(1,0,0,-1,147.259,4.752)\"/>\n",
       "<g clip-path=\"url(#clip3)\" clip-rule=\"nonzero\">\n",
       "<path style=\"fill:none;stroke-width:0.398;stroke-linecap:round;stroke-linejoin:round;stroke:rgb(0%,0%,0%);stroke-opacity:1;stroke-miterlimit:10;\" d=\"M 3.983188 -0.00190625 C 3.983188 2.197312 2.198031 3.986375 -0.0011875 3.986375 \" transform=\"matrix(1,0,0,-1,147.259,4.752)\"/>\n",
       "</g>\n",
       "<path style=\"fill:none;stroke-width:0.398;stroke-linecap:round;stroke-linejoin:round;stroke:rgb(0%,0%,0%);stroke-opacity:1;stroke-miterlimit:10;\" d=\"M 143.175781 -0.00190625 L 110.742188 -0.00190625 \" transform=\"matrix(1,0,0,-1,0,4.752)\"/>\n",
       "<g clip-path=\"url(#clip4)\" clip-rule=\"nonzero\">\n",
       "<path style=\"fill:none;stroke-width:0.398;stroke-linecap:round;stroke-linejoin:round;stroke:rgb(0%,0%,0%);stroke-opacity:1;stroke-miterlimit:10;\" d=\"M 179.691406 -0.00190625 L 151.34375 -0.00190625 \" transform=\"matrix(1,0,0,-1,0,4.752)\"/>\n",
       "</g>\n",
       "<path style=\"fill:none;stroke-width:0.398;stroke-linecap:round;stroke-linejoin:round;stroke:rgb(0%,0%,0%);stroke-opacity:1;stroke-miterlimit:10;\" d=\"M 35.070312 -36.517531 L 0 -36.517531 \" transform=\"matrix(1,0,0,-1,0,4.752)\"/>\n",
       "<path style=\"fill:none;stroke-width:0.398;stroke-linecap:round;stroke-linejoin:round;stroke:rgb(0%,0%,0%);stroke-opacity:1;stroke-miterlimit:10;\" d=\"M 74.226562 -36.517531 L 35.070312 -36.517531 \" transform=\"matrix(1,0,0,-1,0,4.752)\"/>\n",
       "<path style=\"fill:none;stroke-width:0.398;stroke-linecap:round;stroke-linejoin:round;stroke:rgb(0%,0%,0%);stroke-opacity:1;stroke-miterlimit:10;\" d=\"M -3.883625 -0.00153125 L 3.885906 -0.00153125 \" transform=\"matrix(1,0,0,-1,110.743,41.268)\"/>\n",
       "<path style=\"fill:none;stroke-width:0.398;stroke-linecap:round;stroke-linejoin:round;stroke:rgb(0%,0%,0%);stroke-opacity:1;stroke-miterlimit:10;\" d=\"M -0.0008125 -3.884344 L -0.0008125 3.885187 \" transform=\"matrix(1,0,0,-1,110.743,41.268)\"/>\n",
       "<path style=\"fill:none;stroke-width:0.398;stroke-linecap:round;stroke-linejoin:round;stroke:rgb(0%,0%,0%);stroke-opacity:1;stroke-miterlimit:10;\" d=\"M -0.0008125 3.98675 C -2.200031 3.98675 -3.985188 2.197687 -3.985188 -0.00153125 \" transform=\"matrix(1,0,0,-1,110.743,41.268)\"/>\n",
       "<path style=\"fill:none;stroke-width:0.398;stroke-linecap:round;stroke-linejoin:round;stroke:rgb(0%,0%,0%);stroke-opacity:1;stroke-miterlimit:10;\" d=\"M -3.985188 -0.00153125 C -3.985188 -2.20075 -2.200031 -3.985906 -0.0008125 -3.985906 \" transform=\"matrix(1,0,0,-1,110.743,41.268)\"/>\n",
       "<path style=\"fill:none;stroke-width:0.398;stroke-linecap:round;stroke-linejoin:round;stroke:rgb(0%,0%,0%);stroke-opacity:1;stroke-miterlimit:10;\" d=\"M -0.0008125 -3.985906 C 2.198406 -3.985906 3.983562 -2.20075 3.983562 -0.00153125 \" transform=\"matrix(1,0,0,-1,110.743,41.268)\"/>\n",
       "<path style=\"fill:none;stroke-width:0.398;stroke-linecap:round;stroke-linejoin:round;stroke:rgb(0%,0%,0%);stroke-opacity:1;stroke-miterlimit:10;\" d=\"M 3.983562 -0.00153125 C 3.983562 2.197687 2.198406 3.98675 -0.0008125 3.98675 \" transform=\"matrix(1,0,0,-1,110.743,41.268)\"/>\n",
       "<path style=\"fill:none;stroke-width:0.398;stroke-linecap:round;stroke-linejoin:round;stroke:rgb(0%,0%,0%);stroke-opacity:1;stroke-miterlimit:10;\" d=\"M 106.65625 -36.517531 L 74.226562 -36.517531 \" transform=\"matrix(1,0,0,-1,0,4.752)\"/>\n",
       "<path style=\"fill:none;stroke-width:0.398;stroke-linecap:round;stroke-linejoin:round;stroke:rgb(0%,0%,0%);stroke-opacity:1;stroke-miterlimit:10;\" d=\"M 147.257812 -36.517531 L 114.828125 -36.517531 \" transform=\"matrix(1,0,0,-1,0,4.752)\"/>\n",
       "<g clip-path=\"url(#clip5)\" clip-rule=\"nonzero\">\n",
       "<path style=\"fill:none;stroke-width:0.398;stroke-linecap:round;stroke-linejoin:round;stroke:rgb(0%,0%,0%);stroke-opacity:1;stroke-miterlimit:10;\" d=\"M 179.691406 -36.517531 L 147.257812 -36.517531 \" transform=\"matrix(1,0,0,-1,0,4.752)\"/>\n",
       "</g>\n",
       "<path style=\"fill:none;stroke-width:0.398;stroke-linecap:round;stroke-linejoin:round;stroke:rgb(0%,0%,0%);stroke-opacity:1;stroke-miterlimit:10;\" d=\"M 35.070312 -73.02925 L 0 -73.02925 \" transform=\"matrix(1,0,0,-1,0,4.752)\"/>\n",
       "<path style=\"fill:none;stroke-width:0.398;stroke-linecap:round;stroke-linejoin:round;stroke:rgb(0%,0%,0%);stroke-opacity:1;stroke-miterlimit:10;\" d=\"M -3.88325 0.00175 L 3.886281 0.00175 \" transform=\"matrix(1,0,0,-1,74.227,77.783)\"/>\n",
       "<path style=\"fill:none;stroke-width:0.398;stroke-linecap:round;stroke-linejoin:round;stroke:rgb(0%,0%,0%);stroke-opacity:1;stroke-miterlimit:10;\" d=\"M -0.0004375 -3.884969 L -0.0004375 3.884563 \" transform=\"matrix(1,0,0,-1,74.227,77.783)\"/>\n",
       "<path style=\"fill:none;stroke-width:0.398;stroke-linecap:round;stroke-linejoin:round;stroke:rgb(0%,0%,0%);stroke-opacity:1;stroke-miterlimit:10;\" d=\"M -0.0004375 3.986125 C -2.199656 3.986125 -3.984813 2.197063 -3.984813 0.00175 \" transform=\"matrix(1,0,0,-1,74.227,77.783)\"/>\n",
       "<path style=\"fill:none;stroke-width:0.398;stroke-linecap:round;stroke-linejoin:round;stroke:rgb(0%,0%,0%);stroke-opacity:1;stroke-miterlimit:10;\" d=\"M -3.984813 0.00175 C -3.984813 -2.197469 -2.199656 -3.986531 -0.0004375 -3.986531 \" transform=\"matrix(1,0,0,-1,74.227,77.783)\"/>\n",
       "<path style=\"fill:none;stroke-width:0.398;stroke-linecap:round;stroke-linejoin:round;stroke:rgb(0%,0%,0%);stroke-opacity:1;stroke-miterlimit:10;\" d=\"M -0.0004375 -3.986531 C 2.198781 -3.986531 3.983937 -2.197469 3.983937 0.00175 \" transform=\"matrix(1,0,0,-1,74.227,77.783)\"/>\n",
       "<path style=\"fill:none;stroke-width:0.398;stroke-linecap:round;stroke-linejoin:round;stroke:rgb(0%,0%,0%);stroke-opacity:1;stroke-miterlimit:10;\" d=\"M 3.983937 0.00175 C 3.983937 2.197063 2.198781 3.986125 -0.0004375 3.986125 \" transform=\"matrix(1,0,0,-1,74.227,77.783)\"/>\n",
       "<path style=\"fill:none;stroke-width:0.398;stroke-linecap:round;stroke-linejoin:round;stroke:rgb(0%,0%,0%);stroke-opacity:1;stroke-miterlimit:10;\" d=\"M 70.144531 -73.02925 L 35.070312 -73.02925 \" transform=\"matrix(1,0,0,-1,0,4.752)\"/>\n",
       "<path style=\"fill:none;stroke-width:0.398;stroke-linecap:round;stroke-linejoin:round;stroke:rgb(0%,0%,0%);stroke-opacity:1;stroke-miterlimit:10;\" d=\"M 110.742188 -73.02925 L 78.3125 -73.02925 \" transform=\"matrix(1,0,0,-1,0,4.752)\"/>\n",
       "<path style=\"fill:none;stroke-width:0.398;stroke-linecap:round;stroke-linejoin:round;stroke:rgb(0%,0%,0%);stroke-opacity:1;stroke-miterlimit:10;\" d=\"M 147.257812 -73.02925 L 110.742188 -73.02925 \" transform=\"matrix(1,0,0,-1,0,4.752)\"/>\n",
       "<g clip-path=\"url(#clip6)\" clip-rule=\"nonzero\">\n",
       "<path style=\"fill:none;stroke-width:0.398;stroke-linecap:round;stroke-linejoin:round;stroke:rgb(0%,0%,0%);stroke-opacity:1;stroke-miterlimit:10;\" d=\"M 179.691406 -73.02925 L 147.257812 -73.02925 \" transform=\"matrix(1,0,0,-1,0,4.752)\"/>\n",
       "</g>\n",
       "<g style=\"fill:rgb(0%,0%,0%);fill-opacity:1;\">\n",
       "  <use xlink:href=\"#glyph0-1\" x=\"31.335\" y=\"120.011\"/>\n",
       "</g>\n",
       "<path style=\"fill:none;stroke-width:0.398;stroke-linecap:round;stroke-linejoin:round;stroke:rgb(0%,0%,0%);stroke-opacity:1;stroke-miterlimit:10;\" d=\"M 41.796875 -105.462844 L 28.347656 -105.462844 \" transform=\"matrix(1,0,0,-1,0,4.752)\"/>\n",
       "<path style=\"fill:none;stroke-width:0.398;stroke-linecap:round;stroke-linejoin:round;stroke:rgb(0%,0%,0%);stroke-opacity:1;stroke-miterlimit:10;\" d=\"M 28.347656 -105.462844 L 28.347656 -118.248 \" transform=\"matrix(1,0,0,-1,0,4.752)\"/>\n",
       "<path style=\"fill:none;stroke-width:0.398;stroke-linecap:round;stroke-linejoin:round;stroke:rgb(0%,0%,0%);stroke-opacity:1;stroke-miterlimit:10;\" d=\"M 28.347656 -118.248 L 41.796875 -118.248 \" transform=\"matrix(1,0,0,-1,0,4.752)\"/>\n",
       "<path style=\"fill:none;stroke-width:0.398;stroke-linecap:round;stroke-linejoin:round;stroke:rgb(0%,0%,0%);stroke-opacity:1;stroke-miterlimit:10;\" d=\"M 41.796875 -118.248 L 41.796875 -105.462844 \" transform=\"matrix(1,0,0,-1,0,4.752)\"/>\n",
       "<path style=\"fill:none;stroke-width:0.398;stroke-linecap:round;stroke-linejoin:round;stroke:rgb(0%,0%,0%);stroke-opacity:1;stroke-miterlimit:10;\" d=\"M 28.347656 -111.853469 L 0 -111.853469 \" transform=\"matrix(1,0,0,-1,0,4.752)\"/>\n",
       "<g style=\"fill:rgb(0%,0%,0%);fill-opacity:1;\">\n",
       "  <use xlink:href=\"#glyph1-1\" x=\"71.736\" y=\"119.07\"/>\n",
       "</g>\n",
       "<path style=\"fill:none;stroke-width:0.398;stroke-linecap:round;stroke-linejoin:round;stroke:rgb(0%,0%,0%);stroke-opacity:1;stroke-miterlimit:10;\" d=\"M 74.226562 -110.775344 L 74.226562 -77.115188 \" transform=\"matrix(1,0,0,-1,0,4.752)\"/>\n",
       "<path style=\"fill:none;stroke-width:0.398;stroke-linecap:round;stroke-linejoin:round;stroke:rgb(0%,0%,0%);stroke-opacity:1;stroke-miterlimit:10;\" d=\"M 73.007812 -111.853469 L 41.796875 -111.853469 \" transform=\"matrix(1,0,0,-1,0,4.752)\"/>\n",
       "<g style=\"fill:rgb(0%,0%,0%);fill-opacity:1;\">\n",
       "  <use xlink:href=\"#glyph1-1\" x=\"108.252\" y=\"119.07\"/>\n",
       "</g>\n",
       "<path style=\"fill:none;stroke-width:0.398;stroke-linecap:round;stroke-linejoin:round;stroke:rgb(0%,0%,0%);stroke-opacity:1;stroke-miterlimit:10;\" d=\"M 110.742188 -110.775344 L 110.742188 -40.599563 \" transform=\"matrix(1,0,0,-1,0,4.752)\"/>\n",
       "<path style=\"fill:none;stroke-width:0.398;stroke-linecap:round;stroke-linejoin:round;stroke:rgb(0%,0%,0%);stroke-opacity:1;stroke-miterlimit:10;\" d=\"M 109.523438 -111.853469 L 75.445312 -111.853469 \" transform=\"matrix(1,0,0,-1,0,4.752)\"/>\n",
       "<g style=\"fill:rgb(0%,0%,0%);fill-opacity:1;\">\n",
       "  <use xlink:href=\"#glyph1-1\" x=\"144.768\" y=\"119.07\"/>\n",
       "</g>\n",
       "<path style=\"fill:none;stroke-width:0.398;stroke-linecap:round;stroke-linejoin:round;stroke:rgb(0%,0%,0%);stroke-opacity:1;stroke-miterlimit:10;\" d=\"M 147.257812 -110.775344 L 147.257812 -4.083938 \" transform=\"matrix(1,0,0,-1,0,4.752)\"/>\n",
       "<path style=\"fill:none;stroke-width:0.398;stroke-linecap:round;stroke-linejoin:round;stroke:rgb(0%,0%,0%);stroke-opacity:1;stroke-miterlimit:10;\" d=\"M 146.039062 -111.853469 L 111.960938 -111.853469 \" transform=\"matrix(1,0,0,-1,0,4.752)\"/>\n",
       "<g clip-path=\"url(#clip7)\" clip-rule=\"nonzero\">\n",
       "<path style=\"fill:none;stroke-width:0.398;stroke-linecap:round;stroke-linejoin:round;stroke:rgb(0%,0%,0%);stroke-opacity:1;stroke-miterlimit:10;\" d=\"M 179.691406 -111.853469 L 148.476562 -111.853469 \" transform=\"matrix(1,0,0,-1,0,4.752)\"/>\n",
       "</g>\n",
       "</g>\n",
       "</svg>\n"
      ],
      "text/plain": [
       "<qutip.qip.circuit.QubitCircuit at 0x7f48dde56320>"
      ]
     },
     "execution_count": 9,
     "metadata": {},
     "output_type": "execute_result"
    }
   ],
   "source": [
    "## TOF \n",
    "# q = QubitCircuit(3, reverse_states=False)\n",
    "# q.add_gate(\"TOFFOLI\", controls=[0, 2], targets=[1])\n",
    "# q.png\n",
    "\n",
    "\n",
    "EPRC"
   ]
  },
  {
   "cell_type": "code",
   "execution_count": 10,
   "metadata": {
    "collapsed": false
   },
   "outputs": [
    {
     "data": {
      "image/png": "[encoded data removed]",
      "text/plain": [
       "<IPython.core.display.Image object>"
      ]
     },
     "execution_count": 10,
     "metadata": {},
     "output_type": "execute_result"
    }
   ],
   "source": [
    "q = QubitCircuit(3, reverse_states=False)\n",
    "q.add_gate(\"TOFFOLI\", controls=[0, 2], targets=[1])\n",
    "q.png"
   ]
  },
  {
   "cell_type": "code",
   "execution_count": 11,
   "metadata": {
    "collapsed": false
   },
   "outputs": [
    {
     "data": {
      "text/latex": [
       "Quantum object: dims = [[2, 2, 2], [2, 2, 2]], shape = [8, 8], type = oper, isherm = True\\begin{equation*}\\left(\\begin{array}{*{11}c}1.0 & 0.0 & 0.0 & 0.0 & 0.0 & 0.0 & 0.0 & 0.0\\\\0.0 & 1.0 & 0.0 & 0.0 & 0.0 & 0.0 & 0.0 & 0.0\\\\0.0 & 0.0 & 1.0 & 0.0 & 0.0 & 0.0 & 0.0 & 0.0\\\\0.0 & 0.0 & 0.0 & 1.0 & 0.0 & 0.0 & 0.0 & 0.0\\\\0.0 & 0.0 & 0.0 & 0.0 & 1.0 & 0.0 & 0.0 & 0.0\\\\0.0 & 0.0 & 0.0 & 0.0 & 0.0 & 0.0 & 0.0 & 1.0\\\\0.0 & 0.0 & 0.0 & 0.0 & 0.0 & 0.0 & 1.0 & 0.0\\\\0.0 & 0.0 & 0.0 & 0.0 & 0.0 & 1.0 & 0.0 & 0.0\\\\\\end{array}\\right)\\end{equation*}"
      ],
      "text/plain": [
       "Quantum object: dims = [[2, 2, 2], [2, 2, 2]], shape = [8, 8], type = oper, isherm = True\n",
       "Qobj data =\n",
       "[[ 1.  0.  0.  0.  0.  0.  0.  0.]\n",
       " [ 0.  1.  0.  0.  0.  0.  0.  0.]\n",
       " [ 0.  0.  1.  0.  0.  0.  0.  0.]\n",
       " [ 0.  0.  0.  1.  0.  0.  0.  0.]\n",
       " [ 0.  0.  0.  0.  1.  0.  0.  0.]\n",
       " [ 0.  0.  0.  0.  0.  0.  0.  1.]\n",
       " [ 0.  0.  0.  0.  0.  0.  1.  0.]\n",
       " [ 0.  0.  0.  0.  0.  1.  0.  0.]]"
      ]
     },
     "execution_count": 11,
     "metadata": {},
     "output_type": "execute_result"
    }
   ],
   "source": [
    "U = gate_sequence_product(q.propagators())\n",
    "U.tidyup()\n",
    "U"
   ]
  },
  {
   "cell_type": "code",
   "execution_count": 12,
   "metadata": {
    "collapsed": false
   },
   "outputs": [
    {
     "data": {
      "image/png": "[encoded data removed]",
      "image/svg+xml": [
       "<?xml version=\"1.0\" encoding=\"UTF-8\"?>\n",
       "<svg xmlns=\"http://www.w3.org/2000/svg\" xmlns:xlink=\"http://www.w3.org/1999/xlink\" width=\"1326pt\" height=\"105pt\" viewBox=\"0 0 1326 105\" version=\"1.1\">\n",
       "<defs>\n",
       "<g>\n",
       "<symbol overflow=\"visible\" id=\"glyph0-0\">\n",
       "<path style=\"stroke:none;\" d=\"\"/>\n",
       "</symbol>\n",
       "<symbol overflow=\"visible\" id=\"glyph0-1\">\n",
       "<path style=\"stroke:none;\" d=\"M 2.265625 -3.15625 L 3.953125 -3.15625 C 5.140625 -3.15625 6.21875 -3.953125 6.21875 -4.953125 C 6.21875 -5.9375 5.234375 -6.8125 3.875 -6.8125 L 0.34375 -6.8125 L 0.34375 -6.5 L 0.59375 -6.5 C 1.359375 -6.5 1.375 -6.390625 1.375 -6.03125 L 1.375 -0.78125 C 1.375 -0.421875 1.359375 -0.3125 0.59375 -0.3125 L 0.34375 -0.3125 L 0.34375 0 C 0.703125 -0.03125 1.4375 -0.03125 1.8125 -0.03125 C 2.1875 -0.03125 2.9375 -0.03125 3.296875 0 L 3.296875 -0.3125 L 3.046875 -0.3125 C 2.28125 -0.3125 2.265625 -0.421875 2.265625 -0.78125 Z M 2.234375 -3.40625 L 2.234375 -6.09375 C 2.234375 -6.4375 2.25 -6.5 2.71875 -6.5 L 3.609375 -6.5 C 5.1875 -6.5 5.1875 -5.4375 5.1875 -4.953125 C 5.1875 -4.484375 5.1875 -3.40625 3.609375 -3.40625 Z M 2.234375 -3.40625 \"/>\n",
       "</symbol>\n",
       "<symbol overflow=\"visible\" id=\"glyph0-2\">\n",
       "<path style=\"stroke:none;\" d=\"M 1.09375 -0.75 C 1.09375 -0.3125 0.984375 -0.3125 0.3125 -0.3125 L 0.3125 0 C 0.671875 -0.015625 1.171875 -0.03125 1.453125 -0.03125 C 1.703125 -0.03125 2.21875 -0.015625 2.5625 0 L 2.5625 -0.3125 C 1.890625 -0.3125 1.78125 -0.3125 1.78125 -0.75 L 1.78125 -2.59375 C 1.78125 -3.625 2.5 -4.1875 3.125 -4.1875 C 3.765625 -4.1875 3.875 -3.65625 3.875 -3.078125 L 3.875 -0.75 C 3.875 -0.3125 3.765625 -0.3125 3.09375 -0.3125 L 3.09375 0 C 3.4375 -0.015625 3.953125 -0.03125 4.21875 -0.03125 C 4.46875 -0.03125 5 -0.015625 5.328125 0 L 5.328125 -0.3125 C 4.8125 -0.3125 4.5625 -0.3125 4.5625 -0.609375 L 4.5625 -2.515625 C 4.5625 -3.375 4.5625 -3.671875 4.25 -4.03125 C 4.109375 -4.203125 3.78125 -4.40625 3.203125 -4.40625 C 2.359375 -4.40625 1.921875 -3.8125 1.75 -3.421875 L 1.75 -6.921875 L 0.3125 -6.8125 L 0.3125 -6.5 C 1.015625 -6.5 1.09375 -6.4375 1.09375 -5.9375 Z M 1.09375 -0.75 \"/>\n",
       "</symbol>\n",
       "<symbol overflow=\"visible\" id=\"glyph0-3\">\n",
       "<path style=\"stroke:none;\" d=\"M 3.296875 2.390625 C 3.296875 2.359375 3.296875 2.34375 3.125 2.171875 C 1.890625 0.921875 1.5625 -0.96875 1.5625 -2.5 C 1.5625 -4.234375 1.9375 -5.96875 3.171875 -7.203125 C 3.296875 -7.328125 3.296875 -7.34375 3.296875 -7.375 C 3.296875 -7.453125 3.265625 -7.484375 3.203125 -7.484375 C 3.09375 -7.484375 2.203125 -6.796875 1.609375 -5.53125 C 1.109375 -4.4375 0.984375 -3.328125 0.984375 -2.5 C 0.984375 -1.71875 1.09375 -0.515625 1.640625 0.625 C 2.25 1.84375 3.09375 2.5 3.203125 2.5 C 3.265625 2.5 3.296875 2.46875 3.296875 2.390625 Z M 3.296875 2.390625 \"/>\n",
       "</symbol>\n",
       "<symbol overflow=\"visible\" id=\"glyph0-4\">\n",
       "<path style=\"stroke:none;\" d=\"M 1.625 -4.5625 C 1.171875 -4.859375 1.125 -5.1875 1.125 -5.359375 C 1.125 -5.96875 1.78125 -6.390625 2.484375 -6.390625 C 3.203125 -6.390625 3.84375 -5.875 3.84375 -5.15625 C 3.84375 -4.578125 3.453125 -4.109375 2.859375 -3.765625 Z M 3.078125 -3.609375 C 3.796875 -3.984375 4.28125 -4.5 4.28125 -5.15625 C 4.28125 -6.078125 3.40625 -6.640625 2.5 -6.640625 C 1.5 -6.640625 0.6875 -5.90625 0.6875 -4.96875 C 0.6875 -4.796875 0.703125 -4.34375 1.125 -3.875 C 1.234375 -3.765625 1.609375 -3.515625 1.859375 -3.34375 C 1.28125 -3.046875 0.421875 -2.5 0.421875 -1.5 C 0.421875 -0.453125 1.4375 0.21875 2.484375 0.21875 C 3.609375 0.21875 4.5625 -0.609375 4.5625 -1.671875 C 4.5625 -2.03125 4.453125 -2.484375 4.0625 -2.90625 C 3.875 -3.109375 3.71875 -3.203125 3.078125 -3.609375 Z M 2.078125 -3.1875 L 3.3125 -2.40625 C 3.59375 -2.21875 4.0625 -1.921875 4.0625 -1.3125 C 4.0625 -0.578125 3.3125 -0.0625 2.5 -0.0625 C 1.640625 -0.0625 0.921875 -0.671875 0.921875 -1.5 C 0.921875 -2.078125 1.234375 -2.71875 2.078125 -3.1875 Z M 2.078125 -3.1875 \"/>\n",
       "</symbol>\n",
       "<symbol overflow=\"visible\" id=\"glyph0-5\">\n",
       "<path style=\"stroke:none;\" d=\"M 2.875 -2.5 C 2.875 -3.265625 2.765625 -4.46875 2.21875 -5.609375 C 1.625 -6.828125 0.765625 -7.484375 0.671875 -7.484375 C 0.609375 -7.484375 0.5625 -7.4375 0.5625 -7.375 C 0.5625 -7.34375 0.5625 -7.328125 0.75 -7.140625 C 1.734375 -6.15625 2.296875 -4.578125 2.296875 -2.5 C 2.296875 -0.78125 1.9375 0.96875 0.703125 2.21875 C 0.5625 2.34375 0.5625 2.359375 0.5625 2.390625 C 0.5625 2.453125 0.609375 2.5 0.671875 2.5 C 0.765625 2.5 1.671875 1.8125 2.25 0.546875 C 2.765625 -0.546875 2.875 -1.65625 2.875 -2.5 Z M 2.875 -2.5 \"/>\n",
       "</symbol>\n",
       "<symbol overflow=\"visible\" id=\"glyph0-6\">\n",
       "<path style=\"stroke:none;\" d=\"M 2.9375 -1.640625 L 2.9375 -0.78125 C 2.9375 -0.421875 2.90625 -0.3125 2.171875 -0.3125 L 1.96875 -0.3125 L 1.96875 0 C 2.375 -0.03125 2.890625 -0.03125 3.3125 -0.03125 C 3.734375 -0.03125 4.25 -0.03125 4.671875 0 L 4.671875 -0.3125 L 4.453125 -0.3125 C 3.71875 -0.3125 3.703125 -0.421875 3.703125 -0.78125 L 3.703125 -1.640625 L 4.6875 -1.640625 L 4.6875 -1.953125 L 3.703125 -1.953125 L 3.703125 -6.484375 C 3.703125 -6.6875 3.703125 -6.75 3.53125 -6.75 C 3.453125 -6.75 3.421875 -6.75 3.34375 -6.625 L 0.28125 -1.953125 L 0.28125 -1.640625 Z M 2.984375 -1.953125 L 0.5625 -1.953125 L 2.984375 -5.671875 Z M 2.984375 -1.953125 \"/>\n",
       "</symbol>\n",
       "<symbol overflow=\"visible\" id=\"glyph0-7\">\n",
       "<path style=\"stroke:none;\" d=\"M 1.265625 -0.765625 L 2.328125 -1.796875 C 3.875 -3.171875 4.46875 -3.703125 4.46875 -4.703125 C 4.46875 -5.84375 3.578125 -6.640625 2.359375 -6.640625 C 1.234375 -6.640625 0.5 -5.71875 0.5 -4.828125 C 0.5 -4.28125 1 -4.28125 1.03125 -4.28125 C 1.203125 -4.28125 1.546875 -4.390625 1.546875 -4.8125 C 1.546875 -5.0625 1.359375 -5.328125 1.015625 -5.328125 C 0.9375 -5.328125 0.921875 -5.328125 0.890625 -5.3125 C 1.109375 -5.96875 1.65625 -6.328125 2.234375 -6.328125 C 3.140625 -6.328125 3.5625 -5.515625 3.5625 -4.703125 C 3.5625 -3.90625 3.078125 -3.125 2.515625 -2.5 L 0.609375 -0.375 C 0.5 -0.265625 0.5 -0.234375 0.5 0 L 4.203125 0 L 4.46875 -1.734375 L 4.234375 -1.734375 C 4.171875 -1.4375 4.109375 -1 4 -0.84375 C 3.9375 -0.765625 3.28125 -0.765625 3.0625 -0.765625 Z M 1.265625 -0.765625 \"/>\n",
       "</symbol>\n",
       "<symbol overflow=\"visible\" id=\"glyph1-0\">\n",
       "<path style=\"stroke:none;\" d=\"\"/>\n",
       "</symbol>\n",
       "<symbol overflow=\"visible\" id=\"glyph1-1\">\n",
       "<path style=\"stroke:none;\" d=\"M 2.640625 -3.71875 L 3.765625 -3.71875 C 3.4375 -2.25 3.34375 -1.8125 3.34375 -1.140625 C 3.34375 -1 3.34375 -0.734375 3.421875 -0.390625 C 3.53125 0.046875 3.640625 0.109375 3.78125 0.109375 C 3.984375 0.109375 4.203125 -0.0625 4.203125 -0.265625 C 4.203125 -0.328125 4.203125 -0.34375 4.140625 -0.484375 C 3.84375 -1.203125 3.84375 -1.859375 3.84375 -2.140625 C 3.84375 -2.65625 3.921875 -3.203125 4.03125 -3.71875 L 5.15625 -3.71875 C 5.296875 -3.71875 5.65625 -3.71875 5.65625 -4.0625 C 5.65625 -4.296875 5.4375 -4.296875 5.25 -4.296875 L 1.90625 -4.296875 C 1.6875 -4.296875 1.3125 -4.296875 0.875 -3.828125 C 0.53125 -3.4375 0.265625 -2.984375 0.265625 -2.9375 C 0.265625 -2.921875 0.265625 -2.828125 0.390625 -2.828125 C 0.46875 -2.828125 0.484375 -2.875 0.546875 -2.953125 C 1.03125 -3.71875 1.609375 -3.71875 1.8125 -3.71875 L 2.375 -3.71875 C 2.0625 -2.515625 1.53125 -1.3125 1.109375 -0.40625 C 1.03125 -0.25 1.03125 -0.234375 1.03125 -0.15625 C 1.03125 0.03125 1.1875 0.109375 1.3125 0.109375 C 1.609375 0.109375 1.6875 -0.171875 1.8125 -0.53125 C 1.953125 -1 1.953125 -1.015625 2.078125 -1.515625 Z M 2.640625 -3.71875 \"/>\n",
       "</symbol>\n",
       "<symbol overflow=\"visible\" id=\"glyph1-2\">\n",
       "<path style=\"stroke:none;\" d=\"M 4.375 -7.09375 C 4.421875 -7.234375 4.421875 -7.265625 4.421875 -7.28125 C 4.421875 -7.390625 4.34375 -7.484375 4.234375 -7.484375 C 4.15625 -7.484375 4.09375 -7.453125 4.0625 -7.390625 L 0.59375 2.109375 C 0.546875 2.25 0.546875 2.28125 0.546875 2.296875 C 0.546875 2.40625 0.640625 2.5 0.75 2.5 C 0.875 2.5 0.90625 2.421875 0.96875 2.25 Z M 4.375 -7.09375 \"/>\n",
       "</symbol>\n",
       "<symbol overflow=\"visible\" id=\"glyph1-3\">\n",
       "<path style=\"stroke:none;\" d=\"M 3.734375 -6.125 C 3.796875 -6.359375 3.828125 -6.453125 4.015625 -6.484375 C 4.109375 -6.5 4.421875 -6.5 4.625 -6.5 C 5.328125 -6.5 6.4375 -6.5 6.4375 -5.515625 C 6.4375 -5.171875 6.28125 -4.484375 5.890625 -4.09375 C 5.625 -3.84375 5.109375 -3.515625 4.203125 -3.515625 L 3.09375 -3.515625 Z M 5.171875 -3.390625 C 6.1875 -3.609375 7.359375 -4.3125 7.359375 -5.3125 C 7.359375 -6.171875 6.46875 -6.8125 5.15625 -6.8125 L 2.328125 -6.8125 C 2.125 -6.8125 2.03125 -6.8125 2.03125 -6.609375 C 2.03125 -6.5 2.125 -6.5 2.3125 -6.5 C 2.328125 -6.5 2.515625 -6.5 2.6875 -6.484375 C 2.875 -6.453125 2.953125 -6.453125 2.953125 -6.3125 C 2.953125 -6.28125 2.953125 -6.25 2.921875 -6.125 L 1.578125 -0.78125 C 1.484375 -0.390625 1.46875 -0.3125 0.671875 -0.3125 C 0.5 -0.3125 0.40625 -0.3125 0.40625 -0.109375 C 0.40625 0 0.53125 0 0.546875 0 C 0.828125 0 1.53125 -0.03125 1.796875 -0.03125 C 2.078125 -0.03125 2.796875 0 3.078125 0 C 3.15625 0 3.265625 0 3.265625 -0.203125 C 3.265625 -0.3125 3.1875 -0.3125 2.984375 -0.3125 C 2.625 -0.3125 2.34375 -0.3125 2.34375 -0.484375 C 2.34375 -0.546875 2.359375 -0.59375 2.375 -0.65625 L 3.03125 -3.296875 L 4.21875 -3.296875 C 5.125 -3.296875 5.296875 -2.734375 5.296875 -2.390625 C 5.296875 -2.25 5.21875 -1.9375 5.15625 -1.703125 C 5.09375 -1.421875 5 -1.0625 5 -0.859375 C 5 0.21875 6.203125 0.21875 6.328125 0.21875 C 7.171875 0.21875 7.53125 -0.78125 7.53125 -0.921875 C 7.53125 -1.046875 7.421875 -1.046875 7.40625 -1.046875 C 7.3125 -1.046875 7.296875 -0.984375 7.28125 -0.90625 C 7.03125 -0.171875 6.59375 0 6.375 0 C 6.046875 0 5.96875 -0.21875 5.96875 -0.609375 C 5.96875 -0.921875 6.03125 -1.421875 6.078125 -1.75 C 6.09375 -1.890625 6.109375 -2.078125 6.109375 -2.21875 C 6.109375 -2.984375 5.4375 -3.296875 5.171875 -3.390625 Z M 5.171875 -3.390625 \"/>\n",
       "</symbol>\n",
       "<symbol overflow=\"visible\" id=\"glyph2-0\">\n",
       "<path style=\"stroke:none;\" d=\"\"/>\n",
       "</symbol>\n",
       "<symbol overflow=\"visible\" id=\"glyph2-1\">\n",
       "<path style=\"stroke:none;\" d=\"M 1.171875 -0.609375 C 1.359375 -0.796875 1.484375 -0.921875 2.0625 -1.40625 C 2.21875 -1.515625 2.734375 -1.9375 2.9375 -2.125 C 3.359375 -2.546875 3.625 -2.90625 3.625 -2.984375 C 3.625 -3.078125 3.546875 -3.078125 3.515625 -3.078125 C 3.453125 -3.078125 3.421875 -3.0625 3.390625 -3 C 3.171875 -2.6875 3.03125 -2.578125 2.859375 -2.578125 C 2.78125 -2.578125 2.671875 -2.578125 2.46875 -2.78125 C 2.234375 -3.03125 2.078125 -3.078125 1.921875 -3.078125 C 1.359375 -3.078125 0.984375 -2.46875 0.984375 -2.265625 C 0.984375 -2.1875 1.046875 -2.171875 1.09375 -2.171875 C 1.1875 -2.171875 1.203125 -2.1875 1.21875 -2.265625 C 1.328125 -2.515625 1.71875 -2.53125 1.828125 -2.53125 C 2 -2.53125 2.171875 -2.484375 2.265625 -2.46875 C 2.65625 -2.390625 2.703125 -2.390625 2.875 -2.390625 C 2.703125 -2.1875 2.578125 -2.0625 1.90625 -1.546875 C 1.359375 -1.109375 1.171875 -0.9375 1.046875 -0.796875 C 0.625 -0.390625 0.421875 -0.078125 0.421875 -0.015625 C 0.421875 0.0625 0.515625 0.0625 0.546875 0.0625 C 0.609375 0.0625 0.625 0.0625 0.65625 0 C 0.84375 -0.265625 1.0625 -0.421875 1.296875 -0.421875 C 1.390625 -0.421875 1.484375 -0.421875 1.671875 -0.25 C 1.890625 -0.03125 2.03125 0.0625 2.265625 0.0625 C 3 0.0625 3.46875 -0.78125 3.46875 -1.015625 C 3.46875 -1.09375 3.390625 -1.09375 3.359375 -1.09375 C 3.265625 -1.09375 3.25 -1.0625 3.21875 -0.984375 C 3.09375 -0.640625 2.6875 -0.46875 2.34375 -0.46875 C 2.1875 -0.46875 2 -0.515625 1.828125 -0.546875 C 1.515625 -0.625 1.453125 -0.625 1.328125 -0.625 C 1.3125 -0.625 1.21875 -0.625 1.171875 -0.609375 Z M 1.171875 -0.609375 \"/>\n",
       "</symbol>\n",
       "<symbol overflow=\"visible\" id=\"glyph2-2\">\n",
       "<path style=\"stroke:none;\" d=\"M 3.875 -2.625 C 3.90625 -2.71875 3.90625 -2.734375 3.90625 -2.78125 C 3.90625 -2.921875 3.796875 -3 3.671875 -3 C 3.59375 -3 3.46875 -2.96875 3.390625 -2.84375 C 3.359375 -2.796875 3.3125 -2.578125 3.28125 -2.4375 L 3.125 -1.859375 C 3.09375 -1.6875 2.875 -0.8125 2.84375 -0.734375 C 2.84375 -0.734375 2.53125 -0.125 2 -0.125 C 1.515625 -0.125 1.515625 -0.578125 1.515625 -0.703125 C 1.515625 -1.078125 1.671875 -1.515625 1.890625 -2.0625 C 1.96875 -2.28125 2 -2.359375 2 -2.484375 C 2 -2.8125 1.71875 -3.078125 1.34375 -3.078125 C 0.640625 -3.078125 0.328125 -2.125 0.328125 -2 C 0.328125 -1.921875 0.421875 -1.921875 0.453125 -1.921875 C 0.546875 -1.921875 0.546875 -1.953125 0.578125 -2.03125 C 0.75 -2.609375 1.046875 -2.875 1.328125 -2.875 C 1.4375 -2.875 1.5 -2.796875 1.5 -2.640625 C 1.5 -2.46875 1.4375 -2.328125 1.40625 -2.234375 C 1.0625 -1.375 1 -1.125 1 -0.8125 C 1 -0.703125 1 -0.375 1.265625 -0.140625 C 1.484375 0.03125 1.78125 0.0625 1.96875 0.0625 C 2.25 0.0625 2.5 -0.03125 2.71875 -0.25 C 2.640625 0.140625 2.5625 0.4375 2.265625 0.78125 C 2.078125 1 1.796875 1.21875 1.421875 1.21875 C 1.375 1.21875 1.046875 1.21875 0.90625 1 C 1.28125 0.953125 1.28125 0.625 1.28125 0.609375 C 1.28125 0.390625 1.078125 0.34375 1.015625 0.34375 C 0.84375 0.34375 0.609375 0.484375 0.609375 0.8125 C 0.609375 1.15625 0.9375 1.421875 1.4375 1.421875 C 2.140625 1.421875 3 0.875 3.21875 0 Z M 3.875 -2.625 \"/>\n",
       "</symbol>\n",
       "<symbol overflow=\"visible\" id=\"glyph2-3\">\n",
       "<path style=\"stroke:none;\" d=\"M 1.734375 -0.734375 C 1.671875 -0.5 1.4375 -0.125 1.078125 -0.125 C 1.0625 -0.125 0.84375 -0.125 0.703125 -0.21875 C 0.984375 -0.3125 1.015625 -0.5625 1.015625 -0.609375 C 1.015625 -0.765625 0.890625 -0.859375 0.734375 -0.859375 C 0.53125 -0.859375 0.328125 -0.703125 0.328125 -0.4375 C 0.328125 -0.09375 0.71875 0.0625 1.0625 0.0625 C 1.390625 0.0625 1.671875 -0.125 1.84375 -0.421875 C 2.015625 -0.0625 2.390625 0.0625 2.671875 0.0625 C 3.484375 0.0625 3.90625 -0.796875 3.90625 -1 C 3.90625 -1.09375 3.8125 -1.09375 3.796875 -1.09375 C 3.6875 -1.09375 3.6875 -1.046875 3.65625 -0.96875 C 3.515625 -0.484375 3.09375 -0.125 2.703125 -0.125 C 2.421875 -0.125 2.28125 -0.3125 2.28125 -0.578125 C 2.28125 -0.765625 2.453125 -1.390625 2.640625 -2.171875 C 2.78125 -2.703125 3.09375 -2.875 3.328125 -2.875 C 3.34375 -2.875 3.546875 -2.875 3.703125 -2.78125 C 3.484375 -2.71875 3.390625 -2.515625 3.390625 -2.390625 C 3.390625 -2.25 3.515625 -2.140625 3.671875 -2.140625 C 3.828125 -2.140625 4.0625 -2.265625 4.0625 -2.5625 C 4.0625 -2.953125 3.609375 -3.078125 3.34375 -3.078125 C 2.984375 -3.078125 2.703125 -2.84375 2.5625 -2.578125 C 2.4375 -2.859375 2.109375 -3.078125 1.71875 -3.078125 C 0.9375 -3.078125 0.5 -2.21875 0.5 -2 C 0.5 -1.921875 0.59375 -1.921875 0.609375 -1.921875 C 0.703125 -1.921875 0.703125 -1.9375 0.75 -2.03125 C 0.921875 -2.578125 1.359375 -2.875 1.703125 -2.875 C 1.9375 -2.875 2.125 -2.75 2.125 -2.421875 C 2.125 -2.28125 2.03125 -1.9375 1.96875 -1.6875 Z M 1.734375 -0.734375 \"/>\n",
       "</symbol>\n",
       "<symbol overflow=\"visible\" id=\"glyph3-0\">\n",
       "<path style=\"stroke:none;\" d=\"\"/>\n",
       "</symbol>\n",
       "<symbol overflow=\"visible\" id=\"glyph3-1\">\n",
       "<path style=\"stroke:none;\" d=\"M 4.421875 -2.5 C 4.421875 -3.5625 3.53125 -4.421875 2.5 -4.421875 C 1.421875 -4.421875 0.546875 -3.53125 0.546875 -2.5 C 0.546875 -1.4375 1.421875 -0.5625 2.5 -0.5625 C 3.53125 -0.5625 4.421875 -1.421875 4.421875 -2.5 Z M 4.421875 -2.5 \"/>\n",
       "</symbol>\n",
       "<symbol overflow=\"visible\" id=\"glyph3-2\">\n",
       "<path style=\"stroke:none;\" d=\"M 6.5625 -2.296875 C 6.734375 -2.296875 6.921875 -2.296875 6.921875 -2.5 C 6.921875 -2.6875 6.734375 -2.6875 6.5625 -2.6875 L 1.171875 -2.6875 C 1 -2.6875 0.828125 -2.6875 0.828125 -2.5 C 0.828125 -2.296875 1 -2.296875 1.171875 -2.296875 Z M 6.5625 -2.296875 \"/>\n",
       "</symbol>\n",
       "</g>\n",
       "<clipPath id=\"clip1\">\n",
       "  <path d=\"M 172 0.128906 L 216 0.128906 L 216 1 L 172 1 Z M 172 0.128906 \"/>\n",
       "</clipPath>\n",
       "<clipPath id=\"clip2\">\n",
       "  <path d=\"M 172 0.128906 L 174 0.128906 L 174 17 L 172 17 Z M 172 0.128906 \"/>\n",
       "</clipPath>\n",
       "<clipPath id=\"clip3\">\n",
       "  <path d=\"M 214 0.128906 L 216 0.128906 L 216 17 L 214 17 Z M 214 0.128906 \"/>\n",
       "</clipPath>\n",
       "<clipPath id=\"clip4\">\n",
       "  <path d=\"M 1280 7 L 1325.597656 7 L 1325.597656 9 L 1280 9 Z M 1280 7 \"/>\n",
       "</clipPath>\n",
       "<clipPath id=\"clip5\">\n",
       "  <path d=\"M 1297 52 L 1325.597656 52 L 1325.597656 53 L 1297 53 Z M 1297 52 \"/>\n",
       "</clipPath>\n",
       "<clipPath id=\"clip6\">\n",
       "  <path d=\"M 1280 96 L 1325.597656 96 L 1325.597656 98 L 1280 98 Z M 1280 96 \"/>\n",
       "</clipPath>\n",
       "</defs>\n",
       "<g id=\"surface1\">\n",
       "<g style=\"fill:rgb(0%,0%,0%);fill-opacity:1;\">\n",
       "  <use xlink:href=\"#glyph0-1\" x=\"33.328\" y=\"55.054\"/>\n",
       "  <use xlink:href=\"#glyph0-2\" x=\"40.108546\" y=\"55.054\"/>\n",
       "  <use xlink:href=\"#glyph0-3\" x=\"45.643766\" y=\"55.054\"/>\n",
       "</g>\n",
       "<g style=\"fill:rgb(0%,0%,0%);fill-opacity:1;\">\n",
       "  <use xlink:href=\"#glyph1-1\" x=\"49.517\" y=\"55.054\"/>\n",
       "</g>\n",
       "<g style=\"fill:rgb(0%,0%,0%);fill-opacity:1;\">\n",
       "  <use xlink:href=\"#glyph1-2\" x=\"55.554336\" y=\"55.054\"/>\n",
       "</g>\n",
       "<g style=\"fill:rgb(0%,0%,0%);fill-opacity:1;\">\n",
       "  <use xlink:href=\"#glyph0-4\" x=\"60.535\" y=\"55.054\"/>\n",
       "  <use xlink:href=\"#glyph0-5\" x=\"65.5163\" y=\"55.054\"/>\n",
       "</g>\n",
       "<path style=\"fill:none;stroke-width:0.398;stroke-linecap:round;stroke-linejoin:round;stroke:rgb(0%,0%,0%);stroke-opacity:1;stroke-miterlimit:10;\" d=\"M 74.371094 4.483719 L 28.347656 4.483719 \" transform=\"matrix(1,0,0,-1,0,8.097)\"/>\n",
       "<path style=\"fill:none;stroke-width:0.398;stroke-linecap:round;stroke-linejoin:round;stroke:rgb(0%,0%,0%);stroke-opacity:1;stroke-miterlimit:10;\" d=\"M 28.347656 4.483719 L 28.347656 -93.414719 \" transform=\"matrix(1,0,0,-1,0,8.097)\"/>\n",
       "<path style=\"fill:none;stroke-width:0.398;stroke-linecap:round;stroke-linejoin:round;stroke:rgb(0%,0%,0%);stroke-opacity:1;stroke-miterlimit:10;\" d=\"M 28.347656 -93.414719 L 74.371094 -93.414719 \" transform=\"matrix(1,0,0,-1,0,8.097)\"/>\n",
       "<path style=\"fill:none;stroke-width:0.398;stroke-linecap:round;stroke-linejoin:round;stroke:rgb(0%,0%,0%);stroke-opacity:1;stroke-miterlimit:10;\" d=\"M 74.371094 -93.414719 L 74.371094 4.483719 \" transform=\"matrix(1,0,0,-1,0,8.097)\"/>\n",
       "<path style=\"fill:none;stroke-width:0.398;stroke-linecap:round;stroke-linejoin:round;stroke:rgb(0%,0%,0%);stroke-opacity:1;stroke-miterlimit:10;\" d=\"M 28.347656 -0.00065625 L 0 -0.00065625 \" transform=\"matrix(1,0,0,-1,0,8.097)\"/>\n",
       "<path style=\"fill:none;stroke-width:0.398;stroke-linecap:round;stroke-linejoin:round;stroke:rgb(0%,0%,0%);stroke-opacity:1;stroke-miterlimit:10;\" d=\"M 123.660156 -0.00065625 L 74.371094 -0.00065625 \" transform=\"matrix(1,0,0,-1,0,8.097)\"/>\n",
       "<g style=\"fill:rgb(0%,0%,0%);fill-opacity:1;\">\n",
       "  <use xlink:href=\"#glyph1-3\" x=\"175.934\" y=\"10.587\"/>\n",
       "</g>\n",
       "<g style=\"fill:rgb(0%,0%,0%);fill-opacity:1;\">\n",
       "  <use xlink:href=\"#glyph2-1\" x=\"183.499\" y=\"12.082\"/>\n",
       "</g>\n",
       "<g style=\"fill:rgb(0%,0%,0%);fill-opacity:1;\">\n",
       "  <use xlink:href=\"#glyph0-3\" x=\"188.089\" y=\"10.587\"/>\n",
       "</g>\n",
       "<g style=\"fill:rgb(0%,0%,0%);fill-opacity:1;\">\n",
       "  <use xlink:href=\"#glyph1-1\" x=\"191.963\" y=\"10.587\"/>\n",
       "</g>\n",
       "<g style=\"fill:rgb(0%,0%,0%);fill-opacity:1;\">\n",
       "  <use xlink:href=\"#glyph1-2\" x=\"198.000336\" y=\"10.587\"/>\n",
       "</g>\n",
       "<g style=\"fill:rgb(0%,0%,0%);fill-opacity:1;\">\n",
       "  <use xlink:href=\"#glyph0-6\" x=\"202.981\" y=\"10.587\"/>\n",
       "  <use xlink:href=\"#glyph0-5\" x=\"207.9623\" y=\"10.587\"/>\n",
       "</g>\n",
       "<g clip-path=\"url(#clip1)\" clip-rule=\"nonzero\">\n",
       "<path style=\"fill:none;stroke-width:0.398;stroke-linecap:round;stroke-linejoin:round;stroke:rgb(0%,0%,0%);stroke-opacity:1;stroke-miterlimit:10;\" d=\"M 214.824219 7.968094 L 172.945312 7.968094 \" transform=\"matrix(1,0,0,-1,0,8.097)\"/>\n",
       "</g>\n",
       "<g clip-path=\"url(#clip2)\" clip-rule=\"nonzero\">\n",
       "<path style=\"fill:none;stroke-width:0.398;stroke-linecap:round;stroke-linejoin:round;stroke:rgb(0%,0%,0%);stroke-opacity:1;stroke-miterlimit:10;\" d=\"M 172.945312 7.968094 L 172.945312 -7.969406 \" transform=\"matrix(1,0,0,-1,0,8.097)\"/>\n",
       "</g>\n",
       "<path style=\"fill:none;stroke-width:0.398;stroke-linecap:round;stroke-linejoin:round;stroke:rgb(0%,0%,0%);stroke-opacity:1;stroke-miterlimit:10;\" d=\"M 172.945312 -7.969406 L 214.824219 -7.969406 \" transform=\"matrix(1,0,0,-1,0,8.097)\"/>\n",
       "<g clip-path=\"url(#clip3)\" clip-rule=\"nonzero\">\n",
       "<path style=\"fill:none;stroke-width:0.398;stroke-linecap:round;stroke-linejoin:round;stroke:rgb(0%,0%,0%);stroke-opacity:1;stroke-miterlimit:10;\" d=\"M 214.824219 -7.969406 L 214.824219 7.968094 \" transform=\"matrix(1,0,0,-1,0,8.097)\"/>\n",
       "</g>\n",
       "<path style=\"fill:none;stroke-width:0.398;stroke-linecap:round;stroke-linejoin:round;stroke:rgb(0%,0%,0%);stroke-opacity:1;stroke-miterlimit:10;\" d=\"M 172.945312 -0.00065625 L 123.660156 -0.00065625 \" transform=\"matrix(1,0,0,-1,0,8.097)\"/>\n",
       "<g style=\"fill:rgb(0%,0%,0%);fill-opacity:1;\">\n",
       "  <use xlink:href=\"#glyph3-1\" x=\"244.766\" y=\"10.56\"/>\n",
       "</g>\n",
       "<path style=\"fill:none;stroke-width:0.398;stroke-linecap:round;stroke-linejoin:round;stroke:rgb(0%,0%,0%);stroke-opacity:1;stroke-miterlimit:10;\" d=\"M 247.257812 -1.356125 L 247.257812 -84.848313 \" transform=\"matrix(1,0,0,-1,0,8.097)\"/>\n",
       "<path style=\"fill:none;stroke-width:0.398;stroke-linecap:round;stroke-linejoin:round;stroke:rgb(0%,0%,0%);stroke-opacity:1;stroke-miterlimit:10;\" d=\"M 246.039062 -0.00065625 L 214.824219 -0.00065625 \" transform=\"matrix(1,0,0,-1,0,8.097)\"/>\n",
       "<path style=\"fill:none;stroke-width:0.398;stroke-linecap:round;stroke-linejoin:round;stroke:rgb(0%,0%,0%);stroke-opacity:1;stroke-miterlimit:10;\" d=\"M 304.503906 -0.00065625 L 248.472656 -0.00065625 \" transform=\"matrix(1,0,0,-1,0,8.097)\"/>\n",
       "<g style=\"fill:rgb(0%,0%,0%);fill-opacity:1;\">\n",
       "  <use xlink:href=\"#glyph3-1\" x=\"359.257\" y=\"10.56\"/>\n",
       "</g>\n",
       "<path style=\"fill:none;stroke-width:0.398;stroke-linecap:round;stroke-linejoin:round;stroke:rgb(0%,0%,0%);stroke-opacity:1;stroke-miterlimit:10;\" d=\"M 361.746094 -1.356125 L 361.746094 -84.848313 \" transform=\"matrix(1,0,0,-1,0,8.097)\"/>\n",
       "<path style=\"fill:none;stroke-width:0.398;stroke-linecap:round;stroke-linejoin:round;stroke:rgb(0%,0%,0%);stroke-opacity:1;stroke-miterlimit:10;\" d=\"M 360.53125 -0.00065625 L 304.503906 -0.00065625 \" transform=\"matrix(1,0,0,-1,0,8.097)\"/>\n",
       "<g style=\"fill:rgb(0%,0%,0%);fill-opacity:1;\">\n",
       "  <use xlink:href=\"#glyph0-1\" x=\"399.161\" y=\"55.054\"/>\n",
       "  <use xlink:href=\"#glyph0-2\" x=\"405.941546\" y=\"55.054\"/>\n",
       "  <use xlink:href=\"#glyph0-3\" x=\"411.476766\" y=\"55.054\"/>\n",
       "</g>\n",
       "<g style=\"fill:rgb(0%,0%,0%);fill-opacity:1;\">\n",
       "  <use xlink:href=\"#glyph1-1\" x=\"415.35\" y=\"55.054\"/>\n",
       "</g>\n",
       "<g style=\"fill:rgb(0%,0%,0%);fill-opacity:1;\">\n",
       "  <use xlink:href=\"#glyph1-2\" x=\"421.387336\" y=\"55.054\"/>\n",
       "</g>\n",
       "<g style=\"fill:rgb(0%,0%,0%);fill-opacity:1;\">\n",
       "  <use xlink:href=\"#glyph0-7\" x=\"426.368\" y=\"55.054\"/>\n",
       "  <use xlink:href=\"#glyph0-5\" x=\"431.3493\" y=\"55.054\"/>\n",
       "</g>\n",
       "<path style=\"fill:none;stroke-width:0.398;stroke-linecap:round;stroke-linejoin:round;stroke:rgb(0%,0%,0%);stroke-opacity:1;stroke-miterlimit:10;\" d=\"M 440.203125 4.483719 L 394.179688 4.483719 \" transform=\"matrix(1,0,0,-1,0,8.097)\"/>\n",
       "<path style=\"fill:none;stroke-width:0.398;stroke-linecap:round;stroke-linejoin:round;stroke:rgb(0%,0%,0%);stroke-opacity:1;stroke-miterlimit:10;\" d=\"M 394.179688 4.483719 L 394.179688 -93.414719 \" transform=\"matrix(1,0,0,-1,0,8.097)\"/>\n",
       "<path style=\"fill:none;stroke-width:0.398;stroke-linecap:round;stroke-linejoin:round;stroke:rgb(0%,0%,0%);stroke-opacity:1;stroke-miterlimit:10;\" d=\"M 394.179688 -93.414719 L 440.203125 -93.414719 \" transform=\"matrix(1,0,0,-1,0,8.097)\"/>\n",
       "<path style=\"fill:none;stroke-width:0.398;stroke-linecap:round;stroke-linejoin:round;stroke:rgb(0%,0%,0%);stroke-opacity:1;stroke-miterlimit:10;\" d=\"M 440.203125 -93.414719 L 440.203125 4.483719 \" transform=\"matrix(1,0,0,-1,0,8.097)\"/>\n",
       "<path style=\"fill:none;stroke-width:0.398;stroke-linecap:round;stroke-linejoin:round;stroke:rgb(0%,0%,0%);stroke-opacity:1;stroke-miterlimit:10;\" d=\"M 394.179688 -0.00065625 L 362.964844 -0.00065625 \" transform=\"matrix(1,0,0,-1,0,8.097)\"/>\n",
       "<path style=\"fill:none;stroke-width:0.398;stroke-linecap:round;stroke-linejoin:round;stroke:rgb(0%,0%,0%);stroke-opacity:1;stroke-miterlimit:10;\" d=\"M 489.589844 -0.00065625 L 440.203125 -0.00065625 \" transform=\"matrix(1,0,0,-1,0,8.097)\"/>\n",
       "<path style=\"fill:none;stroke-width:0.398;stroke-linecap:round;stroke-linejoin:round;stroke:rgb(0%,0%,0%);stroke-opacity:1;stroke-miterlimit:10;\" d=\"M 555.148438 -0.00065625 L 489.589844 -0.00065625 \" transform=\"matrix(1,0,0,-1,0,8.097)\"/>\n",
       "<path style=\"fill:none;stroke-width:0.398;stroke-linecap:round;stroke-linejoin:round;stroke:rgb(0%,0%,0%);stroke-opacity:1;stroke-miterlimit:10;\" d=\"M 624.480469 -0.00065625 L 555.148438 -0.00065625 \" transform=\"matrix(1,0,0,-1,0,8.097)\"/>\n",
       "<path style=\"fill:none;stroke-width:0.398;stroke-linecap:round;stroke-linejoin:round;stroke:rgb(0%,0%,0%);stroke-opacity:1;stroke-miterlimit:10;\" d=\"M 698.582031 -0.00065625 L 624.480469 -0.00065625 \" transform=\"matrix(1,0,0,-1,0,8.097)\"/>\n",
       "<g style=\"fill:rgb(0%,0%,0%);fill-opacity:1;\">\n",
       "  <use xlink:href=\"#glyph3-1\" x=\"749.463\" y=\"10.56\"/>\n",
       "</g>\n",
       "<path style=\"fill:none;stroke-width:0.398;stroke-linecap:round;stroke-linejoin:round;stroke:rgb(0%,0%,0%);stroke-opacity:1;stroke-miterlimit:10;\" d=\"M 751.953125 -1.356125 L 751.953125 -40.383469 \" transform=\"matrix(1,0,0,-1,0,8.097)\"/>\n",
       "<path style=\"fill:none;stroke-width:0.398;stroke-linecap:round;stroke-linejoin:round;stroke:rgb(0%,0%,0%);stroke-opacity:1;stroke-miterlimit:10;\" d=\"M 750.734375 -0.00065625 L 698.582031 -0.00065625 \" transform=\"matrix(1,0,0,-1,0,8.097)\"/>\n",
       "<path style=\"fill:none;stroke-width:0.398;stroke-linecap:round;stroke-linejoin:round;stroke:rgb(0%,0%,0%);stroke-opacity:1;stroke-miterlimit:10;\" d=\"M 809.199219 -0.00065625 L 753.171875 -0.00065625 \" transform=\"matrix(1,0,0,-1,0,8.097)\"/>\n",
       "<path style=\"fill:none;stroke-width:0.398;stroke-linecap:round;stroke-linejoin:round;stroke:rgb(0%,0%,0%);stroke-opacity:1;stroke-miterlimit:10;\" d=\"M 866.445312 -0.00065625 L 809.199219 -0.00065625 \" transform=\"matrix(1,0,0,-1,0,8.097)\"/>\n",
       "<path style=\"fill:none;stroke-width:0.398;stroke-linecap:round;stroke-linejoin:round;stroke:rgb(0%,0%,0%);stroke-opacity:1;stroke-miterlimit:10;\" d=\"M 919.816406 -0.00065625 L 866.445312 -0.00065625 \" transform=\"matrix(1,0,0,-1,0,8.097)\"/>\n",
       "<g style=\"fill:rgb(0%,0%,0%);fill-opacity:1;\">\n",
       "  <use xlink:href=\"#glyph3-1\" x=\"970.697\" y=\"10.56\"/>\n",
       "</g>\n",
       "<path style=\"fill:none;stroke-width:0.398;stroke-linecap:round;stroke-linejoin:round;stroke:rgb(0%,0%,0%);stroke-opacity:1;stroke-miterlimit:10;\" d=\"M 973.1875 -1.356125 L 973.1875 -40.383469 \" transform=\"matrix(1,0,0,-1,0,8.097)\"/>\n",
       "<path style=\"fill:none;stroke-width:0.398;stroke-linecap:round;stroke-linejoin:round;stroke:rgb(0%,0%,0%);stroke-opacity:1;stroke-miterlimit:10;\" d=\"M 971.96875 -0.00065625 L 919.816406 -0.00065625 \" transform=\"matrix(1,0,0,-1,0,8.097)\"/>\n",
       "<path style=\"fill:none;stroke-width:0.398;stroke-linecap:round;stroke-linejoin:round;stroke:rgb(0%,0%,0%);stroke-opacity:1;stroke-miterlimit:10;\" d=\"M 1030.433594 -0.00065625 L 974.40625 -0.00065625 \" transform=\"matrix(1,0,0,-1,0,8.097)\"/>\n",
       "<path style=\"fill:none;stroke-width:0.398;stroke-linecap:round;stroke-linejoin:round;stroke:rgb(0%,0%,0%);stroke-opacity:1;stroke-miterlimit:10;\" d=\"M 1087.679688 -0.00065625 L 1030.433594 -0.00065625 \" transform=\"matrix(1,0,0,-1,0,8.097)\"/>\n",
       "<g style=\"fill:rgb(0%,0%,0%);fill-opacity:1;\">\n",
       "  <use xlink:href=\"#glyph0-1\" x=\"1125.091\" y=\"55.054\"/>\n",
       "  <use xlink:href=\"#glyph0-2\" x=\"1131.871546\" y=\"55.054\"/>\n",
       "  <use xlink:href=\"#glyph0-3\" x=\"1137.406766\" y=\"55.054\"/>\n",
       "</g>\n",
       "<g style=\"fill:rgb(0%,0%,0%);fill-opacity:1;\">\n",
       "  <use xlink:href=\"#glyph1-1\" x=\"1141.28\" y=\"55.054\"/>\n",
       "</g>\n",
       "<g style=\"fill:rgb(0%,0%,0%);fill-opacity:1;\">\n",
       "  <use xlink:href=\"#glyph1-2\" x=\"1147.317336\" y=\"55.054\"/>\n",
       "</g>\n",
       "<g style=\"fill:rgb(0%,0%,0%);fill-opacity:1;\">\n",
       "  <use xlink:href=\"#glyph0-7\" x=\"1152.298\" y=\"55.054\"/>\n",
       "  <use xlink:href=\"#glyph0-5\" x=\"1157.2793\" y=\"55.054\"/>\n",
       "</g>\n",
       "<path style=\"fill:none;stroke-width:0.398;stroke-linecap:round;stroke-linejoin:round;stroke:rgb(0%,0%,0%);stroke-opacity:1;stroke-miterlimit:10;\" d=\"M 1166.136719 4.483719 L 1120.109375 4.483719 \" transform=\"matrix(1,0,0,-1,0,8.097)\"/>\n",
       "<path style=\"fill:none;stroke-width:0.398;stroke-linecap:round;stroke-linejoin:round;stroke:rgb(0%,0%,0%);stroke-opacity:1;stroke-miterlimit:10;\" d=\"M 1120.109375 4.483719 L 1120.109375 -93.414719 \" transform=\"matrix(1,0,0,-1,0,8.097)\"/>\n",
       "<path style=\"fill:none;stroke-width:0.398;stroke-linecap:round;stroke-linejoin:round;stroke:rgb(0%,0%,0%);stroke-opacity:1;stroke-miterlimit:10;\" d=\"M 1120.109375 -93.414719 L 1166.136719 -93.414719 \" transform=\"matrix(1,0,0,-1,0,8.097)\"/>\n",
       "<path style=\"fill:none;stroke-width:0.398;stroke-linecap:round;stroke-linejoin:round;stroke:rgb(0%,0%,0%);stroke-opacity:1;stroke-miterlimit:10;\" d=\"M 1166.136719 -93.414719 L 1166.136719 4.483719 \" transform=\"matrix(1,0,0,-1,0,8.097)\"/>\n",
       "<path style=\"fill:none;stroke-width:0.398;stroke-linecap:round;stroke-linejoin:round;stroke:rgb(0%,0%,0%);stroke-opacity:1;stroke-miterlimit:10;\" d=\"M 1120.109375 -0.00065625 L 1087.679688 -0.00065625 \" transform=\"matrix(1,0,0,-1,0,8.097)\"/>\n",
       "<path style=\"fill:none;stroke-width:0.398;stroke-linecap:round;stroke-linejoin:round;stroke:rgb(0%,0%,0%);stroke-opacity:1;stroke-miterlimit:10;\" d=\"M 1215.519531 -0.00065625 L 1166.136719 -0.00065625 \" transform=\"matrix(1,0,0,-1,0,8.097)\"/>\n",
       "<path style=\"fill:none;stroke-width:0.398;stroke-linecap:round;stroke-linejoin:round;stroke:rgb(0%,0%,0%);stroke-opacity:1;stroke-miterlimit:10;\" d=\"M 1281.078125 -0.00065625 L 1215.519531 -0.00065625 \" transform=\"matrix(1,0,0,-1,0,8.097)\"/>\n",
       "<g clip-path=\"url(#clip4)\" clip-rule=\"nonzero\">\n",
       "<path style=\"fill:none;stroke-width:0.398;stroke-linecap:round;stroke-linejoin:round;stroke:rgb(0%,0%,0%);stroke-opacity:1;stroke-miterlimit:10;\" d=\"M 1325.597656 -0.00065625 L 1281.078125 -0.00065625 \" transform=\"matrix(1,0,0,-1,0,8.097)\"/>\n",
       "</g>\n",
       "<path style=\"fill:none;stroke-width:0.398;stroke-linecap:round;stroke-linejoin:round;stroke:rgb(0%,0%,0%);stroke-opacity:1;stroke-miterlimit:10;\" d=\"M 28.347656 -44.4655 L 0 -44.4655 \" transform=\"matrix(1,0,0,-1,0,8.097)\"/>\n",
       "<path style=\"fill:none;stroke-width:0.398;stroke-linecap:round;stroke-linejoin:round;stroke:rgb(0%,0%,0%);stroke-opacity:1;stroke-miterlimit:10;\" d=\"M 123.660156 -44.4655 L 74.371094 -44.4655 \" transform=\"matrix(1,0,0,-1,0,8.097)\"/>\n",
       "<path style=\"fill:none;stroke-width:0.398;stroke-linecap:round;stroke-linejoin:round;stroke:rgb(0%,0%,0%);stroke-opacity:1;stroke-miterlimit:10;\" d=\"M 193.886719 -44.4655 L 123.660156 -44.4655 \" transform=\"matrix(1,0,0,-1,0,8.097)\"/>\n",
       "<path style=\"fill:none;stroke-width:0.398;stroke-linecap:round;stroke-linejoin:round;stroke:rgb(0%,0%,0%);stroke-opacity:1;stroke-miterlimit:10;\" d=\"M 247.257812 -44.4655 L 193.886719 -44.4655 \" transform=\"matrix(1,0,0,-1,0,8.097)\"/>\n",
       "<path style=\"fill:none;stroke-width:0.398;stroke-linecap:round;stroke-linejoin:round;stroke:rgb(0%,0%,0%);stroke-opacity:1;stroke-miterlimit:10;\" d=\"M 304.503906 -44.4655 L 247.257812 -44.4655 \" transform=\"matrix(1,0,0,-1,0,8.097)\"/>\n",
       "<path style=\"fill:none;stroke-width:0.398;stroke-linecap:round;stroke-linejoin:round;stroke:rgb(0%,0%,0%);stroke-opacity:1;stroke-miterlimit:10;\" d=\"M 361.746094 -44.4655 L 304.503906 -44.4655 \" transform=\"matrix(1,0,0,-1,0,8.097)\"/>\n",
       "<path style=\"fill:none;stroke-width:0.398;stroke-linecap:round;stroke-linejoin:round;stroke:rgb(0%,0%,0%);stroke-opacity:1;stroke-miterlimit:10;\" d=\"M 394.179688 -44.4655 L 361.746094 -44.4655 \" transform=\"matrix(1,0,0,-1,0,8.097)\"/>\n",
       "<g style=\"fill:rgb(0%,0%,0%);fill-opacity:1;\">\n",
       "  <use xlink:href=\"#glyph1-3\" x=\"471.54\" y=\"54.874\"/>\n",
       "</g>\n",
       "<g style=\"fill:rgb(0%,0%,0%);fill-opacity:1;\">\n",
       "  <use xlink:href=\"#glyph2-2\" x=\"479.104\" y=\"56.368\"/>\n",
       "</g>\n",
       "<g style=\"fill:rgb(0%,0%,0%);fill-opacity:1;\">\n",
       "  <use xlink:href=\"#glyph0-3\" x=\"483.893\" y=\"54.874\"/>\n",
       "</g>\n",
       "<g style=\"fill:rgb(0%,0%,0%);fill-opacity:1;\">\n",
       "  <use xlink:href=\"#glyph1-1\" x=\"487.768\" y=\"54.874\"/>\n",
       "</g>\n",
       "<g style=\"fill:rgb(0%,0%,0%);fill-opacity:1;\">\n",
       "  <use xlink:href=\"#glyph1-2\" x=\"493.805336\" y=\"54.874\"/>\n",
       "</g>\n",
       "<g style=\"fill:rgb(0%,0%,0%);fill-opacity:1;\">\n",
       "  <use xlink:href=\"#glyph0-7\" x=\"498.785\" y=\"54.874\"/>\n",
       "  <use xlink:href=\"#glyph0-5\" x=\"503.7663\" y=\"54.874\"/>\n",
       "</g>\n",
       "<path style=\"fill:none;stroke-width:0.398;stroke-linecap:round;stroke-linejoin:round;stroke:rgb(0%,0%,0%);stroke-opacity:1;stroke-miterlimit:10;\" d=\"M 510.628906 -36.317063 L 468.550781 -36.317063 \" transform=\"matrix(1,0,0,-1,0,8.097)\"/>\n",
       "<path style=\"fill:none;stroke-width:0.398;stroke-linecap:round;stroke-linejoin:round;stroke:rgb(0%,0%,0%);stroke-opacity:1;stroke-miterlimit:10;\" d=\"M 468.550781 -36.317063 L 468.550781 -52.617844 \" transform=\"matrix(1,0,0,-1,0,8.097)\"/>\n",
       "<path style=\"fill:none;stroke-width:0.398;stroke-linecap:round;stroke-linejoin:round;stroke:rgb(0%,0%,0%);stroke-opacity:1;stroke-miterlimit:10;\" d=\"M 468.550781 -52.617844 L 510.628906 -52.617844 \" transform=\"matrix(1,0,0,-1,0,8.097)\"/>\n",
       "<path style=\"fill:none;stroke-width:0.398;stroke-linecap:round;stroke-linejoin:round;stroke:rgb(0%,0%,0%);stroke-opacity:1;stroke-miterlimit:10;\" d=\"M 510.628906 -52.617844 L 510.628906 -36.317063 \" transform=\"matrix(1,0,0,-1,0,8.097)\"/>\n",
       "<path style=\"fill:none;stroke-width:0.398;stroke-linecap:round;stroke-linejoin:round;stroke:rgb(0%,0%,0%);stroke-opacity:1;stroke-miterlimit:10;\" d=\"M 468.550781 -44.4655 L 440.203125 -44.4655 \" transform=\"matrix(1,0,0,-1,0,8.097)\"/>\n",
       "<g style=\"fill:rgb(0%,0%,0%);fill-opacity:1;\">\n",
       "  <use xlink:href=\"#glyph1-3\" x=\"541.965\" y=\"55.054\"/>\n",
       "</g>\n",
       "<g style=\"fill:rgb(0%,0%,0%);fill-opacity:1;\">\n",
       "  <use xlink:href=\"#glyph2-3\" x=\"549.53\" y=\"56.548\"/>\n",
       "</g>\n",
       "<g style=\"fill:rgb(0%,0%,0%);fill-opacity:1;\">\n",
       "  <use xlink:href=\"#glyph0-3\" x=\"554.546\" y=\"55.054\"/>\n",
       "</g>\n",
       "<g style=\"fill:rgb(0%,0%,0%);fill-opacity:1;\">\n",
       "  <use xlink:href=\"#glyph1-1\" x=\"558.42\" y=\"55.054\"/>\n",
       "</g>\n",
       "<g style=\"fill:rgb(0%,0%,0%);fill-opacity:1;\">\n",
       "  <use xlink:href=\"#glyph0-5\" x=\"564.456\" y=\"55.054\"/>\n",
       "</g>\n",
       "<path style=\"fill:none;stroke-width:0.398;stroke-linecap:round;stroke-linejoin:round;stroke:rgb(0%,0%,0%);stroke-opacity:1;stroke-miterlimit:10;\" d=\"M 571.320312 -36.49675 L 538.976562 -36.49675 \" transform=\"matrix(1,0,0,-1,0,8.097)\"/>\n",
       "<path style=\"fill:none;stroke-width:0.398;stroke-linecap:round;stroke-linejoin:round;stroke:rgb(0%,0%,0%);stroke-opacity:1;stroke-miterlimit:10;\" d=\"M 538.976562 -36.49675 L 538.976562 -52.438156 \" transform=\"matrix(1,0,0,-1,0,8.097)\"/>\n",
       "<path style=\"fill:none;stroke-width:0.398;stroke-linecap:round;stroke-linejoin:round;stroke:rgb(0%,0%,0%);stroke-opacity:1;stroke-miterlimit:10;\" d=\"M 538.976562 -52.438156 L 571.320312 -52.438156 \" transform=\"matrix(1,0,0,-1,0,8.097)\"/>\n",
       "<path style=\"fill:none;stroke-width:0.398;stroke-linecap:round;stroke-linejoin:round;stroke:rgb(0%,0%,0%);stroke-opacity:1;stroke-miterlimit:10;\" d=\"M 571.320312 -52.438156 L 571.320312 -36.49675 \" transform=\"matrix(1,0,0,-1,0,8.097)\"/>\n",
       "<path style=\"fill:none;stroke-width:0.398;stroke-linecap:round;stroke-linejoin:round;stroke:rgb(0%,0%,0%);stroke-opacity:1;stroke-miterlimit:10;\" d=\"M 538.976562 -44.4655 L 510.628906 -44.4655 \" transform=\"matrix(1,0,0,-1,0,8.097)\"/>\n",
       "<path style=\"fill:none;stroke-width:0.398;stroke-linecap:round;stroke-linejoin:round;stroke:rgb(0%,0%,0%);stroke-opacity:1;stroke-miterlimit:10;\" d=\"M 624.480469 -44.4655 L 571.320312 -44.4655 \" transform=\"matrix(1,0,0,-1,0,8.097)\"/>\n",
       "<g style=\"fill:rgb(0%,0%,0%);fill-opacity:1;\">\n",
       "  <use xlink:href=\"#glyph1-3\" x=\"680.63\" y=\"55.054\"/>\n",
       "</g>\n",
       "<g style=\"fill:rgb(0%,0%,0%);fill-opacity:1;\">\n",
       "  <use xlink:href=\"#glyph2-1\" x=\"688.195\" y=\"56.548\"/>\n",
       "</g>\n",
       "<g style=\"fill:rgb(0%,0%,0%);fill-opacity:1;\">\n",
       "  <use xlink:href=\"#glyph0-3\" x=\"692.785\" y=\"55.054\"/>\n",
       "</g>\n",
       "<g style=\"fill:rgb(0%,0%,0%);fill-opacity:1;\">\n",
       "  <use xlink:href=\"#glyph1-1\" x=\"696.66\" y=\"55.054\"/>\n",
       "</g>\n",
       "<g style=\"fill:rgb(0%,0%,0%);fill-opacity:1;\">\n",
       "  <use xlink:href=\"#glyph1-2\" x=\"702.697336\" y=\"55.054\"/>\n",
       "</g>\n",
       "<g style=\"fill:rgb(0%,0%,0%);fill-opacity:1;\">\n",
       "  <use xlink:href=\"#glyph0-6\" x=\"707.678\" y=\"55.054\"/>\n",
       "  <use xlink:href=\"#glyph0-5\" x=\"712.6593\" y=\"55.054\"/>\n",
       "</g>\n",
       "<path style=\"fill:none;stroke-width:0.398;stroke-linecap:round;stroke-linejoin:round;stroke:rgb(0%,0%,0%);stroke-opacity:1;stroke-miterlimit:10;\" d=\"M 719.523438 -36.49675 L 677.640625 -36.49675 \" transform=\"matrix(1,0,0,-1,0,8.097)\"/>\n",
       "<path style=\"fill:none;stroke-width:0.398;stroke-linecap:round;stroke-linejoin:round;stroke:rgb(0%,0%,0%);stroke-opacity:1;stroke-miterlimit:10;\" d=\"M 677.640625 -36.49675 L 677.640625 -52.438156 \" transform=\"matrix(1,0,0,-1,0,8.097)\"/>\n",
       "<path style=\"fill:none;stroke-width:0.398;stroke-linecap:round;stroke-linejoin:round;stroke:rgb(0%,0%,0%);stroke-opacity:1;stroke-miterlimit:10;\" d=\"M 677.640625 -52.438156 L 719.523438 -52.438156 \" transform=\"matrix(1,0,0,-1,0,8.097)\"/>\n",
       "<path style=\"fill:none;stroke-width:0.398;stroke-linecap:round;stroke-linejoin:round;stroke:rgb(0%,0%,0%);stroke-opacity:1;stroke-miterlimit:10;\" d=\"M 719.523438 -52.438156 L 719.523438 -36.49675 \" transform=\"matrix(1,0,0,-1,0,8.097)\"/>\n",
       "<path style=\"fill:none;stroke-width:0.398;stroke-linecap:round;stroke-linejoin:round;stroke:rgb(0%,0%,0%);stroke-opacity:1;stroke-miterlimit:10;\" d=\"M 677.640625 -44.4655 L 624.480469 -44.4655 \" transform=\"matrix(1,0,0,-1,0,8.097)\"/>\n",
       "<path style=\"fill:none;stroke-width:0.398;stroke-linecap:round;stroke-linejoin:round;stroke:rgb(0%,0%,0%);stroke-opacity:1;stroke-miterlimit:10;\" d=\"M -3.886594 0.0005 L 3.886844 0.0005 \" transform=\"matrix(1,0,0,-1,751.953,52.563)\"/>\n",
       "<path style=\"fill:none;stroke-width:0.398;stroke-linecap:round;stroke-linejoin:round;stroke:rgb(0%,0%,0%);stroke-opacity:1;stroke-miterlimit:10;\" d=\"M 0.000125 -3.886219 L 0.000125 3.883312 \" transform=\"matrix(1,0,0,-1,751.953,52.563)\"/>\n",
       "<path style=\"fill:none;stroke-width:0.398;stroke-linecap:round;stroke-linejoin:round;stroke:rgb(0%,0%,0%);stroke-opacity:1;stroke-miterlimit:10;\" d=\"M 0.000125 3.984875 C -2.199094 3.984875 -3.98425 2.199719 -3.98425 0.0005 \" transform=\"matrix(1,0,0,-1,751.953,52.563)\"/>\n",
       "<path style=\"fill:none;stroke-width:0.398;stroke-linecap:round;stroke-linejoin:round;stroke:rgb(0%,0%,0%);stroke-opacity:1;stroke-miterlimit:10;\" d=\"M -3.98425 0.0005 C -3.98425 -2.198719 -2.199094 -3.983875 0.000125 -3.983875 \" transform=\"matrix(1,0,0,-1,751.953,52.563)\"/>\n",
       "<path style=\"fill:none;stroke-width:0.398;stroke-linecap:round;stroke-linejoin:round;stroke:rgb(0%,0%,0%);stroke-opacity:1;stroke-miterlimit:10;\" d=\"M 0.000125 -3.983875 C 2.199344 -3.983875 3.9845 -2.198719 3.9845 0.0005 \" transform=\"matrix(1,0,0,-1,751.953,52.563)\"/>\n",
       "<path style=\"fill:none;stroke-width:0.398;stroke-linecap:round;stroke-linejoin:round;stroke:rgb(0%,0%,0%);stroke-opacity:1;stroke-miterlimit:10;\" d=\"M 3.9845 0.0005 C 3.9845 2.199719 2.199344 3.984875 0.000125 3.984875 \" transform=\"matrix(1,0,0,-1,751.953,52.563)\"/>\n",
       "<path style=\"fill:none;stroke-width:0.398;stroke-linecap:round;stroke-linejoin:round;stroke:rgb(0%,0%,0%);stroke-opacity:1;stroke-miterlimit:10;\" d=\"M 747.867188 -44.4655 L 719.523438 -44.4655 \" transform=\"matrix(1,0,0,-1,0,8.097)\"/>\n",
       "<g style=\"fill:rgb(0%,0%,0%);fill-opacity:1;\">\n",
       "  <use xlink:href=\"#glyph1-3\" x=\"787.373\" y=\"55.054\"/>\n",
       "</g>\n",
       "<g style=\"fill:rgb(0%,0%,0%);fill-opacity:1;\">\n",
       "  <use xlink:href=\"#glyph2-1\" x=\"794.938\" y=\"56.548\"/>\n",
       "</g>\n",
       "<g style=\"fill:rgb(0%,0%,0%);fill-opacity:1;\">\n",
       "  <use xlink:href=\"#glyph0-3\" x=\"799.528\" y=\"55.054\"/>\n",
       "</g>\n",
       "<g style=\"fill:rgb(0%,0%,0%);fill-opacity:1;\">\n",
       "  <use xlink:href=\"#glyph3-2\" x=\"803.402\" y=\"55.054\"/>\n",
       "</g>\n",
       "<g style=\"fill:rgb(0%,0%,0%);fill-opacity:1;\">\n",
       "  <use xlink:href=\"#glyph1-1\" x=\"811.151\" y=\"55.054\"/>\n",
       "</g>\n",
       "<g style=\"fill:rgb(0%,0%,0%);fill-opacity:1;\">\n",
       "  <use xlink:href=\"#glyph1-2\" x=\"817.188336\" y=\"55.054\"/>\n",
       "</g>\n",
       "<g style=\"fill:rgb(0%,0%,0%);fill-opacity:1;\">\n",
       "  <use xlink:href=\"#glyph0-6\" x=\"822.169\" y=\"55.054\"/>\n",
       "  <use xlink:href=\"#glyph0-5\" x=\"827.1503\" y=\"55.054\"/>\n",
       "</g>\n",
       "<path style=\"fill:none;stroke-width:0.398;stroke-linecap:round;stroke-linejoin:round;stroke:rgb(0%,0%,0%);stroke-opacity:1;stroke-miterlimit:10;\" d=\"M 834.015625 -36.49675 L 784.382812 -36.49675 \" transform=\"matrix(1,0,0,-1,0,8.097)\"/>\n",
       "<path style=\"fill:none;stroke-width:0.398;stroke-linecap:round;stroke-linejoin:round;stroke:rgb(0%,0%,0%);stroke-opacity:1;stroke-miterlimit:10;\" d=\"M 784.382812 -36.49675 L 784.382812 -52.438156 \" transform=\"matrix(1,0,0,-1,0,8.097)\"/>\n",
       "<path style=\"fill:none;stroke-width:0.398;stroke-linecap:round;stroke-linejoin:round;stroke:rgb(0%,0%,0%);stroke-opacity:1;stroke-miterlimit:10;\" d=\"M 784.382812 -52.438156 L 834.015625 -52.438156 \" transform=\"matrix(1,0,0,-1,0,8.097)\"/>\n",
       "<path style=\"fill:none;stroke-width:0.398;stroke-linecap:round;stroke-linejoin:round;stroke:rgb(0%,0%,0%);stroke-opacity:1;stroke-miterlimit:10;\" d=\"M 834.015625 -52.438156 L 834.015625 -36.49675 \" transform=\"matrix(1,0,0,-1,0,8.097)\"/>\n",
       "<path style=\"fill:none;stroke-width:0.398;stroke-linecap:round;stroke-linejoin:round;stroke:rgb(0%,0%,0%);stroke-opacity:1;stroke-miterlimit:10;\" d=\"M 784.382812 -44.4655 L 756.039062 -44.4655 \" transform=\"matrix(1,0,0,-1,0,8.097)\"/>\n",
       "<path style=\"fill:none;stroke-width:0.398;stroke-linecap:round;stroke-linejoin:round;stroke:rgb(0%,0%,0%);stroke-opacity:1;stroke-miterlimit:10;\" d=\"M -3.886406 0.0005 L 3.883125 0.0005 \" transform=\"matrix(1,0,0,-1,866.445,52.563)\"/>\n",
       "<path style=\"fill:none;stroke-width:0.398;stroke-linecap:round;stroke-linejoin:round;stroke:rgb(0%,0%,0%);stroke-opacity:1;stroke-miterlimit:10;\" d=\"M 0.0003125 -3.886219 L 0.0003125 3.883312 \" transform=\"matrix(1,0,0,-1,866.445,52.563)\"/>\n",
       "<path style=\"fill:none;stroke-width:0.398;stroke-linecap:round;stroke-linejoin:round;stroke:rgb(0%,0%,0%);stroke-opacity:1;stroke-miterlimit:10;\" d=\"M 0.0003125 3.984875 C -2.198906 3.984875 -3.984062 2.199719 -3.984062 0.0005 \" transform=\"matrix(1,0,0,-1,866.445,52.563)\"/>\n",
       "<path style=\"fill:none;stroke-width:0.398;stroke-linecap:round;stroke-linejoin:round;stroke:rgb(0%,0%,0%);stroke-opacity:1;stroke-miterlimit:10;\" d=\"M -3.984062 0.0005 C -3.984062 -2.198719 -2.198906 -3.983875 0.0003125 -3.983875 \" transform=\"matrix(1,0,0,-1,866.445,52.563)\"/>\n",
       "<path style=\"fill:none;stroke-width:0.398;stroke-linecap:round;stroke-linejoin:round;stroke:rgb(0%,0%,0%);stroke-opacity:1;stroke-miterlimit:10;\" d=\"M 0.0003125 -3.983875 C 2.199531 -3.983875 3.984688 -2.198719 3.984688 0.0005 \" transform=\"matrix(1,0,0,-1,866.445,52.563)\"/>\n",
       "<path style=\"fill:none;stroke-width:0.398;stroke-linecap:round;stroke-linejoin:round;stroke:rgb(0%,0%,0%);stroke-opacity:1;stroke-miterlimit:10;\" d=\"M 3.984688 0.0005 C 3.984688 2.199719 2.199531 3.984875 0.0003125 3.984875 \" transform=\"matrix(1,0,0,-1,866.445,52.563)\"/>\n",
       "<path style=\"fill:none;stroke-width:0.398;stroke-linecap:round;stroke-linejoin:round;stroke:rgb(0%,0%,0%);stroke-opacity:1;stroke-miterlimit:10;\" d=\"M 862.359375 -44.4655 L 834.015625 -44.4655 \" transform=\"matrix(1,0,0,-1,0,8.097)\"/>\n",
       "<g style=\"fill:rgb(0%,0%,0%);fill-opacity:1;\">\n",
       "  <use xlink:href=\"#glyph1-3\" x=\"901.864\" y=\"55.054\"/>\n",
       "</g>\n",
       "<g style=\"fill:rgb(0%,0%,0%);fill-opacity:1;\">\n",
       "  <use xlink:href=\"#glyph2-1\" x=\"909.429\" y=\"56.548\"/>\n",
       "</g>\n",
       "<g style=\"fill:rgb(0%,0%,0%);fill-opacity:1;\">\n",
       "  <use xlink:href=\"#glyph0-3\" x=\"914.019\" y=\"55.054\"/>\n",
       "</g>\n",
       "<g style=\"fill:rgb(0%,0%,0%);fill-opacity:1;\">\n",
       "  <use xlink:href=\"#glyph1-1\" x=\"917.894\" y=\"55.054\"/>\n",
       "</g>\n",
       "<g style=\"fill:rgb(0%,0%,0%);fill-opacity:1;\">\n",
       "  <use xlink:href=\"#glyph1-2\" x=\"923.931336\" y=\"55.054\"/>\n",
       "</g>\n",
       "<g style=\"fill:rgb(0%,0%,0%);fill-opacity:1;\">\n",
       "  <use xlink:href=\"#glyph0-6\" x=\"928.912\" y=\"55.054\"/>\n",
       "  <use xlink:href=\"#glyph0-5\" x=\"933.8933\" y=\"55.054\"/>\n",
       "</g>\n",
       "<path style=\"fill:none;stroke-width:0.398;stroke-linecap:round;stroke-linejoin:round;stroke:rgb(0%,0%,0%);stroke-opacity:1;stroke-miterlimit:10;\" d=\"M 940.757812 -36.49675 L 898.875 -36.49675 \" transform=\"matrix(1,0,0,-1,0,8.097)\"/>\n",
       "<path style=\"fill:none;stroke-width:0.398;stroke-linecap:round;stroke-linejoin:round;stroke:rgb(0%,0%,0%);stroke-opacity:1;stroke-miterlimit:10;\" d=\"M 898.875 -36.49675 L 898.875 -52.438156 \" transform=\"matrix(1,0,0,-1,0,8.097)\"/>\n",
       "<path style=\"fill:none;stroke-width:0.398;stroke-linecap:round;stroke-linejoin:round;stroke:rgb(0%,0%,0%);stroke-opacity:1;stroke-miterlimit:10;\" d=\"M 898.875 -52.438156 L 940.757812 -52.438156 \" transform=\"matrix(1,0,0,-1,0,8.097)\"/>\n",
       "<path style=\"fill:none;stroke-width:0.398;stroke-linecap:round;stroke-linejoin:round;stroke:rgb(0%,0%,0%);stroke-opacity:1;stroke-miterlimit:10;\" d=\"M 940.757812 -52.438156 L 940.757812 -36.49675 \" transform=\"matrix(1,0,0,-1,0,8.097)\"/>\n",
       "<path style=\"fill:none;stroke-width:0.398;stroke-linecap:round;stroke-linejoin:round;stroke:rgb(0%,0%,0%);stroke-opacity:1;stroke-miterlimit:10;\" d=\"M 898.875 -44.4655 L 870.527344 -44.4655 \" transform=\"matrix(1,0,0,-1,0,8.097)\"/>\n",
       "<path style=\"fill:none;stroke-width:0.398;stroke-linecap:round;stroke-linejoin:round;stroke:rgb(0%,0%,0%);stroke-opacity:1;stroke-miterlimit:10;\" d=\"M -3.886219 0.0005 L 3.883312 0.0005 \" transform=\"matrix(1,0,0,-1,973.187,52.563)\"/>\n",
       "<path style=\"fill:none;stroke-width:0.398;stroke-linecap:round;stroke-linejoin:round;stroke:rgb(0%,0%,0%);stroke-opacity:1;stroke-miterlimit:10;\" d=\"M 0.0005 -3.886219 L 0.0005 3.883312 \" transform=\"matrix(1,0,0,-1,973.187,52.563)\"/>\n",
       "<path style=\"fill:none;stroke-width:0.398;stroke-linecap:round;stroke-linejoin:round;stroke:rgb(0%,0%,0%);stroke-opacity:1;stroke-miterlimit:10;\" d=\"M 0.0005 3.984875 C -2.198719 3.984875 -3.983875 2.199719 -3.983875 0.0005 \" transform=\"matrix(1,0,0,-1,973.187,52.563)\"/>\n",
       "<path style=\"fill:none;stroke-width:0.398;stroke-linecap:round;stroke-linejoin:round;stroke:rgb(0%,0%,0%);stroke-opacity:1;stroke-miterlimit:10;\" d=\"M -3.983875 0.0005 C -3.983875 -2.198719 -2.198719 -3.983875 0.0005 -3.983875 \" transform=\"matrix(1,0,0,-1,973.187,52.563)\"/>\n",
       "<path style=\"fill:none;stroke-width:0.398;stroke-linecap:round;stroke-linejoin:round;stroke:rgb(0%,0%,0%);stroke-opacity:1;stroke-miterlimit:10;\" d=\"M 0.0005 -3.983875 C 2.199719 -3.983875 3.984875 -2.198719 3.984875 0.0005 \" transform=\"matrix(1,0,0,-1,973.187,52.563)\"/>\n",
       "<path style=\"fill:none;stroke-width:0.398;stroke-linecap:round;stroke-linejoin:round;stroke:rgb(0%,0%,0%);stroke-opacity:1;stroke-miterlimit:10;\" d=\"M 3.984875 0.0005 C 3.984875 2.199719 2.199719 3.984875 0.0005 3.984875 \" transform=\"matrix(1,0,0,-1,973.187,52.563)\"/>\n",
       "<path style=\"fill:none;stroke-width:0.398;stroke-linecap:round;stroke-linejoin:round;stroke:rgb(0%,0%,0%);stroke-opacity:1;stroke-miterlimit:10;\" d=\"M 969.101562 -44.4655 L 940.757812 -44.4655 \" transform=\"matrix(1,0,0,-1,0,8.097)\"/>\n",
       "<g style=\"fill:rgb(0%,0%,0%);fill-opacity:1;\">\n",
       "  <use xlink:href=\"#glyph1-3\" x=\"1008.607\" y=\"55.054\"/>\n",
       "</g>\n",
       "<g style=\"fill:rgb(0%,0%,0%);fill-opacity:1;\">\n",
       "  <use xlink:href=\"#glyph2-1\" x=\"1016.172\" y=\"56.548\"/>\n",
       "</g>\n",
       "<g style=\"fill:rgb(0%,0%,0%);fill-opacity:1;\">\n",
       "  <use xlink:href=\"#glyph0-3\" x=\"1020.762\" y=\"55.054\"/>\n",
       "</g>\n",
       "<g style=\"fill:rgb(0%,0%,0%);fill-opacity:1;\">\n",
       "  <use xlink:href=\"#glyph3-2\" x=\"1024.636\" y=\"55.054\"/>\n",
       "</g>\n",
       "<g style=\"fill:rgb(0%,0%,0%);fill-opacity:1;\">\n",
       "  <use xlink:href=\"#glyph1-1\" x=\"1032.385\" y=\"55.054\"/>\n",
       "</g>\n",
       "<g style=\"fill:rgb(0%,0%,0%);fill-opacity:1;\">\n",
       "  <use xlink:href=\"#glyph1-2\" x=\"1038.422336\" y=\"55.054\"/>\n",
       "</g>\n",
       "<g style=\"fill:rgb(0%,0%,0%);fill-opacity:1;\">\n",
       "  <use xlink:href=\"#glyph0-6\" x=\"1043.403\" y=\"55.054\"/>\n",
       "  <use xlink:href=\"#glyph0-5\" x=\"1048.3843\" y=\"55.054\"/>\n",
       "</g>\n",
       "<path style=\"fill:none;stroke-width:0.398;stroke-linecap:round;stroke-linejoin:round;stroke:rgb(0%,0%,0%);stroke-opacity:1;stroke-miterlimit:10;\" d=\"M 1055.246094 -36.49675 L 1005.617188 -36.49675 \" transform=\"matrix(1,0,0,-1,0,8.097)\"/>\n",
       "<path style=\"fill:none;stroke-width:0.398;stroke-linecap:round;stroke-linejoin:round;stroke:rgb(0%,0%,0%);stroke-opacity:1;stroke-miterlimit:10;\" d=\"M 1005.617188 -36.49675 L 1005.617188 -52.438156 \" transform=\"matrix(1,0,0,-1,0,8.097)\"/>\n",
       "<path style=\"fill:none;stroke-width:0.398;stroke-linecap:round;stroke-linejoin:round;stroke:rgb(0%,0%,0%);stroke-opacity:1;stroke-miterlimit:10;\" d=\"M 1005.617188 -52.438156 L 1055.246094 -52.438156 \" transform=\"matrix(1,0,0,-1,0,8.097)\"/>\n",
       "<path style=\"fill:none;stroke-width:0.398;stroke-linecap:round;stroke-linejoin:round;stroke:rgb(0%,0%,0%);stroke-opacity:1;stroke-miterlimit:10;\" d=\"M 1055.246094 -52.438156 L 1055.246094 -36.49675 \" transform=\"matrix(1,0,0,-1,0,8.097)\"/>\n",
       "<path style=\"fill:none;stroke-width:0.398;stroke-linecap:round;stroke-linejoin:round;stroke:rgb(0%,0%,0%);stroke-opacity:1;stroke-miterlimit:10;\" d=\"M 1005.617188 -44.4655 L 977.273438 -44.4655 \" transform=\"matrix(1,0,0,-1,0,8.097)\"/>\n",
       "<path style=\"fill:none;stroke-width:0.398;stroke-linecap:round;stroke-linejoin:round;stroke:rgb(0%,0%,0%);stroke-opacity:1;stroke-miterlimit:10;\" d=\"M -3.886031 0.0005 L 3.8835 0.0005 \" transform=\"matrix(1,0,0,-1,1087.679,52.563)\"/>\n",
       "<path style=\"fill:none;stroke-width:0.398;stroke-linecap:round;stroke-linejoin:round;stroke:rgb(0%,0%,0%);stroke-opacity:1;stroke-miterlimit:10;\" d=\"M 0.0006875 -3.886219 L 0.0006875 3.883312 \" transform=\"matrix(1,0,0,-1,1087.679,52.563)\"/>\n",
       "<path style=\"fill:none;stroke-width:0.398;stroke-linecap:round;stroke-linejoin:round;stroke:rgb(0%,0%,0%);stroke-opacity:1;stroke-miterlimit:10;\" d=\"M 0.0006875 3.984875 C -2.198531 3.984875 -3.983687 2.199719 -3.983687 0.0005 \" transform=\"matrix(1,0,0,-1,1087.679,52.563)\"/>\n",
       "<path style=\"fill:none;stroke-width:0.398;stroke-linecap:round;stroke-linejoin:round;stroke:rgb(0%,0%,0%);stroke-opacity:1;stroke-miterlimit:10;\" d=\"M -3.983687 0.0005 C -3.983687 -2.198719 -2.198531 -3.983875 0.0006875 -3.983875 \" transform=\"matrix(1,0,0,-1,1087.679,52.563)\"/>\n",
       "<path style=\"fill:none;stroke-width:0.398;stroke-linecap:round;stroke-linejoin:round;stroke:rgb(0%,0%,0%);stroke-opacity:1;stroke-miterlimit:10;\" d=\"M 0.0006875 -3.983875 C 2.199906 -3.983875 3.985063 -2.198719 3.985063 0.0005 \" transform=\"matrix(1,0,0,-1,1087.679,52.563)\"/>\n",
       "<path style=\"fill:none;stroke-width:0.398;stroke-linecap:round;stroke-linejoin:round;stroke:rgb(0%,0%,0%);stroke-opacity:1;stroke-miterlimit:10;\" d=\"M 3.985063 0.0005 C 3.985063 2.199719 2.199906 3.984875 0.0006875 3.984875 \" transform=\"matrix(1,0,0,-1,1087.679,52.563)\"/>\n",
       "<path style=\"fill:none;stroke-width:0.398;stroke-linecap:round;stroke-linejoin:round;stroke:rgb(0%,0%,0%);stroke-opacity:1;stroke-miterlimit:10;\" d=\"M 1083.59375 -44.4655 L 1055.246094 -44.4655 \" transform=\"matrix(1,0,0,-1,0,8.097)\"/>\n",
       "<path style=\"fill:none;stroke-width:0.398;stroke-linecap:round;stroke-linejoin:round;stroke:rgb(0%,0%,0%);stroke-opacity:1;stroke-miterlimit:10;\" d=\"M 1120.109375 -44.4655 L 1091.761719 -44.4655 \" transform=\"matrix(1,0,0,-1,0,8.097)\"/>\n",
       "<g style=\"fill:rgb(0%,0%,0%);fill-opacity:1;\">\n",
       "  <use xlink:href=\"#glyph1-3\" x=\"1197.47\" y=\"54.874\"/>\n",
       "</g>\n",
       "<g style=\"fill:rgb(0%,0%,0%);fill-opacity:1;\">\n",
       "  <use xlink:href=\"#glyph2-2\" x=\"1205.035\" y=\"56.368\"/>\n",
       "</g>\n",
       "<g style=\"fill:rgb(0%,0%,0%);fill-opacity:1;\">\n",
       "  <use xlink:href=\"#glyph0-3\" x=\"1209.824\" y=\"54.874\"/>\n",
       "</g>\n",
       "<g style=\"fill:rgb(0%,0%,0%);fill-opacity:1;\">\n",
       "  <use xlink:href=\"#glyph1-1\" x=\"1213.698\" y=\"54.874\"/>\n",
       "</g>\n",
       "<g style=\"fill:rgb(0%,0%,0%);fill-opacity:1;\">\n",
       "  <use xlink:href=\"#glyph1-2\" x=\"1219.735336\" y=\"54.874\"/>\n",
       "</g>\n",
       "<g style=\"fill:rgb(0%,0%,0%);fill-opacity:1;\">\n",
       "  <use xlink:href=\"#glyph0-7\" x=\"1224.716\" y=\"54.874\"/>\n",
       "  <use xlink:href=\"#glyph0-5\" x=\"1229.6973\" y=\"54.874\"/>\n",
       "</g>\n",
       "<path style=\"fill:none;stroke-width:0.398;stroke-linecap:round;stroke-linejoin:round;stroke:rgb(0%,0%,0%);stroke-opacity:1;stroke-miterlimit:10;\" d=\"M 1236.558594 -36.317063 L 1194.480469 -36.317063 \" transform=\"matrix(1,0,0,-1,0,8.097)\"/>\n",
       "<path style=\"fill:none;stroke-width:0.398;stroke-linecap:round;stroke-linejoin:round;stroke:rgb(0%,0%,0%);stroke-opacity:1;stroke-miterlimit:10;\" d=\"M 1194.480469 -36.317063 L 1194.480469 -52.617844 \" transform=\"matrix(1,0,0,-1,0,8.097)\"/>\n",
       "<path style=\"fill:none;stroke-width:0.398;stroke-linecap:round;stroke-linejoin:round;stroke:rgb(0%,0%,0%);stroke-opacity:1;stroke-miterlimit:10;\" d=\"M 1194.480469 -52.617844 L 1236.558594 -52.617844 \" transform=\"matrix(1,0,0,-1,0,8.097)\"/>\n",
       "<path style=\"fill:none;stroke-width:0.398;stroke-linecap:round;stroke-linejoin:round;stroke:rgb(0%,0%,0%);stroke-opacity:1;stroke-miterlimit:10;\" d=\"M 1236.558594 -52.617844 L 1236.558594 -36.317063 \" transform=\"matrix(1,0,0,-1,0,8.097)\"/>\n",
       "<path style=\"fill:none;stroke-width:0.398;stroke-linecap:round;stroke-linejoin:round;stroke:rgb(0%,0%,0%);stroke-opacity:1;stroke-miterlimit:10;\" d=\"M 1194.480469 -44.4655 L 1166.136719 -44.4655 \" transform=\"matrix(1,0,0,-1,0,8.097)\"/>\n",
       "<g style=\"fill:rgb(0%,0%,0%);fill-opacity:1;\">\n",
       "  <use xlink:href=\"#glyph1-3\" x=\"1267.896\" y=\"55.054\"/>\n",
       "</g>\n",
       "<g style=\"fill:rgb(0%,0%,0%);fill-opacity:1;\">\n",
       "  <use xlink:href=\"#glyph2-3\" x=\"1275.46\" y=\"56.548\"/>\n",
       "</g>\n",
       "<g style=\"fill:rgb(0%,0%,0%);fill-opacity:1;\">\n",
       "  <use xlink:href=\"#glyph0-3\" x=\"1280.476\" y=\"55.054\"/>\n",
       "</g>\n",
       "<g style=\"fill:rgb(0%,0%,0%);fill-opacity:1;\">\n",
       "  <use xlink:href=\"#glyph1-1\" x=\"1284.35\" y=\"55.054\"/>\n",
       "</g>\n",
       "<g style=\"fill:rgb(0%,0%,0%);fill-opacity:1;\">\n",
       "  <use xlink:href=\"#glyph0-5\" x=\"1290.387\" y=\"55.054\"/>\n",
       "</g>\n",
       "<path style=\"fill:none;stroke-width:0.398;stroke-linecap:round;stroke-linejoin:round;stroke:rgb(0%,0%,0%);stroke-opacity:1;stroke-miterlimit:10;\" d=\"M 1297.25 -36.49675 L 1264.90625 -36.49675 \" transform=\"matrix(1,0,0,-1,0,8.097)\"/>\n",
       "<path style=\"fill:none;stroke-width:0.398;stroke-linecap:round;stroke-linejoin:round;stroke:rgb(0%,0%,0%);stroke-opacity:1;stroke-miterlimit:10;\" d=\"M 1264.90625 -36.49675 L 1264.90625 -52.438156 \" transform=\"matrix(1,0,0,-1,0,8.097)\"/>\n",
       "<path style=\"fill:none;stroke-width:0.398;stroke-linecap:round;stroke-linejoin:round;stroke:rgb(0%,0%,0%);stroke-opacity:1;stroke-miterlimit:10;\" d=\"M 1264.90625 -52.438156 L 1297.25 -52.438156 \" transform=\"matrix(1,0,0,-1,0,8.097)\"/>\n",
       "<path style=\"fill:none;stroke-width:0.398;stroke-linecap:round;stroke-linejoin:round;stroke:rgb(0%,0%,0%);stroke-opacity:1;stroke-miterlimit:10;\" d=\"M 1297.25 -52.438156 L 1297.25 -36.49675 \" transform=\"matrix(1,0,0,-1,0,8.097)\"/>\n",
       "<path style=\"fill:none;stroke-width:0.398;stroke-linecap:round;stroke-linejoin:round;stroke:rgb(0%,0%,0%);stroke-opacity:1;stroke-miterlimit:10;\" d=\"M 1264.90625 -44.4655 L 1236.558594 -44.4655 \" transform=\"matrix(1,0,0,-1,0,8.097)\"/>\n",
       "<g clip-path=\"url(#clip5)\" clip-rule=\"nonzero\">\n",
       "<path style=\"fill:none;stroke-width:0.398;stroke-linecap:round;stroke-linejoin:round;stroke:rgb(0%,0%,0%);stroke-opacity:1;stroke-miterlimit:10;\" d=\"M 1325.597656 -44.4655 L 1297.25 -44.4655 \" transform=\"matrix(1,0,0,-1,0,8.097)\"/>\n",
       "</g>\n",
       "<path style=\"fill:none;stroke-width:0.398;stroke-linecap:round;stroke-linejoin:round;stroke:rgb(0%,0%,0%);stroke-opacity:1;stroke-miterlimit:10;\" d=\"M 28.347656 -88.93425 L 0 -88.93425 \" transform=\"matrix(1,0,0,-1,0,8.097)\"/>\n",
       "<g style=\"fill:rgb(0%,0%,0%);fill-opacity:1;\">\n",
       "  <use xlink:href=\"#glyph1-3\" x=\"105.707\" y=\"99.521\"/>\n",
       "</g>\n",
       "<g style=\"fill:rgb(0%,0%,0%);fill-opacity:1;\">\n",
       "  <use xlink:href=\"#glyph2-1\" x=\"113.272\" y=\"101.015\"/>\n",
       "</g>\n",
       "<g style=\"fill:rgb(0%,0%,0%);fill-opacity:1;\">\n",
       "  <use xlink:href=\"#glyph0-3\" x=\"117.862\" y=\"99.521\"/>\n",
       "</g>\n",
       "<g style=\"fill:rgb(0%,0%,0%);fill-opacity:1;\">\n",
       "  <use xlink:href=\"#glyph1-1\" x=\"121.736\" y=\"99.521\"/>\n",
       "</g>\n",
       "<g style=\"fill:rgb(0%,0%,0%);fill-opacity:1;\">\n",
       "  <use xlink:href=\"#glyph1-2\" x=\"127.773336\" y=\"99.521\"/>\n",
       "</g>\n",
       "<g style=\"fill:rgb(0%,0%,0%);fill-opacity:1;\">\n",
       "  <use xlink:href=\"#glyph0-7\" x=\"132.754\" y=\"99.521\"/>\n",
       "  <use xlink:href=\"#glyph0-5\" x=\"137.7353\" y=\"99.521\"/>\n",
       "</g>\n",
       "<path style=\"fill:none;stroke-width:0.398;stroke-linecap:round;stroke-linejoin:round;stroke:rgb(0%,0%,0%);stroke-opacity:1;stroke-miterlimit:10;\" d=\"M 144.597656 -80.961594 L 102.71875 -80.961594 \" transform=\"matrix(1,0,0,-1,0,8.097)\"/>\n",
       "<path style=\"fill:none;stroke-width:0.398;stroke-linecap:round;stroke-linejoin:round;stroke:rgb(0%,0%,0%);stroke-opacity:1;stroke-miterlimit:10;\" d=\"M 102.71875 -80.961594 L 102.71875 -96.903 \" transform=\"matrix(1,0,0,-1,0,8.097)\"/>\n",
       "<path style=\"fill:none;stroke-width:0.398;stroke-linecap:round;stroke-linejoin:round;stroke:rgb(0%,0%,0%);stroke-opacity:1;stroke-miterlimit:10;\" d=\"M 102.71875 -96.903 L 144.597656 -96.903 \" transform=\"matrix(1,0,0,-1,0,8.097)\"/>\n",
       "<path style=\"fill:none;stroke-width:0.398;stroke-linecap:round;stroke-linejoin:round;stroke:rgb(0%,0%,0%);stroke-opacity:1;stroke-miterlimit:10;\" d=\"M 144.597656 -96.903 L 144.597656 -80.961594 \" transform=\"matrix(1,0,0,-1,0,8.097)\"/>\n",
       "<path style=\"fill:none;stroke-width:0.398;stroke-linecap:round;stroke-linejoin:round;stroke:rgb(0%,0%,0%);stroke-opacity:1;stroke-miterlimit:10;\" d=\"M 102.71875 -88.93425 L 74.371094 -88.93425 \" transform=\"matrix(1,0,0,-1,0,8.097)\"/>\n",
       "<path style=\"fill:none;stroke-width:0.398;stroke-linecap:round;stroke-linejoin:round;stroke:rgb(0%,0%,0%);stroke-opacity:1;stroke-miterlimit:10;\" d=\"M 193.886719 -88.93425 L 144.597656 -88.93425 \" transform=\"matrix(1,0,0,-1,0,8.097)\"/>\n",
       "<path style=\"fill:none;stroke-width:0.398;stroke-linecap:round;stroke-linejoin:round;stroke:rgb(0%,0%,0%);stroke-opacity:1;stroke-miterlimit:10;\" d=\"M -3.885906 -0.00125 L 3.883625 -0.00125 \" transform=\"matrix(1,0,0,-1,247.257,97.03)\"/>\n",
       "<path style=\"fill:none;stroke-width:0.398;stroke-linecap:round;stroke-linejoin:round;stroke:rgb(0%,0%,0%);stroke-opacity:1;stroke-miterlimit:10;\" d=\"M 0.0008125 -3.884062 L 0.0008125 3.885469 \" transform=\"matrix(1,0,0,-1,247.257,97.03)\"/>\n",
       "<path style=\"fill:none;stroke-width:0.398;stroke-linecap:round;stroke-linejoin:round;stroke:rgb(0%,0%,0%);stroke-opacity:1;stroke-miterlimit:10;\" d=\"M 0.0008125 3.983125 C -2.198406 3.983125 -3.983563 2.197969 -3.983563 -0.00125 \" transform=\"matrix(1,0,0,-1,247.257,97.03)\"/>\n",
       "<path style=\"fill:none;stroke-width:0.398;stroke-linecap:round;stroke-linejoin:round;stroke:rgb(0%,0%,0%);stroke-opacity:1;stroke-miterlimit:10;\" d=\"M -3.983563 -0.00125 C -3.983563 -2.200469 -2.198406 -3.985625 0.0008125 -3.985625 \" transform=\"matrix(1,0,0,-1,247.257,97.03)\"/>\n",
       "<path style=\"fill:none;stroke-width:0.398;stroke-linecap:round;stroke-linejoin:round;stroke:rgb(0%,0%,0%);stroke-opacity:1;stroke-miterlimit:10;\" d=\"M 0.0008125 -3.985625 C 2.200031 -3.985625 3.985187 -2.200469 3.985187 -0.00125 \" transform=\"matrix(1,0,0,-1,247.257,97.03)\"/>\n",
       "<path style=\"fill:none;stroke-width:0.398;stroke-linecap:round;stroke-linejoin:round;stroke:rgb(0%,0%,0%);stroke-opacity:1;stroke-miterlimit:10;\" d=\"M 3.985187 -0.00125 C 3.985187 2.197969 2.200031 3.983125 0.0008125 3.983125 \" transform=\"matrix(1,0,0,-1,247.257,97.03)\"/>\n",
       "<path style=\"fill:none;stroke-width:0.398;stroke-linecap:round;stroke-linejoin:round;stroke:rgb(0%,0%,0%);stroke-opacity:1;stroke-miterlimit:10;\" d=\"M 243.171875 -88.93425 L 193.886719 -88.93425 \" transform=\"matrix(1,0,0,-1,0,8.097)\"/>\n",
       "<g style=\"fill:rgb(0%,0%,0%);fill-opacity:1;\">\n",
       "  <use xlink:href=\"#glyph1-3\" x=\"282.677\" y=\"99.521\"/>\n",
       "</g>\n",
       "<g style=\"fill:rgb(0%,0%,0%);fill-opacity:1;\">\n",
       "  <use xlink:href=\"#glyph2-1\" x=\"290.241\" y=\"101.015\"/>\n",
       "</g>\n",
       "<g style=\"fill:rgb(0%,0%,0%);fill-opacity:1;\">\n",
       "  <use xlink:href=\"#glyph0-3\" x=\"294.832\" y=\"99.521\"/>\n",
       "</g>\n",
       "<g style=\"fill:rgb(0%,0%,0%);fill-opacity:1;\">\n",
       "  <use xlink:href=\"#glyph3-2\" x=\"298.706\" y=\"99.521\"/>\n",
       "</g>\n",
       "<g style=\"fill:rgb(0%,0%,0%);fill-opacity:1;\">\n",
       "  <use xlink:href=\"#glyph1-1\" x=\"306.455\" y=\"99.521\"/>\n",
       "</g>\n",
       "<g style=\"fill:rgb(0%,0%,0%);fill-opacity:1;\">\n",
       "  <use xlink:href=\"#glyph1-2\" x=\"312.492336\" y=\"99.521\"/>\n",
       "</g>\n",
       "<g style=\"fill:rgb(0%,0%,0%);fill-opacity:1;\">\n",
       "  <use xlink:href=\"#glyph0-6\" x=\"317.473\" y=\"99.521\"/>\n",
       "  <use xlink:href=\"#glyph0-5\" x=\"322.4543\" y=\"99.521\"/>\n",
       "</g>\n",
       "<path style=\"fill:none;stroke-width:0.398;stroke-linecap:round;stroke-linejoin:round;stroke:rgb(0%,0%,0%);stroke-opacity:1;stroke-miterlimit:10;\" d=\"M 329.316406 -80.961594 L 279.6875 -80.961594 \" transform=\"matrix(1,0,0,-1,0,8.097)\"/>\n",
       "<path style=\"fill:none;stroke-width:0.398;stroke-linecap:round;stroke-linejoin:round;stroke:rgb(0%,0%,0%);stroke-opacity:1;stroke-miterlimit:10;\" d=\"M 279.6875 -80.961594 L 279.6875 -96.903 \" transform=\"matrix(1,0,0,-1,0,8.097)\"/>\n",
       "<path style=\"fill:none;stroke-width:0.398;stroke-linecap:round;stroke-linejoin:round;stroke:rgb(0%,0%,0%);stroke-opacity:1;stroke-miterlimit:10;\" d=\"M 279.6875 -96.903 L 329.316406 -96.903 \" transform=\"matrix(1,0,0,-1,0,8.097)\"/>\n",
       "<path style=\"fill:none;stroke-width:0.398;stroke-linecap:round;stroke-linejoin:round;stroke:rgb(0%,0%,0%);stroke-opacity:1;stroke-miterlimit:10;\" d=\"M 329.316406 -96.903 L 329.316406 -80.961594 \" transform=\"matrix(1,0,0,-1,0,8.097)\"/>\n",
       "<path style=\"fill:none;stroke-width:0.398;stroke-linecap:round;stroke-linejoin:round;stroke:rgb(0%,0%,0%);stroke-opacity:1;stroke-miterlimit:10;\" d=\"M 279.6875 -88.93425 L 251.339844 -88.93425 \" transform=\"matrix(1,0,0,-1,0,8.097)\"/>\n",
       "<path style=\"fill:none;stroke-width:0.398;stroke-linecap:round;stroke-linejoin:round;stroke:rgb(0%,0%,0%);stroke-opacity:1;stroke-miterlimit:10;\" d=\"M -3.884719 -0.00125 L 3.884813 -0.00125 \" transform=\"matrix(1,0,0,-1,361.748,97.03)\"/>\n",
       "<path style=\"fill:none;stroke-width:0.398;stroke-linecap:round;stroke-linejoin:round;stroke:rgb(0%,0%,0%);stroke-opacity:1;stroke-miterlimit:10;\" d=\"M -0.00190625 -3.884062 L -0.00190625 3.885469 \" transform=\"matrix(1,0,0,-1,361.748,97.03)\"/>\n",
       "<path style=\"fill:none;stroke-width:0.398;stroke-linecap:round;stroke-linejoin:round;stroke:rgb(0%,0%,0%);stroke-opacity:1;stroke-miterlimit:10;\" d=\"M -0.00190625 3.983125 C -2.197219 3.983125 -3.986281 2.197969 -3.986281 -0.00125 \" transform=\"matrix(1,0,0,-1,361.748,97.03)\"/>\n",
       "<path style=\"fill:none;stroke-width:0.398;stroke-linecap:round;stroke-linejoin:round;stroke:rgb(0%,0%,0%);stroke-opacity:1;stroke-miterlimit:10;\" d=\"M -3.986281 -0.00125 C -3.986281 -2.200469 -2.197219 -3.985625 -0.00190625 -3.985625 \" transform=\"matrix(1,0,0,-1,361.748,97.03)\"/>\n",
       "<path style=\"fill:none;stroke-width:0.398;stroke-linecap:round;stroke-linejoin:round;stroke:rgb(0%,0%,0%);stroke-opacity:1;stroke-miterlimit:10;\" d=\"M -0.00190625 -3.985625 C 2.197313 -3.985625 3.986375 -2.200469 3.986375 -0.00125 \" transform=\"matrix(1,0,0,-1,361.748,97.03)\"/>\n",
       "<path style=\"fill:none;stroke-width:0.398;stroke-linecap:round;stroke-linejoin:round;stroke:rgb(0%,0%,0%);stroke-opacity:1;stroke-miterlimit:10;\" d=\"M 3.986375 -0.00125 C 3.986375 2.197969 2.197313 3.983125 -0.00190625 3.983125 \" transform=\"matrix(1,0,0,-1,361.748,97.03)\"/>\n",
       "<path style=\"fill:none;stroke-width:0.398;stroke-linecap:round;stroke-linejoin:round;stroke:rgb(0%,0%,0%);stroke-opacity:1;stroke-miterlimit:10;\" d=\"M 357.664062 -88.93425 L 329.316406 -88.93425 \" transform=\"matrix(1,0,0,-1,0,8.097)\"/>\n",
       "<path style=\"fill:none;stroke-width:0.398;stroke-linecap:round;stroke-linejoin:round;stroke:rgb(0%,0%,0%);stroke-opacity:1;stroke-miterlimit:10;\" d=\"M 394.179688 -88.93425 L 365.832031 -88.93425 \" transform=\"matrix(1,0,0,-1,0,8.097)\"/>\n",
       "<path style=\"fill:none;stroke-width:0.398;stroke-linecap:round;stroke-linejoin:round;stroke:rgb(0%,0%,0%);stroke-opacity:1;stroke-miterlimit:10;\" d=\"M 489.589844 -88.93425 L 440.203125 -88.93425 \" transform=\"matrix(1,0,0,-1,0,8.097)\"/>\n",
       "<path style=\"fill:none;stroke-width:0.398;stroke-linecap:round;stroke-linejoin:round;stroke:rgb(0%,0%,0%);stroke-opacity:1;stroke-miterlimit:10;\" d=\"M 555.148438 -88.93425 L 489.589844 -88.93425 \" transform=\"matrix(1,0,0,-1,0,8.097)\"/>\n",
       "<g style=\"fill:rgb(0%,0%,0%);fill-opacity:1;\">\n",
       "  <use xlink:href=\"#glyph1-3\" x=\"602.655\" y=\"99.521\"/>\n",
       "</g>\n",
       "<g style=\"fill:rgb(0%,0%,0%);fill-opacity:1;\">\n",
       "  <use xlink:href=\"#glyph2-1\" x=\"610.219\" y=\"101.015\"/>\n",
       "</g>\n",
       "<g style=\"fill:rgb(0%,0%,0%);fill-opacity:1;\">\n",
       "  <use xlink:href=\"#glyph0-3\" x=\"614.81\" y=\"99.521\"/>\n",
       "</g>\n",
       "<g style=\"fill:rgb(0%,0%,0%);fill-opacity:1;\">\n",
       "  <use xlink:href=\"#glyph3-2\" x=\"618.684\" y=\"99.521\"/>\n",
       "</g>\n",
       "<g style=\"fill:rgb(0%,0%,0%);fill-opacity:1;\">\n",
       "  <use xlink:href=\"#glyph1-1\" x=\"626.433\" y=\"99.521\"/>\n",
       "</g>\n",
       "<g style=\"fill:rgb(0%,0%,0%);fill-opacity:1;\">\n",
       "  <use xlink:href=\"#glyph1-2\" x=\"632.470336\" y=\"99.521\"/>\n",
       "</g>\n",
       "<g style=\"fill:rgb(0%,0%,0%);fill-opacity:1;\">\n",
       "  <use xlink:href=\"#glyph0-6\" x=\"637.451\" y=\"99.521\"/>\n",
       "  <use xlink:href=\"#glyph0-5\" x=\"642.4323\" y=\"99.521\"/>\n",
       "</g>\n",
       "<path style=\"fill:none;stroke-width:0.398;stroke-linecap:round;stroke-linejoin:round;stroke:rgb(0%,0%,0%);stroke-opacity:1;stroke-miterlimit:10;\" d=\"M 649.296875 -80.961594 L 599.664062 -80.961594 \" transform=\"matrix(1,0,0,-1,0,8.097)\"/>\n",
       "<path style=\"fill:none;stroke-width:0.398;stroke-linecap:round;stroke-linejoin:round;stroke:rgb(0%,0%,0%);stroke-opacity:1;stroke-miterlimit:10;\" d=\"M 599.664062 -80.961594 L 599.664062 -96.903 \" transform=\"matrix(1,0,0,-1,0,8.097)\"/>\n",
       "<path style=\"fill:none;stroke-width:0.398;stroke-linecap:round;stroke-linejoin:round;stroke:rgb(0%,0%,0%);stroke-opacity:1;stroke-miterlimit:10;\" d=\"M 599.664062 -96.903 L 649.296875 -96.903 \" transform=\"matrix(1,0,0,-1,0,8.097)\"/>\n",
       "<path style=\"fill:none;stroke-width:0.398;stroke-linecap:round;stroke-linejoin:round;stroke:rgb(0%,0%,0%);stroke-opacity:1;stroke-miterlimit:10;\" d=\"M 649.296875 -96.903 L 649.296875 -80.961594 \" transform=\"matrix(1,0,0,-1,0,8.097)\"/>\n",
       "<path style=\"fill:none;stroke-width:0.398;stroke-linecap:round;stroke-linejoin:round;stroke:rgb(0%,0%,0%);stroke-opacity:1;stroke-miterlimit:10;\" d=\"M 599.664062 -88.93425 L 555.148438 -88.93425 \" transform=\"matrix(1,0,0,-1,0,8.097)\"/>\n",
       "<path style=\"fill:none;stroke-width:0.398;stroke-linecap:round;stroke-linejoin:round;stroke:rgb(0%,0%,0%);stroke-opacity:1;stroke-miterlimit:10;\" d=\"M 698.582031 -88.93425 L 649.296875 -88.93425 \" transform=\"matrix(1,0,0,-1,0,8.097)\"/>\n",
       "<path style=\"fill:none;stroke-width:0.398;stroke-linecap:round;stroke-linejoin:round;stroke:rgb(0%,0%,0%);stroke-opacity:1;stroke-miterlimit:10;\" d=\"M 751.953125 -88.93425 L 698.582031 -88.93425 \" transform=\"matrix(1,0,0,-1,0,8.097)\"/>\n",
       "<path style=\"fill:none;stroke-width:0.398;stroke-linecap:round;stroke-linejoin:round;stroke:rgb(0%,0%,0%);stroke-opacity:1;stroke-miterlimit:10;\" d=\"M 809.199219 -88.93425 L 751.953125 -88.93425 \" transform=\"matrix(1,0,0,-1,0,8.097)\"/>\n",
       "<g style=\"fill:rgb(0%,0%,0%);fill-opacity:1;\">\n",
       "  <use xlink:href=\"#glyph3-1\" x=\"863.954\" y=\"99.493\"/>\n",
       "</g>\n",
       "<path style=\"fill:none;stroke-width:0.398;stroke-linecap:round;stroke-linejoin:round;stroke:rgb(0%,0%,0%);stroke-opacity:1;stroke-miterlimit:10;\" d=\"M 866.445312 -87.852219 L 866.445312 -48.551438 \" transform=\"matrix(1,0,0,-1,0,8.097)\"/>\n",
       "<path style=\"fill:none;stroke-width:0.398;stroke-linecap:round;stroke-linejoin:round;stroke:rgb(0%,0%,0%);stroke-opacity:1;stroke-miterlimit:10;\" d=\"M 865.226562 -88.93425 L 809.199219 -88.93425 \" transform=\"matrix(1,0,0,-1,0,8.097)\"/>\n",
       "<path style=\"fill:none;stroke-width:0.398;stroke-linecap:round;stroke-linejoin:round;stroke:rgb(0%,0%,0%);stroke-opacity:1;stroke-miterlimit:10;\" d=\"M 919.816406 -88.93425 L 867.660156 -88.93425 \" transform=\"matrix(1,0,0,-1,0,8.097)\"/>\n",
       "<path style=\"fill:none;stroke-width:0.398;stroke-linecap:round;stroke-linejoin:round;stroke:rgb(0%,0%,0%);stroke-opacity:1;stroke-miterlimit:10;\" d=\"M 973.1875 -88.93425 L 919.816406 -88.93425 \" transform=\"matrix(1,0,0,-1,0,8.097)\"/>\n",
       "<path style=\"fill:none;stroke-width:0.398;stroke-linecap:round;stroke-linejoin:round;stroke:rgb(0%,0%,0%);stroke-opacity:1;stroke-miterlimit:10;\" d=\"M 1030.433594 -88.93425 L 973.1875 -88.93425 \" transform=\"matrix(1,0,0,-1,0,8.097)\"/>\n",
       "<g style=\"fill:rgb(0%,0%,0%);fill-opacity:1;\">\n",
       "  <use xlink:href=\"#glyph3-1\" x=\"1085.188\" y=\"99.493\"/>\n",
       "</g>\n",
       "<path style=\"fill:none;stroke-width:0.398;stroke-linecap:round;stroke-linejoin:round;stroke:rgb(0%,0%,0%);stroke-opacity:1;stroke-miterlimit:10;\" d=\"M 1087.679688 -87.852219 L 1087.679688 -48.551438 \" transform=\"matrix(1,0,0,-1,0,8.097)\"/>\n",
       "<path style=\"fill:none;stroke-width:0.398;stroke-linecap:round;stroke-linejoin:round;stroke:rgb(0%,0%,0%);stroke-opacity:1;stroke-miterlimit:10;\" d=\"M 1086.460938 -88.93425 L 1030.433594 -88.93425 \" transform=\"matrix(1,0,0,-1,0,8.097)\"/>\n",
       "<path style=\"fill:none;stroke-width:0.398;stroke-linecap:round;stroke-linejoin:round;stroke:rgb(0%,0%,0%);stroke-opacity:1;stroke-miterlimit:10;\" d=\"M 1120.109375 -88.93425 L 1088.894531 -88.93425 \" transform=\"matrix(1,0,0,-1,0,8.097)\"/>\n",
       "<path style=\"fill:none;stroke-width:0.398;stroke-linecap:round;stroke-linejoin:round;stroke:rgb(0%,0%,0%);stroke-opacity:1;stroke-miterlimit:10;\" d=\"M 1215.519531 -88.93425 L 1166.136719 -88.93425 \" transform=\"matrix(1,0,0,-1,0,8.097)\"/>\n",
       "<path style=\"fill:none;stroke-width:0.398;stroke-linecap:round;stroke-linejoin:round;stroke:rgb(0%,0%,0%);stroke-opacity:1;stroke-miterlimit:10;\" d=\"M 1281.078125 -88.93425 L 1215.519531 -88.93425 \" transform=\"matrix(1,0,0,-1,0,8.097)\"/>\n",
       "<g clip-path=\"url(#clip6)\" clip-rule=\"nonzero\">\n",
       "<path style=\"fill:none;stroke-width:0.398;stroke-linecap:round;stroke-linejoin:round;stroke:rgb(0%,0%,0%);stroke-opacity:1;stroke-miterlimit:10;\" d=\"M 1325.597656 -88.93425 L 1281.078125 -88.93425 \" transform=\"matrix(1,0,0,-1,0,8.097)\"/>\n",
       "</g>\n",
       "</g>\n",
       "</svg>\n"
      ],
      "text/plain": [
       "<qutip.qip.circuit.QubitCircuit at 0x7f48ddc3f198>"
      ]
     },
     "execution_count": 12,
     "metadata": {},
     "output_type": "execute_result"
    }
   ],
   "source": [
    "q2 = q.resolve_gates()\n",
    "q2"
   ]
  },
  {
   "cell_type": "code",
   "execution_count": 13,
   "metadata": {
    "collapsed": false
   },
   "outputs": [
    {
     "data": {
      "text/latex": [
       "Quantum object: dims = [[2, 2, 2, 2], [2, 2, 2, 2]], shape = [16, 16], type = oper, isherm = False\\begin{equation*}\\left(\\begin{array}{*{11}c}0.707 & 0.0 & 0.0 & 0.0 & 0.0 & \\cdots & 0.0 & 0.0 & 0.0 & 0.0 & 0.0\\\\0.0 & 0.707 & 0.0 & 0.0 & 0.0 & \\cdots & 0.0 & 0.0 & 0.0 & 0.0 & 0.0\\\\0.0 & 0.0 & 0.707 & 0.0 & 0.0 & \\cdots & 0.0 & 0.0 & 0.0 & 0.0 & 0.0\\\\0.0 & 0.0 & 0.0 & 0.707 & 0.0 & \\cdots & 0.707 & 0.0 & 0.0 & 0.0 & 0.0\\\\0.0 & 0.0 & 0.0 & 0.0 & 0.707 & \\cdots & 0.0 & 0.707 & 0.0 & 0.0 & 0.0\\\\\\vdots & \\vdots & \\vdots & \\vdots & \\vdots & \\ddots & \\vdots & \\vdots & \\vdots & \\vdots & \\vdots\\\\0.0 & 0.0 & 0.0 & 0.0 & 0.707 & \\cdots & 0.0 & -0.707 & 0.0 & 0.0 & 0.0\\\\0.0 & 0.0 & 0.0 & 0.707 & 0.0 & \\cdots & -0.707 & 0.0 & 0.0 & 0.0 & 0.0\\\\0.0 & 0.0 & 0.707 & 0.0 & 0.0 & \\cdots & 0.0 & 0.0 & 0.0 & 0.0 & 0.0\\\\0.0 & 0.707 & 0.0 & 0.0 & 0.0 & \\cdots & 0.0 & 0.0 & 0.0 & 0.0 & 0.0\\\\0.707 & 0.0 & 0.0 & 0.0 & 0.0 & \\cdots & 0.0 & 0.0 & 0.0 & 0.0 & 0.0\\\\\\end{array}\\right)\\end{equation*}"
      ],
      "text/plain": [
       "Quantum object: dims = [[2, 2, 2, 2], [2, 2, 2, 2]], shape = [16, 16], type = oper, isherm = False\n",
       "Qobj data =\n",
       "[[ 0.70710678  0.          0.          0.          0.          0.          0.\n",
       "   0.          0.70710678  0.          0.          0.          0.          0.\n",
       "   0.          0.        ]\n",
       " [ 0.          0.70710678  0.          0.          0.          0.          0.\n",
       "   0.          0.          0.70710678  0.          0.          0.          0.\n",
       "   0.          0.        ]\n",
       " [ 0.          0.          0.70710678  0.          0.          0.          0.\n",
       "   0.          0.          0.          0.70710678  0.          0.          0.\n",
       "   0.          0.        ]\n",
       " [ 0.          0.          0.          0.70710678  0.          0.          0.\n",
       "   0.          0.          0.          0.          0.70710678  0.          0.\n",
       "   0.          0.        ]\n",
       " [ 0.          0.          0.          0.          0.70710678  0.          0.\n",
       "   0.          0.          0.          0.          0.          0.70710678\n",
       "   0.          0.          0.        ]\n",
       " [ 0.          0.          0.          0.          0.          0.70710678\n",
       "   0.          0.          0.          0.          0.          0.          0.\n",
       "   0.70710678  0.          0.        ]\n",
       " [ 0.          0.          0.          0.          0.          0.\n",
       "   0.70710678  0.          0.          0.          0.          0.          0.\n",
       "   0.          0.70710678  0.        ]\n",
       " [ 0.          0.          0.          0.          0.          0.          0.\n",
       "   0.70710678  0.          0.          0.          0.          0.          0.\n",
       "   0.          0.70710678]\n",
       " [ 0.          0.          0.          0.          0.          0.          0.\n",
       "   0.70710678  0.          0.          0.          0.          0.          0.\n",
       "   0.         -0.70710678]\n",
       " [ 0.          0.          0.          0.          0.          0.\n",
       "   0.70710678  0.          0.          0.          0.          0.          0.\n",
       "   0.         -0.70710678  0.        ]\n",
       " [ 0.          0.          0.          0.          0.          0.70710678\n",
       "   0.          0.          0.          0.          0.          0.          0.\n",
       "  -0.70710678  0.          0.        ]\n",
       " [ 0.          0.          0.          0.          0.70710678  0.          0.\n",
       "   0.          0.          0.          0.          0.         -0.70710678\n",
       "   0.          0.          0.        ]\n",
       " [ 0.          0.          0.          0.70710678  0.          0.          0.\n",
       "   0.          0.          0.          0.         -0.70710678  0.          0.\n",
       "   0.          0.        ]\n",
       " [ 0.          0.          0.70710678  0.          0.          0.          0.\n",
       "   0.          0.          0.         -0.70710678  0.          0.          0.\n",
       "   0.          0.        ]\n",
       " [ 0.          0.70710678  0.          0.          0.          0.          0.\n",
       "   0.          0.         -0.70710678  0.          0.          0.          0.\n",
       "   0.          0.        ]\n",
       " [ 0.70710678  0.          0.          0.          0.          0.          0.\n",
       "   0.         -0.70710678  0.          0.          0.          0.          0.\n",
       "   0.          0.        ]]"
      ]
     },
     "execution_count": 13,
     "metadata": {},
     "output_type": "execute_result"
    }
   ],
   "source": [
    "U_EPRC"
   ]
  },
  {
   "cell_type": "code",
   "execution_count": null,
   "metadata": {
    "collapsed": true
   },
   "outputs": [],
   "source": []
  }
 ],
 "metadata": {
  "kernelspec": {
   "display_name": "Python 3",
   "language": "python",
   "name": "python3"
  },
  "language_info": {
   "codemirror_mode": {
    "name": "ipython",
    "version": 3
   },
   "file_extension": ".py",
   "mimetype": "text/x-python",
   "name": "python",
   "nbconvert_exporter": "python",
   "pygments_lexer": "ipython3",
   "version": "3.5.2"
  }
 },
 "nbformat": 4,
 "nbformat_minor": 0
}
