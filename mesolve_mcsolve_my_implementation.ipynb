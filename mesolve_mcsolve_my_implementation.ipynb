{
 "cells": [
  {
   "cell_type": "markdown",
   "metadata": {},
   "source": [
    "# Comparing direct evolution to mesolve/mcsolve"
   ]
  },
  {
   "cell_type": "code",
   "execution_count": null,
   "metadata": {
    "ExecuteTime": {
     "start_time": "2016-08-29T14:54:40.613Z"
    },
    "collapsed": true,
    "init_cell": true,
    "slideshow": {
     "slide_type": "-"
    }
   },
   "outputs": [],
   "source": [
    "%matplotlib inline\n",
    "\n",
    "import numpy as np\n",
    "from qutip import *\n",
    "import LH_tools\n",
    "import matplotlib.pyplot as plt\n",
    "import adiabatic_sim \n",
    "from IPython.display import display\n",
    "\n",
    "\n",
    "\n",
    "n = 6\n",
    "N = 2**n\n",
    "\n",
    "\n",
    "id_n = tensor([qeye(2)]*n)\n",
    "psi0 = tensor([basis(2,0)]*n)\n",
    "psi0= hadamard_transform(n)*psi0\n",
    "H_0 = id_n-psi0*psi0.trans()\n",
    "rot_H0, rot_psi0 = LH_tools.rotate_by_had(H_0, psi0)\n",
    "# Generate the state we are looking for\n",
    "w = tensor([basis(2,0),basis(2,1),basis(2,0),basis(2,0),basis(2,1),basis(2,0)])\n",
    "\n",
    "#Define final hamiltonian\n",
    "H_1 = id_n - w*w.trans()\n",
    "\n",
    "eps = 0.3\n",
    "s = lambda t : LH_tools.s_function(t,N,eps)\n",
    "tmax = LH_tools.find_s_one(N,eps)\n",
    "tlist = np.linspace(0, tmax , 10)\n"
   ]
  },
  {
   "cell_type": "markdown",
   "metadata": {
    "collapsed": true
   },
   "source": [
    "## Compare mcsolve to mesolve"
   ]
  },
  {
   "cell_type": "code",
   "execution_count": null,
   "metadata": {
    "ExecuteTime": {
     "start_time": "2016-08-29T14:54:40.619Z"
    },
    "collapsed": false
   },
   "outputs": [],
   "source": [
    "def plot_energies_and_expects(h_s, output, slist, args, figsize=(15, 5), plot_tlist = []):\n",
    "    if plot_tlist == []:\n",
    "        plot_tlist = slist\n",
    "    hs = [Qobj.evaluate(h_s, t,args) for t in slist]\n",
    "    eigs = []\n",
    "    for h in hs:\n",
    "        eigs.append(h.eigenstates(eigvals=2)[1])\n",
    "\n",
    "    expects = []\n",
    "    for eig_pair,psi_t in zip(eigs, output.states):\n",
    "        expects.append(\n",
    "            [abs(eig_pair[0].overlap( psi_t))**2,         \n",
    "            abs(eig_pair[1].overlap( psi_t))**2]\n",
    "        )\n",
    "    fig = plt.figure(figsize=figsize)\n",
    "    P_plt = fig.add_subplot(1, 2, 1)\n",
    "    P_plt.set_title(\"Occupation probabilities\")\n",
    "    P_plt.plot(tlist, expects)\n",
    "    \n",
    "    ev_plt = fig.add_subplot(1, 2, 2)\n",
    "    ev_plt.set_title(\"Eigenvalues\")\n",
    "    ev_plt.plot(plot_tlist, [h.eigenstates(eigvals=2)[0] for h in hs])\n",
    "    \n",
    "from qutip import *\n",
    "from scipy.linalg import expm\n",
    "\n",
    "def sim_simple_adiabatic(tlist, H0, H1, s='linear'):\n",
    "    \"\"\"\n",
    "\n",
    "    :param tlist: Time list\n",
    "    :param H0: first hamiltonian\n",
    "    :param H1: second hamiltonian\n",
    "    :param s: function - relates time to coupling, default is linear dependecy\n",
    "    :return:\n",
    "    \"\"\"\n",
    "    if s == 'linear':\n",
    "        s = lambda t: (t - tmin) / (tmax - tmin)\n",
    "    duration = len(tlist)\n",
    "    tmin = min(tlist)\n",
    "    tmax = max(tlist)\n",
    "    # start at H0 ground state\n",
    "    eigvals, eigvecs = H0.eigenstates(eigvals=2)\n",
    "    P_mat = []\n",
    "    eigvals_mat = []\n",
    "    psi = eigvecs[0]\n",
    "    psis = [psi]\n",
    "    eigvals_mat.append(eigvals)\n",
    "\n",
    "    P_mat.append(\n",
    "        [abs(eigvecs[0].overlap(psi)) ** 2,\n",
    "         abs(eigvecs[1].overlap(psi)) ** 2])\n",
    "    oldt = tmin\n",
    "    for t in tlist[1:]:\n",
    "        dt = oldt - t\n",
    "        Ht = H0 * (1 - s(t)) + H1 * (s(t))\n",
    "        eigvals, eigvecs = Ht.eigenstates(eigvals=2)\n",
    "        U = expm(-1j * Ht.data * dt)\n",
    "        psi = Qobj(U * psi.data, dims=psi.dims)\n",
    "        psis.append(psi)\n",
    "        eigvals_mat.append(eigvals)\n",
    "        P_mat.append(\n",
    "            [abs(eigvecs[0].overlap(psi)) ** 2,\n",
    "             abs(eigvecs[1].overlap(psi)) ** 2])\n",
    "        oldt = t\n",
    "    return P_mat, eigvals_mat, psis\n",
    "    "
   ]
  },
  {
   "cell_type": "markdown",
   "metadata": {},
   "source": [
    "## Linear "
   ]
  },
  {
   "cell_type": "code",
   "execution_count": null,
   "metadata": {
    "ExecuteTime": {
     "start_time": "2016-08-29T14:54:40.624Z"
    },
    "collapsed": true
   },
   "outputs": [],
   "source": [
    "#Linear mcsolve\n",
    "H00 = Qobj(dims=H_0.dims)\n",
    "h_s= [H00,\n",
    "      [H_0,'(t_max-t)/t_max'],\n",
    "     [H_1, 't/t_max']]\n",
    "tlist = np.linspace(0, tmax , 10)\n",
    "args= {'t_max':tmax, 'N':N, 'epsilon': eps}"
   ]
  },
  {
   "cell_type": "code",
   "execution_count": null,
   "metadata": {
    "ExecuteTime": {
     "start_time": "2016-08-29T14:54:40.628Z"
    },
    "collapsed": false,
    "scrolled": true
   },
   "outputs": [],
   "source": [
    "output = qutip.mcsolve(H=h_s,\n",
    "                       psi0=psi0,\n",
    "                       tlist=tlist,\n",
    "                       args=args.copy(),\n",
    "                       e_ops=[],\n",
    "                       c_ops=[])\n",
    "\n",
    "plot_energies_and_expects(h_s, output, tlist, {'t_max':tmax, 'N':N, 'epsilon': eps})"
   ]
  },
  {
   "cell_type": "code",
   "execution_count": null,
   "metadata": {
    "ExecuteTime": {
     "start_time": "2016-08-29T14:54:40.632Z"
    },
    "collapsed": false
   },
   "outputs": [],
   "source": [
    "#Linear mesolve\n",
    "output = qutip.mesolve(H=h_s,\n",
    "                       rho0=psi0,\n",
    "                       tlist=tlist,\n",
    "                       args=args.copy(),\n",
    "                       e_ops=[],\n",
    "                      c_ops=[])\n",
    "\n",
    "plot_energies_and_expects(h_s, output, tlist, {'t_max':tmax, 'N':N, 'epsilon': eps})\n",
    "\n"
   ]
  },
  {
   "cell_type": "code",
   "execution_count": null,
   "metadata": {
    "ExecuteTime": {
     "start_time": "2016-08-29T14:54:40.636Z"
    },
    "collapsed": false
   },
   "outputs": [],
   "source": [
    "#Linear my implementation\n",
    "\n",
    "P_mat, evals_mat,psis_sim = sim_simple_adiabatic(tlist, H_0, H_1)\n",
    "LH_tools.plot_PandEV(P_mat, evals_mat, tlist)\n",
    "pass"
   ]
  },
  {
   "cell_type": "markdown",
   "metadata": {},
   "source": [
    "## Roland method one"
   ]
  },
  {
   "cell_type": "code",
   "execution_count": null,
   "metadata": {
    "ExecuteTime": {
     "start_time": "2016-08-29T14:54:40.640Z"
    },
    "collapsed": true
   },
   "outputs": [],
   "source": [
    "h_s= [H00,\n",
    "      [H_0,'(1-1/2*(1-(np.sqrt(N - 1) * np.tan((2 * t * epsilon * np.sqrt(N - 1) - N * np.arctan(np.sqrt(N - 1))) / N))/(1-N)))'],\n",
    "     [H_1, '(1/2*(1-(np.sqrt(N - 1) * np.tan((2 * t * epsilon * np.sqrt(N - 1) - N * np.arctan(np.sqrt(N - 1))) / N))/(1-N)))']]\n",
    "tlist = np.linspace(0, tmax , 10)\n",
    "args = {'t_max':tmax, 'N':N, 'epsilon': eps}"
   ]
  },
  {
   "cell_type": "code",
   "execution_count": null,
   "metadata": {
    "ExecuteTime": {
     "start_time": "2016-08-29T14:54:40.644Z"
    },
    "collapsed": false
   },
   "outputs": [],
   "source": [
    "#mcsolve \n",
    "output = qutip.mcsolve(H=h_s,\n",
    "                       psi0=psi0,\n",
    "                       tlist=tlist,\n",
    "                       args=args.copy(),\n",
    "                       e_ops=[],\n",
    "                      c_ops=[])\n",
    "\n",
    "plot_energies_and_expects(h_s, output, tlist, args.copy())"
   ]
  },
  {
   "cell_type": "code",
   "execution_count": null,
   "metadata": {
    "ExecuteTime": {
     "start_time": "2016-08-29T14:54:40.649Z"
    },
    "collapsed": false
   },
   "outputs": [],
   "source": [
    "# mesolve\n",
    "output = qutip.mesolve(H=h_s,\n",
    "                       rho0=psi0,\n",
    "                       tlist=tlist,\n",
    "                       args=args.copy(),\n",
    "                       e_ops=[],\n",
    "                      c_ops=[])\n",
    "\n",
    "plot_energies_and_expects(h_s, output, tlist, args.copy())\n"
   ]
  },
  {
   "cell_type": "code",
   "execution_count": null,
   "metadata": {
    "ExecuteTime": {
     "start_time": "2016-08-29T14:54:40.654Z"
    },
    "collapsed": false
   },
   "outputs": [],
   "source": [
    "##Using my implementation\n",
    "\n",
    "s = lambda t : LH_tools.s_function(t,N,eps)\n",
    "P_mat, evals_mat,psis_sim = adiabatic_sim.sim_simple_adiabatic(tlist, H_0, H_1 ,s)\n",
    "LH_tools.plot_PandEV(P_mat,evals_mat,tlist)\n",
    "pass\n"
   ]
  },
  {
   "cell_type": "markdown",
   "metadata": {},
   "source": [
    "## Roland method two"
   ]
  },
  {
   "cell_type": "code",
   "execution_count": null,
   "metadata": {
    "ExecuteTime": {
     "start_time": "2016-08-29T14:54:40.657Z"
    },
    "collapsed": true
   },
   "outputs": [],
   "source": [
    "H00 = Qobj(dims=H_0.dims)\n",
    "h_s= [H00,\n",
    "      [H_0,'(t_max-t)/t_max'],\n",
    "     [H_1, 't/t_max']]\n",
    "slist = s(tlist) * tmax"
   ]
  },
  {
   "cell_type": "code",
   "execution_count": null,
   "metadata": {
    "ExecuteTime": {
     "start_time": "2016-08-29T14:54:40.661Z"
    },
    "collapsed": false
   },
   "outputs": [],
   "source": [
    "#mcsolve \n",
    "output = qutip.mcsolve(H=h_s,\n",
    "                       psi0=psi0,\n",
    "                       tlist=slist,\n",
    "                       args=args.copy(),\n",
    "                       e_ops=[],\n",
    "                      c_ops=[])\n",
    "\n",
    "plot_energies_and_expects(h_s, output, slist, args.copy(),plot_tlist =tlist)"
   ]
  },
  {
   "cell_type": "code",
   "execution_count": null,
   "metadata": {
    "ExecuteTime": {
     "start_time": "2016-08-29T14:54:40.665Z"
    },
    "collapsed": false
   },
   "outputs": [],
   "source": [
    "#mesolve \n",
    "output = qutip.mesolve(H=h_s,\n",
    "                       rho0=psi0,\n",
    "                       tlist=slist,\n",
    "                       args=args.copy(),\n",
    "                       e_ops=[],\n",
    "                      c_ops=[])\n",
    "\n",
    "plot_energies_and_expects(h_s, output, slist, args.copy(),plot_tlist = tlist)"
   ]
  },
  {
   "cell_type": "markdown",
   "metadata": {},
   "source": [
    "## Roland method Three"
   ]
  },
  {
   "cell_type": "code",
   "execution_count": null,
   "metadata": {
    "ExecuteTime": {
     "start_time": "2016-08-29T14:54:40.669Z"
    },
    "collapsed": true
   },
   "outputs": [],
   "source": [
    "H00 = Qobj(dims=H_0.dims)\n",
    "h_s= [H00,\n",
    "      [H_0,'(1-t)'],\n",
    "     [H_1, 't']]\n",
    "slist = s(tlist)"
   ]
  },
  {
   "cell_type": "code",
   "execution_count": null,
   "metadata": {
    "ExecuteTime": {
     "start_time": "2016-08-29T14:54:40.673Z"
    },
    "collapsed": false
   },
   "outputs": [],
   "source": [
    "#mcsolve \n",
    "output = qutip.mcsolve(H=h_s,\n",
    "                       psi0=psi0,\n",
    "                       tlist=slist,\n",
    "                       args=args.copy(),\n",
    "                       e_ops=[],\n",
    "                      c_ops=[])\n",
    "\n",
    "plot_energies_and_expects(h_s, output, slist, args.copy(),plot_tlist =tlist)"
   ]
  },
  {
   "cell_type": "code",
   "execution_count": null,
   "metadata": {
    "ExecuteTime": {
     "start_time": "2016-08-29T14:54:40.677Z"
    },
    "collapsed": false
   },
   "outputs": [],
   "source": [
    "#mesolve \n",
    "output = qutip.mesolve(H=h_s,\n",
    "                       rho0=psi0,\n",
    "                       tlist=slist,\n",
    "                       args=args.copy(),\n",
    "                       e_ops=[],\n",
    "                      c_ops=[])\n",
    "\n",
    "plot_energies_and_expects(h_s, output, slist, args.copy(),plot_tlist =tlist)"
   ]
  },
  {
   "cell_type": "code",
   "execution_count": null,
   "metadata": {
    "collapsed": true
   },
   "outputs": [],
   "source": []
  }
 ],
 "metadata": {
  "hide_input": false,
  "kernelspec": {
   "display_name": "Python 3",
   "language": "python",
   "name": "python3"
  },
  "language_info": {
   "codemirror_mode": {
    "name": "ipython",
    "version": 3
   },
   "file_extension": ".py",
   "mimetype": "text/x-python",
   "name": "python",
   "nbconvert_exporter": "python",
   "pygments_lexer": "ipython3",
   "version": "3.5.2"
  },
  "nav_menu": {},
  "toc": {
   "navigate_menu": true,
   "number_sections": true,
   "sideBar": true,
   "threshold": 6,
   "toc_cell": false,
   "toc_section_display": "block",
   "toc_window_display": false
  }
 },
 "nbformat": 4,
 "nbformat_minor": 0
}
