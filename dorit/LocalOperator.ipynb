{
 "cells": [
  {
   "cell_type": "code",
   "execution_count": 18,
   "metadata": {
    "ExecuteTime": {
     "end_time": "2016-09-06T19:30:57.571961",
     "start_time": "2016-09-06T19:30:57.512350"
    },
    "collapsed": false
   },
   "outputs": [],
   "source": [
    "%matplotlib inline\n",
    "\n",
    "from IPython.display import Image,display\n",
    "\n",
    "from numpy import pi\n",
    "\n",
    "from qutip import *\n",
    "import numpy as np\n",
    "import matplotlib.pyplot as plt\n",
    "from importlib import reload \n",
    "from scipy.optimize import fsolve\n",
    "import pdb\n",
    "\n",
    "class LocalOperator:\n",
    "    def __init__(self, dict_of_ops):\n",
    "        # list of 1 qubit ops and indexes of the shape (op, i) \n",
    "        # for example {1:sigmaz(), 5: sigmax(), 10:hadamard()}\n",
    "        self.dict_of_ops = dict_of_ops\n",
    "        self.update_d()\n",
    "        \n",
    "    def update_d(self):\n",
    "        if len(self.dict_of_ops) == 0:\n",
    "            self.d = 0\n",
    "        else:\n",
    "            self.d = max(self.dict_of_ops.keys()) + 1 \n",
    "        \n",
    "    def full_form(self, n = None):\n",
    "        if n == None : n = self.d\n",
    "            \n",
    "        full_list = []\n",
    "        for i in range(n):\n",
    "            \n",
    "            if i in self.dict_of_ops.keys():\n",
    "                full_list.append(self.dict_of_ops[i])\n",
    "            else:\n",
    "                full_list.append(qeye(2))\n",
    "        return tensor(full_list)\n",
    "    \n",
    "    def tensor(self, other):\n",
    "        #new is copy of old\n",
    "        new = LocalOperator(self.dict_of_ops.copy())\n",
    "        for index,op in other.dict_of_ops.items():\n",
    "            if index in new.dict_of_ops.keys():\n",
    "                new.dict_of_ops[index] *=  other.dict_of_ops[index]\n",
    "            else:\n",
    "                new.dict_of_ops[index] = other.dict_of_ops[index]\n",
    "        new.update_d()\n",
    "        return new\n",
    "    \n",
    "    def __mul__(self, other):\n",
    "        return self.tensor(other)\n",
    "    \n",
    "    def __sub__(self, other):\n",
    "        new = LocalOperator(self.dict_of_ops.copy())\n",
    "        if (sorted( self.dict_of_ops.keys() ) !=\n",
    "            sorted( other.dict_of_ops.keys() ) ) :\n",
    "             raise TypeError('Local operator operate on different qubits') \n",
    "                \n",
    "        for index,op in other.dict_of_ops.items():\n",
    "            new.dict_of_ops[index] -=  other.dict_of_ops[index]\n",
    "            \n",
    "        new.dict_of_ops = {x:y for (x,y) in new.dict_of_ops.items() if y.norm() != 0  }\n",
    "        new.update_d()\n",
    "        return new\n",
    "    \n",
    "    def add(self, other):\n",
    "        new = LocalOperator(self.dict_of_ops.copy())\n",
    "        if (sorted( self.dict_of_ops.keys() ) !=\n",
    "            sorted( other.dict_of_ops.keys() ) ) :\n",
    "             raise TypeError('Local operator operate on different qubits') \n",
    "                \n",
    "        for index,op in other.dict_of_ops.items():\n",
    "            new.dict_of_ops[index] +=  other.dict_of_ops[index]\n",
    "            \n",
    "        new.dict_of_ops = {x:y for (x,y) in new.dict_of_ops.items() if y.norm() != 0  }\n",
    "        new.update_d()\n",
    "        return new\n",
    "    \n",
    "    def norm(self):\n",
    "        if self.d == 0 : return 0\n",
    "        ret = 1\n",
    "        for op in self.dict_of_ops.values():\n",
    "            ret *= op.norm()\n",
    "        return ret\n",
    "    \n",
    "    def __repr__(self):\n",
    "        return str(self.dict_of_ops)"
   ]
  },
  {
   "cell_type": "code",
   "execution_count": 17,
   "metadata": {
    "ExecuteTime": {
     "end_time": "2016-08-22T18:51:26.675573",
     "start_time": "2016-08-22T18:51:26.658125"
    },
    "collapsed": false
   },
   "outputs": [
    {
     "name": "stdout",
     "output_type": "stream",
     "text": [
      "Sanity check :\n",
      "(H1 and H2) and (H2 and H3) not commuting  4.0 4.0\n",
      "H1-H3 are commuting  0\n"
     ]
    }
   ],
   "source": [
    "# H1 = LocalOperator({0:sigmaz(), 1:sigmaz()})\n",
    "# H2 = LocalOperator({1:sigmax(), 2:sigmax()})\n",
    "# H3 = LocalOperator({2:sigmaz(), 3:sigmaz()})\n",
    "# print (\"Sanity check :\\n(H1 and H2) and (H2 and H3) not commuting \",(H1*H2-H2*H1).norm(), (H2*H3-H3*H2).norm())\n",
    "# print (\"H1-H3 are commuting \", (H1*H3-H3*H1).norm())"
   ]
  },
  {
   "cell_type": "code",
   "execution_count": 18,
   "metadata": {
    "ExecuteTime": {
     "end_time": "2016-08-22T18:51:26.783290",
     "start_time": "2016-08-22T18:51:26.776989"
    },
    "collapsed": false
   },
   "outputs": [
    {
     "data": {
      "text/plain": [
       "0"
      ]
     },
     "execution_count": 18,
     "metadata": {},
     "output_type": "execute_result"
    }
   ],
   "source": [
    "# (H1*H3 - H3*H1).norm()"
   ]
  },
  {
   "cell_type": "code",
   "execution_count": 19,
   "metadata": {
    "ExecuteTime": {
     "end_time": "2016-08-22T18:51:27.620961",
     "start_time": "2016-08-22T18:51:27.619248"
    },
    "collapsed": true
   },
   "outputs": [],
   "source": [
    "# a = {1:0,2:4}"
   ]
  },
  {
   "cell_type": "code",
   "execution_count": null,
   "metadata": {
    "ExecuteTime": {
     "end_time": "2016-08-22T18:46:24.721862",
     "start_time": "2016-08-22T15:43:13.278Z"
    },
    "collapsed": false
   },
   "outputs": [],
   "source": [
    "# list(filter(None,a.values()))"
   ]
  },
  {
   "cell_type": "code",
   "execution_count": null,
   "metadata": {
    "ExecuteTime": {
     "end_time": "2016-08-22T18:46:24.722074",
     "start_time": "2016-08-22T15:43:13.284Z"
    },
    "collapsed": false
   },
   "outputs": [],
   "source": [
    "# l1.dict_of_ops"
   ]
  },
  {
   "cell_type": "code",
   "execution_count": null,
   "metadata": {
    "ExecuteTime": {
     "end_time": "2016-08-22T18:46:24.722279",
     "start_time": "2016-08-22T15:43:13.292Z"
    },
    "collapsed": false
   },
   "outputs": [],
   "source": [
    "# Qobj(((0,1),(1,0)))\\"
   ]
  },
  {
   "cell_type": "code",
   "execution_count": 3,
   "metadata": {
    "ExecuteTime": {
     "end_time": "2016-08-22T18:46:46.464901",
     "start_time": "2016-08-22T18:46:46.456790"
    },
    "collapsed": false
   },
   "outputs": [
    {
     "ename": "TypeError",
     "evalue": "Incompatible quantum object dimensions",
     "output_type": "error",
     "traceback": [
      "\u001b[0;31m---------------------------------------------------------------------------\u001b[0m",
      "\u001b[0;31mTypeError\u001b[0m                                 Traceback (most recent call last)",
      "\u001b[0;32m<ipython-input-3-27d3b63eae75>\u001b[0m in \u001b[0;36m<module>\u001b[0;34m()\u001b[0m\n\u001b[0;32m----> 1\u001b[0;31m \u001b[0mbasis\u001b[0m\u001b[0;34m(\u001b[0m\u001b[0;36m2\u001b[0m\u001b[0;34m)\u001b[0m \u001b[0;34m-\u001b[0m \u001b[0mbasis\u001b[0m\u001b[0;34m(\u001b[0m\u001b[0;36m4\u001b[0m\u001b[0;34m)\u001b[0m\u001b[0;34m\u001b[0m\u001b[0m\n\u001b[0m",
      "\u001b[0;32m/home/oryonatan/anaconda3/envs/qutip/lib/python3.5/site-packages/qutip/qobj.py\u001b[0m in \u001b[0;36m__sub__\u001b[0;34m(self, other)\u001b[0m\n\u001b[1;32m    379\u001b[0m         \u001b[0mSUBTRACTION\u001b[0m \u001b[0;32mwith\u001b[0m \u001b[0mQobj\u001b[0m \u001b[0mon\u001b[0m \u001b[0mLEFT\u001b[0m \u001b[0;34m[\u001b[0m \u001b[0mex\u001b[0m\u001b[0;34m.\u001b[0m \u001b[0mQobj\u001b[0m\u001b[0;34m-\u001b[0m\u001b[0;36m4\u001b[0m \u001b[0;34m]\u001b[0m\u001b[0;34m\u001b[0m\u001b[0m\n\u001b[1;32m    380\u001b[0m         \"\"\"\n\u001b[0;32m--> 381\u001b[0;31m         \u001b[0;32mreturn\u001b[0m \u001b[0mself\u001b[0m \u001b[0;34m+\u001b[0m \u001b[0;34m(\u001b[0m\u001b[0;34m-\u001b[0m\u001b[0mother\u001b[0m\u001b[0;34m)\u001b[0m\u001b[0;34m\u001b[0m\u001b[0m\n\u001b[0m\u001b[1;32m    382\u001b[0m \u001b[0;34m\u001b[0m\u001b[0m\n\u001b[1;32m    383\u001b[0m     \u001b[0;32mdef\u001b[0m \u001b[0m__rsub__\u001b[0m\u001b[0;34m(\u001b[0m\u001b[0mself\u001b[0m\u001b[0;34m,\u001b[0m \u001b[0mother\u001b[0m\u001b[0;34m)\u001b[0m\u001b[0;34m:\u001b[0m\u001b[0;34m\u001b[0m\u001b[0m\n",
      "\u001b[0;32m/home/oryonatan/anaconda3/envs/qutip/lib/python3.5/site-packages/qutip/qobj.py\u001b[0m in \u001b[0;36m__add__\u001b[0;34m(self, other)\u001b[0m\n\u001b[1;32m    340\u001b[0m \u001b[0;34m\u001b[0m\u001b[0m\n\u001b[1;32m    341\u001b[0m         \u001b[0;32melif\u001b[0m \u001b[0mself\u001b[0m\u001b[0;34m.\u001b[0m\u001b[0mdims\u001b[0m \u001b[0;34m!=\u001b[0m \u001b[0mother\u001b[0m\u001b[0;34m.\u001b[0m\u001b[0mdims\u001b[0m\u001b[0;34m:\u001b[0m\u001b[0;34m\u001b[0m\u001b[0m\n\u001b[0;32m--> 342\u001b[0;31m             \u001b[0;32mraise\u001b[0m \u001b[0mTypeError\u001b[0m\u001b[0;34m(\u001b[0m\u001b[0;34m'Incompatible quantum object dimensions'\u001b[0m\u001b[0;34m)\u001b[0m\u001b[0;34m\u001b[0m\u001b[0m\n\u001b[0m\u001b[1;32m    343\u001b[0m \u001b[0;34m\u001b[0m\u001b[0m\n\u001b[1;32m    344\u001b[0m         \u001b[0;32melif\u001b[0m \u001b[0mself\u001b[0m\u001b[0;34m.\u001b[0m\u001b[0mshape\u001b[0m \u001b[0;34m!=\u001b[0m \u001b[0mother\u001b[0m\u001b[0;34m.\u001b[0m\u001b[0mshape\u001b[0m\u001b[0;34m:\u001b[0m\u001b[0;34m\u001b[0m\u001b[0m\n",
      "\u001b[0;31mTypeError\u001b[0m: Incompatible quantum object dimensions"
     ]
    }
   ],
   "source": [
    "# basis(2) - basis(4)"
   ]
  },
  {
   "cell_type": "code",
   "execution_count": 14,
   "metadata": {
    "ExecuteTime": {
     "end_time": "2016-09-06T19:26:18.690356",
     "start_time": "2016-09-06T19:26:18.683132"
    },
    "collapsed": false
   },
   "outputs": [
    {
     "data": {
      "text/plain": [
       "<module 'XXZZham' from '/home/oryonatan/qutip/dorit/XXZZham.py'>"
      ]
     },
     "execution_count": 14,
     "metadata": {},
     "output_type": "execute_result"
    }
   ],
   "source": [
    "from importlib import reload\n",
    "from Two_non_commutings import plot_commutations,plot_operator\n",
    "import XXZZham\n",
    "reload(XXZZham)"
   ]
  },
  {
   "cell_type": "code",
   "execution_count": 9,
   "metadata": {
    "ExecuteTime": {
     "end_time": "2016-09-06T19:23:58.867788",
     "start_time": "2016-09-06T19:23:58.865710"
    },
    "collapsed": false
   },
   "outputs": [],
   "source": [
    "t = XXZZham.XXZZ_term(1,2,15)"
   ]
  },
  {
   "cell_type": "code",
   "execution_count": 10,
   "metadata": {
    "ExecuteTime": {
     "end_time": "2016-09-06T19:23:59.403451",
     "start_time": "2016-09-06T19:23:59.395078"
    },
    "collapsed": false
   },
   "outputs": [
    {
     "data": {
      "text/latex": [
       "Quantum object: dims = [[2, 2], [2, 2]], shape = [4, 4], type = oper, isherm = True\\begin{equation*}\\left(\\begin{array}{*{11}c}15.0 & 0.0 & 0.0 & 15.0\\\\0.0 & -15.0 & 15.0 & 0.0\\\\0.0 & 15.0 & -15.0 & 0.0\\\\15.0 & 0.0 & 0.0 & 15.0\\\\\\end{array}\\right)\\end{equation*}"
      ],
      "text/plain": [
       "Quantum object: dims = [[2, 2], [2, 2]], shape = [4, 4], type = oper, isherm = True\n",
       "Qobj data =\n",
       "[[ 15.   0.   0.  15.]\n",
       " [  0. -15.  15.   0.]\n",
       " [  0.  15. -15.   0.]\n",
       " [ 15.   0.   0.  15.]]"
      ]
     },
     "execution_count": 10,
     "metadata": {},
     "output_type": "execute_result"
    }
   ],
   "source": [
    "t.get_oper()"
   ]
  },
  {
   "cell_type": "code",
   "execution_count": 12,
   "metadata": {
    "ExecuteTime": {
     "end_time": "2016-09-06T19:25:14.165167",
     "start_time": "2016-09-06T19:25:14.138026"
    },
    "collapsed": false
   },
   "outputs": [
    {
     "data": {
      "text/latex": [
       "Quantum object: dims = [[2, 2, 2, 2], [2, 2, 2, 2]], shape = [16, 16], type = oper, isherm = True\\begin{equation*}\\left(\\begin{array}{*{11}c}15.0 & 0.0 & 0.0 & 15.0 & 0.0 & \\cdots & 0.0 & 15.0 & 0.0 & 0.0 & 15.0\\\\0.0 & 15.0 & 15.0 & 0.0 & 15.0 & \\cdots & 15.0 & 0.0 & 15.0 & 15.0 & 0.0\\\\0.0 & 15.0 & 15.0 & 0.0 & 15.0 & \\cdots & 15.0 & 0.0 & 15.0 & 15.0 & 0.0\\\\15.0 & 0.0 & 0.0 & 15.0 & 0.0 & \\cdots & 0.0 & 15.0 & 0.0 & 0.0 & 15.0\\\\0.0 & 15.0 & 15.0 & 0.0 & -15.0 & \\cdots & 15.0 & 0.0 & -15.0 & -15.0 & 0.0\\\\\\vdots & \\vdots & \\vdots & \\vdots & \\vdots & \\ddots & \\vdots & \\vdots & \\vdots & \\vdots & \\vdots\\\\0.0 & 15.0 & 15.0 & 0.0 & 15.0 & \\cdots & -15.0 & 0.0 & -15.0 & -15.0 & 0.0\\\\15.0 & 0.0 & 0.0 & 15.0 & 0.0 & \\cdots & 0.0 & 15.0 & 0.0 & 0.0 & 15.0\\\\0.0 & 15.0 & 15.0 & 0.0 & -15.0 & \\cdots & -15.0 & 0.0 & 15.0 & 15.0 & 0.0\\\\0.0 & 15.0 & 15.0 & 0.0 & -15.0 & \\cdots & -15.0 & 0.0 & 15.0 & 15.0 & 0.0\\\\15.0 & 0.0 & 0.0 & 15.0 & 0.0 & \\cdots & 0.0 & 15.0 & 0.0 & 0.0 & 15.0\\\\\\end{array}\\right)\\end{equation*}"
      ],
      "text/plain": [
       "Quantum object: dims = [[2, 2, 2, 2], [2, 2, 2, 2]], shape = [16, 16], type = oper, isherm = True\n",
       "Qobj data =\n",
       "[[ 15.   0.   0.  15.   0.  15.  15.   0.   0.  15.  15.   0.  15.   0.\n",
       "    0.  15.]\n",
       " [  0.  15.  15.   0.  15.   0.   0.  15.  15.   0.   0.  15.   0.  15.\n",
       "   15.   0.]\n",
       " [  0.  15.  15.   0.  15.   0.   0.  15.  15.   0.   0.  15.   0.  15.\n",
       "   15.   0.]\n",
       " [ 15.   0.   0.  15.   0.  15.  15.   0.   0.  15.  15.   0.  15.   0.\n",
       "    0.  15.]\n",
       " [  0.  15.  15.   0. -15.   0.   0. -15.  15.   0.   0.  15.   0. -15.\n",
       "  -15.   0.]\n",
       " [ 15.   0.   0.  15.   0. -15. -15.   0.   0.  15.  15.   0. -15.   0.\n",
       "    0. -15.]\n",
       " [ 15.   0.   0.  15.   0. -15. -15.   0.   0.  15.  15.   0. -15.   0.\n",
       "    0. -15.]\n",
       " [  0.  15.  15.   0. -15.   0.   0. -15.  15.   0.   0.  15.   0. -15.\n",
       "  -15.   0.]\n",
       " [  0.  15.  15.   0.  15.   0.   0.  15. -15.   0.   0. -15.   0. -15.\n",
       "  -15.   0.]\n",
       " [ 15.   0.   0.  15.   0.  15.  15.   0.   0. -15. -15.   0. -15.   0.\n",
       "    0. -15.]\n",
       " [ 15.   0.   0.  15.   0.  15.  15.   0.   0. -15. -15.   0. -15.   0.\n",
       "    0. -15.]\n",
       " [  0.  15.  15.   0.  15.   0.   0.  15. -15.   0.   0. -15.   0. -15.\n",
       "  -15.   0.]\n",
       " [ 15.   0.   0.  15.   0. -15. -15.   0.   0. -15. -15.   0.  15.   0.\n",
       "    0.  15.]\n",
       " [  0.  15.  15.   0. -15.   0.   0. -15. -15.   0.   0. -15.   0.  15.\n",
       "   15.   0.]\n",
       " [  0.  15.  15.   0. -15.   0.   0. -15. -15.   0.   0. -15.   0.  15.\n",
       "   15.   0.]\n",
       " [ 15.   0.   0.  15.   0. -15. -15.   0.   0. -15. -15.   0.  15.   0.\n",
       "    0.  15.]]"
      ]
     },
     "execution_count": 12,
     "metadata": {},
     "output_type": "execute_result"
    }
   ],
   "source": [
    "t.get_commuting_form(2)"
   ]
  },
  {
   "cell_type": "code",
   "execution_count": 29,
   "metadata": {
    "ExecuteTime": {
     "end_time": "2016-09-06T19:34:03.108053",
     "start_time": "2016-09-06T19:34:03.103111"
    },
    "collapsed": false
   },
   "outputs": [
    {
     "data": {
      "text/plain": [
       "[[2, 2], [2, 2]]"
      ]
     },
     "execution_count": 29,
     "metadata": {},
     "output_type": "execute_result"
    }
   ],
   "source": [
    "t.get_oper().dims"
   ]
  },
  {
   "cell_type": "code",
   "execution_count": 27,
   "metadata": {
    "ExecuteTime": {
     "end_time": "2016-09-06T19:33:48.069686",
     "start_time": "2016-09-06T19:33:48.047771"
    },
    "collapsed": false
   },
   "outputs": [
    {
     "data": {
      "text/plain": [
       "[[2, 2, 2, 2], [2, 2, 2, 2]]"
      ]
     },
     "execution_count": 27,
     "metadata": {},
     "output_type": "execute_result"
    }
   ],
   "source": [
    "t.get_commuting_form(2)"
   ]
  },
  {
   "cell_type": "code",
   "execution_count": 97,
   "metadata": {
    "ExecuteTime": {
     "end_time": "2016-09-06T19:43:50.639206",
     "start_time": "2016-09-06T19:43:50.616048"
    },
    "collapsed": false
   },
   "outputs": [
    {
     "data": {
      "text/latex": [
       "Quantum object: dims = [[2, 2], [2, 2]], shape = [4, 4], type = oper, isherm = False\\begin{equation*}\\left(\\begin{array}{*{11}c}(0.991-0.002j) & (0.015-0.013j) & (0.018-0.025j) & (-0.125+0.002j)\\\\(-0.014+0.014j) & (0.581+0.442j) & (-0.453+0.409j) & (-0.233+0.200j)\\\\(-0.021+0.023j) & (-0.517+0.323j) & (0.412+0.510j) & (-0.299+0.329j)\\\\(0.099+0.077j) & (-0.307-0.012j) & (-0.428+0.116j) & (0.670+0.495j)\\\\\\end{array}\\right)\\end{equation*}"
      ],
      "text/plain": [
       "Quantum object: dims = [[2, 2], [2, 2]], shape = [4, 4], type = oper, isherm = False\n",
       "Qobj data =\n",
       "[[ 0.99144289-0.00189981j  0.01544004-0.01313915j  0.01796392-0.02511114j\n",
       "  -0.12517778+0.0018999j ]\n",
       " [-0.01433298+0.01425641j  0.58094507+0.44187362j -0.45300855+0.40949693j\n",
       "  -0.23258893+0.199599j  ]\n",
       " [-0.02054635+0.02309701j -0.51741703+0.32321183j  0.41205986+0.50967362j\n",
       "  -0.29895246+0.32851942j]\n",
       " [ 0.09904699+0.0765688j  -0.30740501-0.01246539j -0.42790845+0.11608654j\n",
       "   0.66952378+0.49480286j]]"
      ]
     },
     "execution_count": 97,
     "metadata": {},
     "output_type": "execute_result"
    }
   ],
   "source": [
    "rand_unitary(4,dims = [[2, 2], [2, 2]])"
   ]
  },
  {
   "cell_type": "code",
   "execution_count": 99,
   "metadata": {
    "ExecuteTime": {
     "end_time": "2016-09-06T19:44:19.051523",
     "start_time": "2016-09-06T19:44:19.041763"
    },
    "collapsed": false
   },
   "outputs": [
    {
     "data": {
      "text/latex": [
       "Quantum object: dims = [[2, 2], [1, 1]], shape = [4, 1], type = ket\\begin{equation*}\\left(\\begin{array}{*{11}c}(0.477+0.366j)\\\\(-0.349+0.198j)\\\\(-0.388+0.548j)\\\\(-0.027+0.161j)\\\\\\end{array}\\right)\\end{equation*}"
      ],
      "text/plain": [
       "Quantum object: dims = [[2, 2], [1, 1]], shape = [4, 1], type = ket\n",
       "Qobj data =\n",
       "[[ 0.47682669+0.36640828j]\n",
       " [-0.34928809+0.19768154j]\n",
       " [-0.38777361+0.54810226j]\n",
       " [-0.02722359+0.1605476j ]]"
      ]
     },
     "execution_count": 99,
     "metadata": {},
     "output_type": "execute_result"
    }
   ],
   "source": [
    "psi  = rand_unitary(4,dims = [[2, 2], [2, 2]]) * tensor([basis(2,0)]*2)\n",
    "psi"
   ]
  },
  {
   "cell_type": "code",
   "execution_count": 100,
   "metadata": {
    "ExecuteTime": {
     "end_time": "2016-09-06T19:44:20.521457",
     "start_time": "2016-09-06T19:44:20.517245"
    },
    "collapsed": false
   },
   "outputs": [],
   "source": [
    "o_small = t.get_oper()"
   ]
  },
  {
   "cell_type": "code",
   "execution_count": 101,
   "metadata": {
    "ExecuteTime": {
     "end_time": "2016-09-06T19:44:21.089188",
     "start_time": "2016-09-06T19:44:21.085772"
    },
    "collapsed": false
   },
   "outputs": [
    {
     "data": {
      "text/plain": [
       "5.3332443803879315"
      ]
     },
     "execution_count": 101,
     "metadata": {},
     "output_type": "execute_result"
    }
   ],
   "source": [
    "expect(o_small,psi)"
   ]
  },
  {
   "cell_type": "code",
   "execution_count": 102,
   "metadata": {
    "ExecuteTime": {
     "end_time": "2016-09-06T19:44:21.704983",
     "start_time": "2016-09-06T19:44:21.684793"
    },
    "collapsed": true
   },
   "outputs": [],
   "source": [
    "o_big = t.get_commuting_form(2)"
   ]
  },
  {
   "cell_type": "code",
   "execution_count": 103,
   "metadata": {
    "ExecuteTime": {
     "end_time": "2016-09-06T19:44:22.313942",
     "start_time": "2016-09-06T19:44:22.309256"
    },
    "collapsed": false
   },
   "outputs": [],
   "source": [
    "psi_0n = tensor(psi,tensor(basis(2,1),basis(2,0)))"
   ]
  },
  {
   "cell_type": "code",
   "execution_count": 104,
   "metadata": {
    "ExecuteTime": {
     "end_time": "2016-09-06T19:44:22.841547",
     "start_time": "2016-09-06T19:44:22.837888"
    },
    "collapsed": false
   },
   "outputs": [
    {
     "data": {
      "text/plain": [
       "5.3332443803879315"
      ]
     },
     "execution_count": 104,
     "metadata": {},
     "output_type": "execute_result"
    }
   ],
   "source": [
    "expect(o_big,psi_0n)"
   ]
  },
  {
   "cell_type": "code",
   "execution_count": 107,
   "metadata": {
    "ExecuteTime": {
     "end_time": "2016-09-06T19:44:42.279892",
     "start_time": "2016-09-06T19:44:42.275882"
    },
    "collapsed": false
   },
   "outputs": [
    {
     "name": "stdout",
     "output_type": "stream",
     "text": [
      "Quantum object: dims = [[2, 2, 2, 2], [1, 1, 1, 1]], shape = [16, 1], type = ket\n",
      "Qobj data =\n",
      "[[ 0.00000000+0.j        ]\n",
      " [ 0.00000000+0.j        ]\n",
      " [ 0.47682669+0.36640828j]\n",
      " [ 0.00000000+0.j        ]\n",
      " [ 0.00000000+0.j        ]\n",
      " [ 0.00000000+0.j        ]\n",
      " [-0.34928809+0.19768154j]\n",
      " [ 0.00000000+0.j        ]\n",
      " [ 0.00000000+0.j        ]\n",
      " [ 0.00000000+0.j        ]\n",
      " [-0.38777361+0.54810226j]\n",
      " [ 0.00000000+0.j        ]\n",
      " [ 0.00000000+0.j        ]\n",
      " [ 0.00000000+0.j        ]\n",
      " [-0.02722359+0.1605476j ]\n",
      " [ 0.00000000+0.j        ]]\n"
     ]
    }
   ],
   "source": [
    "print(psi_0n)"
   ]
  },
  {
   "cell_type": "code",
   "execution_count": null,
   "metadata": {
    "collapsed": true
   },
   "outputs": [],
   "source": []
  }
 ],
 "metadata": {
  "hide_input": false,
  "kernelspec": {
   "display_name": "Python 3",
   "language": "python",
   "name": "python3"
  },
  "language_info": {
   "codemirror_mode": {
    "name": "ipython",
    "version": 3
   },
   "file_extension": ".py",
   "mimetype": "text/x-python",
   "name": "python",
   "nbconvert_exporter": "python",
   "pygments_lexer": "ipython3",
   "version": "3.5.2"
  },
  "nav_menu": {},
  "toc": {
   "navigate_menu": true,
   "number_sections": true,
   "sideBar": true,
   "threshold": 6,
   "toc_cell": false,
   "toc_section_display": "block",
   "toc_window_display": false
  }
 },
 "nbformat": 4,
 "nbformat_minor": 0
}
