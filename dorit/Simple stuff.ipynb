{
 "cells": [
  {
   "cell_type": "code",
   "execution_count": 3,
   "metadata": {
    "ExecuteTime": {
     "end_time": "2016-08-29T19:26:21.823583",
     "start_time": "2016-08-29T19:26:21.813535"
    },
    "collapsed": false,
    "init_cell": true
   },
   "outputs": [],
   "source": [
    "%matplotlib inline\n",
    "\n",
    "\n",
    "from IPython.display import Image,display\n",
    "\n",
    "from numpy import pi\n",
    "\n",
    "from qutip import *\n",
    "import numpy as np\n",
    "import matplotlib.pyplot as plt\n",
    "from importlib import reload \n",
    "from scipy.optimize import fsolve\n",
    "import LocalOperator as LO\n",
    "reload(LO)\n",
    "sx = sigmax()\n",
    "sy = sigmay()\n",
    "sz = sigmaz()\n",
    "ID = qeye(2)\n"
   ]
  },
  {
   "cell_type": "markdown",
   "metadata": {},
   "source": [
    "First lets make some non-commuting-terms LH to commuting-terms  ones !\n",
    "for starters I'll work on the 4 qubit chain."
   ]
  },
  {
   "cell_type": "code",
   "execution_count": 4,
   "metadata": {
    "ExecuteTime": {
     "end_time": "2016-08-29T19:26:21.834714",
     "start_time": "2016-08-29T19:26:21.824990"
    },
    "collapsed": false
   },
   "outputs": [],
   "source": [
    "chain  = tensor([basis(2,0)] * 4)\n",
    "# plot_qubism(chain, legend_iteration=2)\n",
    "plt.show()"
   ]
  },
  {
   "cell_type": "markdown",
   "metadata": {},
   "source": [
    "now lets add some interaction!, we take the operators to be :\n",
    "$$H1 = \\sigma_z^1\\sigma_z^2 \\\\\n",
    "H2 = \\sigma_x^2\\sigma_x^3 \\\\\n",
    "H3 = \\sigma_z^3\\sigma_z^4 $$\n",
    "[H1,H2] and [H2,H3] are supposed zero."
   ]
  },
  {
   "cell_type": "code",
   "execution_count": 5,
   "metadata": {
    "ExecuteTime": {
     "end_time": "2016-08-29T19:26:21.867995",
     "start_time": "2016-08-29T19:26:21.835891"
    },
    "collapsed": false
   },
   "outputs": [
    {
     "name": "stdout",
     "output_type": "stream",
     "text": [
      "Sanity check :\n",
      "(H1 and H2) and (H2 and H3) not commuting  8.0 16.0\n",
      "H1-H3 are commuting  0.0\n"
     ]
    }
   ],
   "source": [
    "H1 = LO.LocalOperator({0:sz, 1:sz})\n",
    "H2 = LO.LocalOperator({1:sx, 2:sx})\n",
    "H3 = LO.LocalOperator({2:sz, 3:sz})\n",
    "print (\"Sanity check :\\n(H1 and H2) and (H2 and H3) not commuting \",(H1*H2-H2*H1).norm(), (H2*H3-H3*H2).norm())\n",
    "print (\"H1-H3 are commuting \", (H1*H3-H3*H1).norm())"
   ]
  },
  {
   "cell_type": "markdown",
   "metadata": {
    "ExecuteTime": {
     "end_time": "2016-08-21T21:19:04.028600",
     "start_time": "2016-08-21T21:19:04.022951"
    },
    "collapsed": true
   },
   "source": [
    "Now since two operators operates on qubit number 2, and two operators operate on qubit number 3, we need to add additional 4 qubits to the system. they will be qubit 5 and 6 for the 2 qubit, and 7 and 8 for the third.\n",
    "\n",
    "\n",
    "<i><font color='teal'>Is it possible to algorithmically tell on which qubits an operator does not operate as identity ? it is probably possible because we know that each term operates only on constant number of qubits, however in it's full form (when expanded with identity to the rest of the space) it might not be possible in short time.</font></i>"
   ]
  },
  {
   "cell_type": "markdown",
   "metadata": {},
   "source": [
    "$$C_i = \\sum_{j=1}^{k}C_j\\otimes \\sigma_x^j \\otimes \\sigma_x^i $$\n"
   ]
  },
  {
   "cell_type": "markdown",
   "metadata": {},
   "source": [
    "$L1 = \\sigma_z^1 \\otimes C1^{2,5,6} \\otimes I^{rest}$\n",
    "\n",
    "$C1^{2,5,6} = \\sigma_z^2\\otimes \\sigma_x^5 * \\sigma_x^5 +\\sigma_z^2\\otimes \\sigma_x^5 \\otimes \\sigma_x^6 $"
   ]
  },
  {
   "cell_type": "code",
   "execution_count": 6,
   "metadata": {
    "ExecuteTime": {
     "end_time": "2016-08-29T19:26:21.900792",
     "start_time": "2016-08-29T19:26:21.869580"
    },
    "collapsed": false
   },
   "outputs": [],
   "source": [
    "n = 8\n",
    "C1 = ( LO.LocalOperator({2:sz, 5: sx * sx }).force_d(n) + \n",
    "      LO.LocalOperator({2:sz, 5: sx ,5: sx }) )\n",
    "L1 = LO.LocalOperator({1:sz}).full_form(n) + C1\n"
   ]
  },
  {
   "cell_type": "markdown",
   "metadata": {},
   "source": [
    "$L2 = C2^{2,5,6} \\otimes C3^{3,7,8} \\otimes I^{rest} $\n",
    "\n",
    "$C2^{2,5,6} = \\sigma_x^2\\otimes \\sigma_x^5 \\otimes\\sigma_x^6 +\\sigma_x^2\\otimes \\sigma_x^6 *\\sigma_x^6 $\n",
    "\n",
    "$C3^{3,7,8} = \\sigma_x^3\\otimes \\sigma_x^7 *\\sigma_x^7 +\\sigma_x^3\\otimes \\sigma_x^7 \\otimes\\sigma_x^8 $\n"
   ]
  },
  {
   "cell_type": "code",
   "execution_count": 7,
   "metadata": {
    "ExecuteTime": {
     "end_time": "2016-08-29T19:26:21.934805",
     "start_time": "2016-08-29T19:26:21.902369"
    },
    "collapsed": false
   },
   "outputs": [],
   "source": [
    "C2 =(LO.LocalOperator( {2:sx,5:sx,6:sx} ).force_d(n) +\n",
    "     LO.LocalOperator( {2:sx,6:sx*sx} ) )\n",
    "C3 =(LO.LocalOperator( {3:sx,7:sx*sx} ).force_d(n) +\n",
    "     LO.LocalOperator( {2:sx,6:sx,8:sx} ) )\n",
    "L2 = C2+C3"
   ]
  },
  {
   "cell_type": "markdown",
   "metadata": {
    "ExecuteTime": {
     "end_time": "2016-08-21T21:57:50.731136",
     "start_time": "2016-08-21T21:57:50.728402"
    }
   },
   "source": [
    "\n",
    "$L3 =  C4^{3,7,8} \\otimes \\sigma_z^{4}\\otimes I^{rest} $\n",
    "\n",
    "$C4^{3,7,8} =  \\sigma_z^3\\otimes \\sigma_x^7 \\otimes \\sigma_x^8 +\\sigma_z^3\\otimes\\sigma_x^8*\\sigma_x^8 $\n"
   ]
  },
  {
   "cell_type": "code",
   "execution_count": 8,
   "metadata": {
    "ExecuteTime": {
     "end_time": "2016-08-29T19:26:21.961041",
     "start_time": "2016-08-29T19:26:21.935870"
    },
    "collapsed": false
   },
   "outputs": [],
   "source": [
    "C4 =(LO.LocalOperator( {3:sz,7:sx,8:sx} ).force_d(n) +\n",
    "     LO.LocalOperator( {2:sz,8:sx*sx} ) )\n",
    "L3 = LO.LocalOperator( {4:sz} ).full_form(n) + C4\n"
   ]
  }
 ],
 "metadata": {
  "_draft": {
   "nbviewer_url": "https://gist.github.com/b65ec3f3d82e297a1e5b9ae2b5129312"
  },
  "celltoolbar": "Initialisation Cell",
  "gist": {
   "data": {
    "description": "qutip/dorit/Simple stuff.ipynb",
    "public": true
   },
   "id": "b65ec3f3d82e297a1e5b9ae2b5129312"
  },
  "hide_input": false,
  "kernelspec": {
   "display_name": "Python 3",
   "language": "python",
   "name": "python3"
  }
 },
 "nbformat": 4,
 "nbformat_minor": 0
}
