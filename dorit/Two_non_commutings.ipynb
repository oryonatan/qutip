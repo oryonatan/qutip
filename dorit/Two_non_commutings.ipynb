{
 "cells": [
  {
   "cell_type": "code",
   "execution_count": 12,
   "metadata": {
    "ExecuteTime": {
     "end_time": "2016-09-01T17:50:07.005332",
     "start_time": "2016-09-01T17:50:06.975884"
    },
    "init_cell": true
   },
   "outputs": [],
   "source": [
    "%matplotlib inline\n",
    "\n",
    "\n",
    "from IPython.display import Image,display\n",
    "\n",
    "from numpy import pi\n",
    "\n",
    "from qutip import *\n",
    "import numpy as np\n",
    "import matplotlib.pyplot as plt\n",
    "from importlib import reload \n",
    "from scipy.optimize import fsolve\n",
    "import LocalOperator as LO\n",
    "reload(LO)\n",
    "sx = sigmax()\n",
    "sy = sigmay()\n",
    "sz = sigmaz()\n",
    "ID = qeye(2)\n",
    "\n",
    "def plot_operator(operator, vmin='not set', vmax='not set'):\n",
    "    if vmin == 'not set':\n",
    "            vmin = np.amin(np.real(operator.data.toarray()))\n",
    "    if vmax == 'not set':\n",
    "        vmax = np.amax(np.real(operator.data.toarray()))\n",
    "    \n",
    "    data = operator.data.toarray()\n",
    "    data = np.ma.masked_where(abs(data) < 0.00000001 , data)\n",
    "    cmap = plt.cm.nipy_spectral\n",
    "    cmap.set_bad(color='whitesmoke')\n",
    "    plt.imshow(np.real(data),\n",
    "               interpolation='nearest', vmin=vmin, vmax=vmax,cmap=cmap)\n",
    "    \n",
    "def plot_commutations(op1, op2, figsize=(15, 5)):\n",
    "    com = op1*op2-op2*op1\n",
    "    vmin = min(np.amin(np.real(op1.data.toarray())),\n",
    "            np.amin(np.real(op2.data.toarray())),\n",
    "            np.amin(np.real(com.data.toarray())))\n",
    "    vmax = max(np.amax(np.real(op1.data.toarray())),\n",
    "            np.amax(np.real(op2.data.toarray())),\n",
    "            np.amax(np.real(com.data.toarray())))\n",
    "    fig = plt.figure(figsize=figsize)\n",
    "    fig.suptitle(\"Real part only\")\n",
    "    op1_plt = fig.add_subplot(1, 3, 1)\n",
    "    op1_plt.set_title(\"First Op\")\n",
    "    plot_operator(op1, vmin=vmin, vmax=vmax)\n",
    "    op2_plt = fig.add_subplot(1, 3, 2)\n",
    "    op2_plt.set_title(\"Second Op\")\n",
    "    plot_operator(op2, vmin=vmin, vmax=vmax)\n",
    "    com_plt = fig.add_subplot(1, 3, 3)\n",
    "    com_plt.set_title(\"Commutation relation\")\n",
    "    plot_operator(op1*op2-op2*op1, vmin=vmin, vmax=vmax)"
   ]
  },
  {
   "cell_type": "markdown",
   "metadata": {},
   "source": [
    "now lets add some interaction!, we take the operators to be :\n",
    "$$H1 = \\sigma_z^1\\sigma_z^2 \\\\\n",
    "H2 = \\sigma_x^2\\sigma_x^3 \\\\$$"
   ]
  },
  {
   "cell_type": "code",
   "execution_count": 3,
   "metadata": {
    "ExecuteTime": {
     "end_time": "2016-08-31T13:41:50.124893",
     "start_time": "2016-08-31T13:41:50.117063"
    },
    "collapsed": true
   },
   "outputs": [],
   "source": [
    "H1 = LO.LocalOperator({1:sz, 2:sz})\n",
    "H2 = LO.LocalOperator({2:sx, 3:sx})"
   ]
  },
  {
   "cell_type": "code",
   "execution_count": 4,
   "metadata": {
    "ExecuteTime": {
     "end_time": "2016-08-31T13:41:50.149895",
     "start_time": "2016-08-31T13:41:50.126528"
    }
   },
   "outputs": [],
   "source": [
    "np.set_printoptions(threshold=np.inf)\n",
    "n = 5\n",
    "C1 = ( LO.LocalOperator({2:sz}).force_d(n) + \n",
    "      LO.LocalOperator({2:sx, 4: sx ,5: sx }) )\n",
    "L1 = LO.LocalOperator({1:sz}).full_form(n) + C1"
   ]
  },
  {
   "cell_type": "code",
   "execution_count": 5,
   "metadata": {
    "ExecuteTime": {
     "end_time": "2016-08-31T13:41:50.180444",
     "start_time": "2016-08-31T13:41:50.151561"
    }
   },
   "outputs": [],
   "source": [
    "C2 =(LO.LocalOperator( {2:sz,4:sx,5:sx} ).force_d(n) +\n",
    "     LO.LocalOperator( {2:sx} ) )\n",
    "L2 = LO.LocalOperator( {3:sx} ).full_form(n) + C2"
   ]
  },
  {
   "cell_type": "code",
   "execution_count": 6,
   "metadata": {
    "ExecuteTime": {
     "end_time": "2016-08-31T13:41:50.594828",
     "start_time": "2016-08-31T13:41:50.181741"
    }
   },
   "outputs": [
    {
     "name": "stdout",
     "output_type": "stream",
     "text": [
      "Plotting real part of matrix \n"
     ]
    },
    {
     "data": {
      "image/png": "[encoded data removed]",
      "text/plain": [
       "<matplotlib.figure.Figure at 0x7f79340f76d8>"
      ]
     },
     "metadata": {},
     "output_type": "display_data"
    }
   ],
   "source": [
    "plot_commutations(L1,L2)"
   ]
  },
  {
   "cell_type": "code",
   "execution_count": 14,
   "metadata": {
    "ExecuteTime": {
     "end_time": "2016-09-01T17:51:40.848217",
     "start_time": "2016-09-01T17:51:40.718741"
    }
   },
   "outputs": [
    {
     "data": {
      "image/png": "[encoded data removed]",
      "text/plain": [
       "<matplotlib.figure.Figure at 0x7f78fc8e5278>"
      ]
     },
     "metadata": {},
     "output_type": "display_data"
    }
   ],
   "source": [
    "plot_operator(H1.full_form(2))"
   ]
  },
  {
   "cell_type": "code",
   "execution_count": 15,
   "metadata": {
    "ExecuteTime": {
     "end_time": "2016-09-01T17:51:55.707792",
     "start_time": "2016-09-01T17:51:55.592528"
    }
   },
   "outputs": [
    {
     "data": {
      "image/png": "[encoded data removed]",
      "text/plain": [
       "<matplotlib.figure.Figure at 0x7f78f8e52588>"
      ]
     },
     "metadata": {},
     "output_type": "display_data"
    }
   ],
   "source": [
    "plot_operator(L1)"
   ]
  },
  {
   "cell_type": "code",
   "execution_count": null,
   "metadata": {
    "collapsed": true
   },
   "outputs": [],
   "source": [
    "H1"
   ]
  }
 ],
 "metadata": {
  "_draft": {
   "nbviewer_url": "https://gist.github.com/b65ec3f3d82e297a1e5b9ae2b5129312"
  },
  "anaconda-cloud": {},
  "celltoolbar": "Initialisation Cell",
  "gist": {
   "data": {
    "description": "qutip/dorit/Simple stuff.ipynb",
    "public": true
   },
   "id": "b65ec3f3d82e297a1e5b9ae2b5129312"
  },
  "hide_input": false,
  "kernelspec": {
   "display_name": "Python 3",
   "language": "python",
   "name": "python3"
  },
  "language_info": {
   "codemirror_mode": {
    "name": "ipython",
    "version": 3
   },
   "file_extension": ".py",
   "mimetype": "text/x-python",
   "name": "python",
   "nbconvert_exporter": "python",
   "pygments_lexer": "ipython3",
   "version": "3.5.2"
  },
  "nav_menu": {},
  "toc": {
   "navigate_menu": true,
   "number_sections": true,
   "sideBar": true,
   "threshold": 6,
   "toc_cell": false,
   "toc_section_display": "block",
   "toc_window_display": false
  },
  "varInspector": {
   "cols": {
    "lenName": 16,
    "lenType": 16,
    "lenVar": 40
   },
   "kernels_config": {
    "python": {
     "delete_cmd_postfix": "",
     "delete_cmd_prefix": "del ",
     "library": "var_list.py",
     "varRefreshCmd": "print(var_dic_list())"
    },
    "r": {
     "delete_cmd_postfix": ") ",
     "delete_cmd_prefix": "rm(",
     "library": "var_list.r",
     "varRefreshCmd": "cat(var_dic_list()) "
    }
   },
   "types_to_exclude": [
    "module",
    "function",
    "builtin_function_or_method",
    "instance",
    "_Feature"
   ],
   "window_display": false
  }
 },
 "nbformat": 4,
 "nbformat_minor": 1
}
