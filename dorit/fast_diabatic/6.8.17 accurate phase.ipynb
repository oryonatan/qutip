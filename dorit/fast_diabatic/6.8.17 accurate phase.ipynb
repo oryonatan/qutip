{
 "cells": [
  {
   "cell_type": "code",
   "execution_count": 123,
   "metadata": {
    "ExecuteTime": {
     "end_time": "2017-08-06T16:27:08.891120Z",
     "start_time": "2017-08-06T16:27:08.851858Z"
    },
    "collapsed": true
   },
   "outputs": [],
   "source": [
    "from threading import Lock\n",
    "import warnings\n",
    "import matplotlib.pyplot as plt\n",
    "import pyximport\n",
    "from tqdm import tnrange, tqdm_notebook\n",
    "\n",
    "warnings.filterwarnings('ignore')\n",
    "\n",
    "import sys\n",
    "import os\n",
    "\n",
    "sys.path.insert(0, os.path.join(os.getcwd(), os.pardir))\n",
    "from qutip import *\n",
    "import numpy as np\n",
    "import matplotlib.pyplot as plt\n",
    "\n",
    "pyximport.install(setup_args={\"include_dirs\": np.get_include()})\n",
    "import XXZZham as XXZZham\n",
    "from XXZZham import add_high_energies, rotate_to_00_base\n",
    "import random\n",
    "import adiabatic_sim as asim\n",
    "import time\n",
    "\n",
    "import multiprocessing\n",
    "import ctypes\n",
    "mkl_rt = ctypes.CDLL('libmkl_rt.so')\n",
    "mkl_get_max_threads = mkl_rt.mkl_get_max_threads\n",
    "mkl_rt.mkl_set_num_threads(ctypes.byref(ctypes.c_int(multiprocessing.cpu_count())))\n",
    "import os\n",
    "import LH_tools as LHT\n",
    "\n",
    "%precision %.15f\n",
    "PRECISION  = 2 ** -40\n",
    "\n",
    "from IPython.display import display\n",
    "import FD_tools as FDT\n",
    "from numpy import angle,pi"
   ]
  },
  {
   "cell_type": "code",
   "execution_count": 18,
   "metadata": {
    "ExecuteTime": {
     "end_time": "2017-08-06T15:36:49.981555Z",
     "start_time": "2017-08-06T15:36:49.950544Z"
    },
    "collapsed": true
   },
   "outputs": [],
   "source": [
    "def create_back_and_forward_props_return_EV(tlist, H_0, H_1):\n",
    "    \"\"\"\n",
    "\n",
    "    Creates a back and forwared propagators\n",
    "    :param tlist:\n",
    "    :param H_0:\n",
    "    :param H_1:\n",
    "    :return:\n",
    "    \"\"\"\n",
    "    EVs_forward = []\n",
    "    n = len(H_0.dims[0])\n",
    "    prop = tensor([qeye(2)] * n)\n",
    "    tmax = max(tlist)\n",
    "    last_time = 0\n",
    "    for time in tlist:\n",
    "        dt = abs(time - last_time)\n",
    "        s = time / tmax\n",
    "        Hs = H_0 * (1 - s) + H_1 * s\n",
    "        EVs_forward.append(Hs.eigenstates(eigvals=2)[0])\n",
    "        U = (-1j * Hs * dt).expm()\n",
    "        prop = U * prop\n",
    "        last_time = time\n",
    "    last_time = 0\n",
    "    backprop = tensor([qeye(2)] * n)\n",
    "    for time in tlist[1:]:\n",
    "        dt = abs(time - last_time)\n",
    "        s = time / tmax\n",
    "        Hs = H_0 * (s) + H_1 * (1 - s)\n",
    "        U = (-1j * Hs * dt).expm()\n",
    "        backprop = U * backprop\n",
    "        last_time = time\n",
    "    return backprop, prop,EVs_forward\n"
   ]
  },
  {
   "cell_type": "code",
   "execution_count": 126,
   "metadata": {
    "ExecuteTime": {
     "end_time": "2017-08-06T19:12:25.513028Z",
     "start_time": "2017-08-06T19:12:25.495083Z"
    },
    "collapsed": true
   },
   "outputs": [],
   "source": [
    "def create_half_prop(tlist, H_0, H_1, epsilon =0.1):\n",
    "    \"\"\"\n",
    "\n",
    "    Creates a back and forwared propagators\n",
    "    :param tlist:\n",
    "    :param H_0:\n",
    "    :param H_1:\n",
    "    :return:\n",
    "    \"\"\"\n",
    "    EVs_forward = []\n",
    "    n = len(H_0.dims[0])\n",
    "    prop = tensor([qeye(2)] * n)\n",
    "    tmax = max(tlist)\n",
    "    last_time = 0\n",
    "    for time in tlist:\n",
    "        if time > tlist[-1]/2 - epsilon :\n",
    "            return prop\n",
    "        dt = abs(time - last_time)\n",
    "        s = time / tmax\n",
    "        Hs = H_0 * (1 - s) + H_1 * s\n",
    "        EVs_forward.append(Hs.eigenstates(eigvals=2)[0])\n",
    "        U = (-1j * Hs * dt).expm()\n",
    "        prop = U * prop\n",
    "        last_time = time\n"
   ]
  },
  {
   "cell_type": "code",
   "execution_count": 19,
   "metadata": {
    "ExecuteTime": {
     "end_time": "2017-08-06T15:36:51.623284Z",
     "start_time": "2017-08-06T15:36:50.647203Z"
    },
    "collapsed": true
   },
   "outputs": [],
   "source": [
    "H0n, H1n, psi0n =  FDT.prepare_groverlike_system(15)\n",
    "T12 = 4.84343434343\n",
    "tlist = np.linspace(0,T12,150)\n",
    "backprop, forwardprop,EVs_forward = create_back_and_forward_props_return_EV(tlist, H0n, H1n)"
   ]
  },
  {
   "cell_type": "code",
   "execution_count": 41,
   "metadata": {
    "ExecuteTime": {
     "end_time": "2017-08-06T15:40:39.760173Z",
     "start_time": "2017-08-06T15:40:39.756174Z"
    },
    "collapsed": true
   },
   "outputs": [],
   "source": [
    "\n",
    "phase0 = sum([ev1 for ev1,ev2 in  (EVs_forward[len(EVs_forward)//2:])])\n",
    "phase1 = sum([ev2 for ev1,ev2 in  (EVs_forward[len(EVs_forward)//2:])])"
   ]
  },
  {
   "cell_type": "code",
   "execution_count": 71,
   "metadata": {
    "ExecuteTime": {
     "end_time": "2017-08-06T15:54:13.028543Z",
     "start_time": "2017-08-06T15:54:13.025805Z"
    },
    "collapsed": true
   },
   "outputs": [],
   "source": [
    "dt = tlist[1] - tlist[0]"
   ]
  },
  {
   "cell_type": "code",
   "execution_count": null,
   "metadata": {
    "collapsed": true
   },
   "outputs": [],
   "source": []
  },
  {
   "cell_type": "code",
   "execution_count": 106,
   "metadata": {
    "ExecuteTime": {
     "end_time": "2017-08-06T16:21:53.910861Z",
     "start_time": "2017-08-06T16:21:53.889808Z"
    }
   },
   "outputs": [
    {
     "data": {
      "text/latex": [
       "Quantum object: dims = [[2], [1]], shape = [2, 1], type = ket\\begin{equation*}\\left(\\begin{array}{*{11}c}(0.007+0.006j)\\\\0.0\\\\\\end{array}\\right)\\end{equation*}"
      ],
      "text/plain": [
       "Quantum object: dims = [[2], [1]], shape = [2, 1], type = ket\n",
       "Qobj data =\n",
       "[[ 0.00679386+0.00634206j]\n",
       " [ 0.00000000+0.j        ]]"
      ]
     },
     "metadata": {},
     "output_type": "display_data"
    },
    {
     "data": {
      "text/plain": [
       "0.751017023498449"
      ]
     },
     "metadata": {},
     "output_type": "display_data"
    },
    {
     "data": {
      "text/latex": [
       "Quantum object: dims = [[2], [1]], shape = [2, 1], type = ket\\begin{equation*}\\left(\\begin{array}{*{11}c}0.0\\\\(0.337+0.942j)\\\\\\end{array}\\right)\\end{equation*}"
      ],
      "text/plain": [
       "Quantum object: dims = [[2], [1]], shape = [2, 1], type = ket\n",
       "Qobj data =\n",
       "[[ 0.00000000+0.j        ]\n",
       " [ 0.33670231+0.94156528j]]"
      ]
     },
     "metadata": {},
     "output_type": "display_data"
    },
    {
     "data": {
      "text/plain": [
       "1.227368367842261"
      ]
     },
     "metadata": {},
     "output_type": "display_data"
    }
   ],
   "source": [
    "psi = forwardprop * psi0n \n",
    "phi0_proj = LHT.proj_on(basis(2,0))\n",
    "phi1_proj = LHT.proj_on(basis(2,1))\n",
    "display(np.exp(1j*phase0*dt*2) * phi0_proj* psi)\n",
    "display(np.angle((np.exp(1j*phase0*dt*2) * phi0_proj* psi)[0][0][0]))\n",
    "display(np.exp(1j*phase1*dt*2) * phi1_proj* psi)\n",
    "display(np.angle((np.exp(1j*phase1*dt*2)*phi1_proj* psi)[1][0][0]))"
   ]
  },
  {
   "cell_type": "code",
   "execution_count": 120,
   "metadata": {
    "ExecuteTime": {
     "end_time": "2017-08-06T16:26:13.709052Z",
     "start_time": "2017-08-06T16:26:13.703471Z"
    }
   },
   "outputs": [
    {
     "data": {
      "text/plain": [
       "-1.670186314989131"
      ]
     },
     "execution_count": 120,
     "metadata": {},
     "output_type": "execute_result"
    }
   ],
   "source": [
    "np.angle((np.exp(-1j*phase0*dt*2)*phi0_proj* psi)[0][0][0])"
   ]
  },
  {
   "cell_type": "code",
   "execution_count": 121,
   "metadata": {
    "ExecuteTime": {
     "end_time": "2017-08-06T16:26:28.196918Z",
     "start_time": "2017-08-06T16:26:28.191273Z"
    }
   },
   "outputs": [
    {
     "data": {
      "text/plain": [
       "1.407244422978723"
      ]
     },
     "execution_count": 121,
     "metadata": {},
     "output_type": "execute_result"
    }
   ],
   "source": [
    "np.angle((np.exp(-1j*(phase1+phase0)*dt)*phi1_proj* psi)[1][0][0])"
   ]
  },
  {
   "cell_type": "code",
   "execution_count": 124,
   "metadata": {
    "ExecuteTime": {
     "end_time": "2017-08-06T16:27:22.581180Z",
     "start_time": "2017-08-06T16:27:22.577755Z"
    }
   },
   "outputs": [
    {
     "data": {
      "text/plain": [
       "0.785398163397448"
      ]
     },
     "execution_count": 124,
     "metadata": {},
     "output_type": "execute_result"
    }
   ],
   "source": [
    "pi/4"
   ]
  },
  {
   "cell_type": "code",
   "execution_count": 80,
   "metadata": {
    "ExecuteTime": {
     "end_time": "2017-08-06T15:57:33.268184Z",
     "start_time": "2017-08-06T15:57:33.264487Z"
    }
   },
   "outputs": [
    {
     "data": {
      "text/plain": [
       "1.832669472473743"
      ]
     },
     "execution_count": 80,
     "metadata": {},
     "output_type": "execute_result"
    }
   ],
   "source": [
    "phase0*dt\n",
    "phase1*dt"
   ]
  },
  {
   "cell_type": "code",
   "execution_count": 79,
   "metadata": {
    "ExecuteTime": {
     "end_time": "2017-08-06T15:57:17.303184Z",
     "start_time": "2017-08-06T15:57:17.299631Z"
    }
   },
   "outputs": [
    {
     "data": {
      "text/plain": [
       "1.816287878786250"
      ]
     },
     "execution_count": 79,
     "metadata": {},
     "output_type": "execute_result"
    }
   ],
   "source": [
    "T12/8+ T12/4"
   ]
  },
  {
   "cell_type": "code",
   "execution_count": 146,
   "metadata": {
    "ExecuteTime": {
     "end_time": "2017-08-06T19:19:14.061964Z",
     "start_time": "2017-08-06T19:19:13.787608Z"
    },
    "collapsed": true
   },
   "outputs": [],
   "source": [
    "half_prop12 = create_half_prop(tlist, H0n, H1n,0.01)"
   ]
  },
  {
   "cell_type": "code",
   "execution_count": 147,
   "metadata": {
    "ExecuteTime": {
     "end_time": "2017-08-06T19:19:16.024671Z",
     "start_time": "2017-08-06T19:19:16.020317Z"
    }
   },
   "outputs": [
    {
     "data": {
      "text/latex": [
       "Quantum object: dims = [[2], [1]], shape = [2, 1], type = ket\\begin{equation*}\\left(\\begin{array}{*{11}c}(0.007-8.998\\times10^{-04}j)\\\\(0.822-0.569j)\\\\\\end{array}\\right)\\end{equation*}"
      ],
      "text/plain": [
       "Quantum object: dims = [[2], [1]], shape = [2, 1], type = ket\n",
       "Qobj data =\n",
       "[[ 0.00686103-0.00089976j]\n",
       " [ 0.82225480-0.56907747j]]"
      ]
     },
     "execution_count": 147,
     "metadata": {},
     "output_type": "execute_result"
    }
   ],
   "source": [
    "half_prop12*psi0n"
   ]
  },
  {
   "cell_type": "code",
   "execution_count": 160,
   "metadata": {
    "ExecuteTime": {
     "end_time": "2017-08-06T19:21:54.398257Z",
     "start_time": "2017-08-06T19:21:54.387627Z"
    }
   },
   "outputs": [
    {
     "data": {
      "text/plain": [
       "array([ 1.+0.j,  1.+0.j])"
      ]
     },
     "execution_count": 160,
     "metadata": {},
     "output_type": "execute_result"
    }
   ],
   "source": [
    "epsilon = 0.5\n",
    "H_half_epsilon = H0n*(1/2+epsilon)+H1n*(1/2-0.1*epsilon)\n",
    "ev_he0 ,ev_he1  = H_half_epsilon.eigenstates()[1]\n",
    "(LHT.proj_on(ev_he0)+ LHT.proj_on(ev_he1)).data"
   ]
  },
  {
   "cell_type": "code",
   "execution_count": 161,
   "metadata": {
    "ExecuteTime": {
     "end_time": "2017-08-06T19:22:25.351365Z",
     "start_time": "2017-08-06T19:22:25.346824Z"
    }
   },
   "outputs": [
    {
     "data": {
      "text/latex": [
       "Quantum object: dims = [[2], [2]], shape = [2, 2], type = oper, isherm = True\\begin{equation*}\\left(\\begin{array}{*{11}c}1.000 & -0.006\\\\-0.006 & 3.052\\times10^{-05}\\\\\\end{array}\\right)\\end{equation*}"
      ],
      "text/plain": [
       "Quantum object: dims = [[2], [2]], shape = [2, 2], type = oper, isherm = True\n",
       "Qobj data =\n",
       "[[  9.99969482e-01  -5.50909700e-03]\n",
       " [ -5.50909700e-03   3.05175781e-05]]"
      ]
     },
     "execution_count": 161,
     "metadata": {},
     "output_type": "execute_result"
    }
   ],
   "source": [
    "H0n"
   ]
  },
  {
   "cell_type": "code",
   "execution_count": 162,
   "metadata": {
    "ExecuteTime": {
     "end_time": "2017-08-06T19:22:41.271905Z",
     "start_time": "2017-08-06T19:22:41.267467Z"
    }
   },
   "outputs": [
    {
     "data": {
      "text/latex": [
       "Quantum object: dims = [[2], [2]], shape = [2, 2], type = oper, isherm = True\\begin{equation*}\\left(\\begin{array}{*{11}c}0.0 & 0.0\\\\0.0 & 1.0\\\\\\end{array}\\right)\\end{equation*}"
      ],
      "text/plain": [
       "Quantum object: dims = [[2], [2]], shape = [2, 2], type = oper, isherm = True\n",
       "Qobj data =\n",
       "[[ 0.  0.]\n",
       " [ 0.  1.]]"
      ]
     },
     "execution_count": 162,
     "metadata": {},
     "output_type": "execute_result"
    }
   ],
   "source": [
    "H1n"
   ]
  },
  {
   "cell_type": "code",
   "execution_count": null,
   "metadata": {
    "collapsed": true
   },
   "outputs": [],
   "source": []
  }
 ],
 "metadata": {
  "celltoolbar": "Slideshow",
  "kernelspec": {
   "display_name": "Python 3",
   "language": "python",
   "name": "python3"
  },
  "language_info": {
   "codemirror_mode": {
    "name": "ipython",
    "version": 3
   },
   "file_extension": ".py",
   "mimetype": "text/x-python",
   "name": "python",
   "nbconvert_exporter": "python",
   "pygments_lexer": "ipython3",
   "version": "3.5.2"
  },
  "notify_time": "30",
  "varInspector": {
   "cols": {
    "lenName": 16,
    "lenType": 16,
    "lenVar": 40
   },
   "kernels_config": {
    "python": {
     "delete_cmd_postfix": "",
     "delete_cmd_prefix": "del ",
     "library": "var_list.py",
     "varRefreshCmd": "print(var_dic_list())"
    },
    "r": {
     "delete_cmd_postfix": ") ",
     "delete_cmd_prefix": "rm(",
     "library": "var_list.r",
     "varRefreshCmd": "cat(var_dic_list()) "
    }
   },
   "position": {
    "height": "860px",
    "left": "1615.18px",
    "right": "-29.1833px",
    "top": "132px",
    "width": "430px"
   },
   "types_to_exclude": [
    "module",
    "function",
    "builtin_function_or_method",
    "instance",
    "_Feature"
   ],
   "window_display": true
  }
 },
 "nbformat": 4,
 "nbformat_minor": 1
}
