{
 "cells": [
  {
   "cell_type": "code",
   "execution_count": 2,
   "metadata": {
    "ExecuteTime": {
     "end_time": "2017-08-10T10:33:57.378124Z",
     "start_time": "2017-08-10T10:33:47.667800Z"
    },
    "collapsed": true
   },
   "outputs": [],
   "source": [
    "from threading import Lock\n",
    "import warnings\n",
    "import matplotlib.pyplot as plt\n",
    "import pyximport\n",
    "from tqdm import tnrange, tqdm_notebook\n",
    "\n",
    "warnings.filterwarnings('ignore')\n",
    "\n",
    "import sys\n",
    "import os\n",
    "\n",
    "sys.path.insert(0, os.path.join(os.getcwd(), os.pardir))\n",
    "from qutip import *\n",
    "import numpy as np\n",
    "import matplotlib.pyplot as plt\n",
    "\n",
    "pyximport.install(setup_args={\"include_dirs\": np.get_include()})\n",
    "import XXZZham as XXZZham\n",
    "from XXZZham import add_high_energies, rotate_to_00_base\n",
    "import random\n",
    "import adiabatic_sim as asim\n",
    "import time\n",
    "\n",
    "import multiprocessing\n",
    "import ctypes\n",
    "mkl_rt = ctypes.CDLL('libmkl_rt.so')\n",
    "mkl_get_max_threads = mkl_rt.mkl_get_max_threads\n",
    "mkl_rt.mkl_set_num_threads(ctypes.byref(ctypes.c_int(multiprocessing.cpu_count())))\n",
    "import os\n",
    "import LH_tools as LHT\n",
    "\n",
    "%precision %.15f\n",
    "PRECISION  = 2 ** -40\n",
    "\n",
    "from IPython.display import display\n",
    "import FD_tools as FDT\n",
    "from numpy import angle,pi"
   ]
  },
  {
   "cell_type": "code",
   "execution_count": 18,
   "metadata": {
    "ExecuteTime": {
     "end_time": "2017-08-06T15:36:49.981555Z",
     "start_time": "2017-08-06T15:36:49.950544Z"
    },
    "collapsed": true
   },
   "outputs": [],
   "source": [
    "def create_back_and_forward_props_return_EV(tlist, H_0, H_1):\n",
    "    \"\"\"\n",
    "\n",
    "    Creates a back and forwared propagators\n",
    "    :param tlist:\n",
    "    :param H_0:\n",
    "    :param H_1:\n",
    "    :return:\n",
    "    \"\"\"\n",
    "    EVs_forward = []\n",
    "    n = len(H_0.dims[0])\n",
    "    prop = tensor([qeye(2)] * n)\n",
    "    tmax = max(tlist)\n",
    "    last_time = 0\n",
    "    for time in tlist:\n",
    "        dt = abs(time - last_time)\n",
    "        s = time / tmax\n",
    "        Hs = H_0 * (1 - s) + H_1 * s\n",
    "        EVs_forward.append(Hs.eigenstates(eigvals=2)[0])\n",
    "        U = (-1j * Hs * dt).expm()\n",
    "        prop = U * prop\n",
    "        last_time = time\n",
    "    last_time = 0\n",
    "    backprop = tensor([qeye(2)] * n)\n",
    "    for time in tlist[1:]:\n",
    "        dt = abs(time - last_time)\n",
    "        s = time / tmax\n",
    "        Hs = H_0 * (s) + H_1 * (1 - s)\n",
    "        U = (-1j * Hs * dt).expm()\n",
    "        backprop = U * backprop\n",
    "        last_time = time\n",
    "    return backprop, prop,EVs_forward\n"
   ]
  },
  {
   "cell_type": "code",
   "execution_count": 126,
   "metadata": {
    "ExecuteTime": {
     "end_time": "2017-08-06T19:12:25.513028Z",
     "start_time": "2017-08-06T19:12:25.495083Z"
    },
    "collapsed": true
   },
   "outputs": [],
   "source": [
    "def create_half_prop(tlist, H_0, H_1, epsilon =0.1):\n",
    "    \"\"\"\n",
    "\n",
    "    Creates a back and forwared propagators\n",
    "    :param tlist:\n",
    "    :param H_0:\n",
    "    :param H_1:\n",
    "    :return:\n",
    "    \"\"\"\n",
    "    EVs_forward = []\n",
    "    n = len(H_0.dims[0])\n",
    "    prop = tensor([qeye(2)] * n)\n",
    "    tmax = max(tlist)\n",
    "    last_time = 0\n",
    "    for time in tlist:\n",
    "        if time > tlist[-1]/2 - epsilon :\n",
    "            return prop\n",
    "        dt = abs(time - last_time)\n",
    "        s = time / tmax\n",
    "        Hs = H_0 * (1 - s) + H_1 * s\n",
    "        EVs_forward.append(Hs.eigenstates(eigvals=2)[0])\n",
    "        U = (-1j * Hs * dt).expm()\n",
    "        prop = U * prop\n",
    "        last_time = time\n"
   ]
  },
  {
   "cell_type": "code",
   "execution_count": 19,
   "metadata": {
    "ExecuteTime": {
     "end_time": "2017-08-06T15:36:51.623284Z",
     "start_time": "2017-08-06T15:36:50.647203Z"
    },
    "collapsed": true
   },
   "outputs": [],
   "source": [
    "H0n, H1n, psi0n =  FDT.prepare_groverlike_system(15)\n",
    "T12 = 4.84343434343\n",
    "tlist = np.linspace(0,T12,150)\n",
    "backprop, forwardprop,EVs_forward = create_back_and_forward_props_return_EV(tlist, H0n, H1n)"
   ]
  },
  {
   "cell_type": "code",
   "execution_count": 41,
   "metadata": {
    "ExecuteTime": {
     "end_time": "2017-08-06T15:40:39.760173Z",
     "start_time": "2017-08-06T15:40:39.756174Z"
    },
    "collapsed": true
   },
   "outputs": [],
   "source": [
    "\n",
    "phase0 = sum([ev1 for ev1,ev2 in  (EVs_forward[len(EVs_forward)//2:])])\n",
    "phase1 = sum([ev2 for ev1,ev2 in  (EVs_forward[len(EVs_forward)//2:])])"
   ]
  },
  {
   "cell_type": "code",
   "execution_count": 71,
   "metadata": {
    "ExecuteTime": {
     "end_time": "2017-08-06T15:54:13.028543Z",
     "start_time": "2017-08-06T15:54:13.025805Z"
    },
    "collapsed": true
   },
   "outputs": [],
   "source": [
    "dt = tlist[1] - tlist[0]"
   ]
  },
  {
   "cell_type": "code",
   "execution_count": null,
   "metadata": {
    "collapsed": true
   },
   "outputs": [],
   "source": []
  },
  {
   "cell_type": "code",
   "execution_count": 106,
   "metadata": {
    "ExecuteTime": {
     "end_time": "2017-08-06T16:21:53.910861Z",
     "start_time": "2017-08-06T16:21:53.889808Z"
    }
   },
   "outputs": [
    {
     "data": {
      "text/latex": [
       "Quantum object: dims = [[2], [1]], shape = [2, 1], type = ket\\begin{equation*}\\left(\\begin{array}{*{11}c}(0.007+0.006j)\\\\0.0\\\\\\end{array}\\right)\\end{equation*}"
      ],
      "text/plain": [
       "Quantum object: dims = [[2], [1]], shape = [2, 1], type = ket\n",
       "Qobj data =\n",
       "[[ 0.00679386+0.00634206j]\n",
       " [ 0.00000000+0.j        ]]"
      ]
     },
     "metadata": {},
     "output_type": "display_data"
    },
    {
     "data": {
      "text/plain": [
       "0.751017023498449"
      ]
     },
     "metadata": {},
     "output_type": "display_data"
    },
    {
     "data": {
      "text/latex": [
       "Quantum object: dims = [[2], [1]], shape = [2, 1], type = ket\\begin{equation*}\\left(\\begin{array}{*{11}c}0.0\\\\(0.337+0.942j)\\\\\\end{array}\\right)\\end{equation*}"
      ],
      "text/plain": [
       "Quantum object: dims = [[2], [1]], shape = [2, 1], type = ket\n",
       "Qobj data =\n",
       "[[ 0.00000000+0.j        ]\n",
       " [ 0.33670231+0.94156528j]]"
      ]
     },
     "metadata": {},
     "output_type": "display_data"
    },
    {
     "data": {
      "text/plain": [
       "1.227368367842261"
      ]
     },
     "metadata": {},
     "output_type": "display_data"
    }
   ],
   "source": [
    "psi = forwardprop * psi0n \n",
    "phi0_proj = LHT.proj_on(basis(2,0))\n",
    "phi1_proj = LHT.proj_on(basis(2,1))\n",
    "display(np.exp(1j*phase0*dt*2) * phi0_proj* psi)\n",
    "display(np.angle((np.exp(1j*phase0*dt*2) * phi0_proj* psi)[0][0][0]))\n",
    "display(np.exp(1j*phase1*dt*2) * phi1_proj* psi)\n",
    "display(np.angle((np.exp(1j*phase1*dt*2)*phi1_proj* psi)[1][0][0]))"
   ]
  },
  {
   "cell_type": "code",
   "execution_count": 120,
   "metadata": {
    "ExecuteTime": {
     "end_time": "2017-08-06T16:26:13.709052Z",
     "start_time": "2017-08-06T16:26:13.703471Z"
    }
   },
   "outputs": [
    {
     "data": {
      "text/plain": [
       "-1.670186314989131"
      ]
     },
     "execution_count": 120,
     "metadata": {},
     "output_type": "execute_result"
    }
   ],
   "source": [
    "np.angle((np.exp(-1j*phase0*dt*2)*phi0_proj* psi)[0][0][0])"
   ]
  },
  {
   "cell_type": "code",
   "execution_count": 121,
   "metadata": {
    "ExecuteTime": {
     "end_time": "2017-08-06T16:26:28.196918Z",
     "start_time": "2017-08-06T16:26:28.191273Z"
    }
   },
   "outputs": [
    {
     "data": {
      "text/plain": [
       "1.407244422978723"
      ]
     },
     "execution_count": 121,
     "metadata": {},
     "output_type": "execute_result"
    }
   ],
   "source": [
    "np.angle((np.exp(-1j*(phase1+phase0)*dt)*phi1_proj* psi)[1][0][0])"
   ]
  },
  {
   "cell_type": "code",
   "execution_count": 124,
   "metadata": {
    "ExecuteTime": {
     "end_time": "2017-08-06T16:27:22.581180Z",
     "start_time": "2017-08-06T16:27:22.577755Z"
    }
   },
   "outputs": [
    {
     "data": {
      "text/plain": [
       "0.785398163397448"
      ]
     },
     "execution_count": 124,
     "metadata": {},
     "output_type": "execute_result"
    }
   ],
   "source": [
    "pi/4"
   ]
  },
  {
   "cell_type": "code",
   "execution_count": 80,
   "metadata": {
    "ExecuteTime": {
     "end_time": "2017-08-06T15:57:33.268184Z",
     "start_time": "2017-08-06T15:57:33.264487Z"
    }
   },
   "outputs": [
    {
     "data": {
      "text/plain": [
       "1.832669472473743"
      ]
     },
     "execution_count": 80,
     "metadata": {},
     "output_type": "execute_result"
    }
   ],
   "source": [
    "phase0*dt\n",
    "phase1*dt"
   ]
  },
  {
   "cell_type": "code",
   "execution_count": 79,
   "metadata": {
    "ExecuteTime": {
     "end_time": "2017-08-06T15:57:17.303184Z",
     "start_time": "2017-08-06T15:57:17.299631Z"
    }
   },
   "outputs": [
    {
     "data": {
      "text/plain": [
       "1.816287878786250"
      ]
     },
     "execution_count": 79,
     "metadata": {},
     "output_type": "execute_result"
    }
   ],
   "source": [
    "T12/8+ T12/4"
   ]
  },
  {
   "cell_type": "code",
   "execution_count": 146,
   "metadata": {
    "ExecuteTime": {
     "end_time": "2017-08-06T19:19:14.061964Z",
     "start_time": "2017-08-06T19:19:13.787608Z"
    },
    "collapsed": true
   },
   "outputs": [],
   "source": [
    "half_prop12 = create_half_prop(tlist, H0n, H1n,0.01)"
   ]
  },
  {
   "cell_type": "code",
   "execution_count": 147,
   "metadata": {
    "ExecuteTime": {
     "end_time": "2017-08-06T19:19:16.024671Z",
     "start_time": "2017-08-06T19:19:16.020317Z"
    }
   },
   "outputs": [
    {
     "data": {
      "text/latex": [
       "Quantum object: dims = [[2], [1]], shape = [2, 1], type = ket\\begin{equation*}\\left(\\begin{array}{*{11}c}(0.007-8.998\\times10^{-04}j)\\\\(0.822-0.569j)\\\\\\end{array}\\right)\\end{equation*}"
      ],
      "text/plain": [
       "Quantum object: dims = [[2], [1]], shape = [2, 1], type = ket\n",
       "Qobj data =\n",
       "[[ 0.00686103-0.00089976j]\n",
       " [ 0.82225480-0.56907747j]]"
      ]
     },
     "execution_count": 147,
     "metadata": {},
     "output_type": "execute_result"
    }
   ],
   "source": [
    "half_prop12*psi0n"
   ]
  },
  {
   "cell_type": "code",
   "execution_count": 160,
   "metadata": {
    "ExecuteTime": {
     "end_time": "2017-08-06T19:21:54.398257Z",
     "start_time": "2017-08-06T19:21:54.387627Z"
    }
   },
   "outputs": [
    {
     "data": {
      "text/plain": [
       "array([ 1.+0.j,  1.+0.j])"
      ]
     },
     "execution_count": 160,
     "metadata": {},
     "output_type": "execute_result"
    }
   ],
   "source": [
    "epsilon = 0.5\n",
    "H_half_epsilon = H0n*(1/2+epsilon)+H1n*(1/2-0.1*epsilon)\n",
    "ev_he0 ,ev_he1  = H_half_epsilon.eigenstates()[1]\n",
    "(LHT.proj_on(ev_he0)+ LHT.proj_on(ev_he1)).data"
   ]
  },
  {
   "cell_type": "code",
   "execution_count": 161,
   "metadata": {
    "ExecuteTime": {
     "end_time": "2017-08-06T19:22:25.351365Z",
     "start_time": "2017-08-06T19:22:25.346824Z"
    }
   },
   "outputs": [
    {
     "data": {
      "text/latex": [
       "Quantum object: dims = [[2], [2]], shape = [2, 2], type = oper, isherm = True\\begin{equation*}\\left(\\begin{array}{*{11}c}1.000 & -0.006\\\\-0.006 & 3.052\\times10^{-05}\\\\\\end{array}\\right)\\end{equation*}"
      ],
      "text/plain": [
       "Quantum object: dims = [[2], [2]], shape = [2, 2], type = oper, isherm = True\n",
       "Qobj data =\n",
       "[[  9.99969482e-01  -5.50909700e-03]\n",
       " [ -5.50909700e-03   3.05175781e-05]]"
      ]
     },
     "execution_count": 161,
     "metadata": {},
     "output_type": "execute_result"
    }
   ],
   "source": [
    "H0n"
   ]
  },
  {
   "cell_type": "code",
   "execution_count": 162,
   "metadata": {
    "ExecuteTime": {
     "end_time": "2017-08-06T19:22:41.271905Z",
     "start_time": "2017-08-06T19:22:41.267467Z"
    }
   },
   "outputs": [
    {
     "data": {
      "text/latex": [
       "Quantum object: dims = [[2], [2]], shape = [2, 2], type = oper, isherm = True\\begin{equation*}\\left(\\begin{array}{*{11}c}0.0 & 0.0\\\\0.0 & 1.0\\\\\\end{array}\\right)\\end{equation*}"
      ],
      "text/plain": [
       "Quantum object: dims = [[2], [2]], shape = [2, 2], type = oper, isherm = True\n",
       "Qobj data =\n",
       "[[ 0.  0.]\n",
       " [ 0.  1.]]"
      ]
     },
     "execution_count": 162,
     "metadata": {},
     "output_type": "execute_result"
    }
   ],
   "source": [
    "H1n"
   ]
  },
  {
   "cell_type": "markdown",
   "metadata": {
    "collapsed": true
   },
   "source": [
    "# 9/8/17 finding phase in a simpler process"
   ]
  },
  {
   "cell_type": "code",
   "execution_count": 7,
   "metadata": {
    "ExecuteTime": {
     "end_time": "2017-08-10T10:34:13.845125Z",
     "start_time": "2017-08-10T10:34:13.841737Z"
    },
    "collapsed": true
   },
   "outputs": [],
   "source": [
    "H0n, H1n, psi0n =  FDT.prepare_groverlike_system(15)\n"
   ]
  },
  {
   "cell_type": "code",
   "execution_count": 8,
   "metadata": {
    "ExecuteTime": {
     "end_time": "2017-08-10T10:34:14.504206Z",
     "start_time": "2017-08-10T10:34:14.501216Z"
    },
    "collapsed": true
   },
   "outputs": [],
   "source": [
    "tlist = np.linspace(1,20,100)\n",
    "slist= list(map(lambda t: t/20 ,tlist))"
   ]
  },
  {
   "cell_type": "code",
   "execution_count": 9,
   "metadata": {
    "ExecuteTime": {
     "end_time": "2017-08-10T10:34:18.794408Z",
     "start_time": "2017-08-10T10:34:18.791624Z"
    },
    "collapsed": true
   },
   "outputs": [],
   "source": [
    "slist2 = slist[0:30]\n",
    "slist2.extend(slist[30:0:-1])"
   ]
  },
  {
   "cell_type": "code",
   "execution_count": 10,
   "metadata": {
    "ExecuteTime": {
     "end_time": "2017-08-10T10:34:23.790959Z",
     "start_time": "2017-08-10T10:34:23.299805Z"
    },
    "collapsed": true
   },
   "outputs": [],
   "source": [
    "backprop, forwardprop = FDT._create_back_and_forward_props_slist(slist2,tlist[0:60],H0n,H1n)"
   ]
  },
  {
   "cell_type": "code",
   "execution_count": 66,
   "metadata": {
    "ExecuteTime": {
     "end_time": "2017-08-09T19:29:10.387248Z",
     "start_time": "2017-08-09T19:29:10.333005Z"
    },
    "cell_style": "split"
   },
   "outputs": [
    {
     "name": "stdout",
     "output_type": "stream",
     "text": [
      "[0.0, -0.83173341498370856, -1.7007334264888392, 1.4829142817626901, 0.16379601029245539, -0.67483400076079758, -1.5235565910168694, -3.6205152300825989, 0.333220196382923, -0.51817343125452187, -1.3552973181164634, -2.598251743043813, 0.51249376331292917, -0.36117607866544654, -1.1921933977372503]\n",
      "-0.831733414984\n",
      "-0.869000011505\n",
      "3.18364770825\n",
      "-1.31911827147\n",
      "-0.838630011053\n",
      "-0.848722590256\n",
      "-2.09695863907\n",
      "3.95373542647\n",
      "-0.851393627637\n",
      "-0.837123886862\n",
      "-1.24295442493\n",
      "3.11074550636\n",
      "-0.873669841978\n",
      "-0.831017319072\n"
     ]
    }
   ],
   "source": [
    "dangles = []\n",
    "for repeat in range(15):\n",
    "    psir = forwardprop**repeat * (-H0n.eigenstates()[1][0])\n",
    "    anglea, angleb = angle(psir[0]), angle(psir[1])\n",
    "    dangles.append((anglea-angleb)[0][0])\n",
    "print(dangles)\n",
    "for k in range(len(dangles)-1):\n",
    "    print(dangles[k+1]- dangles[k])"
   ]
  },
  {
   "cell_type": "code",
   "execution_count": 67,
   "metadata": {
    "ExecuteTime": {
     "end_time": "2017-08-09T19:29:13.778103Z",
     "start_time": "2017-08-09T19:29:13.302839Z"
    },
    "cell_style": "split"
   },
   "outputs": [
    {
     "name": "stdout",
     "output_type": "stream",
     "text": [
      "[0.0, -0.83173341498370856, -1.7007334264888392, 1.4829142817626901, 0.16379601029245539, -0.67483400076079758, -1.5235565910168694, -3.6205152300825989, 0.333220196382923, -0.51817343125452187, -1.3552973181164634, -2.598251743043813, 0.51249376331292917, -0.36117607866544654, -1.1921933977372503]\n",
      "-0.831733414984\n",
      "-0.869000011505\n",
      "3.18364770825\n",
      "-1.31911827147\n",
      "-0.838630011053\n",
      "-0.848722590256\n",
      "-2.09695863907\n",
      "3.95373542647\n",
      "-0.851393627637\n",
      "-0.837123886862\n",
      "-1.24295442493\n",
      "3.11074550636\n",
      "-0.873669841978\n",
      "-0.831017319072\n"
     ]
    }
   ],
   "source": [
    "H0n, H1n, psi0n =  FDT.prepare_groverlike_system(10)\n",
    "backprop, forwardprop = FDT._create_back_and_forward_props_slist(slist2,tlist[0:60],H0n,H1n)\n",
    "dangles = []\n",
    "for repeat in range(15):\n",
    "    psir = forwardprop**repeat * (-H0n.eigenstates()[1][0])\n",
    "    anglea, angleb = angle(psir[0]), angle(psir[1])\n",
    "    dangles.append((anglea-angleb)[0][0])\n",
    "print(dangles)\n",
    "for k in range(len(dangles)-1):\n",
    "    print(dangles[k+1]- dangles[k])"
   ]
  },
  {
   "cell_type": "code",
   "execution_count": 59,
   "metadata": {
    "ExecuteTime": {
     "end_time": "2017-08-09T19:27:07.677629Z",
     "start_time": "2017-08-09T19:27:07.672822Z"
    }
   },
   "outputs": [
    {
     "data": {
      "text/latex": [
       "Quantum object: dims = [[2], [2]], shape = [2, 2], type = oper, isherm = False\\begin{equation*}\\left(\\begin{array}{*{11}c}(-0.809+0.587j) & (-0.010-0.020j)\\\\(0.015-0.016j) & (-0.644-0.765j)\\\\\\end{array}\\right)\\end{equation*}"
      ],
      "text/plain": [
       "Quantum object: dims = [[2], [2]], shape = [2, 2], type = oper, isherm = False\n",
       "Qobj data =\n",
       "[[-0.80901166+0.58737738j -0.01035873-0.0195103j ]\n",
       " [ 0.01475115-0.01644258j -0.64380539-0.76487036j]]"
      ]
     },
     "execution_count": 59,
     "metadata": {},
     "output_type": "execute_result"
    }
   ],
   "source": [
    "forwardprop"
   ]
  },
  {
   "cell_type": "code",
   "execution_count": 67,
   "metadata": {
    "ExecuteTime": {
     "end_time": "2017-08-09T15:06:43.262166Z",
     "start_time": "2017-08-09T15:06:43.256957Z"
    }
   },
   "outputs": [
    {
     "data": {
      "text/latex": [
       "Quantum object: dims = [[2], [1]], shape = [2, 1], type = ket\\begin{equation*}\\left(\\begin{array}{*{11}c}(-0.007+0.012j)\\\\(0.291+0.956j)\\\\\\end{array}\\right)\\end{equation*}"
      ],
      "text/plain": [
       "Quantum object: dims = [[2], [1]], shape = [2, 1], type = ket\n",
       "Qobj data =\n",
       "[[-0.00718254+0.01229727j]\n",
       " [ 0.29142342+0.95648815j]]"
      ]
     },
     "execution_count": 67,
     "metadata": {},
     "output_type": "execute_result"
    }
   ],
   "source": [
    "psir"
   ]
  },
  {
   "cell_type": "code",
   "execution_count": 65,
   "metadata": {
    "ExecuteTime": {
     "end_time": "2017-08-09T15:06:31.751673Z",
     "start_time": "2017-08-09T15:06:31.743674Z"
    }
   },
   "outputs": [
    {
     "data": {
      "text/plain": [
       "array([[ 0.99998482]])"
      ]
     },
     "execution_count": 65,
     "metadata": {},
     "output_type": "execute_result"
    }
   ],
   "source": [
    "abs((-H0n.eigenstates()[1][0])[1])"
   ]
  },
  {
   "cell_type": "markdown",
   "metadata": {},
   "source": [
    "## Check the spectrum ?"
   ]
  },
  {
   "cell_type": "code",
   "execution_count": 3,
   "metadata": {
    "ExecuteTime": {
     "end_time": "2017-08-10T10:34:02.116897Z",
     "start_time": "2017-08-10T10:34:02.100577Z"
    },
    "collapsed": true
   },
   "outputs": [],
   "source": [
    "def _create_forward_prop_slist_show_spectrum(slist, tlist, H_0, H_1):\n",
    "    \"\"\"\n",
    "    Creates a back and forwared propagators\n",
    "    :param tlist:\n",
    "    :param H_0:\n",
    "    :param H_1:\n",
    "    :return:\n",
    "    \"\"\"\n",
    "    n = len(H_0.dims[0])\n",
    "    prop = tensor([qeye(2)] * n)\n",
    "    tmax = max(tlist)\n",
    "    last_time = 0\n",
    "    EVs = []\n",
    "    for time, s_t in zip(tlist, slist):\n",
    "        dt = abs(time - last_time)\n",
    "        Hs = H_0 * (1 - s_t) + H_1 * s_t\n",
    "        EVs.append(Hs.eigenenergies())\n",
    "        U = (-1j * Hs * dt).expm()\n",
    "        prop = U * prop\n",
    "        last_time = time\n",
    "    return prop, EVs\n",
    "    "
   ]
  },
  {
   "cell_type": "code",
   "execution_count": 4,
   "metadata": {
    "ExecuteTime": {
     "end_time": "2017-08-10T10:34:04.415448Z",
     "start_time": "2017-08-10T10:34:04.403125Z"
    }
   },
   "outputs": [
    {
     "ename": "NameError",
     "evalue": "name 'slist2' is not defined",
     "output_type": "error",
     "traceback": [
      "\u001b[0;31m---------------------------------------------------------------------------\u001b[0m",
      "\u001b[0;31mNameError\u001b[0m                                 Traceback (most recent call last)",
      "\u001b[0;32m<ipython-input-4-9ced4c453fa2>\u001b[0m in \u001b[0;36m<module>\u001b[0;34m()\u001b[0m\n\u001b[0;32m----> 1\u001b[0;31m \u001b[0mforwardprop\u001b[0m\u001b[0;34m,\u001b[0m\u001b[0mEVs\u001b[0m \u001b[0;34m=\u001b[0m \u001b[0m_create_forward_prop_slist_show_spectrum\u001b[0m\u001b[0;34m(\u001b[0m\u001b[0mslist2\u001b[0m\u001b[0;34m,\u001b[0m\u001b[0mtlist\u001b[0m\u001b[0;34m[\u001b[0m\u001b[0;36m0\u001b[0m\u001b[0;34m:\u001b[0m\u001b[0;36m60\u001b[0m\u001b[0;34m]\u001b[0m\u001b[0;34m,\u001b[0m\u001b[0mH0n\u001b[0m\u001b[0;34m,\u001b[0m\u001b[0mH1n\u001b[0m\u001b[0;34m)\u001b[0m\u001b[0;34m\u001b[0m\u001b[0m\n\u001b[0m\u001b[1;32m      2\u001b[0m \u001b[0mplt\u001b[0m\u001b[0;34m.\u001b[0m\u001b[0mplot\u001b[0m\u001b[0;34m(\u001b[0m\u001b[0mtlist\u001b[0m\u001b[0;34m[\u001b[0m\u001b[0;36m0\u001b[0m\u001b[0;34m:\u001b[0m\u001b[0;36m60\u001b[0m\u001b[0;34m]\u001b[0m\u001b[0;34m,\u001b[0m\u001b[0mEVs\u001b[0m\u001b[0;34m)\u001b[0m\u001b[0;34m\u001b[0m\u001b[0m\n\u001b[1;32m      3\u001b[0m \u001b[0mplt\u001b[0m\u001b[0;34m.\u001b[0m\u001b[0mshow\u001b[0m\u001b[0;34m(\u001b[0m\u001b[0;34m)\u001b[0m\u001b[0;34m\u001b[0m\u001b[0m\n",
      "\u001b[0;31mNameError\u001b[0m: name 'slist2' is not defined"
     ]
    }
   ],
   "source": [
    "forwardprop,EVs = _create_forward_prop_slist_show_spectrum(slist2,tlist[0:60],H0n,H1n)\n",
    "plt.plot(tlist[0:60],EVs)\n",
    "plt.show()"
   ]
  },
  {
   "cell_type": "code",
   "execution_count": 24,
   "metadata": {
    "ExecuteTime": {
     "end_time": "2017-08-09T19:19:32.652378Z",
     "start_time": "2017-08-09T19:19:32.646699Z"
    }
   },
   "outputs": [
    {
     "data": {
      "text/plain": [
       "[0.050000000000000,\n",
       " 0.059595959595960,\n",
       " 0.069191919191919,\n",
       " 0.078787878787879,\n",
       " 0.088383838383838,\n",
       " 0.097979797979798,\n",
       " 0.107575757575758,\n",
       " 0.117171717171717,\n",
       " 0.126767676767677,\n",
       " 0.136363636363636,\n",
       " 0.145959595959596,\n",
       " 0.155555555555556,\n",
       " 0.165151515151515,\n",
       " 0.174747474747475,\n",
       " 0.184343434343434,\n",
       " 0.193939393939394,\n",
       " 0.203535353535354,\n",
       " 0.213131313131313,\n",
       " 0.222727272727273,\n",
       " 0.232323232323232,\n",
       " 0.241919191919192,\n",
       " 0.251515151515152,\n",
       " 0.261111111111111,\n",
       " 0.270707070707071,\n",
       " 0.280303030303030,\n",
       " 0.289898989898990,\n",
       " 0.299494949494949,\n",
       " 0.309090909090909,\n",
       " 0.318686868686869,\n",
       " 0.328282828282828,\n",
       " 0.337878787878788,\n",
       " 0.347474747474747,\n",
       " 0.357070707070707,\n",
       " 0.366666666666667,\n",
       " 0.376262626262626,\n",
       " 0.385858585858586,\n",
       " 0.395454545454545,\n",
       " 0.405050505050505,\n",
       " 0.414646464646465,\n",
       " 0.424242424242424,\n",
       " 0.433838383838384,\n",
       " 0.443434343434343,\n",
       " 0.453030303030303,\n",
       " 0.462626262626263,\n",
       " 0.472222222222222,\n",
       " 0.481818181818182,\n",
       " 0.491414141414141,\n",
       " 0.501010101010101,\n",
       " 0.510606060606061,\n",
       " 0.520202020202020,\n",
       " 0.529797979797980,\n",
       " 0.539393939393939,\n",
       " 0.548989898989899,\n",
       " 0.558585858585859,\n",
       " 0.568181818181818,\n",
       " 0.577777777777778,\n",
       " 0.587373737373737,\n",
       " 0.596969696969697,\n",
       " 0.606565656565657,\n",
       " 0.616161616161616,\n",
       " 0.625757575757576,\n",
       " 0.635353535353535,\n",
       " 0.644949494949495,\n",
       " 0.654545454545455,\n",
       " 0.664141414141414,\n",
       " 0.673737373737374,\n",
       " 0.683333333333333,\n",
       " 0.692929292929293,\n",
       " 0.702525252525253,\n",
       " 0.712121212121212,\n",
       " 0.721717171717172,\n",
       " 0.731313131313131,\n",
       " 0.740909090909091,\n",
       " 0.750505050505050,\n",
       " 0.760101010101010,\n",
       " 0.769696969696970,\n",
       " 0.779292929292929,\n",
       " 0.788888888888889,\n",
       " 0.798484848484848,\n",
       " 0.808080808080808,\n",
       " 0.817676767676768,\n",
       " 0.827272727272727,\n",
       " 0.836868686868687,\n",
       " 0.846464646464646,\n",
       " 0.856060606060606,\n",
       " 0.865656565656566,\n",
       " 0.875252525252525,\n",
       " 0.884848484848485,\n",
       " 0.894444444444444,\n",
       " 0.904040404040404,\n",
       " 0.913636363636363,\n",
       " 0.923232323232323,\n",
       " 0.932828282828283,\n",
       " 0.942424242424242,\n",
       " 0.952020202020202,\n",
       " 0.961616161616162,\n",
       " 0.971212121212121,\n",
       " 0.980808080808081,\n",
       " 0.990404040404040,\n",
       " 1.000000000000000]"
      ]
     },
     "execution_count": 24,
     "metadata": {},
     "output_type": "execute_result"
    }
   ],
   "source": [
    "slist"
   ]
  },
  {
   "cell_type": "code",
   "execution_count": 80,
   "metadata": {
    "ExecuteTime": {
     "end_time": "2017-08-09T19:36:54.601895Z",
     "start_time": "2017-08-09T19:36:54.595023Z"
    }
   },
   "outputs": [
    {
     "data": {
      "text/latex": [
       "Quantum object: dims = [[2], [1]], shape = [2, 1], type = ket\\begin{equation*}\\left(\\begin{array}{*{11}c}(-0.035-0.001j)\\\\(-0.643-0.765j)\\\\\\end{array}\\right)\\end{equation*}"
      ],
      "text/plain": [
       "Quantum object: dims = [[2], [1]], shape = [2, 1], type = ket\n",
       "Qobj data =\n",
       "[[-0.03526580-0.00141387j]\n",
       " [-0.64304585-0.76501396j]]"
      ]
     },
     "execution_count": 80,
     "metadata": {},
     "output_type": "execute_result"
    }
   ],
   "source": [
    "forwardprop * (-H0n.eigenstates()[1][0])"
   ]
  },
  {
   "cell_type": "code",
   "execution_count": 76,
   "metadata": {
    "ExecuteTime": {
     "end_time": "2017-08-09T19:36:20.366860Z",
     "start_time": "2017-08-09T19:36:20.362809Z"
    }
   },
   "outputs": [
    {
     "data": {
      "text/plain": [
       "-0.366383547324220"
      ]
     },
     "execution_count": 76,
     "metadata": {},
     "output_type": "execute_result"
    }
   ],
   "source": [
    "angle(0.933-0.358j)"
   ]
  },
  {
   "cell_type": "code",
   "execution_count": 83,
   "metadata": {
    "ExecuteTime": {
     "end_time": "2017-08-09T19:37:15.551120Z",
     "start_time": "2017-08-09T19:37:15.546496Z"
    }
   },
   "outputs": [
    {
     "data": {
      "text/plain": [
       "array([[-1.55851139]])"
      ]
     },
     "execution_count": 83,
     "metadata": {},
     "output_type": "execute_result"
    }
   ],
   "source": [
    "angle(psir[0])\n"
   ]
  },
  {
   "cell_type": "code",
   "execution_count": 109,
   "metadata": {
    "ExecuteTime": {
     "end_time": "2017-08-09T19:43:57.179975Z",
     "start_time": "2017-08-09T19:43:57.127107Z"
    }
   },
   "outputs": [
    {
     "name": "stdout",
     "output_type": "stream",
     "text": [
      "0.0 \t\t 0.0\n",
      "-3.10152218291 \t\t -2.26978876792\n",
      "0.0426401343607 \t\t 1.74337356085\n",
      "0.955700746737 \t\t -0.527213535026\n",
      "-2.63385088543 \t\t -2.79764689572\n",
      "0.540857242748 \t\t 1.21569124351\n",
      "-2.57778306635 \t\t -1.05422647533\n",
      "-0.662070238591 \t\t 2.95844499149\n",
      "1.02113710004 \t\t 0.687916903657\n",
      "-2.10019054045 \t\t -1.58201710919\n",
      "1.07603566309 \t\t 2.43133298121\n",
      "-2.43733414885 \t\t 0.160917594191\n",
      "-1.59718511569 \t\t -2.109678879\n",
      "1.54228804741 \t\t 1.90346412608\n",
      "-1.55851139493 \t\t -0.366317997195\n"
     ]
    }
   ],
   "source": [
    "for m in range (15):\n",
    "    psir = forwardprop**m * (-H0n.eigenstates()[1][0])\n",
    "    print(angle(psir[0])[0][0] ,\"\\t\\t\", angle(psir[1])[0][0])\n"
   ]
  },
  {
   "cell_type": "code",
   "execution_count": 130,
   "metadata": {
    "ExecuteTime": {
     "end_time": "2017-08-09T19:48:09.295797Z",
     "start_time": "2017-08-09T19:48:09.290737Z"
    }
   },
   "outputs": [
    {
     "data": {
      "text/plain": [
       "array([ 11.63584293,  48.36415707])"
      ]
     },
     "execution_count": 130,
     "metadata": {},
     "output_type": "execute_result"
    }
   ],
   "source": [
    "sum(EVs)"
   ]
  },
  {
   "cell_type": "code",
   "execution_count": 220,
   "metadata": {
    "ExecuteTime": {
     "end_time": "2017-08-09T20:15:56.025578Z",
     "start_time": "2017-08-09T20:15:55.939054Z"
    }
   },
   "outputs": [
    {
     "name": "stdout",
     "output_type": "stream",
     "text": [
      "[0.0, 0.83173341498370856, 1.7007334264888392, 4.8002710254168957, 6.1193892968871308, 0.67483400076079758, 1.5235565910168694, 3.6205152300825989, 5.9499651107966631, 0.51817343125452187, 1.3552973181164634, 2.598251743043813, 5.7706915438666568, 0.36117607866544654, 1.1921933977372503, 2.2006258359205262, 5.5724161824453269, 0.2032085023248561, 1.0322061868927643, 1.9519398012351805, 5.330945899515072, 0.043459311564800984, 0.8740992658098472, 1.7508179567819244, 4.9592581023177109]\n",
      "0.831733414984\n",
      "0.869000011505\n",
      "3.09953759893\n",
      "1.31911827147\n",
      "-5.44455529613\n",
      "0.848722590256\n",
      "2.09695863907\n",
      "2.32944988071\n",
      "-5.43179167954\n",
      "0.837123886862\n",
      "1.24295442493\n",
      "3.17243980082\n",
      "-5.4095154652\n",
      "0.831017319072\n",
      "1.00843243818\n",
      "3.37179034652\n",
      "-5.36920768012\n",
      "0.828997684568\n",
      "0.919733614342\n",
      "3.37900609828\n",
      "-5.28748658795\n",
      "0.830639954245\n",
      "0.876718690972\n",
      "3.20844014554\n"
     ]
    }
   ],
   "source": [
    "dangles = []\n",
    "for repeat in range(25):\n",
    "    psir = forwardprop**repeat * (-H0n.eigenstates()[1][0])\n",
    "    anglea, angleb = angle(psir[0]), angle(psir[1])\n",
    "    dangles.append(((angleb-anglea)[0][0] % (2*pi)))\n",
    "print(dangles)\n",
    "for k in range(len(dangles)-1):\n",
    "    print((dangles[k+1]- dangles[k] ))"
   ]
  },
  {
   "cell_type": "code",
   "execution_count": 144,
   "metadata": {
    "ExecuteTime": {
     "end_time": "2017-08-09T19:53:12.355456Z",
     "start_time": "2017-08-09T19:53:12.348764Z"
    }
   },
   "outputs": [
    {
     "data": {
      "text/latex": [
       "Quantum object: dims = [[2], [2]], shape = [2, 2], type = oper, isherm = False\\begin{equation*}\\left(\\begin{array}{*{11}c}(-0.808-0.589j) & (0.002+0.008j)\\\\(-0.007+0.004j) & (-0.990-0.137j)\\\\\\end{array}\\right)\\end{equation*}"
      ],
      "text/plain": [
       "Quantum object: dims = [[2], [2]], shape = [2, 2], type = oper, isherm = False\n",
       "Qobj data =\n",
       "[[-0.80795893-0.58918581j  0.00176882+0.00770186j]\n",
       " [-0.00662203+0.00431233j -0.99049632-0.13731203j]]"
      ]
     },
     "execution_count": 144,
     "metadata": {},
     "output_type": "execute_result"
    }
   ],
   "source": [
    "dangles = []\n",
    "for repeat in range(25):\n",
    "    psir = forwardprop**repeat * (-H0n.eigenstates()[1][0])\n",
    "    anglea, angleb = angle(psir[0]), angle(psir[1])\n",
    "    dangles.append((angleb-anglea)[0][0])\n",
    "print(dangles)\n",
    "for k in range(len(dangles)-1):\n",
    "    print(dangles[k+1]- dangles[k])"
   ]
  },
  {
   "cell_type": "code",
   "execution_count": 155,
   "metadata": {
    "ExecuteTime": {
     "end_time": "2017-08-09T19:57:22.503517Z",
     "start_time": "2017-08-09T19:57:22.499455Z"
    }
   },
   "outputs": [
    {
     "data": {
      "text/plain": [
       "array([ 2.23314157,  9.28200994])"
      ]
     },
     "execution_count": 155,
     "metadata": {},
     "output_type": "execute_result"
    }
   ],
   "source": [
    "sum(EVs) * dt"
   ]
  },
  {
   "cell_type": "code",
   "execution_count": 168,
   "metadata": {
    "ExecuteTime": {
     "end_time": "2017-08-09T20:00:13.190023Z",
     "start_time": "2017-08-09T20:00:13.186772Z"
    },
    "collapsed": true
   },
   "outputs": [],
   "source": [
    "phases = np.e**(1j*sum(EVs)[0] * dt) ,np.e**(sum(EVs)[1] * dt* 1j)"
   ]
  },
  {
   "cell_type": "code",
   "execution_count": 174,
   "metadata": {
    "ExecuteTime": {
     "end_time": "2017-08-09T20:01:11.129360Z",
     "start_time": "2017-08-09T20:01:11.125124Z"
    }
   },
   "outputs": [
    {
     "data": {
      "text/plain": [
       "0.765683064574507"
      ]
     },
     "execution_count": 174,
     "metadata": {},
     "output_type": "execute_result"
    }
   ],
   "source": [
    "np.angle(phases)[1]-np.angle(phases)[0]"
   ]
  },
  {
   "cell_type": "code",
   "execution_count": 215,
   "metadata": {
    "ExecuteTime": {
     "end_time": "2017-08-09T20:14:49.976046Z",
     "start_time": "2017-08-09T20:14:49.969019Z"
    }
   },
   "outputs": [
    {
     "name": "stdout",
     "output_type": "stream",
     "text": [
      "0.0\n",
      "0.765683064575\n",
      "1.53136612915\n",
      "2.29704919372\n",
      "3.0627322583\n",
      "3.82841532287\n",
      "4.59409838745\n",
      "5.35978145202\n",
      "6.1254645166\n",
      "0.607962273991\n"
     ]
    }
   ],
   "source": [
    "for m in range(10):\n",
    "    phases = np.e**(m*1j*sum(EVs)[0] * dt) ,np.e**(m*sum(EVs)[1] * dt* 1j)\n",
    "    print((np.angle(phases)[1]-np.angle(phases)[0])% (2*pi))"
   ]
  },
  {
   "cell_type": "code",
   "execution_count": 212,
   "metadata": {
    "ExecuteTime": {
     "end_time": "2017-08-09T20:13:02.689657Z",
     "start_time": "2017-08-09T20:13:02.681612Z"
    }
   },
   "outputs": [
    {
     "name": "stdout",
     "output_type": "stream",
     "text": [
      "0.0\n",
      "2.2331415717\n",
      "4.4662831434\n",
      "0.416239407917\n",
      "2.64938097962\n",
      "4.88252255131\n",
      "0.832478815833\n",
      "3.06562038753\n",
      "5.29876195923\n",
      "1.24871822375\n"
     ]
    }
   ],
   "source": [
    "for m in range(10):\n",
    "    phases = np.e**(m*1j*sum(EVs)[0] * dt) ,np.e**(m*sum(EVs)[1] * dt* 1j)\n",
    "    print(np.angle(phases)[0] % (2*pi))"
   ]
  },
  {
   "cell_type": "code",
   "execution_count": 11,
   "metadata": {
    "ExecuteTime": {
     "end_time": "2017-08-10T10:34:27.573674Z",
     "start_time": "2017-08-10T10:34:27.496797Z"
    }
   },
   "outputs": [
    {
     "name": "stdout",
     "output_type": "stream",
     "text": [
      "[[ 0.]]\n",
      "[[ 3.17798551]]\n",
      "[[ 0.03562775]]\n",
      "[[ 1.02945477]]\n",
      "[[ 3.65284052]]\n",
      "[[ 0.53925127]]\n",
      "[[ 3.7019523]]\n",
      "[[ 5.85275445]]\n",
      "[[ 1.0300598]]\n",
      "[[ 4.18350247]]\n",
      "[[ 1.07486255]]\n",
      "[[ 3.92466626]]\n",
      "[[ 4.70459955]]\n",
      "[[ 1.54517427]]\n",
      "[[ 4.72525368]]\n",
      "[[ 1.47914827]]\n",
      "[[ 2.12610588]]\n",
      "[[ 5.19156736]]\n",
      "[[ 2.08914581]]\n",
      "[[ 5.19961264]]\n",
      "[[ 5.91202325]]\n",
      "[[ 2.55758747]]\n",
      "[[ 5.73435472]]\n",
      "[[ 2.5975577]]\n",
      "[[ 3.7399747]]\n"
     ]
    }
   ],
   "source": [
    "dangles = []\n",
    "for repeat in range(25):\n",
    "    psir = forwardprop**repeat * (-H0n.eigenstates()[1][0])\n",
    "    anglea = angle(psir[0]) % (2*pi)\n",
    "    print(anglea)"
   ]
  },
  {
   "cell_type": "code",
   "execution_count": 18,
   "metadata": {
    "ExecuteTime": {
     "end_time": "2017-08-10T10:36:50.990412Z",
     "start_time": "2017-08-10T10:36:50.984180Z"
    }
   },
   "outputs": [
    {
     "data": {
      "text/latex": [
       "Quantum object: dims = [[2], [1]], shape = [2, 1], type = ket\\begin{equation*}\\left(\\begin{array}{*{11}c}(-0.006-2.305\\times10^{-04}j)\\\\(-0.646-0.763j)\\\\\\end{array}\\right)\\end{equation*}"
      ],
      "text/plain": [
       "Quantum object: dims = [[2], [1]], shape = [2, 1], type = ket\n",
       "Qobj data =\n",
       "[[-0.00633118 -2.30511619e-04j]\n",
       " [-0.64628131 -7.63072953e-01j]]"
      ]
     },
     "execution_count": 18,
     "metadata": {},
     "output_type": "execute_result"
    }
   ],
   "source": [
    "forwardprop * -H0n.eigenstates()[1][0]"
   ]
  },
  {
   "cell_type": "code",
   "execution_count": 25,
   "metadata": {
    "ExecuteTime": {
     "end_time": "2017-08-10T10:39:08.434283Z",
     "start_time": "2017-08-10T10:39:08.428296Z"
    }
   },
   "outputs": [
    {
     "data": {
      "text/latex": [
       "Quantum object: dims = [[2], [1]], shape = [2, 1], type = ket\\begin{equation*}\\left(\\begin{array}{*{11}c}1.0\\\\0.0\\\\\\end{array}\\right)\\end{equation*}"
      ],
      "text/plain": [
       "Quantum object: dims = [[2], [1]], shape = [2, 1], type = ket\n",
       "Qobj data =\n",
       "[[ 1.]\n",
       " [ 0.]]"
      ]
     },
     "execution_count": 25,
     "metadata": {},
     "output_type": "execute_result"
    }
   ],
   "source": [
    "-H1n.eigenstates()[1][0]"
   ]
  },
  {
   "cell_type": "markdown",
   "metadata": {},
   "source": [
    "# 10.8.17\n",
    "So the computation must be more confusing because in this basis H0 is not (1;0) \n",
    "we can solve it in two ways : \n",
    "\n",
    "1 . Simpler - just evolve from H1\n",
    "\n",
    "2 . Solve 2 equations in two variables \n",
    "\n"
   ]
  },
  {
   "cell_type": "code",
   "execution_count": 136,
   "metadata": {
    "ExecuteTime": {
     "end_time": "2017-08-10T16:24:25.442815Z",
     "start_time": "2017-08-10T16:24:25.284957Z"
    }
   },
   "outputs": [
    {
     "data": {
      "image/png": "[encoded data removed]",
      "text/plain": [
       "<matplotlib.figure.Figure at 0x7f449dbfaf60>"
      ]
     },
     "metadata": {},
     "output_type": "display_data"
    }
   ],
   "source": [
    "H0r = H1n\n",
    "H1r = H0n\n",
    "psi0n_r =   -H0r.eigenstates()[1][0] # = basis(2,0)\n",
    "tlist = np.linspace(0,20,150)\n",
    "slist1 =  tlist/20\n",
    "tlist_ad = tlist[0:60]\n",
    "slist_ad = np.concatenate([slist1[0:30], slist1[30:0:-1]])\n",
    "plt.plot(tlist_ad,slist_ad)\n",
    "plt.show()\n"
   ]
  },
  {
   "cell_type": "code",
   "execution_count": 137,
   "metadata": {
    "ExecuteTime": {
     "end_time": "2017-08-10T16:24:26.941774Z",
     "start_time": "2017-08-10T16:24:26.776559Z"
    },
    "collapsed": true
   },
   "outputs": [],
   "source": [
    "forwardprop,EVs = _create_forward_prop_slist_show_spectrum(slist_ad, tlist_ad,H0r,H1r)"
   ]
  },
  {
   "cell_type": "code",
   "execution_count": 138,
   "metadata": {
    "ExecuteTime": {
     "end_time": "2017-08-10T16:24:27.400049Z",
     "start_time": "2017-08-10T16:24:27.329185Z"
    }
   },
   "outputs": [
    {
     "name": "stdout",
     "output_type": "stream",
     "text": [
      "0.0\n",
      "5.472441501\n",
      "4.66169776526\n",
      "3.85095417036\n",
      "3.04021078671\n",
      "2.22946768464\n",
      "1.41872493448\n",
      "0.607982606451\n",
      "6.0804260779\n",
      "5.26968480455\n",
      "4.45894416354\n",
      "3.64820422474\n",
      "2.83746505787\n",
      "2.02672673253\n",
      "1.21598931814\n",
      "0.405252883998\n",
      "5.87770280636\n",
      "5.06696853978\n",
      "4.25623546012\n",
      "3.44550363588\n",
      "2.63477313531\n",
      "1.82404402642\n",
      "1.01331637696\n",
      "0.202590254426\n",
      "5.67505103321\n"
     ]
    }
   ],
   "source": [
    "angleas = []\n",
    "for repeat in range(25):\n",
    "    psir = forwardprop**repeat * (-H0r.eigenstates()[1][0])\n",
    "    anglea = (angle(psir[0]) % (2*pi))[0][0]\n",
    "    angleas.append(anglea)\n",
    "    print(anglea)"
   ]
  },
  {
   "cell_type": "code",
   "execution_count": 139,
   "metadata": {
    "ExecuteTime": {
     "end_time": "2017-08-10T16:24:28.455587Z",
     "start_time": "2017-08-10T16:24:28.451304Z"
    }
   },
   "outputs": [
    {
     "data": {
      "text/plain": [
       "array([ 5.4724415 ,  5.47244157,  5.47244171,  5.47244192,  5.47244221,\n",
       "        5.47244256,  5.47244298,  5.47244347,  5.47244403,  5.47244467,\n",
       "        5.47244537,  5.47244614,  5.47244698,  5.47244789,  5.47244887,\n",
       "        5.47244992,  5.47245104,  5.47245223,  5.47245348,  5.47245481,\n",
       "        5.4724562 ,  5.47245766,  5.47245918,  5.47246078])"
      ]
     },
     "execution_count": 139,
     "metadata": {},
     "output_type": "execute_result"
    }
   ],
   "source": [
    "np.diff(angleas) % (2*pi) "
   ]
  },
  {
   "cell_type": "code",
   "execution_count": 143,
   "metadata": {
    "ExecuteTime": {
     "end_time": "2017-08-10T16:24:42.676594Z",
     "start_time": "2017-08-10T16:24:42.669510Z"
    }
   },
   "outputs": [
    {
     "data": {
      "text/plain": [
       "(6.012938223098673, 5.472440552055469)"
      ]
     },
     "execution_count": 143,
     "metadata": {},
     "output_type": "execute_result"
    }
   ],
   "source": [
    "dt = tlist_ad[1] -  tlist_ad[0]\n",
    "theoretical_phase_integ = (-np.max(tlist_ad) * np.max(EVs,axis=0)[0] / 2)  % (2*pi)\n",
    "theoretical_phase_sum = (-sum(EVs)[0] * dt)  % (2*pi)\n",
    "theoretical_phase, theoretical_phase_sum  % (2*pi)"
   ]
  },
  {
   "cell_type": "markdown",
   "metadata": {
    "ExecuteTime": {
     "end_time": "2017-08-10T11:23:47.103834Z",
     "start_time": "2017-08-10T11:23:47.100740Z"
    }
   },
   "source": [
    "# GREAT !  at last something that works!!!\n",
    "The computed phase is the same as the one gained by evolution, I guess the sum should converge to the integral with more precision ... let's check it"
   ]
  },
  {
   "cell_type": "code",
   "execution_count": 148,
   "metadata": {
    "ExecuteTime": {
     "end_time": "2017-08-10T16:25:11.429372Z",
     "start_time": "2017-08-10T16:25:11.295016Z"
    }
   },
   "outputs": [
    {
     "data": {
      "image/png": "[encoded data removed]",
      "text/plain": [
       "<matplotlib.figure.Figure at 0x7f44a43f6c50>"
      ]
     },
     "metadata": {},
     "output_type": "display_data"
    }
   ],
   "source": [
    "more_precision = 3\n",
    "H0r = H1n\n",
    "H1r = H0n\n",
    "psi0n_r =   -H0r.eigenstates()[1][0] # = basis(2,0)\n",
    "tlist = np.linspace(0,20,150  * more_precision)\n",
    "slist1 =  tlist/20\n",
    "tlist_ad = tlist[0:60*more_precision]\n",
    "slist_ad = np.concatenate([slist1[0:30*more_precision], slist1[30*more_precision:0:-1]])\n",
    "plt.plot(tlist_ad,slist_ad)\n",
    "plt.show()\n"
   ]
  },
  {
   "cell_type": "code",
   "execution_count": 149,
   "metadata": {
    "ExecuteTime": {
     "end_time": "2017-08-10T16:25:15.032879Z",
     "start_time": "2017-08-10T16:25:14.549511Z"
    }
   },
   "outputs": [
    {
     "data": {
      "text/plain": [
       "(5.484114628981880, 5.479647101832634)"
      ]
     },
     "execution_count": 149,
     "metadata": {},
     "output_type": "execute_result"
    }
   ],
   "source": [
    "forwardprop, EVs = _create_forward_prop_slist_show_spectrum(\n",
    "    slist_ad, tlist_ad, H0r, H1r)\n",
    "dt = tlist_ad[1] - tlist_ad[0]\n",
    "theoretical_phase_integ = (-np.max(tlist_ad) * np.max(EVs, axis=0)[0] / 2) % (2 * pi)\n",
    "theoretical_phase_sum = (-sum(EVs)[0] * dt) % (2 * pi)\n",
    "theoretical_phase_integ, theoretical_phase_sum"
   ]
  },
  {
   "cell_type": "markdown",
   "metadata": {
    "collapsed": true
   },
   "source": [
    "# so even with steps = 150 we get pretty good precision, the result from before where  wrong due to a programing error"
   ]
  },
  {
   "cell_type": "code",
   "execution_count": 150,
   "metadata": {
    "ExecuteTime": {
     "end_time": "2017-08-10T16:33:04.893486Z",
     "start_time": "2017-08-10T16:33:04.891195Z"
    },
    "collapsed": true
   },
   "outputs": [],
   "source": [
    "# now what about the phase in the total process ? "
   ]
  },
  {
   "cell_type": "code",
   "execution_count": 190,
   "metadata": {
    "ExecuteTime": {
     "end_time": "2017-08-10T16:42:49.510583Z",
     "start_time": "2017-08-10T16:42:49.388234Z"
    }
   },
   "outputs": [
    {
     "data": {
      "image/png": "[encoded data removed]",
      "text/plain": [
       "<matplotlib.figure.Figure at 0x7f449d842208>"
      ]
     },
     "metadata": {},
     "output_type": "display_data"
    }
   ],
   "source": [
    "more_precision = 15\n",
    "H0r = H1n\n",
    "H1r = H0n\n",
    "psi0n_r =   -H0r.eigenstates()[1][0] # = basis(2,0)\n",
    "tlist = np.linspace(0,20,150  * more_precision)\n",
    "slist1 =  tlist/20\n",
    "plt.plot(tlist_ad,slist_ad)\n",
    "plt.show()\n"
   ]
  },
  {
   "cell_type": "code",
   "execution_count": 193,
   "metadata": {
    "ExecuteTime": {
     "end_time": "2017-08-10T16:44:38.627687Z",
     "start_time": "2017-08-10T16:44:32.687756Z"
    }
   },
   "outputs": [
    {
     "data": {
      "text/plain": [
       "(-4.972364590860661, -4.999105641504801)"
      ]
     },
     "execution_count": 193,
     "metadata": {},
     "output_type": "execute_result"
    }
   ],
   "source": [
    "forwardprop, EVs = _create_forward_prop_slist_show_spectrum(\n",
    "    slist1, tlist, H0n, H1n)\n",
    "dt = tlist[1] - tlist[0]\n",
    "theoretical_phase_triangle = (-np.max(tlist) * np.max(EVs, axis=0)[0] / 2) \n",
    "theoretical_phase_sum = (-sum(EVs)[0] * dt) \n",
    "theoretical_phase_triangle, theoretical_phase_sum"
   ]
  },
  {
   "cell_type": "code",
   "execution_count": 194,
   "metadata": {
    "ExecuteTime": {
     "end_time": "2017-08-10T16:44:40.386689Z",
     "start_time": "2017-08-10T16:44:40.168071Z"
    }
   },
   "outputs": [
    {
     "data": {
      "image/png": "[encoded data removed]",
      "text/plain": [
       "<matplotlib.figure.Figure at 0x7f449d9fa320>"
      ]
     },
     "metadata": {},
     "output_type": "display_data"
    },
    {
     "data": {
      "image/png": "[encoded data removed]",
      "text/plain": [
       "<matplotlib.figure.Figure at 0x7f4499ca6dd8>"
      ]
     },
     "metadata": {},
     "output_type": "display_data"
    }
   ],
   "source": [
    "\n",
    "plt.plot(tlist,EVs)\n",
    "plt.show()\n",
    "middle = [len(tlist)//2-10,len(tlist)//2+10]\n",
    "plt.plot(tlist[middle[0]:middle[1]],EVs[middle[0]:middle[1]])\n",
    "plt.show()\n"
   ]
  },
  {
   "cell_type": "code",
   "execution_count": 195,
   "metadata": {
    "ExecuteTime": {
     "end_time": "2017-08-10T16:44:58.952487Z",
     "start_time": "2017-08-10T16:44:58.950059Z"
    },
    "collapsed": true
   },
   "outputs": [],
   "source": [
    "# decrease n ? "
   ]
  },
  {
   "cell_type": "code",
   "execution_count": 202,
   "metadata": {
    "ExecuteTime": {
     "end_time": "2017-08-10T16:47:19.560722Z",
     "start_time": "2017-08-10T16:47:12.688849Z"
    }
   },
   "outputs": [
    {
     "name": "stdout",
     "output_type": "stream",
     "text": [
      "-5.0 -4.9991056415\n"
     ]
    },
    {
     "data": {
      "image/png": "[encoded data removed]",
      "text/plain": [
       "<matplotlib.figure.Figure at 0x7f449da11710>"
      ]
     },
     "metadata": {},
     "output_type": "display_data"
    },
    {
     "data": {
      "image/png": "[encoded data removed]",
      "text/plain": [
       "<matplotlib.figure.Figure at 0x7f449d9418d0>"
      ]
     },
     "metadata": {},
     "output_type": "display_data"
    }
   ],
   "source": [
    "H0n, H1n, psi0n =  FDT.prepare_groverlike_system(15)\n",
    "more_precision = 15\n",
    "H0r = H1n\n",
    "H1r = H0n\n",
    "psi0n_r =   -H0r.eigenstates()[1][0] # = basis(2,0)\n",
    "tlist = np.linspace(0,20,150  * more_precision)\n",
    "slist1 =  tlist/20\n",
    "forwardprop, EVs = _create_forward_prop_slist_show_spectrum(\n",
    "    slist1, tlist, H0n, H1n)\n",
    "dt = tlist[1] - tlist[0]\n",
    "theoretical_phase_triangle = (-np.max(tlist) *1/2/ 2) \n",
    "theoretical_phase_sum = (-sum(EVs)[0] * dt) \n",
    "print(theoretical_phase_triangle, theoretical_phase_sum)\n",
    "\n",
    "plt.plot(tlist,EVs)\n",
    "plt.show()\n",
    "middle = [len(tlist)//2-10,len(tlist)//2+10]\n",
    "plt.plot(tlist[middle[0]:middle[1]],EVs[middle[0]:middle[1]])\n",
    "plt.show()\n"
   ]
  },
  {
   "cell_type": "code",
   "execution_count": 204,
   "metadata": {
    "ExecuteTime": {
     "end_time": "2017-08-10T16:48:22.072969Z",
     "start_time": "2017-08-10T16:48:22.070775Z"
    },
    "collapsed": true
   },
   "outputs": [],
   "source": [
    "# so it seems like the phase is actually close to the triangle, \n",
    "# however maybe we should take a better approximation, bounding the integral between interesting points?"
   ]
  },
  {
   "cell_type": "code",
   "execution_count": null,
   "metadata": {
    "collapsed": true
   },
   "outputs": [],
   "source": []
  }
 ],
 "metadata": {
  "celltoolbar": "Slideshow",
  "kernelspec": {
   "display_name": "Python 3",
   "language": "python",
   "name": "python3"
  },
  "language_info": {
   "codemirror_mode": {
    "name": "ipython",
    "version": 3
   },
   "file_extension": ".py",
   "mimetype": "text/x-python",
   "name": "python",
   "nbconvert_exporter": "python",
   "pygments_lexer": "ipython3",
   "version": "3.5.2"
  },
  "notify_time": "5",
  "varInspector": {
   "cols": {
    "lenName": 16,
    "lenType": 16,
    "lenVar": 40
   },
   "kernels_config": {
    "python": {
     "delete_cmd_postfix": "",
     "delete_cmd_prefix": "del ",
     "library": "var_list.py",
     "varRefreshCmd": "print(var_dic_list())"
    },
    "r": {
     "delete_cmd_postfix": ") ",
     "delete_cmd_prefix": "rm(",
     "library": "var_list.r",
     "varRefreshCmd": "cat(var_dic_list()) "
    }
   },
   "position": {
    "height": "860px",
    "left": "1615.18px",
    "right": "-29.1833px",
    "top": "132px",
    "width": "430px"
   },
   "types_to_exclude": [
    "module",
    "function",
    "builtin_function_or_method",
    "instance",
    "_Feature"
   ],
   "window_display": true
  }
 },
 "nbformat": 4,
 "nbformat_minor": 1
}
