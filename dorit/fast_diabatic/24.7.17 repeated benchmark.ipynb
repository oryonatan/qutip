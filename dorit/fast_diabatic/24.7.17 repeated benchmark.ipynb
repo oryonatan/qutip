{
 "cells": [
  {
   "cell_type": "code",
   "execution_count": 2,
   "metadata": {
    "ExecuteTime": {
     "start_time": "2017-07-24T09:35:51.446Z"
    },
    "collapsed": false
   },
   "outputs": [],
   "source": [
    "from threading import Lock\n",
    "import warnings\n",
    "import matplotlib.pyplot as plt\n",
    "import pyximport\n",
    "from tqdm import tnrange, tqdm_notebook\n",
    "\n",
    "warnings.filterwarnings('ignore')\n",
    "\n",
    "import sys\n",
    "import os\n",
    "\n",
    "sys.path.insert(0, os.path.join(os.getcwd(), os.pardir))\n",
    "from qutip import *\n",
    "import numpy as np\n",
    "import matplotlib.pyplot as plt\n",
    "\n",
    "pyximport.install(setup_args={\"include_dirs\": np.get_include()})\n",
    "import XXZZham as XXZZham\n",
    "from XXZZham import add_high_energies, rotate_to_00_base\n",
    "import random\n",
    "import adiabatic_sim as asim\n",
    "import time\n",
    "\n",
    "import multiprocessing\n",
    "import ctypes\n",
    "mkl_rt = ctypes.CDLL('libmkl_rt.so')\n",
    "mkl_get_max_threads = mkl_rt.mkl_get_max_threads\n",
    "mkl_rt.mkl_set_num_threads(ctypes.byref(ctypes.c_int(multiprocessing.cpu_count())))\n",
    "import os\n",
    "import LH_tools as LHT\n",
    "\n",
    "%precision %.15f\n",
    "PRECISION  = 2 ** -40\n",
    "\n",
    "from IPython.display import display\n",
    "import FD_tools as FDT"
   ]
  },
  {
   "cell_type": "code",
   "execution_count": 3,
   "metadata": {
    "ExecuteTime": {
     "end_time": "2017-07-24T09:07:38.375574Z",
     "start_time": "2017-07-24T09:07:38.362758Z"
    },
    "collapsed": false
   },
   "outputs": [],
   "source": [
    "def _simulate_time_p_and_pfab_repeat(repeats: int, T: float, steps: int, psi0: Qobj, psi1: Qobj, H0: Qobj, H1: Qobj):\n",
    "\n",
    "    \"\"\"\n",
    "        Callback for simulation of fowrard and backword propagation\n",
    "    :param T:\n",
    "    :param steps:\n",
    "    :param psi0:\n",
    "    :param psi1:\n",
    "    :param H0:\n",
    "    :param H1:\n",
    "    :return:\n",
    "    \"\"\"\n",
    "    tlist = np.linspace(0, T, steps)\n",
    "    backprop_t, prop_t = FDT.create_back_and_forward_props(tlist, H0, H1)\n",
    "    psi_forward = prop_t * psi0\n",
    "    \n",
    "    psi_repeat = (backprop_t*prop_t)**repeats * psi0\n",
    "    \n",
    "    Pf0 = abs(psi1.overlap(psi_forward)) ** 2\n",
    "    Prepeat = abs(psi0.overlap(psi_repeat)) ** 2\n",
    "    return T, Pf0, Prepeat"
   ]
  },
  {
   "cell_type": "code",
   "execution_count": 4,
   "metadata": {
    "collapsed": false
   },
   "outputs": [],
   "source": [
    "def find_min_time_for_epsilon_and_repeats(final_times:np.ndarray,\n",
    "                                          psi0n:Qobj,\n",
    "                                          psi1n:Qobj,\n",
    "                                          H0n:Qobj,\n",
    "                                          H1n:Qobj,\n",
    "                                          repeats: int,\n",
    "                                          epsilon=1 / 10) -> (float, float):\n",
    "    min_Prepeat = 1 \n",
    "    old_T = 0\n",
    "    for T in final_times: \n",
    "            _,_, Prepeat = _simulate_time_p_and_pfab_repeat(repeats, T, max(T*5,50) , psi0n, psi1n , H0n, H1n)\n",
    "#             if Prepeat > old_Prepeat : \n",
    "#                 print(\"BAD: At repeats:{} got Prepeat = {} T = {} total time = {}, epsilon = {} not met in first decrease\".\n",
    "#                       format(repeats,old_Prepeat,old_T,old_T*2*repeats,epsilon))\n",
    "#                 return \n",
    "            if Prepeat <= epsilon : \n",
    "                print(\"GOOD: At repeats:{} got Prepeat = {} T = {} total time = {}\".\n",
    "                      format(repeats,Prepeat,T,T*2*repeats,epsilon))\n",
    "                return\n",
    "            min_Prepeat = min(Prepeat,min_Prepeat)\n",
    "    print(\"No conclusion for repeats = {} min Prepeat = {}\".format(repeats, min_Prepeat))"
   ]
  },
  {
   "cell_type": "code",
   "execution_count": 26,
   "metadata": {
    "ExecuteTime": {
     "start_time": "2017-07-24T09:35:49.494Z"
    },
    "collapsed": false
   },
   "outputs": [
    {
     "name": "stdout",
     "output_type": "stream",
     "text": [
      "No conclusion for repeats = 1 min Prepeat = 0.7538731749937417\n",
      "No conclusion for repeats = 2 min Prepeat = 0.2578189074712774\n",
      "GOOD: At repeats:3 got Prepeat = 0.09450563758101764 T = 64.73298597194389 total time = 388.39791583166334\n",
      "GOOD: At repeats:4 got Prepeat = 0.08507601141506288 T = 39.28462925851703 total time = 314.27703406813623\n",
      "GOOD: At repeats:5 got Prepeat = 0.08721146612561599 T = 26.66064128256513 total time = 266.6064128256513\n",
      "GOOD: At repeats:6 got Prepeat = 0.09945159445881925 T = 14.637795591182362 total time = 175.65354709418835\n",
      "GOOD: At repeats:7 got Prepeat = 0.08495497456225759 T = 13.635891783567132 total time = 190.90248496993985\n",
      "GOOD: At repeats:8 got Prepeat = 0.07462868257722602 T = 13.034749498997995 total time = 208.5559919839679\n",
      "GOOD: At repeats:9 got Prepeat = 0.0995243787693501 T = 12.433607214428855 total time = 223.8049298597194\n"
     ]
    }
   ],
   "source": [
    "from concurrent.futures import ThreadPoolExecutor,as_completed\n",
    "H0n,H1n,psi0n = FDT.prepare_groverlike_system(10)\n",
    "executor = ThreadPoolExecutor(48)\n",
    "tasks = []\n",
    "plt.figure(figsize=(15,15))\n",
    "for repeats in range(3,100):\n",
    "    final_times = np.linspace(0.01, 100, 500)\n",
    "    find_min_time_for_epsilon_and_repeats(final_times, psi0n, basis(2,0) , H0n, H1n, repeats)"
   ]
  },
  {
   "cell_type": "code",
   "execution_count": 11,
   "metadata": {
    "collapsed": false
   },
   "outputs": [
    {
     "name": "stdout",
     "output_type": "stream",
     "text": [
      "GOOD: At repeats:11 got Prepeat = 0.09735405095953237 T = 11.831803607214429 total time = 260.2996793587174\n",
      "GOOD: At repeats:12 got Prepeat = 0.09583103518714192 T = 11.61555110220441 total time = 278.7732264529059\n",
      "GOOD: At repeats:13 got Prepeat = 0.09803319984646068 T = 11.423326653306614 total time = 297.00649298597193\n",
      "GOOD: At repeats:14 got Prepeat = 0.09827044726636451 T = 3.710320641282565 total time = 103.88897795591183\n",
      "GOOD: At repeats:15 got Prepeat = 0.0969761934758722 T = 3.2778156312625253 total time = 98.33446893787576\n",
      "GOOD: At repeats:16 got Prepeat = 0.09699864953428336 T = 2.965450901803607 total time = 94.89442885771543\n",
      "GOOD: At repeats:17 got Prepeat = 0.09653440644052097 T = 2.7251703406813625 total time = 92.65579158316632\n",
      "GOOD: At repeats:18 got Prepeat = 0.09513742528841779 T = 2.532945891783567 total time = 91.18605210420841\n",
      "GOOD: At repeats:19 got Prepeat = 0.09529423215336598 T = 2.364749498997996 total time = 89.86048096192386\n",
      "GOOD: At repeats:20 got Prepeat = 0.09538256406858252 T = 2.2205811623246494 total time = 88.82324649298597\n",
      "GOOD: At repeats:21 got Prepeat = 0.09381220605169563 T = 2.100440881763527 total time = 88.21851703406813\n",
      "GOOD: At repeats:22 got Prepeat = 0.09672608348640484 T = 1.980300601202405 total time = 87.13322645290582\n",
      "GOOD: At repeats:23 got Prepeat = 0.09594684273140132 T = 1.8841883767535073 total time = 86.67266533066133\n",
      "GOOD: At repeats:24 got Prepeat = 0.09875199223335426 T = 1.7880761523046094 total time = 85.82765531062125\n",
      "GOOD: At repeats:25 got Prepeat = 0.09581277728877127 T = 1.715991983967936 total time = 85.7995991983968\n",
      "GOOD: At repeats:26 got Prepeat = 0.09551080975241885 T = 1.6439078156312628 total time = 85.48320641282567\n",
      "GOOD: At repeats:27 got Prepeat = 0.09786420045327825 T = 1.5718236472945892 total time = 84.87847695390782\n",
      "GOOD: At repeats:28 got Prepeat = 0.09210775783228373 T = 1.5237675350701405 total time = 85.33098196392787\n",
      "GOOD: At repeats:29 got Prepeat = 0.09930208010749351 T = 1.451683366733467 total time = 84.19763527054108\n",
      "GOOD: At repeats:30 got Prepeat = 0.09741018972822679 T = 1.4036272545090183 total time = 84.2176352705411\n",
      "GOOD: At repeats:31 got Prepeat = 0.09727779414619246 T = 1.3555711422845693 total time = 84.0454108216433\n",
      "GOOD: At repeats:32 got Prepeat = 0.098912523648902 T = 1.3075150300601204 total time = 83.6809619238477\n",
      "GOOD: At repeats:33 got Prepeat = 0.08919155267502325 T = 1.283486973947896 total time = 84.71014028056113\n",
      "GOOD: At repeats:34 got Prepeat = 0.09375470662839698 T = 1.235430861723447 total time = 84.0092985971944\n",
      "GOOD: At repeats:35 got Prepeat = 0.08629348357030206 T = 1.2114028056112225 total time = 84.79819639278557\n",
      "GOOD: At repeats:36 got Prepeat = 0.09380759186713065 T = 1.1633466933867738 total time = 83.76096192384772\n",
      "GOOD: At repeats:37 got Prepeat = 0.08840403215942677 T = 1.1393186372745492 total time = 84.30957915831664\n",
      "GOOD: At repeats:38 got Prepeat = 0.09911760088775949 T = 1.0912625250501002 total time = 82.93595190380762\n",
      "GOOD: At repeats:39 got Prepeat = 0.09572740020745468 T = 1.0672344689378759 total time = 83.24428857715432\n",
      "GOOD: At repeats:40 got Prepeat = 0.09323958580466117 T = 1.0432064128256513 total time = 83.45651302605211\n",
      "GOOD: At repeats:41 got Prepeat = 0.09162597210217008 T = 1.019178356713427 total time = 83.572625250501\n",
      "GOOD: At repeats:42 got Prepeat = 0.0908685108438763 T = 0.9951503006012025 total time = 83.592625250501\n",
      "GOOD: At repeats:43 got Prepeat = 0.09095959853957676 T = 0.971122244488978 total time = 83.51651302605211\n",
      "GOOD: At repeats:44 got Prepeat = 0.09190226519024784 T = 0.9470941883767536 total time = 83.34428857715432\n",
      "GOOD: At repeats:45 got Prepeat = 0.09371024517970723 T = 0.9230661322645292 total time = 83.07595190380762\n",
      "GOOD: At repeats:46 got Prepeat = 0.09640792813353023 T = 0.8990380761523047 total time = 82.71150300601204\n",
      "GOOD: At repeats:47 got Prepeat = 0.08096536925081431 T = 0.8990380761523047 total time = 84.50957915831664\n",
      "GOOD: At repeats:48 got Prepeat = 0.0847078895552907 T = 0.8750100200400802 total time = 84.0009619238477\n",
      "GOOD: At repeats:49 got Prepeat = 0.08937587354528169 T = 0.8509819639278557 total time = 83.39623246492987\n",
      "GOOD: At repeats:50 got Prepeat = 0.09503115787468823 T = 0.8269539078156314 total time = 82.69539078156313\n",
      "GOOD: At repeats:51 got Prepeat = 0.08085146615259015 T = 0.8269539078156314 total time = 84.3492985971944\n",
      "GOOD: At repeats:52 got Prepeat = 0.08750099331990062 T = 0.8029258517034069 total time = 83.50428857715431\n",
      "GOOD: At repeats:53 got Prepeat = 0.09526760710488318 T = 0.7788977955911824 total time = 82.56316633266533\n",
      "GOOD: At repeats:54 got Prepeat = 0.08185146307252109 T = 0.7788977955911824 total time = 84.1209619238477\n",
      "GOOD: At repeats:55 got Prepeat = 0.09065841591836993 T = 0.754869739478958 total time = 83.03567134268538\n",
      "GOOD: At repeats:56 got Prepeat = 0.07793884054128077 T = 0.754869739478958 total time = 84.54541082164329\n",
      "GOOD: At repeats:57 got Prepeat = 0.08780722468098862 T = 0.7308416833667335 total time = 83.31595190380762\n",
      "GOOD: At repeats:58 got Prepeat = 0.09910838031176859 T = 0.7068136272545091 total time = 81.99038076152306\n",
      "GOOD: At repeats:59 got Prepeat = 0.08664429167634848 T = 0.7068136272545091 total time = 83.40400801603208\n",
      "GOOD: At repeats:60 got Prepeat = 0.09920686049352263 T = 0.6827855711422847 total time = 81.93426853707416\n",
      "GOOD: At repeats:61 got Prepeat = 0.0871421174248497 T = 0.6827855711422847 total time = 83.29983967935873\n",
      "GOOD: At repeats:62 got Prepeat = 0.07579674128096078 T = 0.6827855711422847 total time = 84.66541082164329\n",
      "GOOD: At repeats:63 got Prepeat = 0.08931632121775923 T = 0.6587575150300602 total time = 83.00344689378758\n",
      "GOOD: At repeats:64 got Prepeat = 0.07822272462113694 T = 0.6587575150300602 total time = 84.3209619238477\n",
      "GOOD: At repeats:65 got Prepeat = 0.09322561007804459 T = 0.6347294589178357 total time = 82.51482965931865\n",
      "GOOD: At repeats:66 got Prepeat = 0.0823000055476577 T = 0.6347294589178357 total time = 83.78428857715431\n",
      "GOOD: At repeats:67 got Prepeat = 0.09897081422840306 T = 0.6107014028056112 total time = 81.83398797595191\n",
      "GOOD: At repeats:68 got Prepeat = 0.08814261442503278 T = 0.6107014028056112 total time = 83.05539078156313\n",
      "GOOD: At repeats:69 got Prepeat = 0.07789033297478273 T = 0.6107014028056112 total time = 84.27679358717435\n",
      "GOOD: At repeats:70 got Prepeat = 0.09590560965415286 T = 0.5866733466933869 total time = 82.13426853707416\n",
      "GOOD: At repeats:71 got Prepeat = 0.0856403004700674 T = 0.5866733466933869 total time = 83.30761523046094\n",
      "GOOD: At repeats:72 got Prepeat = 0.07591022978523214 T = 0.5866733466933869 total time = 84.48096192384772\n",
      "GOOD: At repeats:73 got Prepeat = 0.0954626289156658 T = 0.5626452905811624 total time = 82.14621242484971\n",
      "GOOD: At repeats:74 got Prepeat = 0.08562448653304935 T = 0.5626452905811624 total time = 83.27150300601204\n",
      "GOOD: At repeats:75 got Prepeat = 0.07627911747466769 T = 0.5626452905811624 total time = 84.39679358717436\n",
      "GOOD: At repeats:76 got Prepeat = 0.097629076357905 T = 0.5386172344689379 total time = 81.86981963927857\n",
      "GOOD: At repeats:77 got Prepeat = 0.08809779714667194 T = 0.5386172344689379 total time = 82.94705410821645\n",
      "GOOD: At repeats:78 got Prepeat = 0.07901581203743215 T = 0.5386172344689379 total time = 84.02428857715432\n",
      "GOOD: At repeats:79 got Prepeat = 0.07039301662635196 T = 0.5386172344689379 total time = 85.1015230460922\n",
      "GOOD: At repeats:80 got Prepeat = 0.09316012804698105 T = 0.5145891783567135 total time = 82.33426853707415\n",
      "GOOD: At repeats:81 got Prepeat = 0.08423852952407658 T = 0.5145891783567135 total time = 83.36344689378758\n",
      "GOOD: At repeats:82 got Prepeat = 0.07573122601356778 T = 0.5145891783567135 total time = 84.39262525050101\n",
      "GOOD: At repeats:83 got Prepeat = 0.06764668558347361 T = 0.5145891783567135 total time = 85.42180360721444\n",
      "GOOD: At repeats:84 got Prepeat = 0.09216192776870288 T = 0.490561122244489 total time = 82.41426853707415\n",
      "GOOD: At repeats:85 got Prepeat = 0.08368747411124312 T = 0.490561122244489 total time = 83.39539078156314\n",
      "GOOD: At repeats:86 got Prepeat = 0.07559033597823493 T = 0.490561122244489 total time = 84.37651302605211\n",
      "GOOD: At repeats:87 got Prepeat = 0.06787784401768054 T = 0.490561122244489 total time = 85.35763527054108\n",
      "GOOD: At repeats:88 got Prepeat = 0.09458863180472843 T = 0.4665330661322646 total time = 82.10981963927857\n",
      "GOOD: At repeats:89 got Prepeat = 0.08641900819313626 T = 0.4665330661322646 total time = 83.0428857715431\n",
      "GOOD: At repeats:90 got Prepeat = 0.07858867052429998 T = 0.4665330661322646 total time = 83.97595190380763\n",
      "GOOD: At repeats:91 got Prepeat = 0.07110403541945488 T = 0.4665330661322646 total time = 84.90901803607215\n",
      "GOOD: At repeats:92 got Prepeat = 0.06397123621161722 T = 0.4665330661322646 total time = 85.84208416833668\n",
      "GOOD: At repeats:93 got Prepeat = 0.09258112897007706 T = 0.4425050100200401 total time = 82.30593186372747\n",
      "GOOD: At repeats:94 got Prepeat = 0.08489869459674124 T = 0.4425050100200401 total time = 83.19094188376754\n",
      "GOOD: At repeats:95 got Prepeat = 0.07752284492080021 T = 0.4425050100200401 total time = 84.07595190380762\n",
      "GOOD: At repeats:96 got Prepeat = 0.07045902157249262 T = 0.4425050100200401 total time = 84.9609619238477\n",
      "GOOD: At repeats:97 got Prepeat = 0.06371243598052555 T = 0.4425050100200401 total time = 85.84597194388778\n",
      "GOOD: At repeats:98 got Prepeat = 0.09486386742243469 T = 0.4184769539078157 total time = 82.02148296593188\n",
      "GOOD: At repeats:99 got Prepeat = 0.08750542016428645 T = 0.4184769539078157 total time = 82.85843687374751\n"
     ]
    }
   ],
   "source": [
    "from concurrent.futures import ThreadPoolExecutor,as_completed\n",
    "H0n,H1n,psi0n = FDT.prepare_groverlike_system(10)\n",
    "executor = ThreadPoolExecutor(48)\n",
    "tasks = []\n",
    "plt.figure(figsize=(15,15))\n",
    "for repeats in range(11,100):\n",
    "    final_times = np.linspace(0.01, 12, 500)\n",
    "    find_min_time_for_epsilon_and_repeats(final_times, psi0n, basis(2,0) , H0n, H1n, repeats)"
   ]
  },
  {
   "cell_type": "markdown",
   "metadata": {},
   "source": []
  },
  {
   "cell_type": "code",
   "execution_count": 12,
   "metadata": {
    "collapsed": false
   },
   "outputs": [
    {
     "name": "stdout",
     "output_type": "stream",
     "text": [
      "No conclusion for repeats = 11 min Prepeat = 0.3391335104457502\n",
      "No conclusion for repeats = 12 min Prepeat = 0.26041121397536104\n",
      "No conclusion for repeats = 13 min Prepeat = 0.18887193128979612\n",
      "No conclusion for repeats = 14 min Prepeat = 0.12664905514007965\n",
      "GOOD: At repeats:15 got Prepeat = 0.0755981511391509 T = 12.0 total time = 360.0\n",
      "GOOD: At repeats:16 got Prepeat = 0.09236582282735341 T = 11.757777777777777 total time = 376.24888888888887\n",
      "GOOD: At repeats:17 got Prepeat = 0.08346286707901435 T = 11.636666666666667 total time = 395.64666666666665\n",
      "GOOD: At repeats:18 got Prepeat = 0.07913248491873724 T = 11.515555555555556 total time = 414.56\n",
      "GOOD: At repeats:19 got Prepeat = 0.09381961179415114 T = 4.127777777777777 total time = 156.85555555555553\n",
      "GOOD: At repeats:20 got Prepeat = 0.09427651222856122 T = 3.643333333333333 total time = 145.73333333333332\n",
      "GOOD: At repeats:21 got Prepeat = 0.08554940743335954 T = 3.4011111111111108 total time = 142.84666666666666\n",
      "GOOD: At repeats:22 got Prepeat = 0.08415501861337829 T = 3.158888888888889 total time = 138.9911111111111\n",
      "GOOD: At repeats:23 got Prepeat = 0.09032577023195978 T = 2.9166666666666665 total time = 134.16666666666666\n",
      "GOOD: At repeats:24 got Prepeat = 0.08136240118473466 T = 2.7955555555555556 total time = 134.18666666666667\n",
      "GOOD: At repeats:25 got Prepeat = 0.0755909132885457 T = 2.674444444444444 total time = 133.7222222222222\n",
      "GOOD: At repeats:26 got Prepeat = 0.09987733686856431 T = 2.4322222222222223 total time = 126.47555555555556\n",
      "GOOD: At repeats:27 got Prepeat = 0.07296991054877867 T = 2.4322222222222223 total time = 131.34\n",
      "GOOD: At repeats:28 got Prepeat = 0.07613576476475899 T = 2.311111111111111 total time = 129.42222222222222\n",
      "GOOD: At repeats:29 got Prepeat = 0.08255730535615229 T = 2.19 total time = 127.02\n",
      "GOOD: At repeats:30 got Prepeat = 0.09264535147850686 T = 2.0688888888888886 total time = 124.13333333333331\n",
      "GOOD: At repeats:31 got Prepeat = 0.06975179882720525 T = 2.0688888888888886 total time = 128.27111111111108\n",
      "GOOD: At repeats:32 got Prepeat = 0.08359293123232868 T = 1.9477777777777778 total time = 124.65777777777778\n",
      "GOOD: At repeats:33 got Prepeat = 0.06286915885278122 T = 1.9477777777777778 total time = 128.55333333333334\n",
      "GOOD: At repeats:34 got Prepeat = 0.08059988126070378 T = 1.8266666666666667 total time = 124.21333333333334\n",
      "GOOD: At repeats:35 got Prepeat = 0.06129609923380346 T = 1.8266666666666667 total time = 127.86666666666666\n",
      "GOOD: At repeats:36 got Prepeat = 0.08350750051236264 T = 1.7055555555555555 total time = 122.8\n",
      "GOOD: At repeats:37 got Prepeat = 0.06496293544195417 T = 1.7055555555555555 total time = 126.21111111111111\n",
      "GOOD: At repeats:38 got Prepeat = 0.09271668482558822 T = 1.5844444444444445 total time = 120.41777777777779\n",
      "GOOD: At repeats:39 got Prepeat = 0.07439803345136979 T = 1.5844444444444445 total time = 123.58666666666667\n",
      "GOOD: At repeats:40 got Prepeat = 0.0579565919845969 T = 1.5844444444444445 total time = 126.75555555555556\n",
      "GOOD: At repeats:41 got Prepeat = 0.09073533456637982 T = 1.4633333333333334 total time = 119.99333333333334\n",
      "GOOD: At repeats:42 got Prepeat = 0.07382890135875321 T = 1.4633333333333334 total time = 122.92\n",
      "GOOD: At repeats:43 got Prepeat = 0.058546200308882954 T = 1.4633333333333334 total time = 125.84666666666666\n",
      "GOOD: At repeats:44 got Prepeat = 0.09811136621085828 T = 1.3422222222222222 total time = 118.11555555555556\n",
      "GOOD: At repeats:45 got Prepeat = 0.0818636950695717 T = 1.3422222222222222 total time = 120.8\n",
      "GOOD: At repeats:46 got Prepeat = 0.06697199817115657 T = 1.3422222222222222 total time = 123.48444444444445\n",
      "GOOD: At repeats:47 got Prepeat = 0.053484547815343425 T = 1.3422222222222222 total time = 126.16888888888889\n",
      "GOOD: At repeats:48 got Prepeat = 0.09984912895403893 T = 1.2211111111111113 total time = 117.22666666666669\n",
      "GOOD: At repeats:49 got Prepeat = 0.08481500642643894 T = 1.2211111111111113 total time = 119.6688888888889\n",
      "GOOD: At repeats:50 got Prepeat = 0.0709071167788558 T = 1.2211111111111113 total time = 122.11111111111113\n",
      "GOOD: At repeats:51 got Prepeat = 0.05816316994720447 T = 1.2211111111111113 total time = 124.55333333333334\n",
      "GOOD: At repeats:52 got Prepeat = 0.04661771994582512 T = 1.2211111111111113 total time = 126.99555555555557\n",
      "GOOD: At repeats:53 got Prepeat = 0.036302071177520434 T = 1.2211111111111113 total time = 129.4377777777778\n",
      "GOOD: At repeats:54 got Prepeat = 0.0866455202074906 T = 1.1 total time = 118.80000000000001\n",
      "GOOD: At repeats:55 got Prepeat = 0.0738795909891377 T = 1.1 total time = 121.00000000000001\n",
      "GOOD: At repeats:56 got Prepeat = 0.06206062877140651 T = 1.1 total time = 123.20000000000002\n",
      "GOOD: At repeats:57 got Prepeat = 0.051214886908918164 T = 1.1 total time = 125.4\n",
      "GOOD: At repeats:58 got Prepeat = 0.04136645695066037 T = 1.1 total time = 127.60000000000001\n",
      "GOOD: At repeats:59 got Prepeat = 0.03253721512564457 T = 1.1 total time = 129.8\n",
      "GOOD: At repeats:60 got Prepeat = 0.09174714007100636 T = 0.9788888888888889 total time = 117.46666666666667\n",
      "GOOD: At repeats:61 got Prepeat = 0.07998020112870079 T = 0.9788888888888889 total time = 119.42444444444445\n",
      "GOOD: At repeats:62 got Prepeat = 0.06895878624893417 T = 0.9788888888888889 total time = 121.38222222222223\n",
      "GOOD: At repeats:63 got Prepeat = 0.05870244872958128 T = 0.9788888888888889 total time = 123.34\n",
      "GOOD: At repeats:64 got Prepeat = 0.04922938453048953 T = 0.9788888888888889 total time = 125.29777777777778\n",
      "GOOD: At repeats:65 got Prepeat = 0.040556399991688113 T = 0.9788888888888889 total time = 127.25555555555556\n",
      "GOOD: At repeats:66 got Prepeat = 0.032698882016945416 T = 0.9788888888888889 total time = 129.21333333333334\n",
      "GOOD: At repeats:67 got Prepeat = 0.02567077077557647 T = 0.9788888888888889 total time = 131.17111111111112\n",
      "GOOD: At repeats:68 got Prepeat = 0.09408280421383501 T = 0.8577777777777778 total time = 116.65777777777777\n",
      "GOOD: At repeats:69 got Prepeat = 0.08357173665723264 T = 0.8577777777777778 total time = 118.37333333333333\n",
      "GOOD: At repeats:70 got Prepeat = 0.07363252119602093 T = 0.8577777777777778 total time = 120.08888888888889\n",
      "GOOD: At repeats:71 got Prepeat = 0.06427879976800756 T = 0.8577777777777778 total time = 121.80444444444444\n",
      "GOOD: At repeats:72 got Prepeat = 0.055523410698961995 T = 0.8577777777777778 total time = 123.52\n",
      "GOOD: At repeats:73 got Prepeat = 0.04737837108154514 T = 0.8577777777777778 total time = 125.23555555555555\n",
      "GOOD: At repeats:74 got Prepeat = 0.03985486028140491 T = 0.8577777777777778 total time = 126.9511111111111\n",
      "GOOD: At repeats:75 got Prepeat = 0.03296320459308961 T = 0.8577777777777778 total time = 128.66666666666666\n",
      "GOOD: At repeats:76 got Prepeat = 0.02671286306682885 T = 0.8577777777777778 total time = 130.38222222222223\n",
      "GOOD: At repeats:77 got Prepeat = 0.021112414525640597 T = 0.8577777777777778 total time = 132.09777777777776\n",
      "GOOD: At repeats:78 got Prepeat = 0.01616954579058124 T = 0.8577777777777778 total time = 133.81333333333333\n",
      "GOOD: At repeats:79 got Prepeat = 0.09338730229707498 T = 0.7366666666666667 total time = 116.39333333333333\n",
      "GOOD: At repeats:80 got Prepeat = 0.08432937879363826 T = 0.7366666666666667 total time = 117.86666666666667\n",
      "GOOD: At repeats:81 got Prepeat = 0.07569521241538384 T = 0.7366666666666667 total time = 119.34\n",
      "GOOD: At repeats:82 got Prepeat = 0.06749360068854092 T = 0.7366666666666667 total time = 120.81333333333333\n",
      "GOOD: At repeats:83 got Prepeat = 0.05973290040068202 T = 0.7366666666666667 total time = 122.28666666666668\n",
      "GOOD: At repeats:84 got Prepeat = 0.05242101908582345 T = 0.7366666666666667 total time = 123.76\n",
      "GOOD: At repeats:85 got Prepeat = 0.0455654069672796 T = 0.7366666666666667 total time = 125.23333333333333\n",
      "GOOD: At repeats:86 got Prepeat = 0.039173049366480195 T = 0.7366666666666667 total time = 126.70666666666668\n",
      "GOOD: At repeats:87 got Prepeat = 0.03325045958548521 T = 0.7366666666666667 total time = 128.18\n",
      "GOOD: At repeats:88 got Prepeat = 0.027803672270450448 T = 0.7366666666666667 total time = 129.65333333333334\n",
      "GOOD: At repeats:89 got Prepeat = 0.022838237262804737 T = 0.7366666666666667 total time = 131.12666666666667\n",
      "GOOD: At repeats:90 got Prepeat = 0.018359213944404314 T = 0.7366666666666667 total time = 132.6\n",
      "GOOD: At repeats:91 got Prepeat = 0.01437116608242696 T = 0.7366666666666667 total time = 134.07333333333335\n",
      "GOOD: At repeats:92 got Prepeat = 0.01087815717925747 T = 0.7366666666666667 total time = 135.54666666666668\n",
      "GOOD: At repeats:93 got Prepeat = 0.007883746332103078 T = 0.7366666666666667 total time = 137.02\n",
      "GOOD: At repeats:94 got Prepeat = 0.09562021508749458 T = 0.6155555555555556 total time = 115.72444444444446\n",
      "GOOD: At repeats:95 got Prepeat = 0.08791884558917035 T = 0.6155555555555556 total time = 116.95555555555558\n",
      "GOOD: At repeats:96 got Prepeat = 0.080512422152904 T = 0.6155555555555556 total time = 118.18666666666668\n",
      "GOOD: At repeats:97 got Prepeat = 0.07340624302675909 T = 0.6155555555555556 total time = 119.41777777777779\n",
      "GOOD: At repeats:98 got Prepeat = 0.06660539167647607 T = 0.6155555555555556 total time = 120.6488888888889\n",
      "GOOD: At repeats:99 got Prepeat = 0.06011473314897114 T = 0.6155555555555556 total time = 121.88000000000001\n"
     ]
    }
   ],
   "source": [
    "from concurrent.futures import ThreadPoolExecutor,as_completed\n",
    "H0n,H1n,psi0n = FDT.prepare_groverlike_system(11)\n",
    "executor = ThreadPoolExecutor(48)\n",
    "tasks = []\n",
    "plt.figure(figsize=(15,15))\n",
    "for repeats in range(11,100):\n",
    "    final_times = np.linspace(0.01, 12, 100)\n",
    "    find_min_time_for_epsilon_and_repeats(final_times, psi0n, basis(2,0) , H0n, H1n, repeats)"
   ]
  },
  {
   "cell_type": "code",
   "execution_count": 13,
   "metadata": {
    "collapsed": false
   },
   "outputs": [
    {
     "name": "stdout",
     "output_type": "stream",
     "text": [
      "No conclusion for repeats = 20 min Prepeat = 0.11536291224557782\n",
      "GOOD: At repeats:21 got Prepeat = 0.07940863037476478 T = 12.0 total time = 504.0\n",
      "GOOD: At repeats:22 got Prepeat = 0.07701139592186605 T = 11.87888888888889 total time = 522.6711111111111\n",
      "GOOD: At repeats:23 got Prepeat = 0.07768522219961846 T = 11.757777777777777 total time = 540.8577777777778\n",
      "GOOD: At repeats:24 got Prepeat = 0.08148377149855301 T = 11.636666666666667 total time = 558.56\n",
      "GOOD: At repeats:25 got Prepeat = 0.08857786411849246 T = 11.515555555555556 total time = 575.7777777777778\n",
      "GOOD: At repeats:26 got Prepeat = 0.09733361012622439 T = 4.612222222222222 total time = 239.83555555555554\n",
      "GOOD: At repeats:27 got Prepeat = 0.09567868559943338 T = 4.006666666666667 total time = 216.36\n",
      "GOOD: At repeats:28 got Prepeat = 0.09953089538336633 T = 3.643333333333333 total time = 204.02666666666664\n",
      "GOOD: At repeats:29 got Prepeat = 0.08659928514611494 T = 3.522222222222222 total time = 204.2888888888889\n",
      "GOOD: At repeats:30 got Prepeat = 0.09141611863615803 T = 3.28 total time = 196.79999999999998\n",
      "GOOD: At repeats:31 got Prepeat = 0.08458308887428367 T = 3.158888888888889 total time = 195.8511111111111\n",
      "GOOD: At repeats:32 got Prepeat = 0.08012289264882139 T = 3.0377777777777775 total time = 194.41777777777776\n",
      "GOOD: At repeats:33 got Prepeat = 0.09953753994127768 T = 2.7955555555555556 total time = 184.50666666666666\n",
      "GOOD: At repeats:34 got Prepeat = 0.07803351917819064 T = 2.7955555555555556 total time = 190.09777777777776\n",
      "GOOD: At repeats:35 got Prepeat = 0.08044881241357552 T = 2.674444444444444 total time = 187.21111111111108\n",
      "GOOD: At repeats:36 got Prepeat = 0.08534418294136983 T = 2.5533333333333332 total time = 183.84\n",
      "GOOD: At repeats:37 got Prepeat = 0.09296523095978484 T = 2.4322222222222223 total time = 179.98444444444445\n",
      "GOOD: At repeats:38 got Prepeat = 0.07413879966426962 T = 2.4322222222222223 total time = 184.8488888888889\n",
      "GOOD: At repeats:39 got Prepeat = 0.08457730809258672 T = 2.311111111111111 total time = 180.26666666666665\n",
      "GOOD: At repeats:40 got Prepeat = 0.0984137763578327 T = 2.19 total time = 175.2\n",
      "GOOD: At repeats:41 got Prepeat = 0.08057655512752868 T = 2.19 total time = 179.57999999999998\n",
      "GOOD: At repeats:42 got Prepeat = 0.097785145903311 T = 2.0688888888888886 total time = 173.78666666666663\n",
      "GOOD: At repeats:43 got Prepeat = 0.08079951059704324 T = 2.0688888888888886 total time = 177.92444444444442\n",
      "GOOD: At repeats:44 got Prepeat = 0.06530580404869545 T = 2.0688888888888886 total time = 182.0622222222222\n",
      "GOOD: At repeats:45 got Prepeat = 0.0853602183900602 T = 1.9477777777777778 total time = 175.3\n",
      "GOOD: At repeats:46 got Prepeat = 0.07021708767936471 T = 1.9477777777777778 total time = 179.19555555555556\n",
      "GOOD: At repeats:47 got Prepeat = 0.0946718032914443 T = 1.8266666666666667 total time = 171.70666666666668\n",
      "GOOD: At repeats:48 got Prepeat = 0.07959581889799709 T = 1.8266666666666667 total time = 175.36\n",
      "GOOD: At repeats:49 got Prepeat = 0.06572490978140579 T = 1.8266666666666667 total time = 179.01333333333332\n"
     ]
    },
    {
     "ename": "KeyboardInterrupt",
     "evalue": "",
     "output_type": "error",
     "traceback": [
      "\u001b[0;31m---------------------------------------------------------------------------\u001b[0m",
      "\u001b[0;31mKeyboardInterrupt\u001b[0m                         Traceback (most recent call last)",
      "\u001b[0;32m<ipython-input-13-b1efc8fc1288>\u001b[0m in \u001b[0;36m<module>\u001b[0;34m()\u001b[0m\n\u001b[1;32m      6\u001b[0m \u001b[0;32mfor\u001b[0m \u001b[0mrepeats\u001b[0m \u001b[0;32min\u001b[0m \u001b[0mrange\u001b[0m\u001b[0;34m(\u001b[0m\u001b[0;36m20\u001b[0m\u001b[0;34m,\u001b[0m\u001b[0;36m100\u001b[0m\u001b[0;34m)\u001b[0m\u001b[0;34m:\u001b[0m\u001b[0;34m\u001b[0m\u001b[0m\n\u001b[1;32m      7\u001b[0m     \u001b[0mfinal_times\u001b[0m \u001b[0;34m=\u001b[0m \u001b[0mnp\u001b[0m\u001b[0;34m.\u001b[0m\u001b[0mlinspace\u001b[0m\u001b[0;34m(\u001b[0m\u001b[0;36m0.01\u001b[0m\u001b[0;34m,\u001b[0m \u001b[0;36m12\u001b[0m\u001b[0;34m,\u001b[0m \u001b[0;36m100\u001b[0m\u001b[0;34m)\u001b[0m\u001b[0;34m\u001b[0m\u001b[0m\n\u001b[0;32m----> 8\u001b[0;31m     \u001b[0mfind_min_time_for_epsilon_and_repeats\u001b[0m\u001b[0;34m(\u001b[0m\u001b[0mfinal_times\u001b[0m\u001b[0;34m,\u001b[0m \u001b[0mpsi0n\u001b[0m\u001b[0;34m,\u001b[0m \u001b[0mbasis\u001b[0m\u001b[0;34m(\u001b[0m\u001b[0;36m2\u001b[0m\u001b[0;34m,\u001b[0m\u001b[0;36m0\u001b[0m\u001b[0;34m)\u001b[0m \u001b[0;34m,\u001b[0m \u001b[0mH0n\u001b[0m\u001b[0;34m,\u001b[0m \u001b[0mH1n\u001b[0m\u001b[0;34m,\u001b[0m \u001b[0mrepeats\u001b[0m\u001b[0;34m)\u001b[0m\u001b[0;34m\u001b[0m\u001b[0m\n\u001b[0m",
      "\u001b[0;32m<ipython-input-4-ab171a843e9e>\u001b[0m in \u001b[0;36mfind_min_time_for_epsilon_and_repeats\u001b[0;34m(final_times, psi0n, psi1n, H0n, H1n, repeats, epsilon)\u001b[0m\n\u001b[1;32m      9\u001b[0m     \u001b[0mold_T\u001b[0m \u001b[0;34m=\u001b[0m \u001b[0;36m0\u001b[0m\u001b[0;34m\u001b[0m\u001b[0m\n\u001b[1;32m     10\u001b[0m     \u001b[0;32mfor\u001b[0m \u001b[0mT\u001b[0m \u001b[0;32min\u001b[0m \u001b[0mfinal_times\u001b[0m\u001b[0;34m:\u001b[0m\u001b[0;34m\u001b[0m\u001b[0m\n\u001b[0;32m---> 11\u001b[0;31m             \u001b[0m_\u001b[0m\u001b[0;34m,\u001b[0m\u001b[0m_\u001b[0m\u001b[0;34m,\u001b[0m \u001b[0mPrepeat\u001b[0m \u001b[0;34m=\u001b[0m \u001b[0m_simulate_time_p_and_pfab_repeat\u001b[0m\u001b[0;34m(\u001b[0m\u001b[0mrepeats\u001b[0m\u001b[0;34m,\u001b[0m \u001b[0mT\u001b[0m\u001b[0;34m,\u001b[0m \u001b[0mmax\u001b[0m\u001b[0;34m(\u001b[0m\u001b[0mT\u001b[0m\u001b[0;34m*\u001b[0m\u001b[0;36m5\u001b[0m\u001b[0;34m,\u001b[0m\u001b[0;36m50\u001b[0m\u001b[0;34m)\u001b[0m \u001b[0;34m,\u001b[0m \u001b[0mpsi0n\u001b[0m\u001b[0;34m,\u001b[0m \u001b[0mpsi1n\u001b[0m \u001b[0;34m,\u001b[0m \u001b[0mH0n\u001b[0m\u001b[0;34m,\u001b[0m \u001b[0mH1n\u001b[0m\u001b[0;34m)\u001b[0m\u001b[0;34m\u001b[0m\u001b[0m\n\u001b[0m\u001b[1;32m     12\u001b[0m \u001b[0;31m#             if Prepeat > old_Prepeat :\u001b[0m\u001b[0;34m\u001b[0m\u001b[0;34m\u001b[0m\u001b[0m\n\u001b[1;32m     13\u001b[0m \u001b[0;31m#                 print(\"BAD: At repeats:{} got Prepeat = {} T = {} total time = {}, epsilon = {} not met in first decrease\".\u001b[0m\u001b[0;34m\u001b[0m\u001b[0;34m\u001b[0m\u001b[0m\n",
      "\u001b[0;32m<ipython-input-3-968f4ffee430>\u001b[0m in \u001b[0;36m_simulate_time_p_and_pfab_repeat\u001b[0;34m(repeats, T, steps, psi0, psi1, H0, H1)\u001b[0m\n\u001b[1;32m     12\u001b[0m     \"\"\"\n\u001b[1;32m     13\u001b[0m     \u001b[0mtlist\u001b[0m \u001b[0;34m=\u001b[0m \u001b[0mnp\u001b[0m\u001b[0;34m.\u001b[0m\u001b[0mlinspace\u001b[0m\u001b[0;34m(\u001b[0m\u001b[0;36m0\u001b[0m\u001b[0;34m,\u001b[0m \u001b[0mT\u001b[0m\u001b[0;34m,\u001b[0m \u001b[0msteps\u001b[0m\u001b[0;34m)\u001b[0m\u001b[0;34m\u001b[0m\u001b[0m\n\u001b[0;32m---> 14\u001b[0;31m     \u001b[0mbackprop_t\u001b[0m\u001b[0;34m,\u001b[0m \u001b[0mprop_t\u001b[0m \u001b[0;34m=\u001b[0m \u001b[0mFDT\u001b[0m\u001b[0;34m.\u001b[0m\u001b[0mcreate_back_and_forward_props\u001b[0m\u001b[0;34m(\u001b[0m\u001b[0mtlist\u001b[0m\u001b[0;34m,\u001b[0m \u001b[0mH0\u001b[0m\u001b[0;34m,\u001b[0m \u001b[0mH1\u001b[0m\u001b[0;34m)\u001b[0m\u001b[0;34m\u001b[0m\u001b[0m\n\u001b[0m\u001b[1;32m     15\u001b[0m     \u001b[0mpsi_forward\u001b[0m \u001b[0;34m=\u001b[0m \u001b[0mprop_t\u001b[0m \u001b[0;34m*\u001b[0m \u001b[0mpsi0\u001b[0m\u001b[0;34m\u001b[0m\u001b[0m\n\u001b[1;32m     16\u001b[0m \u001b[0;34m\u001b[0m\u001b[0m\n",
      "\u001b[0;32m/home/yona/qutip/dorit/fast_diabatic/FD_tools.py\u001b[0m in \u001b[0;36mcreate_back_and_forward_props\u001b[0;34m(tlist, H_0, H_1)\u001b[0m\n\u001b[1;32m     52\u001b[0m         \u001b[0ms\u001b[0m \u001b[0;34m=\u001b[0m \u001b[0mtime\u001b[0m \u001b[0;34m/\u001b[0m \u001b[0mtmax\u001b[0m\u001b[0;34m\u001b[0m\u001b[0m\n\u001b[1;32m     53\u001b[0m         \u001b[0mHs\u001b[0m \u001b[0;34m=\u001b[0m \u001b[0mH_0\u001b[0m \u001b[0;34m*\u001b[0m \u001b[0;34m(\u001b[0m\u001b[0;36m1\u001b[0m \u001b[0;34m-\u001b[0m \u001b[0ms\u001b[0m\u001b[0;34m)\u001b[0m \u001b[0;34m+\u001b[0m \u001b[0mH_1\u001b[0m \u001b[0;34m*\u001b[0m \u001b[0ms\u001b[0m\u001b[0;34m\u001b[0m\u001b[0m\n\u001b[0;32m---> 54\u001b[0;31m         \u001b[0mU\u001b[0m \u001b[0;34m=\u001b[0m \u001b[0;34m(\u001b[0m\u001b[0;34m-\u001b[0m\u001b[0;36m1j\u001b[0m \u001b[0;34m*\u001b[0m \u001b[0mHs\u001b[0m \u001b[0;34m*\u001b[0m \u001b[0mdt\u001b[0m\u001b[0;34m)\u001b[0m\u001b[0;34m.\u001b[0m\u001b[0mexpm\u001b[0m\u001b[0;34m(\u001b[0m\u001b[0;34m)\u001b[0m\u001b[0;34m\u001b[0m\u001b[0m\n\u001b[0m\u001b[1;32m     55\u001b[0m         \u001b[0mprop\u001b[0m \u001b[0;34m=\u001b[0m \u001b[0mU\u001b[0m \u001b[0;34m*\u001b[0m \u001b[0mprop\u001b[0m\u001b[0;34m\u001b[0m\u001b[0m\n\u001b[1;32m     56\u001b[0m         \u001b[0mlast_time\u001b[0m \u001b[0;34m=\u001b[0m \u001b[0mtime\u001b[0m\u001b[0;34m\u001b[0m\u001b[0m\n",
      "\u001b[0;32m/home/yona/anaconda3/envs/qutip/lib/python3.5/site-packages/qutip/qobj.py\u001b[0m in \u001b[0;36mexpm\u001b[0;34m(self, method)\u001b[0m\n\u001b[1;32m   1047\u001b[0m \u001b[0;34m\u001b[0m\u001b[0m\n\u001b[1;32m   1048\u001b[0m         \u001b[0mout\u001b[0m \u001b[0;34m=\u001b[0m \u001b[0mQobj\u001b[0m\u001b[0;34m(\u001b[0m\u001b[0mF\u001b[0m\u001b[0;34m,\u001b[0m \u001b[0mdims\u001b[0m\u001b[0;34m=\u001b[0m\u001b[0mself\u001b[0m\u001b[0;34m.\u001b[0m\u001b[0mdims\u001b[0m\u001b[0;34m)\u001b[0m\u001b[0;34m\u001b[0m\u001b[0m\n\u001b[0;32m-> 1049\u001b[0;31m         \u001b[0;32mreturn\u001b[0m \u001b[0mout\u001b[0m\u001b[0;34m.\u001b[0m\u001b[0mtidyup\u001b[0m\u001b[0;34m(\u001b[0m\u001b[0;34m)\u001b[0m \u001b[0;32mif\u001b[0m \u001b[0msettings\u001b[0m\u001b[0;34m.\u001b[0m\u001b[0mauto_tidyup\u001b[0m \u001b[0;32melse\u001b[0m \u001b[0mout\u001b[0m\u001b[0;34m\u001b[0m\u001b[0m\n\u001b[0m\u001b[1;32m   1050\u001b[0m \u001b[0;34m\u001b[0m\u001b[0m\n\u001b[1;32m   1051\u001b[0m     \u001b[0;32mdef\u001b[0m \u001b[0mcheck_herm\u001b[0m\u001b[0;34m(\u001b[0m\u001b[0mself\u001b[0m\u001b[0;34m)\u001b[0m\u001b[0;34m:\u001b[0m\u001b[0;34m\u001b[0m\u001b[0m\n",
      "\u001b[0;32m/home/yona/anaconda3/envs/qutip/lib/python3.5/site-packages/qutip/qobj.py\u001b[0m in \u001b[0;36mtidyup\u001b[0;34m(self, atol)\u001b[0m\n\u001b[1;32m   1251\u001b[0m \u001b[0;34m\u001b[0m\u001b[0m\n\u001b[1;32m   1252\u001b[0m         \u001b[0;32mif\u001b[0m \u001b[0mself\u001b[0m\u001b[0;34m.\u001b[0m\u001b[0mdata\u001b[0m\u001b[0;34m.\u001b[0m\u001b[0mnnz\u001b[0m\u001b[0;34m:\u001b[0m\u001b[0;34m\u001b[0m\u001b[0m\n\u001b[0;32m-> 1253\u001b[0;31m             \u001b[0mcy_tidyup\u001b[0m\u001b[0;34m(\u001b[0m\u001b[0mself\u001b[0m\u001b[0;34m.\u001b[0m\u001b[0mdata\u001b[0m\u001b[0;34m.\u001b[0m\u001b[0mdata\u001b[0m\u001b[0;34m,\u001b[0m\u001b[0matol\u001b[0m\u001b[0;34m,\u001b[0m\u001b[0mself\u001b[0m\u001b[0;34m.\u001b[0m\u001b[0mdata\u001b[0m\u001b[0;34m.\u001b[0m\u001b[0mnnz\u001b[0m\u001b[0;34m)\u001b[0m\u001b[0;34m\u001b[0m\u001b[0m\n\u001b[0m\u001b[1;32m   1254\u001b[0m             \u001b[0mself\u001b[0m\u001b[0;34m.\u001b[0m\u001b[0mdata\u001b[0m\u001b[0;34m.\u001b[0m\u001b[0meliminate_zeros\u001b[0m\u001b[0;34m(\u001b[0m\u001b[0;34m)\u001b[0m\u001b[0;34m\u001b[0m\u001b[0m\n\u001b[1;32m   1255\u001b[0m             \u001b[0;32mreturn\u001b[0m \u001b[0mself\u001b[0m\u001b[0;34m\u001b[0m\u001b[0m\n",
      "\u001b[0;31mKeyboardInterrupt\u001b[0m: "
     ]
    }
   ],
   "source": [
    "from concurrent.futures import ThreadPoolExecutor,as_completed\n",
    "H0n,H1n,psi0n = FDT.prepare_groverlike_system(12)\n",
    "executor = ThreadPoolExecutor(48)\n",
    "tasks = []\n",
    "plt.figure(figsize=(15,15))\n",
    "for repeats in range(20,100):\n",
    "    final_times = np.linspace(0.01, 12, 100)\n",
    "    find_min_time_for_epsilon_and_repeats(final_times, psi0n, basis(2,0) , H0n, H1n, repeats)"
   ]
  },
  {
   "cell_type": "code",
   "execution_count": 14,
   "metadata": {
    "collapsed": false
   },
   "outputs": [
    {
     "name": "stdout",
     "output_type": "stream",
     "text": [
      "GOOD: At repeats:40 got Prepeat = 0.09047529364728511 T = 3.643333333333333 total time = 291.46666666666664\n",
      "GOOD: At repeats:41 got Prepeat = 0.09935807057294638 T = 3.4011111111111108 total time = 278.89111111111106\n",
      "GOOD: At repeats:42 got Prepeat = 0.09724277118639339 T = 3.28 total time = 275.52\n",
      "GOOD: At repeats:43 got Prepeat = 0.09706168314002464 T = 3.158888888888889 total time = 271.6644444444444\n",
      "GOOD: At repeats:44 got Prepeat = 0.09886012772481648 T = 3.0377777777777775 total time = 267.3244444444444\n",
      "GOOD: At repeats:45 got Prepeat = 0.08254656595980404 T = 3.0377777777777775 total time = 273.4\n",
      "GOOD: At repeats:46 got Prepeat = 0.08655682898605634 T = 2.9166666666666665 total time = 268.3333333333333\n",
      "GOOD: At repeats:47 got Prepeat = 0.0926836765812014 T = 2.7955555555555556 total time = 262.78222222222223\n",
      "GOOD: At repeats:48 got Prepeat = 0.07771283991938037 T = 2.7955555555555556 total time = 268.37333333333333\n"
     ]
    },
    {
     "ename": "KeyboardInterrupt",
     "evalue": "",
     "output_type": "error",
     "traceback": [
      "\u001b[0;31m---------------------------------------------------------------------------\u001b[0m",
      "\u001b[0;31mAttributeError\u001b[0m                            Traceback (most recent call last)",
      "\u001b[0;32m/home/yona/anaconda3/envs/qutip/lib/python3.5/site-packages/numpy/core/fromnumeric.py\u001b[0m in \u001b[0;36mprod\u001b[0;34m(a, axis, dtype, out, keepdims)\u001b[0m\n\u001b[1;32m   2488\u001b[0m         \u001b[0;32mtry\u001b[0m\u001b[0;34m:\u001b[0m\u001b[0;34m\u001b[0m\u001b[0m\n\u001b[0;32m-> 2489\u001b[0;31m             \u001b[0mprod\u001b[0m \u001b[0;34m=\u001b[0m \u001b[0ma\u001b[0m\u001b[0;34m.\u001b[0m\u001b[0mprod\u001b[0m\u001b[0;34m\u001b[0m\u001b[0m\n\u001b[0m\u001b[1;32m   2490\u001b[0m         \u001b[0;32mexcept\u001b[0m \u001b[0mAttributeError\u001b[0m\u001b[0;34m:\u001b[0m\u001b[0;34m\u001b[0m\u001b[0m\n",
      "\u001b[0;31mAttributeError\u001b[0m: 'list' object has no attribute 'prod'",
      "\nDuring handling of the above exception, another exception occurred:\n",
      "\u001b[0;31mKeyboardInterrupt\u001b[0m                         Traceback (most recent call last)",
      "\u001b[0;32m<ipython-input-14-56c3ab6c02b7>\u001b[0m in \u001b[0;36m<module>\u001b[0;34m()\u001b[0m\n\u001b[1;32m      6\u001b[0m \u001b[0;32mfor\u001b[0m \u001b[0mrepeats\u001b[0m \u001b[0;32min\u001b[0m \u001b[0mrange\u001b[0m\u001b[0;34m(\u001b[0m\u001b[0;36m40\u001b[0m\u001b[0;34m,\u001b[0m\u001b[0;36m100\u001b[0m\u001b[0;34m)\u001b[0m\u001b[0;34m:\u001b[0m\u001b[0;34m\u001b[0m\u001b[0m\n\u001b[1;32m      7\u001b[0m     \u001b[0mfinal_times\u001b[0m \u001b[0;34m=\u001b[0m \u001b[0mnp\u001b[0m\u001b[0;34m.\u001b[0m\u001b[0mlinspace\u001b[0m\u001b[0;34m(\u001b[0m\u001b[0;36m0.01\u001b[0m\u001b[0;34m,\u001b[0m \u001b[0;36m12\u001b[0m\u001b[0;34m,\u001b[0m \u001b[0;36m100\u001b[0m\u001b[0;34m)\u001b[0m\u001b[0;34m\u001b[0m\u001b[0m\n\u001b[0;32m----> 8\u001b[0;31m     \u001b[0mfind_min_time_for_epsilon_and_repeats\u001b[0m\u001b[0;34m(\u001b[0m\u001b[0mfinal_times\u001b[0m\u001b[0;34m,\u001b[0m \u001b[0mpsi0n\u001b[0m\u001b[0;34m,\u001b[0m \u001b[0mbasis\u001b[0m\u001b[0;34m(\u001b[0m\u001b[0;36m2\u001b[0m\u001b[0;34m,\u001b[0m\u001b[0;36m0\u001b[0m\u001b[0;34m)\u001b[0m \u001b[0;34m,\u001b[0m \u001b[0mH0n\u001b[0m\u001b[0;34m,\u001b[0m \u001b[0mH1n\u001b[0m\u001b[0;34m,\u001b[0m \u001b[0mrepeats\u001b[0m\u001b[0;34m)\u001b[0m\u001b[0;34m\u001b[0m\u001b[0m\n\u001b[0m",
      "\u001b[0;32m<ipython-input-4-ab171a843e9e>\u001b[0m in \u001b[0;36mfind_min_time_for_epsilon_and_repeats\u001b[0;34m(final_times, psi0n, psi1n, H0n, H1n, repeats, epsilon)\u001b[0m\n\u001b[1;32m      9\u001b[0m     \u001b[0mold_T\u001b[0m \u001b[0;34m=\u001b[0m \u001b[0;36m0\u001b[0m\u001b[0;34m\u001b[0m\u001b[0m\n\u001b[1;32m     10\u001b[0m     \u001b[0;32mfor\u001b[0m \u001b[0mT\u001b[0m \u001b[0;32min\u001b[0m \u001b[0mfinal_times\u001b[0m\u001b[0;34m:\u001b[0m\u001b[0;34m\u001b[0m\u001b[0m\n\u001b[0;32m---> 11\u001b[0;31m             \u001b[0m_\u001b[0m\u001b[0;34m,\u001b[0m\u001b[0m_\u001b[0m\u001b[0;34m,\u001b[0m \u001b[0mPrepeat\u001b[0m \u001b[0;34m=\u001b[0m \u001b[0m_simulate_time_p_and_pfab_repeat\u001b[0m\u001b[0;34m(\u001b[0m\u001b[0mrepeats\u001b[0m\u001b[0;34m,\u001b[0m \u001b[0mT\u001b[0m\u001b[0;34m,\u001b[0m \u001b[0mmax\u001b[0m\u001b[0;34m(\u001b[0m\u001b[0mT\u001b[0m\u001b[0;34m*\u001b[0m\u001b[0;36m5\u001b[0m\u001b[0;34m,\u001b[0m\u001b[0;36m50\u001b[0m\u001b[0;34m)\u001b[0m \u001b[0;34m,\u001b[0m \u001b[0mpsi0n\u001b[0m\u001b[0;34m,\u001b[0m \u001b[0mpsi1n\u001b[0m \u001b[0;34m,\u001b[0m \u001b[0mH0n\u001b[0m\u001b[0;34m,\u001b[0m \u001b[0mH1n\u001b[0m\u001b[0;34m)\u001b[0m\u001b[0;34m\u001b[0m\u001b[0m\n\u001b[0m\u001b[1;32m     12\u001b[0m \u001b[0;31m#             if Prepeat > old_Prepeat :\u001b[0m\u001b[0;34m\u001b[0m\u001b[0;34m\u001b[0m\u001b[0m\n\u001b[1;32m     13\u001b[0m \u001b[0;31m#                 print(\"BAD: At repeats:{} got Prepeat = {} T = {} total time = {}, epsilon = {} not met in first decrease\".\u001b[0m\u001b[0;34m\u001b[0m\u001b[0;34m\u001b[0m\u001b[0m\n",
      "\u001b[0;32m<ipython-input-3-968f4ffee430>\u001b[0m in \u001b[0;36m_simulate_time_p_and_pfab_repeat\u001b[0;34m(repeats, T, steps, psi0, psi1, H0, H1)\u001b[0m\n\u001b[1;32m     12\u001b[0m     \"\"\"\n\u001b[1;32m     13\u001b[0m     \u001b[0mtlist\u001b[0m \u001b[0;34m=\u001b[0m \u001b[0mnp\u001b[0m\u001b[0;34m.\u001b[0m\u001b[0mlinspace\u001b[0m\u001b[0;34m(\u001b[0m\u001b[0;36m0\u001b[0m\u001b[0;34m,\u001b[0m \u001b[0mT\u001b[0m\u001b[0;34m,\u001b[0m \u001b[0msteps\u001b[0m\u001b[0;34m)\u001b[0m\u001b[0;34m\u001b[0m\u001b[0m\n\u001b[0;32m---> 14\u001b[0;31m     \u001b[0mbackprop_t\u001b[0m\u001b[0;34m,\u001b[0m \u001b[0mprop_t\u001b[0m \u001b[0;34m=\u001b[0m \u001b[0mFDT\u001b[0m\u001b[0;34m.\u001b[0m\u001b[0mcreate_back_and_forward_props\u001b[0m\u001b[0;34m(\u001b[0m\u001b[0mtlist\u001b[0m\u001b[0;34m,\u001b[0m \u001b[0mH0\u001b[0m\u001b[0;34m,\u001b[0m \u001b[0mH1\u001b[0m\u001b[0;34m)\u001b[0m\u001b[0;34m\u001b[0m\u001b[0m\n\u001b[0m\u001b[1;32m     15\u001b[0m     \u001b[0mpsi_forward\u001b[0m \u001b[0;34m=\u001b[0m \u001b[0mprop_t\u001b[0m \u001b[0;34m*\u001b[0m \u001b[0mpsi0\u001b[0m\u001b[0;34m\u001b[0m\u001b[0m\n\u001b[1;32m     16\u001b[0m \u001b[0;34m\u001b[0m\u001b[0m\n",
      "\u001b[0;32m/home/yona/qutip/dorit/fast_diabatic/FD_tools.py\u001b[0m in \u001b[0;36mcreate_back_and_forward_props\u001b[0;34m(tlist, H_0, H_1)\u001b[0m\n\u001b[1;32m     53\u001b[0m         \u001b[0mHs\u001b[0m \u001b[0;34m=\u001b[0m \u001b[0mH_0\u001b[0m \u001b[0;34m*\u001b[0m \u001b[0;34m(\u001b[0m\u001b[0;36m1\u001b[0m \u001b[0;34m-\u001b[0m \u001b[0ms\u001b[0m\u001b[0;34m)\u001b[0m \u001b[0;34m+\u001b[0m \u001b[0mH_1\u001b[0m \u001b[0;34m*\u001b[0m \u001b[0ms\u001b[0m\u001b[0;34m\u001b[0m\u001b[0m\n\u001b[1;32m     54\u001b[0m         \u001b[0mU\u001b[0m \u001b[0;34m=\u001b[0m \u001b[0;34m(\u001b[0m\u001b[0;34m-\u001b[0m\u001b[0;36m1j\u001b[0m \u001b[0;34m*\u001b[0m \u001b[0mHs\u001b[0m \u001b[0;34m*\u001b[0m \u001b[0mdt\u001b[0m\u001b[0;34m)\u001b[0m\u001b[0;34m.\u001b[0m\u001b[0mexpm\u001b[0m\u001b[0;34m(\u001b[0m\u001b[0;34m)\u001b[0m\u001b[0;34m\u001b[0m\u001b[0m\n\u001b[0;32m---> 55\u001b[0;31m         \u001b[0mprop\u001b[0m \u001b[0;34m=\u001b[0m \u001b[0mU\u001b[0m \u001b[0;34m*\u001b[0m \u001b[0mprop\u001b[0m\u001b[0;34m\u001b[0m\u001b[0m\n\u001b[0m\u001b[1;32m     56\u001b[0m         \u001b[0mlast_time\u001b[0m \u001b[0;34m=\u001b[0m \u001b[0mtime\u001b[0m\u001b[0;34m\u001b[0m\u001b[0m\n\u001b[1;32m     57\u001b[0m     \u001b[0mlast_time\u001b[0m \u001b[0;34m=\u001b[0m \u001b[0;36m0\u001b[0m\u001b[0;34m\u001b[0m\u001b[0m\n",
      "\u001b[0;32m/home/yona/anaconda3/envs/qutip/lib/python3.5/site-packages/qutip/qobj.py\u001b[0m in \u001b[0;36m__mul__\u001b[0;34m(self, other)\u001b[0m\n\u001b[1;32m    453\u001b[0m         \u001b[0;32mif\u001b[0m \u001b[0misinstance\u001b[0m\u001b[0;34m(\u001b[0m\u001b[0mother\u001b[0m\u001b[0;34m,\u001b[0m \u001b[0mQobj\u001b[0m\u001b[0;34m)\u001b[0m\u001b[0;34m:\u001b[0m\u001b[0;34m\u001b[0m\u001b[0m\n\u001b[1;32m    454\u001b[0m             \u001b[0;32mif\u001b[0m \u001b[0mself\u001b[0m\u001b[0;34m.\u001b[0m\u001b[0mdims\u001b[0m\u001b[0;34m[\u001b[0m\u001b[0;36m1\u001b[0m\u001b[0;34m]\u001b[0m \u001b[0;34m==\u001b[0m \u001b[0mother\u001b[0m\u001b[0;34m.\u001b[0m\u001b[0mdims\u001b[0m\u001b[0;34m[\u001b[0m\u001b[0;36m0\u001b[0m\u001b[0;34m]\u001b[0m\u001b[0;34m:\u001b[0m\u001b[0;34m\u001b[0m\u001b[0m\n\u001b[0;32m--> 455\u001b[0;31m                 \u001b[0mout\u001b[0m \u001b[0;34m=\u001b[0m \u001b[0mQobj\u001b[0m\u001b[0;34m(\u001b[0m\u001b[0;34m)\u001b[0m\u001b[0;34m\u001b[0m\u001b[0m\n\u001b[0m\u001b[1;32m    456\u001b[0m                 \u001b[0mout\u001b[0m\u001b[0;34m.\u001b[0m\u001b[0mdata\u001b[0m \u001b[0;34m=\u001b[0m \u001b[0mself\u001b[0m\u001b[0;34m.\u001b[0m\u001b[0mdata\u001b[0m \u001b[0;34m*\u001b[0m \u001b[0mother\u001b[0m\u001b[0;34m.\u001b[0m\u001b[0mdata\u001b[0m\u001b[0;34m\u001b[0m\u001b[0m\n\u001b[1;32m    457\u001b[0m                 \u001b[0mdims\u001b[0m \u001b[0;34m=\u001b[0m \u001b[0;34m[\u001b[0m\u001b[0mself\u001b[0m\u001b[0;34m.\u001b[0m\u001b[0mdims\u001b[0m\u001b[0;34m[\u001b[0m\u001b[0;36m0\u001b[0m\u001b[0;34m]\u001b[0m\u001b[0;34m,\u001b[0m \u001b[0mother\u001b[0m\u001b[0;34m.\u001b[0m\u001b[0mdims\u001b[0m\u001b[0;34m[\u001b[0m\u001b[0;36m1\u001b[0m\u001b[0;34m]\u001b[0m\u001b[0;34m]\u001b[0m\u001b[0;34m\u001b[0m\u001b[0m\n",
      "\u001b[0;32m/home/yona/anaconda3/envs/qutip/lib/python3.5/site-packages/qutip/qobj.py\u001b[0m in \u001b[0;36m__init__\u001b[0;34m(self, inpt, dims, shape, type, isherm, copy, fast, superrep)\u001b[0m\n\u001b[1;32m    318\u001b[0m             \u001b[0mself\u001b[0m\u001b[0;34m.\u001b[0m\u001b[0msuperrep\u001b[0m \u001b[0;34m=\u001b[0m \u001b[0msuperrep\u001b[0m\u001b[0;34m\u001b[0m\u001b[0m\n\u001b[1;32m    319\u001b[0m         \u001b[0;32melse\u001b[0m\u001b[0;34m:\u001b[0m\u001b[0;34m\u001b[0m\u001b[0m\n\u001b[0;32m--> 320\u001b[0;31m             \u001b[0;32mif\u001b[0m \u001b[0mself\u001b[0m\u001b[0;34m.\u001b[0m\u001b[0mtype\u001b[0m \u001b[0;34m==\u001b[0m \u001b[0;34m'super'\u001b[0m \u001b[0;32mand\u001b[0m \u001b[0mself\u001b[0m\u001b[0;34m.\u001b[0m\u001b[0msuperrep\u001b[0m \u001b[0;32mis\u001b[0m \u001b[0;32mNone\u001b[0m\u001b[0;34m:\u001b[0m\u001b[0;34m\u001b[0m\u001b[0m\n\u001b[0m\u001b[1;32m    321\u001b[0m                 \u001b[0mself\u001b[0m\u001b[0;34m.\u001b[0m\u001b[0msuperrep\u001b[0m \u001b[0;34m=\u001b[0m \u001b[0;34m'super'\u001b[0m\u001b[0;34m\u001b[0m\u001b[0m\n\u001b[1;32m    322\u001b[0m \u001b[0;34m\u001b[0m\u001b[0m\n",
      "\u001b[0;32m/home/yona/anaconda3/envs/qutip/lib/python3.5/site-packages/qutip/qobj.py\u001b[0m in \u001b[0;36mtype\u001b[0;34m(self)\u001b[0m\n\u001b[1;32m   1808\u001b[0m     \u001b[0;32mdef\u001b[0m \u001b[0mtype\u001b[0m\u001b[0;34m(\u001b[0m\u001b[0mself\u001b[0m\u001b[0;34m)\u001b[0m\u001b[0;34m:\u001b[0m\u001b[0;34m\u001b[0m\u001b[0m\n\u001b[1;32m   1809\u001b[0m         \u001b[0;32mif\u001b[0m \u001b[0;32mnot\u001b[0m \u001b[0mself\u001b[0m\u001b[0;34m.\u001b[0m\u001b[0m_type\u001b[0m\u001b[0;34m:\u001b[0m\u001b[0;34m\u001b[0m\u001b[0m\n\u001b[0;32m-> 1810\u001b[0;31m             \u001b[0mself\u001b[0m\u001b[0;34m.\u001b[0m\u001b[0m_type\u001b[0m \u001b[0;34m=\u001b[0m \u001b[0mtype_from_dims\u001b[0m\u001b[0;34m(\u001b[0m\u001b[0mself\u001b[0m\u001b[0;34m.\u001b[0m\u001b[0mdims\u001b[0m\u001b[0;34m)\u001b[0m\u001b[0;34m\u001b[0m\u001b[0m\n\u001b[0m\u001b[1;32m   1811\u001b[0m \u001b[0;34m\u001b[0m\u001b[0m\n\u001b[1;32m   1812\u001b[0m         \u001b[0;32mreturn\u001b[0m \u001b[0mself\u001b[0m\u001b[0;34m.\u001b[0m\u001b[0m_type\u001b[0m\u001b[0;34m\u001b[0m\u001b[0m\n",
      "\u001b[0;32m/home/yona/anaconda3/envs/qutip/lib/python3.5/site-packages/qutip/dimensions.py\u001b[0m in \u001b[0;36mtype_from_dims\u001b[0;34m(dims, enforce_square)\u001b[0m\n\u001b[1;32m     63\u001b[0m \u001b[0;34m\u001b[0m\u001b[0m\n\u001b[1;32m     64\u001b[0m \u001b[0;32mdef\u001b[0m \u001b[0mtype_from_dims\u001b[0m\u001b[0;34m(\u001b[0m\u001b[0mdims\u001b[0m\u001b[0;34m,\u001b[0m \u001b[0menforce_square\u001b[0m\u001b[0;34m=\u001b[0m\u001b[0;32mTrue\u001b[0m\u001b[0;34m)\u001b[0m\u001b[0;34m:\u001b[0m\u001b[0;34m\u001b[0m\u001b[0m\n\u001b[0;32m---> 65\u001b[0;31m     \u001b[0mbra_like\u001b[0m\u001b[0;34m,\u001b[0m \u001b[0mket_like\u001b[0m \u001b[0;34m=\u001b[0m \u001b[0mmap\u001b[0m\u001b[0;34m(\u001b[0m\u001b[0mis_scalar\u001b[0m\u001b[0;34m,\u001b[0m \u001b[0mdims\u001b[0m\u001b[0;34m)\u001b[0m\u001b[0;34m\u001b[0m\u001b[0m\n\u001b[0m\u001b[1;32m     66\u001b[0m \u001b[0;34m\u001b[0m\u001b[0m\n\u001b[1;32m     67\u001b[0m     \u001b[0;32mif\u001b[0m \u001b[0mbra_like\u001b[0m\u001b[0;34m:\u001b[0m\u001b[0;34m\u001b[0m\u001b[0m\n",
      "\u001b[0;32m/home/yona/anaconda3/envs/qutip/lib/python3.5/site-packages/qutip/dimensions.py\u001b[0m in \u001b[0;36mis_scalar\u001b[0;34m(dims)\u001b[0m\n\u001b[1;32m     47\u001b[0m     \u001b[0ma\u001b[0m \u001b[0mscalar\u001b[0m \u001b[0;34m(\u001b[0m\u001b[0mhas\u001b[0m \u001b[0mdimension\u001b[0m \u001b[0;36m1\u001b[0m\u001b[0;34m)\u001b[0m\u001b[0;34m.\u001b[0m\u001b[0;34m\u001b[0m\u001b[0m\n\u001b[1;32m     48\u001b[0m     \"\"\"\n\u001b[0;32m---> 49\u001b[0;31m     \u001b[0;32mreturn\u001b[0m \u001b[0mnp\u001b[0m\u001b[0;34m.\u001b[0m\u001b[0mprod\u001b[0m\u001b[0;34m(\u001b[0m\u001b[0mflatten\u001b[0m\u001b[0;34m(\u001b[0m\u001b[0mdims\u001b[0m\u001b[0;34m)\u001b[0m\u001b[0;34m)\u001b[0m \u001b[0;34m==\u001b[0m \u001b[0;36m1\u001b[0m\u001b[0;34m\u001b[0m\u001b[0m\n\u001b[0m\u001b[1;32m     50\u001b[0m \u001b[0;34m\u001b[0m\u001b[0m\n\u001b[1;32m     51\u001b[0m \u001b[0;32mdef\u001b[0m \u001b[0mis_vector\u001b[0m\u001b[0;34m(\u001b[0m\u001b[0mdims\u001b[0m\u001b[0;34m)\u001b[0m\u001b[0;34m:\u001b[0m\u001b[0;34m\u001b[0m\u001b[0m\n",
      "\u001b[0;32m/home/yona/anaconda3/envs/qutip/lib/python3.5/site-packages/numpy/core/fromnumeric.py\u001b[0m in \u001b[0;36mprod\u001b[0;34m(a, axis, dtype, out, keepdims)\u001b[0m\n\u001b[1;32m   2490\u001b[0m         \u001b[0;32mexcept\u001b[0m \u001b[0mAttributeError\u001b[0m\u001b[0;34m:\u001b[0m\u001b[0;34m\u001b[0m\u001b[0m\n\u001b[1;32m   2491\u001b[0m             return _methods._prod(a, axis=axis, dtype=dtype,\n\u001b[0;32m-> 2492\u001b[0;31m                                   out=out, keepdims=keepdims)\n\u001b[0m\u001b[1;32m   2493\u001b[0m         \u001b[0;32mreturn\u001b[0m \u001b[0mprod\u001b[0m\u001b[0;34m(\u001b[0m\u001b[0maxis\u001b[0m\u001b[0;34m=\u001b[0m\u001b[0maxis\u001b[0m\u001b[0;34m,\u001b[0m \u001b[0mdtype\u001b[0m\u001b[0;34m=\u001b[0m\u001b[0mdtype\u001b[0m\u001b[0;34m,\u001b[0m \u001b[0mout\u001b[0m\u001b[0;34m=\u001b[0m\u001b[0mout\u001b[0m\u001b[0;34m)\u001b[0m\u001b[0;34m\u001b[0m\u001b[0m\n\u001b[1;32m   2494\u001b[0m     \u001b[0;32melse\u001b[0m\u001b[0;34m:\u001b[0m\u001b[0;34m\u001b[0m\u001b[0m\n",
      "\u001b[0;32m/home/yona/anaconda3/envs/qutip/lib/python3.5/site-packages/numpy/core/_methods.py\u001b[0m in \u001b[0;36m_prod\u001b[0;34m(a, axis, dtype, out, keepdims)\u001b[0m\n\u001b[1;32m     33\u001b[0m \u001b[0;34m\u001b[0m\u001b[0m\n\u001b[1;32m     34\u001b[0m \u001b[0;32mdef\u001b[0m \u001b[0m_prod\u001b[0m\u001b[0;34m(\u001b[0m\u001b[0ma\u001b[0m\u001b[0;34m,\u001b[0m \u001b[0maxis\u001b[0m\u001b[0;34m=\u001b[0m\u001b[0;32mNone\u001b[0m\u001b[0;34m,\u001b[0m \u001b[0mdtype\u001b[0m\u001b[0;34m=\u001b[0m\u001b[0;32mNone\u001b[0m\u001b[0;34m,\u001b[0m \u001b[0mout\u001b[0m\u001b[0;34m=\u001b[0m\u001b[0;32mNone\u001b[0m\u001b[0;34m,\u001b[0m \u001b[0mkeepdims\u001b[0m\u001b[0;34m=\u001b[0m\u001b[0;32mFalse\u001b[0m\u001b[0;34m)\u001b[0m\u001b[0;34m:\u001b[0m\u001b[0;34m\u001b[0m\u001b[0m\n\u001b[0;32m---> 35\u001b[0;31m     \u001b[0;32mreturn\u001b[0m \u001b[0mumr_prod\u001b[0m\u001b[0;34m(\u001b[0m\u001b[0ma\u001b[0m\u001b[0;34m,\u001b[0m \u001b[0maxis\u001b[0m\u001b[0;34m,\u001b[0m \u001b[0mdtype\u001b[0m\u001b[0;34m,\u001b[0m \u001b[0mout\u001b[0m\u001b[0;34m,\u001b[0m \u001b[0mkeepdims\u001b[0m\u001b[0;34m)\u001b[0m\u001b[0;34m\u001b[0m\u001b[0m\n\u001b[0m\u001b[1;32m     36\u001b[0m \u001b[0;34m\u001b[0m\u001b[0m\n\u001b[1;32m     37\u001b[0m \u001b[0;32mdef\u001b[0m \u001b[0m_any\u001b[0m\u001b[0;34m(\u001b[0m\u001b[0ma\u001b[0m\u001b[0;34m,\u001b[0m \u001b[0maxis\u001b[0m\u001b[0;34m=\u001b[0m\u001b[0;32mNone\u001b[0m\u001b[0;34m,\u001b[0m \u001b[0mdtype\u001b[0m\u001b[0;34m=\u001b[0m\u001b[0;32mNone\u001b[0m\u001b[0;34m,\u001b[0m \u001b[0mout\u001b[0m\u001b[0;34m=\u001b[0m\u001b[0;32mNone\u001b[0m\u001b[0;34m,\u001b[0m \u001b[0mkeepdims\u001b[0m\u001b[0;34m=\u001b[0m\u001b[0;32mFalse\u001b[0m\u001b[0;34m)\u001b[0m\u001b[0;34m:\u001b[0m\u001b[0;34m\u001b[0m\u001b[0m\n",
      "\u001b[0;31mKeyboardInterrupt\u001b[0m: "
     ]
    }
   ],
   "source": [
    "from concurrent.futures import ThreadPoolExecutor,as_completed\n",
    "H0n,H1n,psi0n = FDT.prepare_groverlike_system(13)\n",
    "executor = ThreadPoolExecutor(48)\n",
    "tasks = []\n",
    "plt.figure(figsize=(15,15))\n",
    "for repeats in range(40,100):\n",
    "    final_times = np.linspace(0.01, 12, 100)\n",
    "    find_min_time_for_epsilon_and_repeats(final_times, psi0n, basis(2,0) , H0n, H1n, repeats)"
   ]
  },
  {
   "cell_type": "code",
   "execution_count": 17,
   "metadata": {
    "collapsed": false
   },
   "outputs": [
    {
     "name": "stdout",
     "output_type": "stream",
     "text": [
      "GOOD: At repeats:50 got Prepeat = 0.08505334860089687 T = 11.515555555555556 total time = 1151.5555555555557\n",
      "GOOD: At repeats:51 got Prepeat = 0.07139933217125721 T = 11.515555555555556 total time = 1174.5866666666668\n",
      "GOOD: At repeats:52 got Prepeat = 0.09733725091020386 T = 4.491111111111111 total time = 467.0755555555555\n",
      "GOOD: At repeats:53 got Prepeat = 0.09903102094948629 T = 4.127777777777777 total time = 437.5444444444444\n",
      "GOOD: At repeats:54 got Prepeat = 0.09290949754072454 T = 4.006666666666667 total time = 432.72\n",
      "GOOD: At repeats:55 got Prepeat = 0.09852980054331988 T = 3.7644444444444445 total time = 414.0888888888889\n",
      "GOOD: At repeats:56 got Prepeat = 0.09673995195858845 T = 3.643333333333333 total time = 408.0533333333333\n",
      "GOOD: At repeats:57 got Prepeat = 0.09654222552426373 T = 3.522222222222222 total time = 401.5333333333333\n",
      "GOOD: At repeats:58 got Prepeat = 0.09796880613608645 T = 3.4011111111111108 total time = 394.52888888888884\n",
      "GOOD: At repeats:59 got Prepeat = 0.08550916153951266 T = 3.4011111111111108 total time = 401.33111111111106\n",
      "GOOD: At repeats:60 got Prepeat = 0.08870091989228164 T = 3.28 total time = 393.59999999999997\n",
      "GOOD: At repeats:61 got Prepeat = 0.09361705097045765 T = 3.158888888888889 total time = 385.38444444444445\n",
      "GOOD: At repeats:62 got Prepeat = 0.08193495539864576 T = 3.158888888888889 total time = 391.7022222222222\n",
      "GOOD: At repeats:63 got Prepeat = 0.08862793790419611 T = 3.0377777777777775 total time = 382.75999999999993\n",
      "GOOD: At repeats:64 got Prepeat = 0.09732495070030903 T = 2.9166666666666665 total time = 373.3333333333333\n",
      "GOOD: At repeats:65 got Prepeat = 0.08602632536191238 T = 2.9166666666666665 total time = 379.16666666666663\n",
      "GOOD: At repeats:66 got Prepeat = 0.09673087580648207 T = 2.7955555555555556 total time = 369.0133333333333\n",
      "GOOD: At repeats:67 got Prepeat = 0.08578811525389739 T = 2.7955555555555556 total time = 374.6044444444444\n",
      "GOOD: At repeats:68 got Prepeat = 0.09866805677019144 T = 2.674444444444444 total time = 363.72444444444443\n",
      "GOOD: At repeats:69 got Prepeat = 0.08796780026185652 T = 2.674444444444444 total time = 369.0733333333333\n",
      "GOOD: At repeats:70 got Prepeat = 0.0778255587041305 T = 2.674444444444444 total time = 374.42222222222216\n",
      "GOOD: At repeats:71 got Prepeat = 0.09270636741057589 T = 2.5533333333333332 total time = 362.5733333333333\n",
      "GOOD: At repeats:72 got Prepeat = 0.08266105923840064 T = 2.5533333333333332 total time = 367.68\n",
      "GOOD: At repeats:73 got Prepeat = 0.07314264013537337 T = 2.5533333333333332 total time = 372.78666666666663\n",
      "GOOD: At repeats:74 got Prepeat = 0.0901984266336729 T = 2.4322222222222223 total time = 359.9688888888889\n",
      "GOOD: At repeats:75 got Prepeat = 0.08064093445056432 T = 2.4322222222222223 total time = 364.83333333333337\n",
      "GOOD: At repeats:76 got Prepeat = 0.07157420098393524 T = 2.4322222222222223 total time = 369.6977777777778\n",
      "GOOD: At repeats:77 got Prepeat = 0.09111290385849855 T = 2.311111111111111 total time = 355.9111111111111\n",
      "GOOD: At repeats:78 got Prepeat = 0.08188676961940758 T = 2.311111111111111 total time = 360.5333333333333\n",
      "GOOD: At repeats:79 got Prepeat = 0.07311142341346802 T = 2.311111111111111 total time = 365.1555555555555\n",
      "GOOD: At repeats:80 got Prepeat = 0.0955805602233721 T = 2.19 total time = 350.4\n",
      "GOOD: At repeats:81 got Prepeat = 0.08654680144686001 T = 2.19 total time = 354.78\n",
      "GOOD: At repeats:82 got Prepeat = 0.07792100667202473 T = 2.19 total time = 359.15999999999997\n",
      "GOOD: At repeats:83 got Prepeat = 0.0697116869392456 T = 2.19 total time = 363.53999999999996\n",
      "GOOD: At repeats:84 got Prepeat = 0.09494907734652767 T = 2.0688888888888886 total time = 347.57333333333327\n",
      "GOOD: At repeats:85 got Prepeat = 0.08635556242517088 T = 2.0688888888888886 total time = 351.71111111111105\n",
      "GOOD: At repeats:86 got Prepeat = 0.078132895107144 T = 2.0688888888888886 total time = 355.84888888888884\n",
      "GOOD: At repeats:87 got Prepeat = 0.07028844708869667 T = 2.0688888888888886 total time = 359.9866666666666\n",
      "GOOD: At repeats:88 got Prepeat = 0.09895340726624564 T = 1.9477777777777778 total time = 342.8088888888889\n",
      "GOOD: At repeats:89 got Prepeat = 0.09062921803502723 T = 1.9477777777777778 total time = 346.70444444444445\n",
      "GOOD: At repeats:90 got Prepeat = 0.08263585483978257 T = 1.9477777777777778 total time = 350.6\n",
      "GOOD: At repeats:91 got Prepeat = 0.0749797771523922 T = 1.9477777777777778 total time = 354.49555555555554\n",
      "GOOD: At repeats:92 got Prepeat = 0.06766717188283797 T = 1.9477777777777778 total time = 358.3911111111111\n",
      "GOOD: At repeats:93 got Prepeat = 0.09975258004822149 T = 1.8266666666666667 total time = 339.76\n",
      "GOOD: At repeats:94 got Prepeat = 0.09184688175819568 T = 1.8266666666666667 total time = 343.41333333333336\n",
      "GOOD: At repeats:95 got Prepeat = 0.08423588694354295 T = 1.8266666666666667 total time = 347.06666666666666\n",
      "GOOD: At repeats:96 got Prepeat = 0.07692509084202022 T = 1.8266666666666667 total time = 350.72\n",
      "GOOD: At repeats:97 got Prepeat = 0.06991977194398757 T = 1.8266666666666667 total time = 354.37333333333333\n",
      "GOOD: At repeats:98 got Prepeat = 0.06322498818127201 T = 1.8266666666666667 total time = 358.02666666666664\n",
      "GOOD: At repeats:99 got Prepeat = 0.09881902632953295 T = 1.7055555555555555 total time = 337.7\n"
     ]
    }
   ],
   "source": [
    "from concurrent.futures import ThreadPoolExecutor,as_completed\n",
    "H0n,H1n,psi0n = FDT.prepare_groverlike_system(14)\n",
    "executor = ThreadPoolExecutor(48)\n",
    "tasks = []\n",
    "plt.figure(figsize=(15,15))\n",
    "for repeats in range(50,100):\n",
    "    final_times = np.linspace(0.01, 12, 100)\n",
    "    find_min_time_for_epsilon_and_repeats(final_times, psi0n, basis(2,0) , H0n, H1n, repeats)"
   ]
  },
  {
   "cell_type": "code",
   "execution_count": 18,
   "metadata": {
    "collapsed": false
   },
   "outputs": [
    {
     "name": "stdout",
     "output_type": "stream",
     "text": [
      "GOOD: At repeats:60 got Prepeat = 0.09863618813978536 T = 11.87888888888889 total time = 1425.4666666666667\n",
      "GOOD: At repeats:61 got Prepeat = 0.08656061281651649 T = 11.87888888888889 total time = 1449.2244444444445\n",
      "GOOD: At repeats:62 got Prepeat = 0.07520469710671204 T = 11.87888888888889 total time = 1472.9822222222224\n",
      "GOOD: At repeats:63 got Prepeat = 0.09612059349776801 T = 11.757777777777777 total time = 1481.48\n",
      "GOOD: At repeats:64 got Prepeat = 0.08470450219293096 T = 11.757777777777777 total time = 1504.9955555555555\n",
      "GOOD: At repeats:65 got Prepeat = 0.07394857182572757 T = 11.757777777777777 total time = 1528.511111111111\n",
      "GOOD: At repeats:66 got Prepeat = 0.09724155041596637 T = 11.636666666666667 total time = 1536.04\n",
      "GOOD: At repeats:67 got Prepeat = 0.08628746902637552 T = 11.636666666666667 total time = 1559.3133333333333\n",
      "GOOD: At repeats:68 got Prepeat = 0.07593081403181454 T = 11.636666666666667 total time = 1582.5866666666666\n",
      "GOOD: At repeats:69 got Prepeat = 0.06618653767205394 T = 11.636666666666667 total time = 1605.86\n",
      "GOOD: At repeats:70 got Prepeat = 0.09136483572855712 T = 11.515555555555556 total time = 1612.177777777778\n",
      "GOOD: At repeats:71 got Prepeat = 0.08123886775041918 T = 11.515555555555556 total time = 1635.208888888889\n",
      "GOOD: At repeats:72 got Prepeat = 0.07165916023495635 T = 11.515555555555556 total time = 1658.24\n",
      "GOOD: At repeats:73 got Prepeat = 0.09910905946004271 T = 4.612222222222222 total time = 673.3844444444444\n",
      "GOOD: At repeats:74 got Prepeat = 0.09592494848093876 T = 4.37 total time = 646.76\n",
      "GOOD: At repeats:75 got Prepeat = 0.09772990000088529 T = 4.127777777777777 total time = 619.1666666666666\n",
      "GOOD: At repeats:76 got Prepeat = 0.09563382067491802 T = 4.006666666666667 total time = 609.0133333333333\n",
      "GOOD: At repeats:77 got Prepeat = 0.09492608957508765 T = 3.8855555555555554 total time = 598.3755555555556\n",
      "GOOD: At repeats:78 got Prepeat = 0.09561903567977406 T = 3.7644444444444445 total time = 587.2533333333333\n",
      "GOOD: At repeats:79 got Prepeat = 0.09775011909700092 T = 3.643333333333333 total time = 575.6466666666666\n",
      "GOOD: At repeats:80 got Prepeat = 0.08853485339986349 T = 3.643333333333333 total time = 582.9333333333333\n",
      "GOOD: At repeats:81 got Prepeat = 0.0921704573871907 T = 3.522222222222222 total time = 570.6\n",
      "GOOD: At repeats:82 got Prepeat = 0.0973588149557626 T = 3.4011111111111108 total time = 557.7822222222221\n",
      "GOOD: At repeats:83 got Prepeat = 0.08848529834592131 T = 3.4011111111111108 total time = 564.5844444444443\n",
      "GOOD: At repeats:84 got Prepeat = 0.09525647987740642 T = 3.28 total time = 551.04\n",
      "GOOD: At repeats:85 got Prepeat = 0.08665273188712282 T = 3.28 total time = 557.6\n",
      "GOOD: At repeats:86 got Prepeat = 0.09507533822178028 T = 3.158888888888889 total time = 543.3288888888889\n",
      "GOOD: At repeats:87 got Prepeat = 0.08667288753701831 T = 3.158888888888889 total time = 549.6466666666666\n",
      "GOOD: At repeats:88 got Prepeat = 0.09686041240465793 T = 3.0377777777777775 total time = 534.6488888888888\n",
      "GOOD: At repeats:89 got Prepeat = 0.08859393329874962 T = 3.0377777777777775 total time = 540.7244444444444\n",
      "GOOD: At repeats:90 got Prepeat = 0.08066176721292659 T = 3.0377777777777775 total time = 546.8\n",
      "GOOD: At repeats:91 got Prepeat = 0.09251649532008809 T = 2.9166666666666665 total time = 530.8333333333333\n",
      "GOOD: At repeats:92 got Prepeat = 0.08463930930362663 T = 2.9166666666666665 total time = 536.6666666666666\n",
      "GOOD: At repeats:93 got Prepeat = 0.09859621677511114 T = 2.7955555555555556 total time = 519.9733333333334\n",
      "GOOD: At repeats:94 got Prepeat = 0.09071978926441432 T = 2.7955555555555556 total time = 525.5644444444445\n",
      "GOOD: At repeats:95 got Prepeat = 0.08313976500230635 T = 2.7955555555555556 total time = 531.1555555555556\n",
      "GOOD: At repeats:96 got Prepeat = 0.09912396724496807 T = 2.674444444444444 total time = 513.4933333333333\n",
      "GOOD: At repeats:97 got Prepeat = 0.09147589831022539 T = 2.674444444444444 total time = 518.8422222222222\n",
      "GOOD: At repeats:98 got Prepeat = 0.08410509309886186 T = 2.674444444444444 total time = 524.191111111111\n",
      "GOOD: At repeats:99 got Prepeat = 0.07701655411294316 T = 2.674444444444444 total time = 529.54\n"
     ]
    }
   ],
   "source": [
    "from concurrent.futures import ThreadPoolExecutor,as_completed\n",
    "H0n,H1n,psi0n = FDT.prepare_groverlike_system(15)\n",
    "executor = ThreadPoolExecutor(48)\n",
    "tasks = []\n",
    "plt.figure(figsize=(15,15))\n",
    "for repeats in range(60,100):\n",
    "    final_times = np.linspace(0.01, 12, 100)\n",
    "    find_min_time_for_epsilon_and_repeats(final_times, psi0n, basis(2,0) , H0n, H1n, repeats)"
   ]
  },
  {
   "cell_type": "code",
   "execution_count": 22,
   "metadata": {
    "collapsed": false
   },
   "outputs": [
    {
     "name": "stdout",
     "output_type": "stream",
     "text": [
      "GOOD: At repeats:110 got Prepeat = 0.09710491842068818 T = 3.7644444444444445 total time = 828.1777777777778\n",
      "GOOD: At repeats:111 got Prepeat = 0.0904596367221363 T = 3.7644444444444445 total time = 835.7066666666667\n",
      "GOOD: At repeats:112 got Prepeat = 0.09532405587555672 T = 3.643333333333333 total time = 816.1066666666666\n",
      "GOOD: At repeats:113 got Prepeat = 0.08883528404925238 T = 3.643333333333333 total time = 823.3933333333333\n",
      "GOOD: At repeats:114 got Prepeat = 0.09512760518929561 T = 3.522222222222222 total time = 803.0666666666666\n",
      "GOOD: At repeats:115 got Prepeat = 0.08875524846587254 T = 3.522222222222222 total time = 810.1111111111111\n",
      "GOOD: At repeats:116 got Prepeat = 0.09654758144081454 T = 3.4011111111111108 total time = 789.0577777777777\n",
      "GOOD: At repeats:117 got Prepeat = 0.09025273414221614 T = 3.4011111111111108 total time = 795.8599999999999\n",
      "GOOD: At repeats:118 got Prepeat = 0.09964972253203842 T = 3.28 total time = 774.0799999999999\n",
      "GOOD: At repeats:119 got Prepeat = 0.09339585569710926 T = 3.28 total time = 780.64\n"
     ]
    }
   ],
   "source": [
    "from concurrent.futures import ThreadPoolExecutor,as_completed\n",
    "H0n,H1n,psi0n = FDT.prepare_groverlike_system(16)\n",
    "executor = ThreadPoolExecutor(48)\n",
    "tasks = []\n",
    "plt.figure(figsize=(15,15))\n",
    "for repeats in range(110,120):\n",
    "    final_times = np.linspace(0.01, 12, 100)\n",
    "    find_min_time_for_epsilon_and_repeats(final_times, psi0n, basis(2,0) , H0n, H1n, repeats)"
   ]
  },
  {
   "cell_type": "code",
   "execution_count": null,
   "metadata": {
    "collapsed": true
   },
   "outputs": [],
   "source": []
  }
 ],
 "metadata": {
  "celltoolbar": "Slideshow",
  "kernelspec": {
   "display_name": "Python 3",
   "language": "python",
   "name": "python3"
  },
  "language_info": {
   "codemirror_mode": {
    "name": "ipython",
    "version": 3
   },
   "file_extension": ".py",
   "mimetype": "text/x-python",
   "name": "python",
   "nbconvert_exporter": "python",
   "pygments_lexer": "ipython3",
   "version": "3.5.3"
  },
  "notify_time": "30",
  "varInspector": {
   "cols": {
    "lenName": 16,
    "lenType": 16,
    "lenVar": 40
   },
   "kernels_config": {
    "python": {
     "delete_cmd_postfix": "",
     "delete_cmd_prefix": "del ",
     "library": "var_list.py",
     "varRefreshCmd": "print(var_dic_list())"
    },
    "r": {
     "delete_cmd_postfix": ") ",
     "delete_cmd_prefix": "rm(",
     "library": "var_list.r",
     "varRefreshCmd": "cat(var_dic_list()) "
    }
   },
   "position": {
    "height": "621px",
    "left": "19.2px",
    "right": "20px",
    "top": "150px",
    "width": "406px"
   },
   "types_to_exclude": [
    "module",
    "function",
    "builtin_function_or_method",
    "instance",
    "_Feature"
   ],
   "window_display": false
  }
 },
 "nbformat": 4,
 "nbformat_minor": 1
}
