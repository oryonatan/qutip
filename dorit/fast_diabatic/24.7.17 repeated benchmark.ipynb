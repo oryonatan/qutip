{
 "cells": [
  {
   "cell_type": "code",
   "execution_count": null,
   "metadata": {
    "ExecuteTime": {
     "start_time": "2017-07-24T09:35:51.446Z"
    },
    "collapsed": true
   },
   "outputs": [],
   "source": [
    "from threading import Lock\n",
    "import warnings\n",
    "import matplotlib.pyplot as plt\n",
    "import pyximport\n",
    "from tqdm import tnrange, tqdm_notebook\n",
    "\n",
    "warnings.filterwarnings('ignore')\n",
    "\n",
    "import sys\n",
    "import os\n",
    "\n",
    "sys.path.insert(0, os.path.join(os.getcwd(), os.pardir))\n",
    "from qutip import *\n",
    "import numpy as np\n",
    "import matplotlib.pyplot as plt\n",
    "\n",
    "pyximport.install(setup_args={\"include_dirs\": np.get_include()})\n",
    "import XXZZham as XXZZham\n",
    "from XXZZham import add_high_energies, rotate_to_00_base\n",
    "import random\n",
    "import adiabatic_sim as asim\n",
    "import time\n",
    "\n",
    "import multiprocessing\n",
    "import ctypes\n",
    "mkl_rt = ctypes.CDLL('libmkl_rt.so')\n",
    "mkl_get_max_threads = mkl_rt.mkl_get_max_threads\n",
    "mkl_rt.mkl_set_num_threads(ctypes.byref(ctypes.c_int(multiprocessing.cpu_count())))\n",
    "import os\n",
    "import LH_tools as LHT\n",
    "\n",
    "%precision %.15f\n",
    "PRECISION  = 2 ** -40\n",
    "\n",
    "from IPython.display import display\n",
    "import FD_tools as FDT"
   ]
  },
  {
   "cell_type": "code",
   "execution_count": 3,
   "metadata": {
    "ExecuteTime": {
     "end_time": "2017-07-24T09:07:38.375574Z",
     "start_time": "2017-07-24T09:07:38.362758Z"
    },
    "collapsed": true
   },
   "outputs": [],
   "source": [
    "def _simulate_time_p_and_pfab_repeat(repeats: int, T: float, steps: int, psi0: Qobj, psi1: Qobj, H0: Qobj, H1: Qobj):\n",
    "\n",
    "    \"\"\"\n",
    "        Callback for simulation of fowrard and backword propagation\n",
    "    :param T:\n",
    "    :param steps:\n",
    "    :param psi0:\n",
    "    :param psi1:\n",
    "    :param H0:\n",
    "    :param H1:\n",
    "    :return:\n",
    "    \"\"\"\n",
    "    tlist = np.linspace(0, T, steps)\n",
    "    backprop_t, prop_t = FDT.create_back_and_forward_props(tlist, H0, H1)\n",
    "    psi_forward = prop_t * psi0\n",
    "    \n",
    "    psi_repeat = (backprop_t*prop_t)**repeats * psi0\n",
    "    \n",
    "    Pf0 = abs(psi1.overlap(psi_forward)) ** 2\n",
    "    Prepeat = abs(psi0.overlap(psi_repeat)) ** 2\n",
    "    return T, Pf0, Prepeat"
   ]
  },
  {
   "cell_type": "code",
   "execution_count": null,
   "metadata": {
    "collapsed": true
   },
   "outputs": [],
   "source": [
    "def find_min_time_for_epsilon_and_repeats(final_times:arr,\n",
    "                                          psi0n:Qobj,\n",
    "                                          psi1n:Qobj,\n",
    "                                          H0n:Qobj,\n",
    "                                          H1n:Qobj,\n",
    "                                          repeats: int,\n",
    "                                          epsilon=1 / 10) -> (float, float):\n",
    "    old_Prepeat = 1 \n",
    "    old_T = 0\n",
    "    for T in final_times: \n",
    "            _,_, Prepeat = simulate_time_p_and_pfab_repeat(repeats, T, max(T*5,50) , psi0n, psi1n , H0n, H1n)\n",
    "            if Prepeat > old_Prepeat : \n",
    "                print(\"BAD: At repeats:{} got Prepeat = {} T = {} total time = {}, epsilon = {} not met in first decrease\".\n",
    "                      format(repeats,old_Prepeat,old_T,old_T*2*repeats,epsilon))\n",
    "                return \n",
    "            if Prepeat <= epsilon : \n",
    "                print(\"GOOD: At repeats:{} got Prepeat = {} T = {} total time = {}\".\n",
    "                      format(repeats,old_Prepeat,T,T*2*repeats,epsilon))\n",
    "                return\n",
    "            old_Prepeat = Prepeat\n",
    "            old_T = T "
   ]
  },
  {
   "cell_type": "code",
   "execution_count": null,
   "metadata": {
    "ExecuteTime": {
     "start_time": "2017-07-24T09:35:49.494Z"
    },
    "collapsed": true
   },
   "outputs": [],
   "source": [
    "type(np.linspace(1,10,10))"
   ]
  },
  {
   "cell_type": "code",
   "execution_count": null,
   "metadata": {
    "collapsed": true
   },
   "outputs": [],
   "source": []
  }
 ],
 "metadata": {
  "celltoolbar": "Slideshow",
  "kernelspec": {
   "display_name": "Python 3",
   "language": "python",
   "name": "python3"
  },
  "language_info": {
   "codemirror_mode": {
    "name": "ipython",
    "version": 3
   },
   "file_extension": ".py",
   "mimetype": "text/x-python",
   "name": "python",
   "nbconvert_exporter": "python",
   "pygments_lexer": "ipython3",
   "version": "3.5.2"
  },
  "notify_time": "30",
  "varInspector": {
   "cols": {
    "lenName": 16,
    "lenType": 16,
    "lenVar": 40
   },
   "kernels_config": {
    "python": {
     "delete_cmd_postfix": "",
     "delete_cmd_prefix": "del ",
     "library": "var_list.py",
     "varRefreshCmd": "print(var_dic_list())"
    },
    "r": {
     "delete_cmd_postfix": ") ",
     "delete_cmd_prefix": "rm(",
     "library": "var_list.r",
     "varRefreshCmd": "cat(var_dic_list()) "
    }
   },
   "position": {
    "height": "621px",
    "left": "19.2px",
    "right": "20px",
    "top": "150px",
    "width": "406px"
   },
   "types_to_exclude": [
    "module",
    "function",
    "builtin_function_or_method",
    "instance",
    "_Feature"
   ],
   "window_display": false
  }
 },
 "nbformat": 4,
 "nbformat_minor": 1
}
