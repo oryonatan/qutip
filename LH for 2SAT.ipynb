{
 "cells": [
  {
   "cell_type": "code",
   "execution_count": 18,
   "metadata": {
    "collapsed": true
   },
   "outputs": [],
   "source": [
    "%matplotlib inline\n",
    "\n",
    "from IPython.display import Image,display\n",
    "\n",
    "from numpy import pi\n",
    "\n",
    "from qutip import *\n",
    "import numpy as np\n",
    "import matplotlib.pyplot as plt"
   ]
  },
  {
   "cell_type": "markdown",
   "metadata": {},
   "source": [
    "First I'll create $|0><0|$ and $|1><1|$ and $|01><10|$ , they will be needed in the future."
   ]
  },
  {
   "cell_type": "code",
   "execution_count": 19,
   "metadata": {
    "collapsed": false
   },
   "outputs": [
    {
     "data": {
      "text/latex": [
       "Quantum object: dims = [[2], [2]], shape = [2, 2], type = oper, isherm = True\\begin{equation*}\\left(\\begin{array}{*{11}c}1.0 & 0.0\\\\0.0 & 0.0\\\\\\end{array}\\right)\\end{equation*}"
      ],
      "text/plain": [
       "Quantum object: dims = [[2], [2]], shape = [2, 2], type = oper, isherm = True\n",
       "Qobj data =\n",
       "[[ 1.  0.]\n",
       " [ 0.  0.]]"
      ]
     },
     "metadata": {},
     "output_type": "display_data"
    },
    {
     "data": {
      "text/latex": [
       "Quantum object: dims = [[2], [2]], shape = [2, 2], type = oper, isherm = True\\begin{equation*}\\left(\\begin{array}{*{11}c}0.0 & 0.0\\\\0.0 & 1.0\\\\\\end{array}\\right)\\end{equation*}"
      ],
      "text/plain": [
       "Quantum object: dims = [[2], [2]], shape = [2, 2], type = oper, isherm = True\n",
       "Qobj data =\n",
       "[[ 0.  0.]\n",
       " [ 0.  1.]]"
      ]
     },
     "metadata": {},
     "output_type": "display_data"
    },
    {
     "data": {
      "text/latex": [
       "Quantum object: dims = [[2, 2], [2, 2]], shape = [4, 4], type = oper, isherm = True\\begin{equation*}\\left(\\begin{array}{*{11}c}0.0 & 0.0 & 0.0 & 0.0\\\\0.0 & 1.0 & 0.0 & 0.0\\\\0.0 & 0.0 & 0.0 & 0.0\\\\0.0 & 0.0 & 0.0 & 0.0\\\\\\end{array}\\right)\\end{equation*}"
      ],
      "text/plain": [
       "Quantum object: dims = [[2, 2], [2, 2]], shape = [4, 4], type = oper, isherm = True\n",
       "Qobj data =\n",
       "[[ 0.  0.  0.  0.]\n",
       " [ 0.  1.  0.  0.]\n",
       " [ 0.  0.  0.  0.]\n",
       " [ 0.  0.  0.  0.]]"
      ]
     },
     "metadata": {},
     "output_type": "display_data"
    }
   ],
   "source": [
    "zeromat = basis(2,0)*basis(2,0).trans()\n",
    "oneomat = basis(2,1)* basis(2,1).trans()\n",
    "display(zeromat,oneomat)\n",
    "zero_one = tensor(basis(2,0),basis(2,1)) # |01>\n",
    "zero_onemat = zero_one*zero_one.trans()\n",
    "display(zero_onemat)"
   ]
  },
  {
   "cell_type": "markdown",
   "metadata": {},
   "source": [
    "## Building hamiltonian for the 2-SAT formula\n",
    "I chose the formula \n",
    "$(x_1\\vee \\overline{x_2})\n",
    "\\wedge\n",
    "(x_2\\vee \\overline{x_3})\n",
    "\\wedge\n",
    "(x_3\\vee \\overline{x_1})\n",
    "\\wedge\n",
    "(x_1\\vee x_1)\n",
    "$\n",
    "the only solution for this formula is $x_1 =1 \\quad   x_2 = 1 \\quad  x_3 = 1$\n",
    "Which will be encoded in the state $|111>$"
   ]
  },
  {
   "cell_type": "markdown",
   "metadata": {},
   "source": [
    "Starting with $(x_1\\vee \\overline{x_2})$ this is equivalent to \n",
    "$|01><01|\\otimes ID_3$"
   ]
  },
  {
   "cell_type": "code",
   "execution_count": 20,
   "metadata": {
    "collapsed": false
   },
   "outputs": [
    {
     "data": {
      "text/latex": [
       "Quantum object: dims = [[2, 2, 2], [2, 2, 2]], shape = [8, 8], type = oper, isherm = True\\begin{equation*}\\left(\\begin{array}{*{11}c}0.0 & 0.0 & 0.0 & 0.0 & 0.0 & 0.0 & 0.0 & 0.0\\\\0.0 & 0.0 & 0.0 & 0.0 & 0.0 & 0.0 & 0.0 & 0.0\\\\0.0 & 0.0 & 1.0 & 0.0 & 0.0 & 0.0 & 0.0 & 0.0\\\\0.0 & 0.0 & 0.0 & 1.0 & 0.0 & 0.0 & 0.0 & 0.0\\\\0.0 & 0.0 & 0.0 & 0.0 & 0.0 & 0.0 & 0.0 & 0.0\\\\0.0 & 0.0 & 0.0 & 0.0 & 0.0 & 0.0 & 0.0 & 0.0\\\\0.0 & 0.0 & 0.0 & 0.0 & 0.0 & 0.0 & 0.0 & 0.0\\\\0.0 & 0.0 & 0.0 & 0.0 & 0.0 & 0.0 & 0.0 & 0.0\\\\\\end{array}\\right)\\end{equation*}"
      ],
      "text/plain": [
       "Quantum object: dims = [[2, 2, 2], [2, 2, 2]], shape = [8, 8], type = oper, isherm = True\n",
       "Qobj data =\n",
       "[[ 0.  0.  0.  0.  0.  0.  0.  0.]\n",
       " [ 0.  0.  0.  0.  0.  0.  0.  0.]\n",
       " [ 0.  0.  1.  0.  0.  0.  0.  0.]\n",
       " [ 0.  0.  0.  1.  0.  0.  0.  0.]\n",
       " [ 0.  0.  0.  0.  0.  0.  0.  0.]\n",
       " [ 0.  0.  0.  0.  0.  0.  0.  0.]\n",
       " [ 0.  0.  0.  0.  0.  0.  0.  0.]\n",
       " [ 0.  0.  0.  0.  0.  0.  0.  0.]]"
      ]
     },
     "metadata": {},
     "output_type": "display_data"
    }
   ],
   "source": [
    "hamiltonian_terms = [] \n",
    "term1_hamiltonian = tensor(zero_onemat,qeye(2))\n",
    "hamiltonian_terms.append(term1_hamiltonian)\n",
    "display(term1_hamiltonian)"
   ]
  },
  {
   "cell_type": "markdown",
   "metadata": {},
   "source": [
    "The second term is $(x_2\\vee \\overline{x_3})$\n",
    "So that will be \n",
    "$ID_1\\otimes|01><01$\n",
    "\n",
    "The third is \n",
    "$(x_3\\vee \\overline{x_1})$\n",
    "will be\n",
    "$|1><1| \\otimes ID_2\\otimes |0><0$\n",
    "\n",
    "And finaly for $(x_1\\vee x_1)$\n",
    "We will have \n",
    "$|0><0| \\otimes ID_{23}$\n"
   ]
  },
  {
   "cell_type": "code",
   "execution_count": 21,
   "metadata": {
    "collapsed": false
   },
   "outputs": [],
   "source": [
    "hamiltonian_terms.append(tensor(qeye(2),zero_onemat))\n",
    "hamiltonian_terms.append(tensor(oneomat,qeye(2),zeromat))\n",
    "hamiltonian_terms.append(tensor(zeromat,qeye(2),qeye(2)))"
   ]
  },
  {
   "cell_type": "markdown",
   "metadata": {},
   "source": [
    "The final hamiltonian is the sum of this local terms"
   ]
  },
  {
   "cell_type": "code",
   "execution_count": 22,
   "metadata": {
    "collapsed": false
   },
   "outputs": [
    {
     "data": {
      "text/latex": [
       "Quantum object: dims = [[2, 2, 2], [2, 2, 2]], shape = [8, 8], type = oper, isherm = True\\begin{equation*}\\left(\\begin{array}{*{11}c}1.0 & 0.0 & 0.0 & 0.0 & 0.0 & 0.0 & 0.0 & 0.0\\\\0.0 & 2.0 & 0.0 & 0.0 & 0.0 & 0.0 & 0.0 & 0.0\\\\0.0 & 0.0 & 2.0 & 0.0 & 0.0 & 0.0 & 0.0 & 0.0\\\\0.0 & 0.0 & 0.0 & 2.0 & 0.0 & 0.0 & 0.0 & 0.0\\\\0.0 & 0.0 & 0.0 & 0.0 & 1.0 & 0.0 & 0.0 & 0.0\\\\0.0 & 0.0 & 0.0 & 0.0 & 0.0 & 1.0 & 0.0 & 0.0\\\\0.0 & 0.0 & 0.0 & 0.0 & 0.0 & 0.0 & 1.0 & 0.0\\\\0.0 & 0.0 & 0.0 & 0.0 & 0.0 & 0.0 & 0.0 & 0.0\\\\\\end{array}\\right)\\end{equation*}"
      ],
      "text/plain": [
       "Quantum object: dims = [[2, 2, 2], [2, 2, 2]], shape = [8, 8], type = oper, isherm = True\n",
       "Qobj data =\n",
       "[[ 1.  0.  0.  0.  0.  0.  0.  0.]\n",
       " [ 0.  2.  0.  0.  0.  0.  0.  0.]\n",
       " [ 0.  0.  2.  0.  0.  0.  0.  0.]\n",
       " [ 0.  0.  0.  2.  0.  0.  0.  0.]\n",
       " [ 0.  0.  0.  0.  1.  0.  0.  0.]\n",
       " [ 0.  0.  0.  0.  0.  1.  0.  0.]\n",
       " [ 0.  0.  0.  0.  0.  0.  1.  0.]\n",
       " [ 0.  0.  0.  0.  0.  0.  0.  0.]]"
      ]
     },
     "metadata": {},
     "output_type": "display_data"
    }
   ],
   "source": [
    "LH = sum(hamiltonian_terms)\n",
    "display(LH)"
   ]
  },
  {
   "cell_type": "markdown",
   "metadata": {},
   "source": [
    "Let's examine the ground states of the local hamiltonian LH "
   ]
  },
  {
   "cell_type": "code",
   "execution_count": 23,
   "metadata": {
    "collapsed": false
   },
   "outputs": [
    {
     "name": "stdout",
     "output_type": "stream",
     "text": [
      "Energy 0.0\n",
      "State\n"
     ]
    },
    {
     "data": {
      "text/latex": [
       "Quantum object: dims = [[2, 2, 2], [1, 1, 1]], shape = [8, 1], type = ket\\begin{equation*}\\left(\\begin{array}{*{11}c}0.0\\\\0.0\\\\0.0\\\\0.0\\\\0.0\\\\0.0\\\\0.0\\\\1.0\\\\\\end{array}\\right)\\end{equation*}"
      ],
      "text/plain": [
       "Quantum object: dims = [[2, 2, 2], [1, 1, 1]], shape = [8, 1], type = ket\n",
       "Qobj data =\n",
       "[[ 0.]\n",
       " [ 0.]\n",
       " [ 0.]\n",
       " [ 0.]\n",
       " [ 0.]\n",
       " [ 0.]\n",
       " [ 0.]\n",
       " [ 1.]]"
      ]
     },
     "metadata": {},
     "output_type": "display_data"
    }
   ],
   "source": [
    "print (\"Energy %s\" % LH.groundstate()[0])\n",
    "print (\"State\")\n",
    "display(LH.groundstate()[1])"
   ]
  },
  {
   "cell_type": "markdown",
   "metadata": {},
   "source": [
    "Indeed we got the $|111>$ state , just as we expected."
   ]
  },
  {
   "cell_type": "markdown",
   "metadata": {},
   "source": [
    "# Now lets Try doing some adiabatic computation"
   ]
  },
  {
   "cell_type": "code",
   "execution_count": 7,
   "metadata": {
    "collapsed": false
   },
   "outputs": [],
   "source": [
    "from IPython.core.debugger import Tracer\n",
    "\n",
    "def simulate_adiabatic_process(tlist,H0,H1,rho0,draw):\n",
    "    \n",
    "    args = {'t_max': max(tlist)}\n",
    "    h_t = [[H0, lambda t, args : (args['t_max']-t)/args['t_max']],\n",
    "           [H1, lambda t, args : t/args['t_max']]]\n",
    "    #\n",
    "    # callback function for each time-step\n",
    "    #\n",
    "    N = 2\n",
    "    M = 2\n",
    "    evals_mat = np.zeros((len(tlist),M))\n",
    "    P_mat = np.zeros((len(tlist),M))\n",
    "\n",
    "    idx = [0]\n",
    "    def process_rho(tau, psi):\n",
    "\n",
    "        # evaluate the Hamiltonian with gradually switched on interaction \n",
    "        H = Qobj.evaluate(h_t, tau, args)\n",
    "\n",
    "        # find the M lowest eigenvalues of the system\n",
    "        evals, ekets = H.eigenstates(eigvals=M)\n",
    "\n",
    "        evals_mat[idx[0],:] = np.real(evals)\n",
    "\n",
    "        # find the overlap between the eigenstates and psi \n",
    "        for n, eket in enumerate(ekets):\n",
    "            P_mat[idx[0],n] = abs((eket.dag().data * psi.data)[0,0])**2    \n",
    "\n",
    "        idx[0] += 1\n",
    "\n",
    "    output = sesolve(H=h_t,\n",
    "                 rho0=rho0,\n",
    "                 tlist=tlist,\n",
    "                 e_ops=process_rho,\n",
    "                 args = args)\n",
    "    #rc('font', family='serif')\n",
    "    #rc('font', size='10')\n",
    "    if draw:\n",
    "        fig, axes = plt.subplots(2, 1, figsize=(12,10))\n",
    "\n",
    "        #\n",
    "        # plot the energy eigenvalues\n",
    "        #\n",
    "\n",
    "        # first draw thin lines outlining the energy spectrum\n",
    "        for n in range(len(evals_mat[0,:])):\n",
    "            ls,lw = ('b',1) if n == 0 else ('k', 0.25)\n",
    "            axes[0].plot(tlist/max(tlist), evals_mat[:,n] / (2*pi), ls, lw=lw)\n",
    "\n",
    "\n",
    "        # second, draw line that encode the occupation probability of each state in \n",
    "        # its linewidth. thicker line => high occupation probability.\n",
    "        for idx in range(len(tlist)-1):\n",
    "            for n in range(len(P_mat[0,:])):\n",
    "                lw = 0.5 + 4*P_mat[idx,n]    \n",
    "                if lw > 0.55:\n",
    "                   axes[0].plot(np.array([tlist[idx], tlist[idx+1]])/ max(tlist), \n",
    "                                np.array([evals_mat[idx,n], evals_mat[idx+1,n]])/(2*pi), \n",
    "                                'r', linewidth=lw)    \n",
    "        axes[0].set_xlabel(r'$\\tau$')\n",
    "        axes[0].set_ylabel('Eigenenergies')\n",
    "        axes[0].set_title(\"Energyspectrum (%d lowest values) of a chain of %d spins.\\n \" % (M,N)\n",
    "                        + \"The occupation probabilities are encoded in the red line widths.\")\n",
    "\n",
    "        #\n",
    "        # plot the occupation probabilities for the few lowest eigenstates\n",
    "        #\n",
    "        for n in range(len(P_mat[0,:])):\n",
    "            if n == 0:\n",
    "                axes[1].plot(tlist/max(tlist), 0 + P_mat[:,n], 'r', linewidth=2)\n",
    "            else:\n",
    "                axes[1].plot(tlist/max(tlist), 0 + P_mat[:,n])\n",
    "\n",
    "        axes[1].set_xlabel(r'$\\tau$')\n",
    "        axes[1].set_ylabel('Occupation probability')\n",
    "        axes[1].set_title(\"Occupation probability of the %d lowest \" % M +\n",
    "                          \"eigenstates for a chain of %d spins\" % N)\n",
    "        axes[1].legend((\"Ground state\",));\n",
    "\n",
    "    return P_mat,evals_mat"
   ]
  },
  {
   "cell_type": "markdown",
   "metadata": {},
   "source": [
    "## First we need to create a simple hamiltonian for which we know the ground state \n",
    "I will take the hamiltonian that gets 0 energy on $|000>$ and 1 on the rest of the computational basis."
   ]
  },
  {
   "cell_type": "code",
   "execution_count": 8,
   "metadata": {
    "collapsed": false
   },
   "outputs": [
    {
     "data": {
      "text/latex": [
       "Quantum object: dims = [[2, 2, 2], [2, 2, 2]], shape = [8, 8], type = oper, isherm = True\\begin{equation*}\\left(\\begin{array}{*{11}c}0.0 & 0.0 & 0.0 & 0.0 & 0.0 & 0.0 & 0.0 & 0.0\\\\0.0 & 1.0 & 0.0 & 0.0 & 0.0 & 0.0 & 0.0 & 0.0\\\\0.0 & 0.0 & 1.0 & 0.0 & 0.0 & 0.0 & 0.0 & 0.0\\\\0.0 & 0.0 & 0.0 & 1.0 & 0.0 & 0.0 & 0.0 & 0.0\\\\0.0 & 0.0 & 0.0 & 0.0 & 1.0 & 0.0 & 0.0 & 0.0\\\\0.0 & 0.0 & 0.0 & 0.0 & 0.0 & 1.0 & 0.0 & 0.0\\\\0.0 & 0.0 & 0.0 & 0.0 & 0.0 & 0.0 & 1.0 & 0.0\\\\0.0 & 0.0 & 0.0 & 0.0 & 0.0 & 0.0 & 0.0 & 1.0\\\\\\end{array}\\right)\\end{equation*}"
      ],
      "text/plain": [
       "Quantum object: dims = [[2, 2, 2], [2, 2, 2]], shape = [8, 8], type = oper, isherm = True\n",
       "Qobj data =\n",
       "[[ 0.  0.  0.  0.  0.  0.  0.  0.]\n",
       " [ 0.  1.  0.  0.  0.  0.  0.  0.]\n",
       " [ 0.  0.  1.  0.  0.  0.  0.  0.]\n",
       " [ 0.  0.  0.  1.  0.  0.  0.  0.]\n",
       " [ 0.  0.  0.  0.  1.  0.  0.  0.]\n",
       " [ 0.  0.  0.  0.  0.  1.  0.  0.]\n",
       " [ 0.  0.  0.  0.  0.  0.  1.  0.]\n",
       " [ 0.  0.  0.  0.  0.  0.  0.  1.]]"
      ]
     },
     "execution_count": 8,
     "metadata": {},
     "output_type": "execute_result"
    }
   ],
   "source": [
    "zero3 = tensor([basis(2,0)]*3)\n",
    "zero3_mat = zero3*zero3.trans()\n",
    "id3 = tensor([qeye(2)]*3)\n",
    "simple_ham = id3-zero3_mat \n",
    "simple_ham"
   ]
  },
  {
   "cell_type": "code",
   "execution_count": 9,
   "metadata": {
    "collapsed": false
   },
   "outputs": [
    {
     "data": {
      "text/plain": [
       "(0.0, Quantum object: dims = [[2, 2, 2], [1, 1, 1]], shape = [8, 1], type = ket\n",
       " Qobj data =\n",
       " [[ 1.]\n",
       "  [ 0.]\n",
       "  [ 0.]\n",
       "  [ 0.]\n",
       "  [ 0.]\n",
       "  [ 0.]\n",
       "  [ 0.]\n",
       "  [ 0.]])"
      ]
     },
     "execution_count": 9,
     "metadata": {},
     "output_type": "execute_result"
    }
   ],
   "source": [
    "psi0 = simple_ham.groundstate()[1]\n",
    "simple_ham.groundstate()"
   ]
  },
  {
   "cell_type": "markdown",
   "metadata": {},
   "source": [
    "As expected , the ground state is |000>\n",
    "\n",
    "Now we need to make sure that the two hamiltonians are not commuting, so I apply $H^{\\otimes 3}$ on the first hamiltonian and it's groud state."
   ]
  },
  {
   "cell_type": "code",
   "execution_count": 10,
   "metadata": {
    "collapsed": false
   },
   "outputs": [],
   "source": [
    "had_simple_ham = tensor([hadamard_transform()] * 3) * simple_ham * tensor([hadamard_transform()] * 3)\n",
    "h3psi0 = tensor([hadamard_transform()] * 3) * psi0"
   ]
  },
  {
   "cell_type": "code",
   "execution_count": 11,
   "metadata": {
    "collapsed": false
   },
   "outputs": [
    {
     "data": {
      "text/latex": [
       "Quantum object: dims = [[2, 2, 2], [1, 1, 1]], shape = [8, 1], type = ket\\begin{equation*}\\left(\\begin{array}{*{11}c}0.354\\\\0.354\\\\0.354\\\\0.354\\\\0.354\\\\0.354\\\\0.354\\\\0.354\\\\\\end{array}\\right)\\end{equation*}"
      ],
      "text/plain": [
       "Quantum object: dims = [[2, 2, 2], [1, 1, 1]], shape = [8, 1], type = ket\n",
       "Qobj data =\n",
       "[[ 0.35355339]\n",
       " [ 0.35355339]\n",
       " [ 0.35355339]\n",
       " [ 0.35355339]\n",
       " [ 0.35355339]\n",
       " [ 0.35355339]\n",
       " [ 0.35355339]\n",
       " [ 0.35355339]]"
      ]
     },
     "execution_count": 11,
     "metadata": {},
     "output_type": "execute_result"
    }
   ],
   "source": [
    "h3psi0"
   ]
  },
  {
   "cell_type": "code",
   "execution_count": 12,
   "metadata": {
    "collapsed": false
   },
   "outputs": [],
   "source": [
    "tlist = np.linspace(0, 100, 100)\n",
    "P_mat,evals_mat =simulate_adiabatic_process(tlist,had_simple_ham,LH,h3psi0,False)"
   ]
  },
  {
   "cell_type": "code",
   "execution_count": 13,
   "metadata": {
    "collapsed": false
   },
   "outputs": [
    {
     "data": {
      "text/plain": [
       "50"
      ]
     },
     "execution_count": 13,
     "metadata": {},
     "output_type": "execute_result"
    }
   ],
   "source": [
    "100//2"
   ]
  },
  {
   "cell_type": "markdown",
   "metadata": {},
   "source": [
    "## Landau zenner approximation\n",
    "In this the following lines of code, I will attemp to demonstrate the exponential decay in probability of crossing (diabatic transition probability) that the Landau-Zenner formula predicts :\n",
    "### LZ-formula:\n",
    "$P_D = e^ {-2\\pi\\Gamma}$\n",
    "where \n",
    "$\\Gamma = \\frac{a^2}{\\hbar|\\alpha|}$"
   ]
  },
  {
   "cell_type": "code",
   "execution_count": 14,
   "metadata": {
    "collapsed": false
   },
   "outputs": [],
   "source": [
    "#Compute list of probabilities:\n",
    "list_of_pr_for_psi0_in_end = []\n",
    "list_of_pr_for_psi0_in_mid = []\n",
    "for speed in range(1,100):\n",
    "    tlist = np.linspace(0, speed, 100)\n",
    "    P_mat,evals_mat =simulate_adiabatic_process(tlist,had_simple_ham,LH,h3psi0,False)\n",
    "    list_of_pr_for_psi0_in_mid.append(P_mat[P_mat.shape[0]//2][0])\n",
    "    list_of_pr_for_psi0_in_end.append(P_mat[-1][0])\n",
    "    \n",
    "pr_of_jump_in_mid = np.ones(99)-list_of_pr_for_psi0_in_mid    \n",
    "pr_of_jump_in_end = np.ones(99)-list_of_pr_for_psi0_in_end"
   ]
  },
  {
   "cell_type": "code",
   "execution_count": 15,
   "metadata": {
    "collapsed": false
   },
   "outputs": [
    {
     "data": {
      "text/latex": [
       "Quantum object: dims = [[2, 2, 2], [2, 2, 2]], shape = [8, 8], type = oper, isherm = True\\begin{equation*}\\left(\\begin{array}{*{11}c}0.875 & -0.125 & -0.125 & -0.125 & -0.125 & -0.125 & -0.125 & -0.125\\\\-0.125 & 0.875 & -0.125 & -0.125 & -0.125 & -0.125 & -0.125 & -0.125\\\\-0.125 & -0.125 & 0.875 & -0.125 & -0.125 & -0.125 & -0.125 & -0.125\\\\-0.125 & -0.125 & -0.125 & 0.875 & -0.125 & -0.125 & -0.125 & -0.125\\\\-0.125 & -0.125 & -0.125 & -0.125 & 0.875 & -0.125 & -0.125 & -0.125\\\\-0.125 & -0.125 & -0.125 & -0.125 & -0.125 & 0.875 & -0.125 & -0.125\\\\-0.125 & -0.125 & -0.125 & -0.125 & -0.125 & -0.125 & 0.875 & -0.125\\\\-0.125 & -0.125 & -0.125 & -0.125 & -0.125 & -0.125 & -0.125 & 0.875\\\\\\end{array}\\right)\\end{equation*}"
      ],
      "text/plain": [
       "Quantum object: dims = [[2, 2, 2], [2, 2, 2]], shape = [8, 8], type = oper, isherm = True\n",
       "Qobj data =\n",
       "[[ 0.875 -0.125 -0.125 -0.125 -0.125 -0.125 -0.125 -0.125]\n",
       " [-0.125  0.875 -0.125 -0.125 -0.125 -0.125 -0.125 -0.125]\n",
       " [-0.125 -0.125  0.875 -0.125 -0.125 -0.125 -0.125 -0.125]\n",
       " [-0.125 -0.125 -0.125  0.875 -0.125 -0.125 -0.125 -0.125]\n",
       " [-0.125 -0.125 -0.125 -0.125  0.875 -0.125 -0.125 -0.125]\n",
       " [-0.125 -0.125 -0.125 -0.125 -0.125  0.875 -0.125 -0.125]\n",
       " [-0.125 -0.125 -0.125 -0.125 -0.125 -0.125  0.875 -0.125]\n",
       " [-0.125 -0.125 -0.125 -0.125 -0.125 -0.125 -0.125  0.875]]"
      ]
     },
     "execution_count": 15,
     "metadata": {},
     "output_type": "execute_result"
    }
   ],
   "source": [
    "had_simple_ham"
   ]
  },
  {
   "cell_type": "code",
   "execution_count": 16,
   "metadata": {
    "collapsed": true
   },
   "outputs": [],
   "source": [
    "#Curve fit to exponential decay\n",
    "from scipy.optimize import curve_fit\n",
    "def exp_fit(x,a,b):\n",
    "    return a*np.exp(-x*b)"
   ]
  },
  {
   "cell_type": "code",
   "execution_count": 24,
   "metadata": {
    "collapsed": false
   },
   "outputs": [
    {
     "data": {
      "image/png": "[encoded data removed]",
      "text/plain": [
       "<matplotlib.figure.Figure at 0x7f950aa3d668>"
      ]
     },
     "metadata": {},
     "output_type": "display_data"
    },
    {
     "ename": "NameError",
     "evalue": "name 'Γ' is not defined",
     "output_type": "error",
     "traceback": [
      "\u001b[0;31m---------------------------------------------------------------------------\u001b[0m",
      "\u001b[0;31mNameError\u001b[0m                                 Traceback (most recent call last)",
      "\u001b[0;32m<ipython-input-24-b0c53ca214f7>\u001b[0m in \u001b[0;36m<module>\u001b[0;34m()\u001b[0m\n\u001b[1;32m     10\u001b[0m \u001b[0mplt\u001b[0m\u001b[0;34m.\u001b[0m\u001b[0mtitle\u001b[0m\u001b[0;34m(\u001b[0m\u001b[0;34m\"Probability of crossing as a function of transtion rate\"\u001b[0m\u001b[0;34m)\u001b[0m\u001b[0;34m\u001b[0m\u001b[0m\n\u001b[1;32m     11\u001b[0m \u001b[0mplt\u001b[0m\u001b[0;34m.\u001b[0m\u001b[0mshow\u001b[0m\u001b[0;34m(\u001b[0m\u001b[0;34m)\u001b[0m\u001b[0;34m\u001b[0m\u001b[0m\n\u001b[0;32m---> 12\u001b[0;31m \u001b[0mprint\u001b[0m\u001b[0;34m(\u001b[0m\u001b[0;34m\"Γ=\"\u001b[0m\u001b[0;34m,\u001b[0m \u001b[0mΓ\u001b[0m\u001b[0;34m)\u001b[0m\u001b[0;34m\u001b[0m\u001b[0m\n\u001b[0m",
      "\u001b[0;31mNameError\u001b[0m: name 'Γ' is not defined"
     ]
    }
   ],
   "source": [
    "plt.figure(figsize=(20,10))\n",
    "(end_a,end_Γ),cov = curve_fit(exp_fit,tlist[1:],pr_of_jump_in_end)\n",
    "(mid_a,mid_b),cov= curve_fit(exp_fit,tlist[1:],pr_of_jump_in_mid)\n",
    "plt.plot(tlist[1:],pr_of_jump_in_mid,'o',color='red')\n",
    "\n",
    "plt.plot(tlist[1:],pr_of_jump_in_end,'*',color='blue')\n",
    "# plt.plot(tlist[1:],exp_fit(tlist[1:],end_a,end_Γ),color='blue')\n",
    "\n",
    "\n",
    "plt.title(\"Probability of crossing as a function of transtion rate\")\n",
    "plt.show()\n",
    "print(\"Γ=\", Γ)"
   ]
  },
  {
   "cell_type": "markdown",
   "metadata": {},
   "source": [
    "So we find out that $\\Gamma$ =0.11592386620626052 "
   ]
  },
  {
   "cell_type": "code",
   "execution_count": null,
   "metadata": {
    "collapsed": false
   },
   "outputs": [],
   "source": [
    "a"
   ]
  },
  {
   "cell_type": "code",
   "execution_count": null,
   "metadata": {
    "collapsed": false
   },
   "outputs": [],
   "source": [
    "# def generate_random_ham(dim, normalize = True):\n",
    "#     \"\"\"Generate hamiltonian, with the specified dimesions \"\"\"\n",
    "#     size = 2**dim\n",
    "#     rand_mat = np.random.rand(size**2)\n",
    "#     rand_phase = np.exp(-1J*2*pi*np.random.rand(size**2))\n",
    "#     rand_complex_vector = rand_mat * rand_phase\n",
    "#     rand_complex_matrix = rand_complex_vector.reshape((size, size))\n",
    "#     m = np.tril(rand_complex_matrix) +\\\n",
    "#         np.matrix(np.tril(rand_complex_matrix)).getH()\n",
    "#     if normalize:\n",
    "#         m = m/np.linalg.norm(m)\n",
    "#     return Qobj(m,dims=(size,size))\n",
    "\n",
    "\n",
    "# can just use rand_herm(size)"
   ]
  },
  {
   "cell_type": "code",
   "execution_count": null,
   "metadata": {
    "collapsed": false
   },
   "outputs": [],
   "source": [
    "# def alternate_sweep(tlist,H_init,H_alternate,H_final,rho0,draw):\n",
    "#     \"\"\"\n",
    "#     Simulates a sweep that alternates between two hamiltonians\n",
    "#     \"\"\"\n",
    "#     args = {'t_max': max(tlist)}\n",
    "#     #\n",
    "#     # callback function for each time-step\n",
    "#     #\n",
    "#     N = 2\n",
    "#     M = 2\n",
    "#     evals_mat = np.zeros((len(tlist),M))\n",
    "#     P_mat = np.zeros((len(tlist),M))\n",
    "    \n",
    "    \n",
    "#     def alternate_hams(tau,args, H_init, H_alternate, H_final):\n",
    "#         return (t%2 * H_init* (args['t_max']-t)/args['t_max'] +\n",
    "#                 (t%2+1)* H_alternate * (args['t_max']-t)/args['t_max'] +\n",
    "#                 H_final*t/args['t_max'])\n",
    "    \n",
    "    \n",
    "\n",
    "#     def process_rho(tau, psi):\n",
    "#         # evaluate the Hamiltonian with gradually switched on interaction \n",
    "#         #H = Qobj.evaluate(h_t, tau, args)\n",
    "#         H = alternate_hams(tau, args, H_init, H_alternate, H_final)\n",
    "\n",
    "#         # find the M lowest eigenvalues of the system\n",
    "#         evals, ekets = H.eigenstates(eigvals=M)\n",
    "\n",
    "#         evals_mat[idx[0],:] = np.real(evals)\n",
    "\n",
    "#         # find the overlap between the eigenstates and psi \n",
    "#         for n, eket in enumerate(ekets):\n",
    "#             P_mat[idx[0],n] = abs((eket.dag().data * psi.data)[0,0])**2    \n",
    "            \n",
    "#     output = sesolve(H=h_t,\n",
    "#                  rho0=rho0,\n",
    "#                  tlist=tlist,\n",
    "#                  e_ops=process_rho,\n",
    "#                  args = args)\n",
    "#     #rc('font', family='serif')\n",
    "#     #rc('font', size='10')\n",
    "#     if draw:\n",
    "#         fig, axes = plt.subplots(2, 1, figsize=(12,10))\n",
    "\n",
    "#         #\n",
    "#         # plot the energy eigenvalues\n",
    "#         #\n",
    "\n",
    "#         # first draw thin lines outlining the energy spectrum\n",
    "#         for n in range(len(evals_mat[0,:])):\n",
    "#             ls,lw = ('b',1) if n == 0 else ('k', 0.25)\n",
    "#             axes[0].plot(tlist/max(tlist), evals_mat[:,n] / (2*pi), ls, lw=lw)\n",
    "\n",
    "\n",
    "#         # second, draw line that encode the occupation probability of each state in \n",
    "#         # its linewidth. thicker line => high occupation probability.\n",
    "#         for idx in range(len(tlist)-1):\n",
    "#             for n in range(len(P_mat[0,:])):\n",
    "#                 lw = 0.5 + 4*P_mat[idx,n]    \n",
    "#                 if lw > 0.55:\n",
    "#                    axes[0].plot(np.array([tlist[idx], tlist[idx+1]])/ max(tlist), \n",
    "#                                 np.array([evals_mat[idx,n], evals_mat[idx+1,n]])/(2*pi), \n",
    "#                                 'r', linewidth=lw)    \n",
    "#         axes[0].set_xlabel(r'$\\tau$')\n",
    "#         axes[0].set_ylabel('Eigenenergies')\n",
    "#         axes[0].set_title(\"Energyspectrum (%d lowest values) of a chain of %d spins.\\n \" % (M,N)\n",
    "#                         + \"The occupation probabilities are encoded in the red line widths.\")\n",
    "\n",
    "#         #\n",
    "#         # plot the occupation probabilities for the few lowest eigenstates\n",
    "#         #\n",
    "#         for n in range(len(P_mat[0,:])):\n",
    "#             if n == 0:\n",
    "#                 axes[1].plot(tlist/max(tlist), 0 + P_mat[:,n], 'r', linewidth=2)\n",
    "#             else:\n",
    "#                 axes[1].plot(tlist/max(tlist), 0 + P_mat[:,n])\n",
    "\n",
    "#         axes[1].set_xlabel(r'$\\tau$')\n",
    "#         axes[1].set_ylabel('Occupation probability')\n",
    "#         axes[1].set_title(\"Occupation probability of the %d lowest \" % M +\n",
    "#                           \"eigenstates for a chain of %d spins\" % N)\n",
    "#         axes[1].legend((\"Ground state\",));\n",
    "\n",
    "#     return P_mat,evals_mat"
   ]
  },
  {
   "cell_type": "code",
   "execution_count": null,
   "metadata": {
    "collapsed": false
   },
   "outputs": [],
   "source": [
    "# t = 4\n",
    "H_init = had_simple_ham\n",
    "H_alternate = Qobj(rand_herm(8),dims=[[2,2,2],[2,2,2]])\n",
    "H_final = LH\n",
    "args = {'t_max': max(tlist)}\n",
    "\n",
    "# h_t = [\n",
    "#     [ H_init, lambda t, args : (args['t_max']-t)/args['t_max'] ] ,\n",
    "#     [ H_alternate, lambda t, args : t/args['t_max'] ],\n",
    "#        [ H_final, lambda t, args : t/args['t_max'] ],\n",
    "    \n",
    "# ]\n",
    "# Qobj.evaluate(h_t, 0, args)\n",
    "\n",
    "\n",
    "# (t%2 * H_init* (args['t_max']-t)/args['t_max'] +\n",
    "#                 (t%2+1)* H_alternate * (args['t_max']-t)/args['t_max'] +\n",
    "#                 H_final*t/args['t_max'])"
   ]
  },
  {
   "cell_type": "code",
   "execution_count": null,
   "metadata": {
    "collapsed": false
   },
   "outputs": [],
   "source": [
    "# def generate_random_sweep_ham(H_init,\n",
    "#                               H_final,\n",
    "#                               H_rand = rand_herm(H_init.shape[0],dims=H_init.dims)):\n",
    "#     H= [[had_simple_ham,'(t_max-t)/t_max'],\n",
    "#          [H_alternate, 'np.float(np.where(tlist==t)[0][0]%2)*(t_max-t)/t_max'],\n",
    "#          [H_final, 't/t_max']]\n",
    "#     return H\n",
    "\n",
    "\n",
    "\n",
    "\n",
    "\n",
    "def generate_random_sweep_ham(H_init,\n",
    "                              H_final,\n",
    "                              H_rand = rand_herm(H_init.shape[0],dims=H_init.dims)):\n",
    "    H= [[had_simple_ham,'(t_max-t)/t_max'],\n",
    "         [H_alternate, 'np.random.choice((0,1))*(t_max-t)/t_max'],\n",
    "         [H_final, 't/t_max']]\n",
    "    return H"
   ]
  },
  {
   "cell_type": "code",
   "execution_count": null,
   "metadata": {
    "collapsed": false
   },
   "outputs": [],
   "source": [
    "h_t  = generate_random_sweep_ham(had_simple_ham, LH)"
   ]
  },
  {
   "cell_type": "code",
   "execution_count": null,
   "metadata": {
    "collapsed": false
   },
   "outputs": [],
   "source": [
    "Qobj.evaluate(h_t, tlist[1], args)\n",
    "args"
   ]
  },
  {
   "cell_type": "code",
   "execution_count": null,
   "metadata": {
    "collapsed": false
   },
   "outputs": [],
   "source": [
    "def simulate_adiabatic_process2(tlist, h_t, args, rho0, draw):\n",
    "\n",
    "    #\n",
    "    # callback function for each time-step\n",
    "    #\n",
    "    N = 2\n",
    "    M = 2\n",
    "    evals_mat = np.zeros((len(tlist),M))\n",
    "    P_mat = np.zeros((len(tlist),M))\n",
    "\n",
    "    idx = [0]\n",
    "    def process_rho(tau, psi):\n",
    "\n",
    "        # evaluate the Hamiltonian with gradually switched on interaction \n",
    "        H = Qobj.evaluate(h_t, tau, args)\n",
    "\n",
    "        # find the M lowest eigenvalues of the system\n",
    "        evals, ekets = H.eigenstates(eigvals=M)\n",
    "\n",
    "        evals_mat[idx[0],:] = np.real(evals)\n",
    "\n",
    "        # find the overlap between the eigenstates and psi \n",
    "        for n, eket in enumerate(ekets):\n",
    "            P_mat[idx[0],n] = abs((eket.dag().data * psi.data)[0,0])**2    \n",
    "\n",
    "        idx[0] += 1\n",
    "\n",
    "    output = sesolve(H=h_t,\n",
    "                 rho0=rho0,\n",
    "                 tlist=tlist,\n",
    "                 e_ops=process_rho,\n",
    "                 args = args)\n",
    "    #rc('font', family='serif')\n",
    "    #rc('font', size='10')\n",
    "    if draw:\n",
    "        fig, axes = plt.subplots(2, 1, figsize=(12,10))\n",
    "\n",
    "        #\n",
    "        # plot the energy eigenvalues\n",
    "        #\n",
    "\n",
    "        # first draw thin lines outlining the energy spectrum\n",
    "        for n in range(len(evals_mat[0,:])):\n",
    "            ls,lw = ('b',1) if n == 0 else ('k', 0.25)\n",
    "            axes[0].plot(tlist/max(tlist), evals_mat[:,n] / (2*pi), ls, lw=lw)\n",
    "\n",
    "\n",
    "        # second, draw line that encode the occupation probability of each state in \n",
    "        # its linewidth. thicker line => high occupation probability.\n",
    "        for idx in range(len(tlist)-1):\n",
    "            for n in range(len(P_mat[0,:])):\n",
    "                lw = 0.5 + 4*P_mat[idx,n]    \n",
    "                if lw > 0.55:\n",
    "                   axes[0].plot(np.array([tlist[idx], tlist[idx+1]])/ max(tlist), \n",
    "                                np.array([evals_mat[idx,n], evals_mat[idx+1,n]])/(2*pi), \n",
    "                                'r', linewidth=lw)    \n",
    "        axes[0].set_xlabel(r'$\\tau$')\n",
    "        axes[0].set_ylabel('Eigenenergies')\n",
    "        axes[0].set_title(\"Energyspectrum (%d lowest values) of a chain of %d spins.\\n \" % (M,N)\n",
    "                        + \"The occupation probabilities are encoded in the red line widths.\")\n",
    "\n",
    "        #\n",
    "        # plot the occupation probabilities for the few lowest eigenstates\n",
    "        #\n",
    "        for n in range(len(P_mat[0,:])):\n",
    "            if n == 0:\n",
    "                axes[1].plot(tlist/max(tlist), 0 + P_mat[:,n], 'r', linewidth=2)\n",
    "            else:\n",
    "                axes[1].plot(tlist/max(tlist), 0 + P_mat[:,n])\n",
    "\n",
    "        axes[1].set_xlabel(r'$\\tau$')\n",
    "        axes[1].set_ylabel('Occupation probability')\n",
    "        axes[1].set_title(\"Occupation probability of the %d lowest \" % M +\n",
    "                          \"eigenstates for a chain of %d spins\" % N)\n",
    "        axes[1].legend((\"Ground state\",));\n",
    "\n",
    "    return P_mat,evals_mat"
   ]
  },
  {
   "cell_type": "code",
   "execution_count": null,
   "metadata": {
    "collapsed": false
   },
   "outputs": [],
   "source": [
    "args = {'t_max': max(tlist),'tlist':tlist}\n",
    "P_mat,evals_mat =simulate_adiabatic_process2(tlist, h_t, args, h3psi0, False)"
   ]
  },
  {
   "cell_type": "code",
   "execution_count": null,
   "metadata": {
    "collapsed": false,
    "scrolled": false
   },
   "outputs": [],
   "source": [
    "h_t = generate_random_sweep_ham(simple_ham, LH)\n",
    "# h_t= [[had_simple_ham,'(t_max-t)/t_max'],[H_final, 't/t_max']]\n",
    "\n",
    "#Compute list of probabilities:\n",
    "list_of_pr_for_psi0_in_end = []\n",
    "list_of_pr_for_psi0_in_mid = []\n",
    "for speed in range(1,100):\n",
    "    tlist = np.linspace(0, speed, 100)\n",
    "    args = {'t_max': max(tlist),'tlist':tlist}\n",
    "    P_mat,evals_mat =simulate_adiabatic_process2(tlist, h_t, args, h3psi0, False)\n",
    "    list_of_pr_for_psi0_in_mid.append(P_mat[P_mat.shape[0]//2][0])\n",
    "    list_of_pr_for_psi0_in_end.append(P_mat[-1][0])\n",
    "    \n",
    "pr_of_jump_in_mid = np.ones(99)-list_of_pr_for_psi0_in_mid    \n",
    "pr_of_jump_in_end = np.ones(99)-list_of_pr_for_psi0_in_end\n",
    "\n",
    "\n",
    "\n",
    "plt.figure(figsize=(20,10))\n",
    "(end_a,end_Γ),cov = curve_fit(exp_fit,tlist[1:],pr_of_jump_in_end)\n",
    "(mid_a,mid_b),cov= curve_fit(exp_fit,tlist[1:],pr_of_jump_in_mid)\n",
    "plt.plot(tlist[1:],pr_of_jump_in_mid,'o',color='red')\n",
    "\n",
    "plt.plot(tlist[1:],pr_of_jump_in_end,'*',color='blue')\n",
    "plt.plot(tlist[1:],exp_fit(tlist[1:],end_a,end_Γ),color='blue')\n",
    "\n",
    "\n",
    "plt.title(\"Probability of crossing as a function of transtion rate\")\n",
    "plt.show()\n",
    "print(\"Γ=\", Γ)"
   ]
  },
  {
   "cell_type": "code",
   "execution_count": null,
   "metadata": {
    "collapsed": false
   },
   "outputs": [],
   "source": [
    "had_simple_ham.norm()"
   ]
  },
  {
   "cell_type": "code",
   "execution_count": null,
   "metadata": {
    "collapsed": false
   },
   "outputs": [],
   "source": [
    "LH.norm()"
   ]
  },
  {
   "cell_type": "markdown",
   "metadata": {},
   "source": [
    "# Examining the behaviour of random hamiltonians "
   ]
  },
  {
   "cell_type": "markdown",
   "metadata": {},
   "source": [
    "I want to compare the high-speed reigon with a  random hamiltonian applied and without."
   ]
  },
  {
   "cell_type": "code",
   "execution_count": null,
   "metadata": {
    "collapsed": false
   },
   "outputs": [],
   "source": [
    "plt.figure(figsize=(20,10))\n",
    "plt.plot(tlist[1:],pr_of_jump_in_end,'*',color='blue')"
   ]
  },
  {
   "cell_type": "code",
   "execution_count": null,
   "metadata": {
    "collapsed": true
   },
   "outputs": [],
   "source": []
  }
 ],
 "metadata": {
  "kernelspec": {
   "display_name": "Python 3",
   "language": "python",
   "name": "python3"
  },
  "language_info": {
   "codemirror_mode": {
    "name": "ipython",
    "version": 3
   },
   "file_extension": ".py",
   "mimetype": "text/x-python",
   "name": "python",
   "nbconvert_exporter": "python",
   "pygments_lexer": "ipython3",
   "version": "3.5.2"
  }
 },
 "nbformat": 4,
 "nbformat_minor": 0
}
