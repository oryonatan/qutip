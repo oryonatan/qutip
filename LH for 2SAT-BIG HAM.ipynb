{
 "cells": [
  {
   "cell_type": "code",
   "execution_count": 1,
   "metadata": {
    "collapsed": true
   },
   "outputs": [],
   "source": [
    "%matplotlib inline\n",
    "\n",
    "from IPython.display import Image,display\n",
    "\n",
    "from numpy import pi\n",
    "\n",
    "from qutip import *\n",
    "import numpy as np\n",
    "import matplotlib.pyplot as plt"
   ]
  },
  {
   "cell_type": "markdown",
   "metadata": {},
   "source": [
    "First I'll create $|0><0|$ and $|1><1|$ and $|01><10|$ , they will be needed in the future."
   ]
  },
  {
   "cell_type": "code",
   "execution_count": 2,
   "metadata": {
    "collapsed": false
   },
   "outputs": [
    {
     "data": {
      "text/latex": [
       "Quantum object: dims = [[2], [2]], shape = [2, 2], type = oper, isherm = True\\begin{equation*}\\left(\\begin{array}{*{11}c}1.0 & 0.0\\\\0.0 & 0.0\\\\\\end{array}\\right)\\end{equation*}"
      ],
      "text/plain": [
       "Quantum object: dims = [[2], [2]], shape = [2, 2], type = oper, isherm = True\n",
       "Qobj data =\n",
       "[[ 1.  0.]\n",
       " [ 0.  0.]]"
      ]
     },
     "metadata": {},
     "output_type": "display_data"
    },
    {
     "data": {
      "text/latex": [
       "Quantum object: dims = [[2], [2]], shape = [2, 2], type = oper, isherm = True\\begin{equation*}\\left(\\begin{array}{*{11}c}0.0 & 0.0\\\\0.0 & 1.0\\\\\\end{array}\\right)\\end{equation*}"
      ],
      "text/plain": [
       "Quantum object: dims = [[2], [2]], shape = [2, 2], type = oper, isherm = True\n",
       "Qobj data =\n",
       "[[ 0.  0.]\n",
       " [ 0.  1.]]"
      ]
     },
     "metadata": {},
     "output_type": "display_data"
    },
    {
     "data": {
      "text/latex": [
       "Quantum object: dims = [[2, 2], [2, 2]], shape = [4, 4], type = oper, isherm = True\\begin{equation*}\\left(\\begin{array}{*{11}c}0.0 & 0.0 & 0.0 & 0.0\\\\0.0 & 1.0 & 0.0 & 0.0\\\\0.0 & 0.0 & 0.0 & 0.0\\\\0.0 & 0.0 & 0.0 & 0.0\\\\\\end{array}\\right)\\end{equation*}"
      ],
      "text/plain": [
       "Quantum object: dims = [[2, 2], [2, 2]], shape = [4, 4], type = oper, isherm = True\n",
       "Qobj data =\n",
       "[[ 0.  0.  0.  0.]\n",
       " [ 0.  1.  0.  0.]\n",
       " [ 0.  0.  0.  0.]\n",
       " [ 0.  0.  0.  0.]]"
      ]
     },
     "metadata": {},
     "output_type": "display_data"
    }
   ],
   "source": [
    "zeromat = basis(2,0)*basis(2,0).trans()\n",
    "oneomat = basis(2,1)* basis(2,1).trans()\n",
    "display(zeromat,oneomat)\n",
    "zero_one = tensor(basis(2,0),basis(2,1)) # |01>\n",
    "zero_onemat = zero_one*zero_one.trans()\n",
    "display(zero_onemat)"
   ]
  },
  {
   "cell_type": "markdown",
   "metadata": {},
   "source": [
    "## Building hamiltonian for the 2-SAT formula\n",
    "I chose the formula \n",
    "$(x_1\\vee \\overline{x_2})\n",
    "\\wedge\n",
    "(x_2\\vee \\overline{x_3})\n",
    "\\wedge\n",
    "(x_3\\vee \\overline{x_1})\n",
    "\\wedge\n",
    "(x_1\\vee x_1)\n",
    "$\n",
    "the only solution for this formula is $x_1 =1 \\quad   x_2 = 1 \\quad  x_3 = 1$\n",
    "Which will be encoded in the state $|111>$"
   ]
  },
  {
   "cell_type": "markdown",
   "metadata": {},
   "source": [
    "Starting with $(x_1\\vee \\overline{x_2})$ this is equivalent to \n",
    "$|01><01|\\otimes ID_3$"
   ]
  },
  {
   "cell_type": "code",
   "execution_count": 3,
   "metadata": {
    "collapsed": false
   },
   "outputs": [
    {
     "data": {
      "text/latex": [
       "Quantum object: dims = [[2, 2, 2], [2, 2, 2]], shape = [8, 8], type = oper, isherm = True\\begin{equation*}\\left(\\begin{array}{*{11}c}0.0 & 0.0 & 0.0 & 0.0 & 0.0 & 0.0 & 0.0 & 0.0\\\\0.0 & 0.0 & 0.0 & 0.0 & 0.0 & 0.0 & 0.0 & 0.0\\\\0.0 & 0.0 & 1.0 & 0.0 & 0.0 & 0.0 & 0.0 & 0.0\\\\0.0 & 0.0 & 0.0 & 1.0 & 0.0 & 0.0 & 0.0 & 0.0\\\\0.0 & 0.0 & 0.0 & 0.0 & 0.0 & 0.0 & 0.0 & 0.0\\\\0.0 & 0.0 & 0.0 & 0.0 & 0.0 & 0.0 & 0.0 & 0.0\\\\0.0 & 0.0 & 0.0 & 0.0 & 0.0 & 0.0 & 0.0 & 0.0\\\\0.0 & 0.0 & 0.0 & 0.0 & 0.0 & 0.0 & 0.0 & 0.0\\\\\\end{array}\\right)\\end{equation*}"
      ],
      "text/plain": [
       "Quantum object: dims = [[2, 2, 2], [2, 2, 2]], shape = [8, 8], type = oper, isherm = True\n",
       "Qobj data =\n",
       "[[ 0.  0.  0.  0.  0.  0.  0.  0.]\n",
       " [ 0.  0.  0.  0.  0.  0.  0.  0.]\n",
       " [ 0.  0.  1.  0.  0.  0.  0.  0.]\n",
       " [ 0.  0.  0.  1.  0.  0.  0.  0.]\n",
       " [ 0.  0.  0.  0.  0.  0.  0.  0.]\n",
       " [ 0.  0.  0.  0.  0.  0.  0.  0.]\n",
       " [ 0.  0.  0.  0.  0.  0.  0.  0.]\n",
       " [ 0.  0.  0.  0.  0.  0.  0.  0.]]"
      ]
     },
     "metadata": {},
     "output_type": "display_data"
    }
   ],
   "source": [
    "hamiltonian_terms = [] \n",
    "term1_hamiltonian = tensor(zero_onemat,qeye(2))\n",
    "hamiltonian_terms.append(term1_hamiltonian)\n",
    "display(term1_hamiltonian)"
   ]
  },
  {
   "cell_type": "markdown",
   "metadata": {},
   "source": [
    "The second term is $(x_2\\vee \\overline{x_3})$\n",
    "So that will be \n",
    "$ID_1\\otimes|01><01$\n",
    "\n",
    "The third is \n",
    "$(x_3\\vee \\overline{x_1})$\n",
    "will be\n",
    "$|1><1| \\otimes ID_2\\otimes |0><0$\n",
    "\n",
    "And finaly for $(x_1\\vee x_1)$\n",
    "We will have \n",
    "$|0><0| \\otimes ID_{23}$\n"
   ]
  },
  {
   "cell_type": "code",
   "execution_count": 4,
   "metadata": {
    "collapsed": false
   },
   "outputs": [],
   "source": [
    "hamiltonian_terms.append(tensor(qeye(2),zero_onemat))\n",
    "hamiltonian_terms.append(tensor(oneomat,qeye(2),zeromat))\n",
    "hamiltonian_terms.append(tensor(zeromat,qeye(2),qeye(2)))"
   ]
  },
  {
   "cell_type": "markdown",
   "metadata": {},
   "source": [
    "The final hamiltonian is the sum of this local terms"
   ]
  },
  {
   "cell_type": "code",
   "execution_count": 5,
   "metadata": {
    "collapsed": false
   },
   "outputs": [
    {
     "data": {
      "text/latex": [
       "Quantum object: dims = [[2, 2, 2], [2, 2, 2]], shape = [8, 8], type = oper, isherm = True\\begin{equation*}\\left(\\begin{array}{*{11}c}1.0 & 0.0 & 0.0 & 0.0 & 0.0 & 0.0 & 0.0 & 0.0\\\\0.0 & 2.0 & 0.0 & 0.0 & 0.0 & 0.0 & 0.0 & 0.0\\\\0.0 & 0.0 & 2.0 & 0.0 & 0.0 & 0.0 & 0.0 & 0.0\\\\0.0 & 0.0 & 0.0 & 2.0 & 0.0 & 0.0 & 0.0 & 0.0\\\\0.0 & 0.0 & 0.0 & 0.0 & 1.0 & 0.0 & 0.0 & 0.0\\\\0.0 & 0.0 & 0.0 & 0.0 & 0.0 & 1.0 & 0.0 & 0.0\\\\0.0 & 0.0 & 0.0 & 0.0 & 0.0 & 0.0 & 1.0 & 0.0\\\\0.0 & 0.0 & 0.0 & 0.0 & 0.0 & 0.0 & 0.0 & 0.0\\\\\\end{array}\\right)\\end{equation*}"
      ],
      "text/plain": [
       "Quantum object: dims = [[2, 2, 2], [2, 2, 2]], shape = [8, 8], type = oper, isherm = True\n",
       "Qobj data =\n",
       "[[ 1.  0.  0.  0.  0.  0.  0.  0.]\n",
       " [ 0.  2.  0.  0.  0.  0.  0.  0.]\n",
       " [ 0.  0.  2.  0.  0.  0.  0.  0.]\n",
       " [ 0.  0.  0.  2.  0.  0.  0.  0.]\n",
       " [ 0.  0.  0.  0.  1.  0.  0.  0.]\n",
       " [ 0.  0.  0.  0.  0.  1.  0.  0.]\n",
       " [ 0.  0.  0.  0.  0.  0.  1.  0.]\n",
       " [ 0.  0.  0.  0.  0.  0.  0.  0.]]"
      ]
     },
     "metadata": {},
     "output_type": "display_data"
    }
   ],
   "source": [
    "LH = sum(hamiltonian_terms)\n",
    "display(LH)"
   ]
  },
  {
   "cell_type": "markdown",
   "metadata": {},
   "source": [
    "Let's examine the ground states of the local hamiltonian LH "
   ]
  },
  {
   "cell_type": "code",
   "execution_count": 6,
   "metadata": {
    "collapsed": false
   },
   "outputs": [
    {
     "name": "stdout",
     "output_type": "stream",
     "text": [
      "Energy 0.0\n",
      "State\n"
     ]
    },
    {
     "data": {
      "text/latex": [
       "Quantum object: dims = [[2, 2, 2], [1, 1, 1]], shape = [8, 1], type = ket\\begin{equation*}\\left(\\begin{array}{*{11}c}0.0\\\\0.0\\\\0.0\\\\0.0\\\\0.0\\\\0.0\\\\0.0\\\\1.0\\\\\\end{array}\\right)\\end{equation*}"
      ],
      "text/plain": [
       "Quantum object: dims = [[2, 2, 2], [1, 1, 1]], shape = [8, 1], type = ket\n",
       "Qobj data =\n",
       "[[ 0.]\n",
       " [ 0.]\n",
       " [ 0.]\n",
       " [ 0.]\n",
       " [ 0.]\n",
       " [ 0.]\n",
       " [ 0.]\n",
       " [ 1.]]"
      ]
     },
     "metadata": {},
     "output_type": "display_data"
    }
   ],
   "source": [
    "print (\"Energy %s\" % LH.groundstate()[0])\n",
    "print (\"State\")\n",
    "display(LH.groundstate()[1])"
   ]
  },
  {
   "cell_type": "markdown",
   "metadata": {},
   "source": [
    "Indeed we got the $|111>$ state , just as we expected."
   ]
  },
  {
   "cell_type": "markdown",
   "metadata": {},
   "source": [
    "# Now lets Try doing some adiabatic computation"
   ]
  },
  {
   "cell_type": "code",
   "execution_count": 7,
   "metadata": {
    "collapsed": false
   },
   "outputs": [],
   "source": [
    "from IPython.core.debugger import Tracer\n",
    "\n",
    "def simulate_adiabatic_process(tlist,H0,H1,rho0,draw):\n",
    "    \n",
    "    args = {'t_max': max(tlist)}\n",
    "    h_t = [[H0, lambda t, args : (args['t_max']-t)/args['t_max']],\n",
    "           [H1, lambda t, args : t/args['t_max']]]\n",
    "    #\n",
    "    # callback function for each time-step\n",
    "    #\n",
    "    N = 2\n",
    "    M = 2\n",
    "    evals_mat = np.zeros((len(tlist),M))\n",
    "    P_mat = np.zeros((len(tlist),M))\n",
    "\n",
    "    idx = [0]\n",
    "    def process_rho(tau, psi):\n",
    "\n",
    "        # evaluate the Hamiltonian with gradually switched on interaction \n",
    "        H = Qobj.evaluate(h_t, tau, args)\n",
    "\n",
    "        # find the M lowest eigenvalues of the system\n",
    "        evals, ekets = H.eigenstates(eigvals=M)\n",
    "\n",
    "        evals_mat[idx[0],:] = np.real(evals)\n",
    "\n",
    "        # find the overlap between the eigenstates and psi \n",
    "        for n, eket in enumerate(ekets):\n",
    "            P_mat[idx[0],n] = abs((eket.dag().data * psi.data)[0,0])**2    \n",
    "\n",
    "        idx[0] += 1\n",
    "\n",
    "    output = sesolve(H=h_t,\n",
    "                 rho0=rho0,\n",
    "                 tlist=tlist,\n",
    "                 e_ops=process_rho,\n",
    "                 args = args)\n",
    "    #rc('font', family='serif')\n",
    "    #rc('font', size='10')\n",
    "    if draw:\n",
    "        fig, axes = plt.subplots(2, 1, figsize=(12,10))\n",
    "\n",
    "        #\n",
    "        # plot the energy eigenvalues\n",
    "        #\n",
    "\n",
    "        # first draw thin lines outlining the energy spectrum\n",
    "        for n in range(len(evals_mat[0,:])):\n",
    "            ls,lw = ('b',1) if n == 0 else ('k', 0.25)\n",
    "            axes[0].plot(tlist/max(tlist), evals_mat[:,n] / (2*pi), ls, lw=lw)\n",
    "\n",
    "\n",
    "        # second, draw line that encode the occupation probability of each state in \n",
    "        # its linewidth. thicker line => high occupation probability.\n",
    "        for idx in range(len(tlist)-1):\n",
    "            for n in range(len(P_mat[0,:])):\n",
    "                lw = 0.5 + 4*P_mat[idx,n]    \n",
    "                if lw > 0.55:\n",
    "                   axes[0].plot(np.array([tlist[idx], tlist[idx+1]])/ max(tlist), \n",
    "                                np.array([evals_mat[idx,n], evals_mat[idx+1,n]])/(2*pi), \n",
    "                                'r', linewidth=lw)    \n",
    "        axes[0].set_xlabel(r'$\\tau$')\n",
    "        axes[0].set_ylabel('Eigenenergies')\n",
    "        axes[0].set_title(\"Energyspectrum (%d lowest values) of a chain of %d spins.\\n \" % (M,N)\n",
    "                        + \"The occupation probabilities are encoded in the red line widths.\")\n",
    "\n",
    "        #\n",
    "        # plot the occupation probabilities for the few lowest eigenstates\n",
    "        #\n",
    "        for n in range(len(P_mat[0,:])):\n",
    "            if n == 0:\n",
    "                axes[1].plot(tlist/max(tlist), 0 + P_mat[:,n], 'r', linewidth=2)\n",
    "            else:\n",
    "                axes[1].plot(tlist/max(tlist), 0 + P_mat[:,n])\n",
    "\n",
    "        axes[1].set_xlabel(r'$\\tau$')\n",
    "        axes[1].set_ylabel('Occupation probability')\n",
    "        axes[1].set_title(\"Occupation probability of the %d lowest \" % M +\n",
    "                          \"eigenstates for a chain of %d spins\" % N)\n",
    "        axes[1].legend((\"Ground state\",));\n",
    "\n",
    "    return P_mat,evals_mat"
   ]
  },
  {
   "cell_type": "markdown",
   "metadata": {},
   "source": [
    "## First we need to create a simple hamiltonian for which we know the ground state \n",
    "I will take the hamiltonian that gets 0 energy on $|000>$ and 1 on the rest of the computational basis."
   ]
  },
  {
   "cell_type": "code",
   "execution_count": 8,
   "metadata": {
    "collapsed": false
   },
   "outputs": [
    {
     "data": {
      "text/latex": [
       "Quantum object: dims = [[2, 2, 2, 2, 2, 2, 2, 2, 2, 2], [2, 2, 2, 2, 2, 2, 2, 2, 2, 2]], shape = [1024, 1024], type = oper, isherm = True\\begin{equation*}\\left(\\begin{array}{*{11}c}0.0 & 0.0 & 0.0 & 0.0 & 0.0 & \\cdots & 0.0 & 0.0 & 0.0 & 0.0 & 0.0\\\\0.0 & 1.0 & 0.0 & 0.0 & 0.0 & \\cdots & 0.0 & 0.0 & 0.0 & 0.0 & 0.0\\\\0.0 & 0.0 & 1.0 & 0.0 & 0.0 & \\cdots & 0.0 & 0.0 & 0.0 & 0.0 & 0.0\\\\0.0 & 0.0 & 0.0 & 1.0 & 0.0 & \\cdots & 0.0 & 0.0 & 0.0 & 0.0 & 0.0\\\\0.0 & 0.0 & 0.0 & 0.0 & 1.0 & \\cdots & 0.0 & 0.0 & 0.0 & 0.0 & 0.0\\\\\\vdots & \\vdots & \\vdots & \\vdots & \\vdots & \\ddots & \\vdots & \\vdots & \\vdots & \\vdots & \\vdots\\\\0.0 & 0.0 & 0.0 & 0.0 & 0.0 & \\cdots & 1.0 & 0.0 & 0.0 & 0.0 & 0.0\\\\0.0 & 0.0 & 0.0 & 0.0 & 0.0 & \\cdots & 0.0 & 1.0 & 0.0 & 0.0 & 0.0\\\\0.0 & 0.0 & 0.0 & 0.0 & 0.0 & \\cdots & 0.0 & 0.0 & 1.0 & 0.0 & 0.0\\\\0.0 & 0.0 & 0.0 & 0.0 & 0.0 & \\cdots & 0.0 & 0.0 & 0.0 & 1.0 & 0.0\\\\0.0 & 0.0 & 0.0 & 0.0 & 0.0 & \\cdots & 0.0 & 0.0 & 0.0 & 0.0 & 1.0\\\\\\end{array}\\right)\\end{equation*}"
      ],
      "text/plain": [
       "Quantum object: dims = [[2, 2, 2, 2, 2, 2, 2, 2, 2, 2], [2, 2, 2, 2, 2, 2, 2, 2, 2, 2]], shape = [1024, 1024], type = oper, isherm = True\n",
       "Qobj data =\n",
       "[[ 0.  0.  0. ...,  0.  0.  0.]\n",
       " [ 0.  1.  0. ...,  0.  0.  0.]\n",
       " [ 0.  0.  1. ...,  0.  0.  0.]\n",
       " ..., \n",
       " [ 0.  0.  0. ...,  1.  0.  0.]\n",
       " [ 0.  0.  0. ...,  0.  1.  0.]\n",
       " [ 0.  0.  0. ...,  0.  0.  1.]]"
      ]
     },
     "execution_count": 8,
     "metadata": {},
     "output_type": "execute_result"
    }
   ],
   "source": [
    "zero10 = tensor([basis(2,0)]*10)\n",
    "zero10_mat = zero10*zero10.trans()\n",
    "id10 = tensor([qeye(2)]*10)\n",
    "simple_ham = id10-zero10_mat \n",
    "simple_ham"
   ]
  },
  {
   "cell_type": "code",
   "execution_count": 9,
   "metadata": {
    "collapsed": false
   },
   "outputs": [
    {
     "data": {
      "text/plain": [
       "(0.0,\n",
       " Quantum object: dims = [[2, 2, 2, 2, 2, 2, 2, 2, 2, 2], [1, 1, 1, 1, 1, 1, 1, 1, 1, 1]], shape = [1024, 1], type = ket\n",
       " Qobj data =\n",
       " [[ 1.]\n",
       "  [ 0.]\n",
       "  [ 0.]\n",
       "  ..., \n",
       "  [ 0.]\n",
       "  [ 0.]\n",
       "  [ 0.]])"
      ]
     },
     "execution_count": 9,
     "metadata": {},
     "output_type": "execute_result"
    }
   ],
   "source": [
    "psi0 = simple_ham.groundstate()[1]\n",
    "simple_ham.groundstate()"
   ]
  },
  {
   "cell_type": "markdown",
   "metadata": {},
   "source": [
    "As expected , the ground state is |000>\n",
    "\n",
    "Now we need to make sure that the two hamiltonians are not commuting, so I apply $H^{\\otimes 3}$ on the first hamiltonian and it's groud state."
   ]
  },
  {
   "cell_type": "code",
   "execution_count": 10,
   "metadata": {
    "collapsed": false
   },
   "outputs": [],
   "source": [
    "had_simple_ham = tensor([hadamard_transform()] * 10) * simple_ham * tensor([hadamard_transform()] * 10)\n",
    "h10psi0 = tensor([hadamard_transform()] * 10) * psi0"
   ]
  },
  {
   "cell_type": "code",
   "execution_count": 19,
   "metadata": {
    "collapsed": false
   },
   "outputs": [],
   "source": [
    "bigLH = tensor(tensor([LH]*3),qeye(2))\n"
   ]
  },
  {
   "cell_type": "code",
   "execution_count": 20,
   "metadata": {
    "collapsed": false
   },
   "outputs": [
    {
     "data": {
      "text/latex": [
       "Quantum object: dims = [[2, 2, 2, 2, 2, 2, 2, 2, 2, 2], [2, 2, 2, 2, 2, 2, 2, 2, 2, 2]], shape = [1024, 1024], type = oper, isherm = True\\begin{equation*}\\left(\\begin{array}{*{11}c}1.0 & 0.0 & 0.0 & 0.0 & 0.0 & \\cdots & 0.0 & 0.0 & 0.0 & 0.0 & 0.0\\\\0.0 & 1.0 & 0.0 & 0.0 & 0.0 & \\cdots & 0.0 & 0.0 & 0.0 & 0.0 & 0.0\\\\0.0 & 0.0 & 2.0 & 0.0 & 0.0 & \\cdots & 0.0 & 0.0 & 0.0 & 0.0 & 0.0\\\\0.0 & 0.0 & 0.0 & 2.0 & 0.0 & \\cdots & 0.0 & 0.0 & 0.0 & 0.0 & 0.0\\\\0.0 & 0.0 & 0.0 & 0.0 & 2.0 & \\cdots & 0.0 & 0.0 & 0.0 & 0.0 & 0.0\\\\\\vdots & \\vdots & \\vdots & \\vdots & \\vdots & \\ddots & \\vdots & \\vdots & \\vdots & \\vdots & \\vdots\\\\0.0 & 0.0 & 0.0 & 0.0 & 0.0 & \\cdots & 0.0 & 0.0 & 0.0 & 0.0 & 0.0\\\\0.0 & 0.0 & 0.0 & 0.0 & 0.0 & \\cdots & 0.0 & 0.0 & 0.0 & 0.0 & 0.0\\\\0.0 & 0.0 & 0.0 & 0.0 & 0.0 & \\cdots & 0.0 & 0.0 & 0.0 & 0.0 & 0.0\\\\0.0 & 0.0 & 0.0 & 0.0 & 0.0 & \\cdots & 0.0 & 0.0 & 0.0 & 0.0 & 0.0\\\\0.0 & 0.0 & 0.0 & 0.0 & 0.0 & \\cdots & 0.0 & 0.0 & 0.0 & 0.0 & 0.0\\\\\\end{array}\\right)\\end{equation*}"
      ],
      "text/plain": [
       "Quantum object: dims = [[2, 2, 2, 2, 2, 2, 2, 2, 2, 2], [2, 2, 2, 2, 2, 2, 2, 2, 2, 2]], shape = [1024, 1024], type = oper, isherm = True\n",
       "Qobj data =\n",
       "[[ 1.  0.  0. ...,  0.  0.  0.]\n",
       " [ 0.  1.  0. ...,  0.  0.  0.]\n",
       " [ 0.  0.  2. ...,  0.  0.  0.]\n",
       " ..., \n",
       " [ 0.  0.  0. ...,  0.  0.  0.]\n",
       " [ 0.  0.  0. ...,  0.  0.  0.]\n",
       " [ 0.  0.  0. ...,  0.  0.  0.]]"
      ]
     },
     "execution_count": 20,
     "metadata": {},
     "output_type": "execute_result"
    }
   ],
   "source": [
    "bigLH"
   ]
  },
  {
   "cell_type": "code",
   "execution_count": 21,
   "metadata": {
    "collapsed": false,
    "scrolled": false
   },
   "outputs": [
    {
     "data": {
      "image/png": "[encoded data removed]",
      "text/plain": [
       "<matplotlib.figure.Figure at 0x7f6380bec048>"
      ]
     },
     "metadata": {},
     "output_type": "display_data"
    }
   ],
   "source": [
    "tlist = np.linspace(0, 100, 100)\n",
    "P_mat,evals_mat =simulate_adiabatic_process(tlist,had_simple_ham,bigLH,h10psi0,True)"
   ]
  },
  {
   "cell_type": "code",
   "execution_count": null,
   "metadata": {
    "collapsed": false
   },
   "outputs": [],
   "source": [
    "list_of_pr_for_psi0 = []\n",
    "for speed in range(1,100):\n",
    "    tlist = np.linspace(0, speed, 100)\n",
    "    P_mat,evals_mat =simulate_adiabatic_process(tlist,had_simple_ham,LH,h3psi0,False)\n",
    "    pr_of_psi0=P_mat[-1][0]\n",
    "    print(pr_of_psi0)\n",
    "    list_of_pr_for_psi0.append(pr_of_psi0)\n",
    "    "
   ]
  },
  {
   "cell_type": "code",
   "execution_count": null,
   "metadata": {
    "collapsed": false
   },
   "outputs": [],
   "source": [
    "plt.plot(list_of_pr_for_psi0)"
   ]
  },
  {
   "cell_type": "code",
   "execution_count": null,
   "metadata": {
    "collapsed": false
   },
   "outputs": [],
   "source": [
    "plt.plot(np.ones(99)-list_of_pr_for_psi0)"
   ]
  },
  {
   "cell_type": "code",
   "execution_count": null,
   "metadata": {
    "collapsed": true
   },
   "outputs": [],
   "source": []
  }
 ],
 "metadata": {
  "kernelspec": {
   "display_name": "Python 3",
   "language": "python",
   "name": "python3"
  },
  "language_info": {
   "codemirror_mode": {
    "name": "ipython",
    "version": 3
   },
   "file_extension": ".py",
   "mimetype": "text/x-python",
   "name": "python",
   "nbconvert_exporter": "python",
   "pygments_lexer": "ipython3",
   "version": "3.5.1"
  }
 },
 "nbformat": 4,
 "nbformat_minor": 0
}
