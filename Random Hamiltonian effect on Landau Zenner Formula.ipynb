{
 "cells": [
  {
   "cell_type": "markdown",
   "metadata": {},
   "source": [
    "# Plan\n",
    "\n",
    "It is well known that a good approximation of the behavior of the diabatic crossing probabilities in a two hamiltonian system controlled by a linear-over-time coupling , is given by the Landau-Zenner equation : \n",
    "$$P_D = e^ {-2\\pi\\Gamma}\n",
    "\\\\\\mbox{where   }\n",
    "\\Gamma = \\frac{a^2}{\\hbar|\\alpha|}$$\n",
    "\n",
    "In this notebook I wish to examine the behavior when adding an additional random-hamiltoniam term.\n",
    "\n",
    "## The process\n",
    "Instead of the well examining the well studied behavior of a system whose time hamitonian is described by the formula:\n",
    "$$H(t) = H_0*{\\frac{t_{max}-t}{t_{max}}}+H_1*{\\frac{t}{t_{max}}}$$\n",
    "We want to examine the hamitonian:\n",
    "$$H(t) = H_0*{\\frac{t_{max}-t}{t_{max}}}+H_1*{\\frac{t}{t_{max}}} + H_{rand}(t)*f(t,t_{max})$$\n",
    "Initially I will examine the case where $H_{rand}(t)$ is some hamiltonian, that in each time step is randomly switched on or off, or formally : \n",
    "\n",
    "Let $\\hat{H}$ be some hermitian matrix of the same dimension as $H_0$ and $H_1$ (we will later generate in using the `rand_herm` function)\n",
    "$$H(t) =\n",
    "\\left\\{\n",
    "\t\\begin{array}{ll}\n",
    "\t\t\\hat{H}  & \\mbox{with probability p}  \\\\\n",
    "\t\t0 & \\mbox{otherwise}\n",
    "\t\\end{array}\n",
    "\\right.$$\n",
    "and in order to reduce the effect of random term in the end of computation, set $f(t,t_{max})={\\frac{t_{max}-t}{t_{max}}}$."
   ]
  },
  {
   "cell_type": "code",
   "execution_count": null,
   "metadata": {
    "collapsed": false
   },
   "outputs": [],
   "source": [
    "%matplotlib inline\n",
    "\n",
    "from IPython.display import Image,display\n",
    "\n",
    "from numpy import pi\n",
    "\n",
    "from qutip import *\n",
    "import numpy as np\n",
    "import matplotlib.pyplot as plt\n",
    "import LH_tools\n",
    "\n",
    "# from importlib import reload \n",
    "# reload(LH_tools)"
   ]
  },
  {
   "cell_type": "code",
   "execution_count": null,
   "metadata": {
    "collapsed": false
   },
   "outputs": [],
   "source": [
    "def generate_random_sweep_ham(H_init, H_final, H_rand):\n",
    "    H = [[H_init,'(t_max-t)/t_max'],\n",
    "         [H_rand, 'np.random.choice((0,1),p=[1-p,p])*(t_max-t)/t_max'],\n",
    "         [H_final, 't/t_max']]\n",
    "    return H"
   ]
  },
  {
   "cell_type": "code",
   "execution_count": 46,
   "metadata": {
    "collapsed": false
   },
   "outputs": [],
   "source": [
    "H0, psi0 = LH_tools.gen_simple_ham(3)\n",
    "# rotate by hadamard transform \n",
    "rot_H0, rot_psi0 = LH_tools.rotate_by_had(H0, psi0)\n",
    "LH = LH_tools.gen_SAT_LH()\n",
    "H_rand = rand_herm(H0.shape[0], dims=H0.dims)"
   ]
  },
  {
   "cell_type": "code",
   "execution_count": 60,
   "metadata": {
    "collapsed": true
   },
   "outputs": [],
   "source": [
    "h_t = generate_random_sweep_ham(rot_H0, LH, H_rand)\n",
    "# h_t= [[had_simple_ham,'(t_max-t)/t_max'],[H_final, 't/t_max']]\n",
    "\n",
    "#Compute list of probabilities:\n",
    "list_of_pr_for_psi0_in_end = []\n",
    "list_of_pr_for_psi0_in_mid = []\n",
    "for speed in range(1,20):\n",
    "    tlist = np.linspace(0, speed, 200)\n",
    "    args = {'t_max': max(tlist),'tlist':tlist,'p':9/10}\n",
    "    P_mat,evals_mat = LH_tools.simulate_adiabatic_process2(tlist, h_t, args, rot_psi0, False)\n",
    "    list_of_pr_for_psi0_in_end.append(P_mat[-1][0])\n",
    "pr_of_jump_in_end_rand = np.ones(19)-list_of_pr_for_psi0_in_end"
   ]
  },
  {
   "cell_type": "code",
   "execution_count": 61,
   "metadata": {
    "collapsed": false
   },
   "outputs": [],
   "source": [
    "#Create data for original hamiltonians without the random term\n",
    "h_t = [[rot_H0,'(t_max-t)/t_max'],\n",
    "         [LH, 't/t_max']]\n",
    "\n",
    "\n",
    "#Compute list of probabilities:\n",
    "list_of_pr_for_psi0_in_end = []\n",
    "list_of_pr_for_psi0_in_mid = []\n",
    "for speed in range(1,20):\n",
    "    tlist = np.linspace(0, speed, 200)\n",
    "    args = {'t_max': max(tlist),'tlist':tlist,'p':9/10}\n",
    "    P_mat,evals_mat = LH_tools.simulate_adiabatic_process2(tlist, h_t, args, rot_psi0, False)\n",
    "    list_of_pr_for_psi0_in_end.append(P_mat[-1][0])\n",
    "pr_of_jump_in_end_orig = np.ones(19)-list_of_pr_for_psi0_in_end"
   ]
  },
  {
   "cell_type": "code",
   "execution_count": 77,
   "metadata": {
    "collapsed": false
   },
   "outputs": [
    {
     "data": {
      "image/png": "[encoded data removed]",
      "text/plain": [
       "<matplotlib.figure.Figure at 0x7f1e28c42048>"
      ]
     },
     "metadata": {},
     "output_type": "display_data"
    }
   ],
   "source": [
    "x = np.linspace(1,len(pr_of_jump_in_end_orig),len(pr_of_jump_in_end_orig))\n",
    "plt.figure(figsize=(20,10))\n",
    "plt.plot(x, pr_of_jump_in_end_rand,'*',color='blue')\n",
    "plt.plot(x, pr_of_jump_in_end_orig,'*',color='red')\n",
    "plt.title(\"Probability of crossing as a function of transtion rate\")\n",
    "plt.show()"
   ]
  },
  {
   "cell_type": "code",
   "execution_count": 75,
   "metadata": {
    "collapsed": false
   },
   "outputs": [
    {
     "data": {
      "text/plain": [
       "1.0"
      ]
     },
     "execution_count": 75,
     "metadata": {},
     "output_type": "execute_result"
    }
   ],
   "source": [
    "Qobj.evaluate"
   ]
  },
  {
   "cell_type": "code",
   "execution_count": null,
   "metadata": {
    "collapsed": true
   },
   "outputs": [],
   "source": []
  }
 ],
 "metadata": {
  "kernelspec": {
   "display_name": "Python 3",
   "language": "python",
   "name": "python3"
  },
  "language_info": {
   "codemirror_mode": {
    "name": "ipython",
    "version": 3
   },
   "file_extension": ".py",
   "mimetype": "text/x-python",
   "name": "python",
   "nbconvert_exporter": "python",
   "pygments_lexer": "ipython3",
   "version": "3.5.2"
  }
 },
 "nbformat": 4,
 "nbformat_minor": 0
}
