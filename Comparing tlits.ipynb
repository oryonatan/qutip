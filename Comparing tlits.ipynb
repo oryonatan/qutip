{
 "cells": [
  {
   "cell_type": "code",
   "execution_count": 65,
   "metadata": {
    "collapsed": false
   },
   "outputs": [
    {
     "data": {
      "text/plain": [
       "<module 'LH_tools' from '/home/oryonatan/qutip/LH_tools.py'>"
      ]
     },
     "execution_count": 65,
     "metadata": {},
     "output_type": "execute_result"
    }
   ],
   "source": [
    "%matplotlib inline\n",
    "\n",
    "from IPython.display import Image,display\n",
    "\n",
    "from numpy import pi\n",
    "\n",
    "from qutip import *\n",
    "import numpy as np\n",
    "import matplotlib.pyplot as plt\n",
    "import LH_tools\n",
    "\n",
    "from importlib import reload \n",
    "reload(LH_tools)\n"
   ]
  },
  {
   "cell_type": "code",
   "execution_count": 35,
   "metadata": {
    "collapsed": false
   },
   "outputs": [],
   "source": [
    "n = 4\n",
    "N = 2**n\n",
    "id_n = tensor([qeye(2)]*n)\n",
    "psi0 = tensor([basis(2,0)]*n)\n",
    "psi0= hadamard_transform(n)*psi0\n",
    "H_0 = id_n-psi0*psi0.trans()\n",
    "rot_H0, rot_psi0 = LH_tools.rotate_by_had(H_0, psi0)\n",
    "#display(H_0)\n",
    "in_state = tensor([basis(2,0),basis(2,1),\n",
    "                   basis(2,0),basis(2,1)])\n",
    "H_1 = id_n - in_state*in_state.trans()\n"
   ]
  },
  {
   "cell_type": "code",
   "execution_count": 36,
   "metadata": {
    "collapsed": false
   },
   "outputs": [
    {
     "name": "stderr",
     "output_type": "stream",
     "text": [
      "/home/oryonatan/anaconda3/envs/qutip/lib/python3.5/site-packages/scipy/integrate/_ode.py:869: UserWarning: zvode: Excess work done on this call. (Perhaps wrong MF.)\n",
      "  'Unexpected istate=%s' % istate))\n"
     ]
    },
    {
     "ename": "Exception",
     "evalue": "ODE integration error: Try to increase the allowed number of substeps by increasing the nsteps parameter in the Options class.",
     "output_type": "error",
     "traceback": [
      "\u001b[0;31m---------------------------------------------------------------------------\u001b[0m",
      "\u001b[0;31mException\u001b[0m                                 Traceback (most recent call last)",
      "\u001b[0;32m<ipython-input-36-e86dcf89c831>\u001b[0m in \u001b[0;36m<module>\u001b[0;34m()\u001b[0m\n\u001b[1;32m      4\u001b[0m \u001b[0mtlist\u001b[0m \u001b[0;34m=\u001b[0m \u001b[0mnp\u001b[0m\u001b[0;34m.\u001b[0m\u001b[0mlinspace\u001b[0m\u001b[0;34m(\u001b[0m\u001b[0;36m0\u001b[0m\u001b[0;34m,\u001b[0m \u001b[0;36m1000\u001b[0m\u001b[0;34m,\u001b[0m \u001b[0;36m1000\u001b[0m\u001b[0;34m)\u001b[0m\u001b[0;34m\u001b[0m\u001b[0m\n\u001b[1;32m      5\u001b[0m \u001b[0margs\u001b[0m \u001b[0;34m=\u001b[0m \u001b[0;34m{\u001b[0m\u001b[0;34m't_max'\u001b[0m\u001b[0;34m:\u001b[0m \u001b[0mmax\u001b[0m\u001b[0;34m(\u001b[0m\u001b[0mtlist\u001b[0m\u001b[0;34m)\u001b[0m\u001b[0;34m}\u001b[0m\u001b[0;34m\u001b[0m\u001b[0m\n\u001b[0;32m----> 6\u001b[0;31m \u001b[0mP_mat\u001b[0m\u001b[0;34m,\u001b[0m\u001b[0mevals_mat\u001b[0m \u001b[0;34m=\u001b[0m \u001b[0msimulate_adiabatic_process2\u001b[0m\u001b[0;34m(\u001b[0m\u001b[0mtlist\u001b[0m\u001b[0;34m,\u001b[0m \u001b[0mh_t1\u001b[0m\u001b[0;34m,\u001b[0m \u001b[0margs\u001b[0m\u001b[0;34m,\u001b[0m \u001b[0min_state\u001b[0m\u001b[0;34m,\u001b[0m \u001b[0;32mFalse\u001b[0m\u001b[0;34m)\u001b[0m\u001b[0;34m\u001b[0m\u001b[0m\n\u001b[0m\u001b[1;32m      7\u001b[0m \u001b[0;34m\u001b[0m\u001b[0m\n\u001b[1;32m      8\u001b[0m \u001b[0mP_mat\u001b[0m\u001b[0;34m,\u001b[0m\u001b[0mEV_mat\u001b[0m\u001b[0;34m,\u001b[0m\u001b[0mtime\u001b[0m \u001b[0;34m=\u001b[0m \u001b[0mLH_tools\u001b[0m\u001b[0;34m.\u001b[0m\u001b[0mbenchmark\u001b[0m\u001b[0;34m(\u001b[0m\u001b[0mh_t1\u001b[0m\u001b[0;34m,\u001b[0m \u001b[0min_state\u001b[0m\u001b[0;34m,\u001b[0m \u001b[0msteps\u001b[0m\u001b[0;34m=\u001b[0m\u001b[0;36m1000\u001b[0m\u001b[0;34m,\u001b[0m \u001b[0mT\u001b[0m\u001b[0;34m=\u001b[0m\u001b[0;36m1\u001b[0m\u001b[0;34m)\u001b[0m\u001b[0;34m\u001b[0m\u001b[0m\n",
      "\u001b[0;32m/home/oryonatan/qutip/LH_tools.py\u001b[0m in \u001b[0;36msimulate_adiabatic_process2\u001b[0;34m(tlist, h_t, args, rho0, draw, options)\u001b[0m\n\u001b[1;32m    140\u001b[0m                      \u001b[0me_ops\u001b[0m\u001b[0;34m=\u001b[0m\u001b[0mprocess_rho\u001b[0m\u001b[0;34m,\u001b[0m\u001b[0;34m\u001b[0m\u001b[0m\n\u001b[1;32m    141\u001b[0m                      \u001b[0margs\u001b[0m\u001b[0;34m=\u001b[0m\u001b[0margs\u001b[0m\u001b[0;34m,\u001b[0m\u001b[0;34m\u001b[0m\u001b[0m\n\u001b[0;32m--> 142\u001b[0;31m                      options = options)\n\u001b[0m\u001b[1;32m    143\u001b[0m     \u001b[0;31m# rc('font', family='serif')\u001b[0m\u001b[0;34m\u001b[0m\u001b[0;34m\u001b[0m\u001b[0m\n\u001b[1;32m    144\u001b[0m     \u001b[0;31m# rc('font', size='10')\u001b[0m\u001b[0;34m\u001b[0m\u001b[0;34m\u001b[0m\u001b[0m\n",
      "\u001b[0;32m/home/oryonatan/anaconda3/envs/qutip/lib/python3.5/site-packages/qutip/sesolve.py\u001b[0m in \u001b[0;36msesolve\u001b[0;34m(H, rho0, tlist, e_ops, args, options, progress_bar)\u001b[0m\n\u001b[1;32m    141\u001b[0m     \u001b[0;32melif\u001b[0m \u001b[0mn_str\u001b[0m \u001b[0;34m>\u001b[0m \u001b[0;36m0\u001b[0m\u001b[0;34m:\u001b[0m\u001b[0;34m\u001b[0m\u001b[0m\n\u001b[1;32m    142\u001b[0m         res = _sesolve_list_str_td(H, rho0, tlist, e_ops, args, options,\n\u001b[0;32m--> 143\u001b[0;31m                                    progress_bar)\n\u001b[0m\u001b[1;32m    144\u001b[0m \u001b[0;34m\u001b[0m\u001b[0m\n\u001b[1;32m    145\u001b[0m     elif isinstance(H, (types.FunctionType,\n",
      "\u001b[0;32m/home/oryonatan/anaconda3/envs/qutip/lib/python3.5/site-packages/qutip/sesolve.py\u001b[0m in \u001b[0;36m_sesolve_list_str_td\u001b[0;34m(H_list, psi0, tlist, e_ops, args, opt, progress_bar)\u001b[0m\n\u001b[1;32m    410\u001b[0m     \u001b[0;31m#\u001b[0m\u001b[0;34m\u001b[0m\u001b[0;34m\u001b[0m\u001b[0m\n\u001b[1;32m    411\u001b[0m     return _generic_ode_solve(r, psi0, tlist, e_ops, opt, progress_bar,\n\u001b[0;32m--> 412\u001b[0;31m                               norm, dims=psi0.dims)\n\u001b[0m\u001b[1;32m    413\u001b[0m \u001b[0;34m\u001b[0m\u001b[0m\n\u001b[1;32m    414\u001b[0m \u001b[0;34m\u001b[0m\u001b[0m\n",
      "\u001b[0;32m/home/oryonatan/anaconda3/envs/qutip/lib/python3.5/site-packages/qutip/sesolve.py\u001b[0m in \u001b[0;36m_generic_ode_solve\u001b[0;34m(r, psi0, tlist, e_ops, opt, progress_bar, state_norm_func, dims)\u001b[0m\n\u001b[1;32m    636\u001b[0m \u001b[0;34m\u001b[0m\u001b[0m\n\u001b[1;32m    637\u001b[0m         \u001b[0;32mif\u001b[0m \u001b[0;32mnot\u001b[0m \u001b[0mr\u001b[0m\u001b[0;34m.\u001b[0m\u001b[0msuccessful\u001b[0m\u001b[0;34m(\u001b[0m\u001b[0;34m)\u001b[0m\u001b[0;34m:\u001b[0m\u001b[0;34m\u001b[0m\u001b[0m\n\u001b[0;32m--> 638\u001b[0;31m             raise Exception(\"ODE integration error: Try to increase \"\n\u001b[0m\u001b[1;32m    639\u001b[0m                             \u001b[0;34m\"the allowed number of substeps by increasing \"\u001b[0m\u001b[0;34m\u001b[0m\u001b[0m\n\u001b[1;32m    640\u001b[0m                             \"the nsteps parameter in the Options class.\")\n",
      "\u001b[0;31mException\u001b[0m: ODE integration error: Try to increase the allowed number of substeps by increasing the nsteps parameter in the Options class."
     ]
    }
   ],
   "source": [
    "\n",
    "h_t1= [[H_0,'(1-t)'],\n",
    "      [H_1, 't']]\n",
    "tlist = np.linspace(0, 1000, 1000)\n",
    "args = {'t_max': max(tlist)}\n",
    "P_mat,evals_mat = simulate_adiabatic_process2(tlist, h_t1, args, in_state, False)\n",
    "\n",
    "P_mat,EV_mat,time = LH_tools.benchmark(h_t1, in_state, steps=1000, T=1)\n",
    "\n",
    "args = {'t_max':100}\n",
    "h_t2= [[H_0,'(t_max-t)/t_max'],\n",
    "      [H_1, 't/t_max']]\n",
    "P_mat,EV_mat,time = LH_tools.benchmark(h_t2, in_state, steps=1000, T=1000)\n",
    "# should be the same\n",
    "\n"
   ]
  },
  {
   "cell_type": "code",
   "execution_count": null,
   "metadata": {
    "collapsed": true
   },
   "outputs": [],
   "source": [
    "h1s = Qobj.evaluate()"
   ]
  },
  {
   "cell_type": "code",
   "execution_count": null,
   "metadata": {
    "collapsed": true
   },
   "outputs": [],
   "source": []
  },
  {
   "cell_type": "code",
   "execution_count": null,
   "metadata": {
    "collapsed": true
   },
   "outputs": [],
   "source": []
  },
  {
   "cell_type": "code",
   "execution_count": null,
   "metadata": {
    "collapsed": true
   },
   "outputs": [],
   "source": []
  },
  {
   "cell_type": "code",
   "execution_count": null,
   "metadata": {
    "collapsed": true
   },
   "outputs": [],
   "source": []
  },
  {
   "cell_type": "code",
   "execution_count": 7,
   "metadata": {
    "collapsed": false
   },
   "outputs": [
    {
     "ename": "NameError",
     "evalue": "name 'find_s_one2' is not defined",
     "output_type": "error",
     "traceback": [
      "\u001b[0;31m---------------------------------------------------------------------------\u001b[0m",
      "\u001b[0;31mNameError\u001b[0m                                 Traceback (most recent call last)",
      "\u001b[0;32m<ipython-input-7-35e40869d0ed>\u001b[0m in \u001b[0;36m<module>\u001b[0;34m()\u001b[0m\n\u001b[1;32m      3\u001b[0m \u001b[0mrate\u001b[0m \u001b[0;34m=\u001b[0m \u001b[0;36m1\u001b[0m\u001b[0;34m\u001b[0m\u001b[0m\n\u001b[1;32m      4\u001b[0m \u001b[0;34m\u001b[0m\u001b[0m\n\u001b[0;32m----> 5\u001b[0;31m \u001b[0ms_one\u001b[0m \u001b[0;34m=\u001b[0m \u001b[0mfind_s_one2\u001b[0m\u001b[0;34m(\u001b[0m\u001b[0ms_function2\u001b[0m\u001b[0;34m,\u001b[0m \u001b[0mrate\u001b[0m \u001b[0;34m,\u001b[0m \u001b[0mN\u001b[0m \u001b[0;34m,\u001b[0m \u001b[0mepsilon\u001b[0m\u001b[0;34m)\u001b[0m\u001b[0;34m\u001b[0m\u001b[0m\n\u001b[0m\u001b[1;32m      6\u001b[0m \u001b[0mtlist\u001b[0m \u001b[0;34m=\u001b[0m \u001b[0mnp\u001b[0m\u001b[0;34m.\u001b[0m\u001b[0mlinspace\u001b[0m\u001b[0;34m(\u001b[0m\u001b[0;36m0\u001b[0m\u001b[0;34m,\u001b[0m \u001b[0ms_one\u001b[0m\u001b[0;34m,\u001b[0m \u001b[0msteps\u001b[0m\u001b[0;34m)\u001b[0m\u001b[0;34m\u001b[0m\u001b[0m\n\u001b[1;32m      7\u001b[0m \u001b[0mslist\u001b[0m \u001b[0;34m=\u001b[0m \u001b[0ms_function2\u001b[0m\u001b[0;34m(\u001b[0m\u001b[0mtlist\u001b[0m \u001b[0;34m,\u001b[0m \u001b[0mrate\u001b[0m\u001b[0;34m,\u001b[0m \u001b[0mN\u001b[0m\u001b[0;34m,\u001b[0m \u001b[0mepsilon\u001b[0m\u001b[0;34m)\u001b[0m \u001b[0;34m*\u001b[0m \u001b[0ms_one\u001b[0m\u001b[0;34m\u001b[0m\u001b[0m\n",
      "\u001b[0;31mNameError\u001b[0m: name 'find_s_one2' is not defined"
     ]
    }
   ],
   "source": [
    "h_t= [[H_0,'(t_max-t)/t_max'],\n",
    "      [H_1, 't/t_max']]\n",
    "rate = 1\n",
    "\n",
    "s_one = find_s_one2(s_function2, rate , N , epsilon)\n",
    "tlist = np.linspace(0, s_one, steps)\n",
    "slist = s_function2(tlist , rate, N, epsilon) * s_one\n",
    "args = {'t_max':s_one}\n",
    "# P_mat,EV_mat = LH_tools.simulate_adiabatic_process2(slist, h_t, args ,in_state, False)\n",
    "# LH_tools.plot_PandEV(P_mat, EV_mat,tlist)\n",
    "slist"
   ]
  },
  {
   "cell_type": "markdown",
   "metadata": {},
   "source": [
    "This should be the same"
   ]
  },
  {
   "cell_type": "code",
   "execution_count": 69,
   "metadata": {
    "collapsed": true
   },
   "outputs": [
    {
     "data": {
      "image/png": "[encoded data removed]",
      "text/plain": [
       "<matplotlib.figure.Figure at 0x7fc8ca8d4710>"
      ]
     },
     "metadata": {},
     "output_type": "display_data"
    },
    {
     "data": {
      "image/png": "[encoded data removed]",
      "text/plain": [
       "<matplotlib.figure.Figure at 0x7fc8cd1fc908>"
      ]
     },
     "metadata": {},
     "output_type": "display_data"
    }
   ],
   "source": [
    "from  LH_tools import simulate_adiabatic_process3 , plot_PandEV\n",
    "h_t2= [[H_0,'(t_max-t)/t_max'],\n",
    "      [H_1, 't/t_max']]\n",
    "\n",
    "tlist = np.linspace(0, 100, 100)\n",
    "args = {'t_max': max(tlist)}\n",
    "P_mat,evals_mat , output1= simulate_adiabatic_process3(tlist, h_t1, args, in_state, False)\n",
    "plot_PandEV( P_mat, evals_mat ,tlist )\n",
    "\n",
    "tlist = np.linspace(0, 1, 100)\n",
    "args = {'t_max': max(tlist)}\n",
    "P_mat,evals_mat ,output2= simulate_adiabatic_process3(tlist, h_t2, args, in_state, False)\n",
    "plot_PandEV( P_mat, evals_mat ,tlist )\n",
    "plt.show()"
   ]
  },
  {
   "cell_type": "markdown",
   "metadata": {},
   "source": [
    "First compare hamiltonians"
   ]
  },
  {
   "cell_type": "code",
   "execution_count": 66,
   "metadata": {
    "collapsed": true
   },
   "outputs": [
    {
     "name": "stdout",
     "output_type": "stream",
     "text": [
      "[0.0, 0.0, 0.0, 0.0, 0.0, 0.0, 0.0, 0.0, 0.0, 0.0, 0.0, 0.0, 0.0, 0.0, 0.0, 0.0, 0.0, 0.0, 0.0, 0.0, 0.0, 0.0, 0.0, 0.0, 0.0, 0.0, 0.0, 0.0, 0.0, 0.0, 0.0, 0.0, 0.0, 0.0, 0.0, 0.0, 0.0, 0.0, 0.0, 0.0, 0.0, 0.0, 0.0, 0.0, 0.0, 0.0, 0.0, 0.0, 0.0, 0.0, 0.0, 0.0, 0.0, 0.0, 0.0, 0.0, 0.0, 0.0, 0.0, 0.0, 0.0, 0.0, 0.0, 0.0, 0.0, 0.0, 0.0, 0.0, 0.0, 0.0, 0.0, 0.0, 0.0, 0.0, 0.0, 0.0, 0.0, 0.0, 0.0, 0.0, 0.0, 0.0, 0.0, 0.0, 0.0, 0.0, 0.0, 0.0, 0.0, 0.0, 0.0, 0.0, 0.0, 0.0, 0.0, 0.0, 0.0, 0.0, 0.0, 0.0]\n"
     ]
    }
   ],
   "source": [
    "tlist = np.linspace(0, 100, 100)\n",
    "args = {'t_max': max(tlist)}\n",
    "ht_1 = [Qobj.evaluate(h_t2, t , args) for t in tlist]\n",
    "\n",
    "tlist = np.linspace(0, 1, 100)\n",
    "args = {'t_max': max(tlist)}\n",
    "ht_2 = [Qobj.evaluate(h_t2, t , args) for t in tlist]\n",
    "\n",
    "print ([(h1-h2).norm() for (h1,h2) in zip (ht_1, ht_2)])"
   ]
  },
  {
   "cell_type": "code",
   "execution_count": 72,
   "metadata": {
    "collapsed": false
   },
   "outputs": [
    {
     "data": {
      "text/plain": [
       "array([   0.        ,    1.01010101,    2.02020202,    3.03030303,\n",
       "          4.04040404,    5.05050505,    6.06060606,    7.07070707,\n",
       "          8.08080808,    9.09090909,   10.1010101 ,   11.11111111,\n",
       "         12.12121212,   13.13131313,   14.14141414,   15.15151515,\n",
       "         16.16161616,   17.17171717,   18.18181818,   19.19191919,\n",
       "         20.2020202 ,   21.21212121,   22.22222222,   23.23232323,\n",
       "         24.24242424,   25.25252525,   26.26262626,   27.27272727,\n",
       "         28.28282828,   29.29292929,   30.3030303 ,   31.31313131,\n",
       "         32.32323232,   33.33333333,   34.34343434,   35.35353535,\n",
       "         36.36363636,   37.37373737,   38.38383838,   39.39393939,\n",
       "         40.4040404 ,   41.41414141,   42.42424242,   43.43434343,\n",
       "         44.44444444,   45.45454545,   46.46464646,   47.47474747,\n",
       "         48.48484848,   49.49494949,   50.50505051,   51.51515152,\n",
       "         52.52525253,   53.53535354,   54.54545455,   55.55555556,\n",
       "         56.56565657,   57.57575758,   58.58585859,   59.5959596 ,\n",
       "         60.60606061,   61.61616162,   62.62626263,   63.63636364,\n",
       "         64.64646465,   65.65656566,   66.66666667,   67.67676768,\n",
       "         68.68686869,   69.6969697 ,   70.70707071,   71.71717172,\n",
       "         72.72727273,   73.73737374,   74.74747475,   75.75757576,\n",
       "         76.76767677,   77.77777778,   78.78787879,   79.7979798 ,\n",
       "         80.80808081,   81.81818182,   82.82828283,   83.83838384,\n",
       "         84.84848485,   85.85858586,   86.86868687,   87.87878788,\n",
       "         88.88888889,   89.8989899 ,   90.90909091,   91.91919192,\n",
       "         92.92929293,   93.93939394,   94.94949495,   95.95959596,\n",
       "         96.96969697,   97.97979798,   98.98989899,  100.        ])"
      ]
     },
     "execution_count": 72,
     "metadata": {},
     "output_type": "execute_result"
    }
   ],
   "source": [
    "output1.times"
   ]
  },
  {
   "cell_type": "code",
   "execution_count": 74,
   "metadata": {
    "collapsed": false
   },
   "outputs": [
    {
     "data": {
      "text/plain": [
       "array([ 0.        ,  0.01010101,  0.02020202,  0.03030303,  0.04040404,\n",
       "        0.05050505,  0.06060606,  0.07070707,  0.08080808,  0.09090909,\n",
       "        0.1010101 ,  0.11111111,  0.12121212,  0.13131313,  0.14141414,\n",
       "        0.15151515,  0.16161616,  0.17171717,  0.18181818,  0.19191919,\n",
       "        0.2020202 ,  0.21212121,  0.22222222,  0.23232323,  0.24242424,\n",
       "        0.25252525,  0.26262626,  0.27272727,  0.28282828,  0.29292929,\n",
       "        0.3030303 ,  0.31313131,  0.32323232,  0.33333333,  0.34343434,\n",
       "        0.35353535,  0.36363636,  0.37373737,  0.38383838,  0.39393939,\n",
       "        0.4040404 ,  0.41414141,  0.42424242,  0.43434343,  0.44444444,\n",
       "        0.45454545,  0.46464646,  0.47474747,  0.48484848,  0.49494949,\n",
       "        0.50505051,  0.51515152,  0.52525253,  0.53535354,  0.54545455,\n",
       "        0.55555556,  0.56565657,  0.57575758,  0.58585859,  0.5959596 ,\n",
       "        0.60606061,  0.61616162,  0.62626263,  0.63636364,  0.64646465,\n",
       "        0.65656566,  0.66666667,  0.67676768,  0.68686869,  0.6969697 ,\n",
       "        0.70707071,  0.71717172,  0.72727273,  0.73737374,  0.74747475,\n",
       "        0.75757576,  0.76767677,  0.77777778,  0.78787879,  0.7979798 ,\n",
       "        0.80808081,  0.81818182,  0.82828283,  0.83838384,  0.84848485,\n",
       "        0.85858586,  0.86868687,  0.87878788,  0.88888889,  0.8989899 ,\n",
       "        0.90909091,  0.91919192,  0.92929293,  0.93939394,  0.94949495,\n",
       "        0.95959596,  0.96969697,  0.97979798,  0.98989899,  1.        ])"
      ]
     },
     "execution_count": 74,
     "metadata": {},
     "output_type": "execute_result"
    }
   ],
   "source": [
    "output2.times"
   ]
  },
  {
   "cell_type": "code",
   "execution_count": null,
   "metadata": {
    "collapsed": true
   },
   "outputs": [],
   "source": []
  }
 ],
 "metadata": {
  "kernelspec": {
   "display_name": "Python 3",
   "language": "python",
   "name": "python3"
  },
  "language_info": {
   "codemirror_mode": {
    "name": "ipython",
    "version": 3
   },
   "file_extension": ".py",
   "mimetype": "text/x-python",
   "name": "python",
   "nbconvert_exporter": "python",
   "pygments_lexer": "ipython3",
   "version": "3.5.2"
  }
 },
 "nbformat": 4,
 "nbformat_minor": 0
}
