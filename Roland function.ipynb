{
 "cells": [
  {
   "cell_type": "code",
   "execution_count": 9,
   "metadata": {
    "collapsed": true
   },
   "outputs": [],
   "source": [
    "%matplotlib inline\n",
    "\n",
    "from IPython.display import Image\n",
    "\n",
    "import numpy as np\n",
    "\n",
    "from qutip import *\n",
    "\n",
    "from numba import vectorize,float64\n",
    "\n",
    "import matplotlib.pyplot as plt"
   ]
  },
  {
   "cell_type": "markdown",
   "metadata": {},
   "source": [
    "## Calculating Roland and Cerf's function\n",
    "\n",
    "In their paper Roland and Cerf [RC01] showed that using adiabatic computation to perform Grover's algorithm on $n=log_2(N)$ qubits , with constant rate of hamiltonian variation, one will need to set the length of the process to be $T\\ge\\frac{N}{\\epsilon}$ in order to keep the process adiabatic .\n",
    "\n",
    "However he also showed that using if the rate of the variation is modified to be :\n",
    "\n",
    "\\begin{equation} \n",
    " \\frac{ds}{dt} = \\epsilon g^2(t) = \\epsilon [1-4\\frac{N-1}{N}s(s-1)]\n",
    "\\end{equation}\n",
    "\n",
    "one can maintain the adiabatic condition :\n",
    "$$|\\frac{ds}{dt}| \\le  \\epsilon \\frac{g^2(t)}{|<\\frac{d\\bar H}{ds}>|_{1,0}} $$\n",
    "while keeping the overall process length to $T = \\frac{\\pi}{2\\epsilon}\\sqrt{N}$\n",
    "\n",
    "Integrating the function for $\\frac{ds}{dt}$ we get:\n",
    "$$s(t)=\\frac{1}{2}(1-\\frac{\\sqrt{N-1}\\,tan(\\frac{2t\\epsilon\\sqrt{N-1}\\,\\, \\;-\\; N \\,arctan(\\sqrt{N-1})}{N})}{1-N})$$"
   ]
  },
  {
   "cell_type": "code",
   "execution_count": 38,
   "metadata": {
    "ExecuteTime": {
     "end_time": "2016-08-21T12:29:26.214463",
     "start_time": "2016-08-21T12:29:26.209608"
    },
    "collapsed": false
   },
   "outputs": [],
   "source": [
    "\n",
    "epsilon = 0.1\n",
    "n = 12\n",
    "N = 2**n\n",
    "\n",
    "def s_function(t ,N = 1024 , epsilon = 0.1 ):\n",
    "    \"\"\"Computes the rate function s(t)\"\"\"\n",
    "    nomerator = np.sqrt(N-1) * np.tan((2 * t * epsilon * np.sqrt(N-1)  - N * np.arctan(np.sqrt(N-1)))/ N)\n",
    "    denominator = 1 - N\n",
    "    return 1/2*(1 - nomerator / denominator)\n"
   ]
  },
  {
   "cell_type": "markdown",
   "metadata": {},
   "source": [
    " We whish to find out where the function reaches 1, it can be done by numeric \n",
    " search for solution of the s function, however a more efficient way would be to set s=1 in the inverse function :\n",
    " $$t= \\frac{N}{2\\epsilon \\sqrt(N-1)}\\Bigg[arctan \\big( \\sqrt{N-1}(2s-1)\\big) +arctan \\big( \\sqrt{N-1}\\big) \\Bigg]$$\n",
    " to find it.\n"
   ]
  },
  {
   "cell_type": "code",
   "execution_count": 43,
   "metadata": {
    "ExecuteTime": {
     "end_time": "2016-08-21T12:31:11.588130",
     "start_time": "2016-08-21T12:31:11.579802"
    },
    "collapsed": false
   },
   "outputs": [
    {
     "name": "stdout",
     "output_type": "stream",
     "text": [
      "Exact solution:995.430762165\n",
      "Numeric solution 995.430762165\n"
     ]
    }
   ],
   "source": [
    "from scipy.optimize import fsolve\n",
    "def find_s_one_numeric (s_function, N, epsilon):\n",
    "    # We use hinge function to prevent negative solutions\n",
    "    s_zero = lambda x: max(1 - s_function(x, N , epsilon),2-x)\n",
    "    # Find closest solution to 0 for 1-s(t)=0\n",
    "    return fsolve(s_zero,0)[0]\n",
    "s_one_nu = find_s_one_numeric(s_function, N, epsilon)\n",
    "\n",
    "\n",
    "# Or \n",
    "def find_s_one(N, epsilon):\n",
    "    return 1/(2*epsilon) * N/np.sqrt((N-1)) * 2 * np.arctan(np.sqrt(N-1)) \n",
    "s_one = find_s_one( N, epsilon)\n",
    "print (\"Exact solution:%s\\nNumeric solution %s\" % (s_one_nu, s_one))"
   ]
  },
  {
   "cell_type": "code",
   "execution_count": 45,
   "metadata": {
    "ExecuteTime": {
     "end_time": "2016-08-21T12:32:03.460663",
     "start_time": "2016-08-21T12:32:03.156533"
    },
    "collapsed": false
   },
   "outputs": [
    {
     "data": {
      "image/png": "[encoded data removed]",
      "text/plain": [
       "<matplotlib.figure.Figure at 0x7f40ee827898>"
      ]
     },
     "metadata": {},
     "output_type": "display_data"
    }
   ],
   "source": [
    "t = np.linspace(0,np.floor(s_one),1000000)\n",
    "plt.plot(t,s_function(t, np.ones(len(t))*N, epsilon))\n",
    "plt.title(\"t function\")\n",
    "plt.show()"
   ]
  }
 ],
 "metadata": {
  "_draft": {
   "nbviewer_url": "https://gist.github.com/ea8c0e5408a99ff15ca36b88f46b916b"
  },
  "anaconda-cloud": {},
  "gist": {
   "data": {
    "description": "Roland function.ipynb",
    "public": true
   },
   "id": "ea8c0e5408a99ff15ca36b88f46b916b"
  },
  "hide_input": false,
  "kernelspec": {
   "display_name": "Python 3",
   "language": "python",
   "name": "python3"
  },
  "language_info": {
   "codemirror_mode": {
    "name": "ipython",
    "version": 3
   },
   "file_extension": ".py",
   "mimetype": "text/x-python",
   "name": "python",
   "nbconvert_exporter": "python",
   "pygments_lexer": "ipython3",
   "version": "3.5.2"
  }
 },
 "nbformat": 4,
 "nbformat_minor": 0
}
